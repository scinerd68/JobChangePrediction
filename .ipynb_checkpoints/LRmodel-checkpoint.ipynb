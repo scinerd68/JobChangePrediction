{
 "cells": [
  {
   "cell_type": "code",
   "execution_count": 1,
   "metadata": {},
   "outputs": [],
   "source": [
    "import joblib"
   ]
  },
  {
   "cell_type": "code",
   "execution_count": 2,
   "metadata": {},
   "outputs": [],
   "source": [
    "import numpy as np\n",
    "import pandas as pd"
   ]
  },
  {
   "cell_type": "code",
   "execution_count": 3,
   "metadata": {},
   "outputs": [],
   "source": [
    "from sklearn.metrics import classification_report, confusion_matrix, recall_score, f1_score, precision_score, roc_auc_score, roc_curve, auc"
   ]
  },
  {
   "cell_type": "code",
   "execution_count": 4,
   "metadata": {},
   "outputs": [],
   "source": [
    "# X_train = np.genfromtxt(\"Data/X_train_under.csv\", delimiter=',')\n",
    "# y_train = np.genfromtxt(\"Data/y_train_under.csv\", delimiter=',')\n",
    "X_train = np.genfromtxt(\"Data/X_train.csv\", delimiter=',')\n",
    "y_train = np.genfromtxt(\"Data/y_train.csv\", delimiter=',')\n",
    "\n",
    "X_cv = np.genfromtxt(\"Data/X_cv.csv\", delimiter=',')\n",
    "y_cv = np.genfromtxt(\"Data/y_cv.csv\", delimiter=',')\n",
    "\n",
    "X_test = np.genfromtxt(\"Data/X_test.csv\", delimiter=',')\n",
    "y_test = np.genfromtxt(\"Data/y_test.csv\", delimiter=',')\n",
    "\n",
    "##Using strattified set - in pipeline"
   ]
  },
  {
   "cell_type": "code",
   "execution_count": 5,
   "metadata": {},
   "outputs": [
    {
     "data": {
      "text/plain": [
       "(11494, 151)"
      ]
     },
     "execution_count": 5,
     "metadata": {},
     "output_type": "execute_result"
    }
   ],
   "source": [
    "X_train.shape"
   ]
  },
  {
   "cell_type": "code",
   "execution_count": 6,
   "metadata": {},
   "outputs": [
    {
     "data": {
      "text/plain": [
       "array([[-1.67239838, -0.9568655 , -1.60575708, ..., -0.41906592,\n",
       "        -1.45427135,  1.45427135],\n",
       "       [ 0.56402217, -0.26671559,  0.6227592 , ..., -0.41906592,\n",
       "         0.68762958, -0.68762958],\n",
       "       [ 0.78359801, -0.83903503,  0.6227592 , ..., -0.41906592,\n",
       "         0.68762958, -0.68762958],\n",
       "       ...,\n",
       "       [ 0.73480338,  2.00572921,  0.6227592 , ..., -0.41906592,\n",
       "         0.68762958, -0.68762958],\n",
       "       [-1.67239838, -0.41821192,  0.6227592 , ..., -0.41906592,\n",
       "         0.68762958, -0.68762958],\n",
       "       [ 0.65347899, -0.31721437,  0.6227592 , ..., -0.41906592,\n",
       "         0.68762958, -0.68762958]])"
      ]
     },
     "execution_count": 6,
     "metadata": {},
     "output_type": "execute_result"
    }
   ],
   "source": [
    "X_train"
   ]
  },
  {
   "cell_type": "code",
   "execution_count": 7,
   "metadata": {},
   "outputs": [
    {
     "data": {
      "text/plain": [
       "array([0., 0., 0., ..., 0., 0., 0.])"
      ]
     },
     "execution_count": 7,
     "metadata": {},
     "output_type": "execute_result"
    }
   ],
   "source": [
    "y_train"
   ]
  },
  {
   "cell_type": "markdown",
   "metadata": {},
   "source": [
    "# Batch Logistic Regression"
   ]
  },
  {
   "cell_type": "code",
   "execution_count": 8,
   "metadata": {},
   "outputs": [],
   "source": [
    "from sklearn.linear_model import LogisticRegression"
   ]
  },
  {
   "cell_type": "code",
   "execution_count": 9,
   "metadata": {},
   "outputs": [],
   "source": [
    "C_list = [0.0001, 0.001, 0.01, 0.1, 1.0, 10.0, 100]"
   ]
  },
  {
   "cell_type": "code",
   "execution_count": 10,
   "metadata": {},
   "outputs": [],
   "source": [
    "def cross_validate_C(C_list, X_train, y_train, X_cv, y_cv):\n",
    "    models = []\n",
    "    train_f1_score = []\n",
    "    cv_f1_score = []\n",
    "\n",
    "    for C in C_list:\n",
    "        log_reg = LogisticRegression(max_iter=1000, random_state=42, class_weight=\"balanced\", C=C)\n",
    "        log_reg.fit(X_train, y_train)\n",
    "        models.append(log_reg)\n",
    "\n",
    "        y_train_pred = log_reg.predict(X_train)\n",
    "        train_f1_score.append(f1_score(y_train, y_train_pred))\n",
    "\n",
    "        y_cv_pred = log_reg.predict(X_cv)\n",
    "        cv_f1_score.append(f1_score(y_cv, y_cv_pred))\n",
    "        \n",
    "    print(train_f1_score)\n",
    "    print(cv_f1_score)\n",
    "    \n",
    "    print('Best param value:', C_list[np.argmax(cv_f1_score)])\n",
    "    best_model = models[np.argmax(cv_f1_score)]\n",
    "    \n",
    "    return best_model"
   ]
  },
  {
   "cell_type": "code",
   "execution_count": 11,
   "metadata": {},
   "outputs": [
    {
     "name": "stdout",
     "output_type": "stream",
     "text": [
      "[0.5828454332552693, 0.612250794568044, 0.6132333861899958, 0.6133256583681106, 0.6133256583681106, 0.6133256583681106, 0.6132374100719424]\n",
      "[0.5992317541613316, 0.6178929765886287, 0.6188077246011754, 0.619387326898867, 0.6188679245283019, 0.6188679245283019, 0.6188679245283019]\n",
      "Best param value: 0.1\n"
     ]
    }
   ],
   "source": [
    "logreg = cross_validate_C(C_list, X_train, y_train, X_cv, y_cv)"
   ]
  },
  {
   "cell_type": "markdown",
   "metadata": {},
   "source": [
    "## Basic Evaluation"
   ]
  },
  {
   "cell_type": "code",
   "execution_count": 12,
   "metadata": {},
   "outputs": [],
   "source": [
    "def evaluate(model, X, y):\n",
    "    h = model.predict(X)\n",
    "    print(classification_report(y,h))\n",
    "    print('Confusion matrix:\\n',confusion_matrix(y,h))\n",
    "    print('Recall Score = ',recall_score(y, h))\n",
    "    print('Precision Score = ',precision_score(y, h))\n",
    "    print('F1 score = ', f1_score(y,h))\n",
    "\n",
    "    return evaluate"
   ]
  },
  {
   "cell_type": "markdown",
   "metadata": {},
   "source": [
    "### Train set"
   ]
  },
  {
   "cell_type": "code",
   "execution_count": 13,
   "metadata": {},
   "outputs": [
    {
     "name": "stdout",
     "output_type": "stream",
     "text": [
      "Average Error: 0.2338 degrees.\n",
      "              precision    recall  f1-score   support\n",
      "\n",
      "         0.0       0.90      0.78      0.83      8613\n",
      "         1.0       0.52      0.74      0.61      2881\n",
      "\n",
      "    accuracy                           0.77     11494\n",
      "   macro avg       0.71      0.76      0.72     11494\n",
      "weighted avg       0.80      0.77      0.78     11494\n",
      "\n",
      "Confusion matrix:\n",
      " [[6676 1937]\n",
      " [ 750 2131]]\n",
      "Recall Score =  0.7396737244012496\n",
      "Precision Score =  0.5238446411012783\n",
      "F1 score =  0.6133256583681106\n"
     ]
    },
    {
     "data": {
      "text/plain": [
       "<function __main__.evaluate(model, X, y)>"
      ]
     },
     "execution_count": 13,
     "metadata": {},
     "output_type": "execute_result"
    }
   ],
   "source": [
    "evaluate(logreg, X_train, y_train)"
   ]
  },
  {
   "cell_type": "markdown",
   "metadata": {},
   "source": [
    "### Cross validation set"
   ]
  },
  {
   "cell_type": "code",
   "execution_count": 14,
   "metadata": {},
   "outputs": [
    {
     "name": "stdout",
     "output_type": "stream",
     "text": [
      "Average Error: 0.2367 degrees.\n",
      "              precision    recall  f1-score   support\n",
      "\n",
      "         0.0       0.91      0.76      0.83      2876\n",
      "         1.0       0.52      0.77      0.62       956\n",
      "\n",
      "    accuracy                           0.76      3832\n",
      "   macro avg       0.71      0.77      0.72      3832\n",
      "weighted avg       0.81      0.76      0.78      3832\n",
      "\n",
      "Confusion matrix:\n",
      " [[2187  689]\n",
      " [ 218  738]]\n",
      "Recall Score =  0.7719665271966527\n",
      "Precision Score =  0.5171688857743518\n",
      "F1 score =  0.619387326898867\n"
     ]
    },
    {
     "data": {
      "text/plain": [
       "<function __main__.evaluate(model, X, y)>"
      ]
     },
     "execution_count": 14,
     "metadata": {},
     "output_type": "execute_result"
    }
   ],
   "source": [
    "evaluate(logreg, X_cv, y_cv)"
   ]
  },
  {
   "cell_type": "markdown",
   "metadata": {},
   "source": [
    "### Test set"
   ]
  },
  {
   "cell_type": "code",
   "execution_count": 15,
   "metadata": {},
   "outputs": [
    {
     "name": "stdout",
     "output_type": "stream",
     "text": [
      "Average Error: 0.2302 degrees.\n",
      "              precision    recall  f1-score   support\n",
      "\n",
      "         0.0       0.92      0.76      0.83      2877\n",
      "         1.0       0.53      0.79      0.63       955\n",
      "\n",
      "    accuracy                           0.77      3832\n",
      "   macro avg       0.72      0.78      0.73      3832\n",
      "weighted avg       0.82      0.77      0.78      3832\n",
      "\n",
      "Confusion matrix:\n",
      " [[2198  679]\n",
      " [ 203  752]]\n",
      "Recall Score =  0.787434554973822\n",
      "Precision Score =  0.5255066387141859\n",
      "F1 score =  0.6303436714165969\n"
     ]
    },
    {
     "data": {
      "text/plain": [
       "<function __main__.evaluate(model, X, y)>"
      ]
     },
     "execution_count": 15,
     "metadata": {},
     "output_type": "execute_result"
    }
   ],
   "source": [
    "evaluate(logreg, X_test, y_test)"
   ]
  },
  {
   "cell_type": "markdown",
   "metadata": {},
   "source": [
    "### Coefficients"
   ]
  },
  {
   "cell_type": "code",
   "execution_count": 16,
   "metadata": {},
   "outputs": [
    {
     "data": {
      "text/plain": [
       "72"
      ]
     },
     "execution_count": 16,
     "metadata": {},
     "output_type": "execute_result"
    }
   ],
   "source": [
    "np.argmax(np.abs(logreg.coef_))"
   ]
  },
  {
   "cell_type": "code",
   "execution_count": 17,
   "metadata": {},
   "outputs": [
    {
     "data": {
      "text/plain": [
       "0.4385732243318753"
      ]
     },
     "execution_count": 17,
     "metadata": {},
     "output_type": "execute_result"
    }
   ],
   "source": [
    "np.max(np.abs(logreg.coef_))"
   ]
  },
  {
   "cell_type": "code",
   "execution_count": 18,
   "metadata": {},
   "outputs": [
    {
     "data": {
      "text/plain": [
       "['Models/log_reg_no_under_sample_balanced_class_weight.pkl']"
      ]
     },
     "execution_count": 18,
     "metadata": {},
     "output_type": "execute_result"
    }
   ],
   "source": [
    "# joblib.dump(log_reg, \"Models/default_log_reg_first_ver.pkl\")\n",
    "# joblib.dump(log_reg, \"Models/log_reg_under_sample.pkl\")\n",
    "joblib.dump(logreg, \"Models/log_reg_no_under_sample_balanced_class_weight.pkl\")"
   ]
  }
 ],
 "metadata": {
  "kernelspec": {
   "display_name": "Python 3",
   "language": "python",
   "name": "python3"
  },
  "language_info": {
   "codemirror_mode": {
    "name": "ipython",
    "version": 3
   },
   "file_extension": ".py",
   "mimetype": "text/x-python",
   "name": "python",
   "nbconvert_exporter": "python",
   "pygments_lexer": "ipython3",
   "version": "3.9.2"
  },
  "metadata": {
   "interpreter": {
    "hash": "3516c099f2e50fbe6b83d8aca3e7ba54c35d25f18189c7f24f96f469bdbc3fe7"
   }
  }
 },
 "nbformat": 4,
 "nbformat_minor": 2
}
