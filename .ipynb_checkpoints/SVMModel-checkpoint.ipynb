{
 "cells": [
  {
   "cell_type": "code",
   "execution_count": 1,
   "metadata": {},
   "outputs": [],
   "source": [
    "import joblib"
   ]
  },
  {
   "cell_type": "code",
   "execution_count": 2,
   "metadata": {},
   "outputs": [],
   "source": [
    "import numpy as np\n",
    "import pandas as pd"
   ]
  },
  {
   "cell_type": "code",
   "execution_count": 3,
   "metadata": {},
   "outputs": [],
   "source": [
    "from sklearn.metrics import classification_report, confusion_matrix, recall_score, f1_score, precision_score, roc_auc_score, roc_curve, auc"
   ]
  },
  {
   "cell_type": "code",
   "execution_count": 4,
   "metadata": {},
   "outputs": [],
   "source": [
    "# X_train = np.genfromtxt(\"Data/X_train_under.csv\", delimiter=',')\n",
    "# y_train = np.genfromtxt(\"Data/y_train_under.csv\", delimiter=',')\n",
    "X_train = np.genfromtxt(\"Data/X_train.csv\", delimiter=',')\n",
    "y_train = np.genfromtxt(\"Data/y_train.csv\", delimiter=',')\n",
    "\n",
    "X_cv = np.genfromtxt(\"Data/X_cv.csv\", delimiter=',')\n",
    "y_cv = np.genfromtxt(\"Data/y_cv.csv\", delimiter=',')\n",
    "\n",
    "X_test = np.genfromtxt(\"Data/X_test.csv\", delimiter=',')\n",
    "y_test = np.genfromtxt(\"Data/y_test.csv\", delimiter=',')\n",
    "\n",
    "##Using strattified set - in pipeline"
   ]
  },
  {
   "cell_type": "code",
   "execution_count": 5,
   "metadata": {},
   "outputs": [
    {
     "data": {
      "text/plain": [
       "(11494, 148)"
      ]
     },
     "execution_count": 5,
     "metadata": {},
     "output_type": "execute_result"
    }
   ],
   "source": [
    "X_train.shape"
   ]
  },
  {
   "cell_type": "code",
   "execution_count": 6,
   "metadata": {},
   "outputs": [],
   "source": [
    "# X_train"
   ]
  },
  {
   "cell_type": "code",
   "execution_count": 7,
   "metadata": {},
   "outputs": [],
   "source": [
    "# y_train"
   ]
  },
  {
   "cell_type": "markdown",
   "metadata": {},
   "source": [
    "### Recursive Feature Elimination"
   ]
  },
  {
   "cell_type": "code",
   "execution_count": 8,
   "metadata": {},
   "outputs": [
    {
     "name": "stdout",
     "output_type": "stream",
     "text": [
      "[ True  True  True  True  True  True  True  True  True False  True False\n",
      " False  True  True  True False False False  True  True False  True  True\n",
      " False  True  True  True False False False False False  True False False\n",
      "  True False  True  True False  True  True  True False  True  True False\n",
      " False  True False  True  True False False False False  True False  True\n",
      "  True False  True False False False False False False False  True  True\n",
      "  True  True False False False False  True False False  True  True  True\n",
      "  True  True False False False False False False  True False False False\n",
      "  True False False  True  True  True  True  True  True False  True  True\n",
      " False  True False  True  True False False  True False  True  True False\n",
      " False  True False False False False False  True False False  True False\n",
      "  True False False  True False False False  True  True  True  True  True\n",
      " False False  True  True]\n",
      "[ 1  1  1  1  1  1  1  1  1 71  1 24 58  1  1  1  6 49 32  1  1 12  1  1\n",
      " 18  1  1  1 67 72 36 28 35  1  5 63  1 64  1  1 70  1  1  1 52  1  1 54\n",
      " 42  1 10  1  1  9 41 59 21  1 33  1  1 26  1 13  7 65 55 29 61 53  1  1\n",
      "  1  1 11 30 75 19  1  8 46  1  1  1  1  1 25 45 66 47 37 23  1 34 31 73\n",
      "  1 40 48  1  1  1  1  1  1  4  1  1 38  1 20  1  1 39 68  1 56  1  1 44\n",
      " 43  1 62 74  2  3 60  1 22 57  1 51  1 50 16  1 14 15 17  1  1  1  1  1\n",
      " 69 27  1  1]\n"
     ]
    }
   ],
   "source": [
    "from sklearn.feature_selection import RFE\n",
    "from sklearn.linear_model import LogisticRegression\n",
    "logreg = LogisticRegression()\n",
    "rfe = RFE(logreg)\n",
    "rfe = rfe.fit(X_train, y_train)\n",
    "print(rfe.support_)\n",
    "print(rfe.ranking_)"
   ]
  },
  {
   "cell_type": "code",
   "execution_count": 9,
   "metadata": {},
   "outputs": [],
   "source": [
    "X_train = X_train[:,np.argwhere(np.array( rfe.support_)).reshape(np.argwhere(np.array( rfe.support_)).shape[0],)]\n",
    "X_cv = X_cv[:,np.argwhere(np.array( rfe.support_)).reshape(np.argwhere(np.array( rfe.support_)).shape[0],)]\n",
    "X_test = X_test[:,np.argwhere(np.array( rfe.support_)).reshape(np.argwhere(np.array( rfe.support_)).shape[0],)]"
   ]
  },
  {
   "cell_type": "markdown",
   "metadata": {},
   "source": [
    "# SVM"
   ]
  },
  {
   "cell_type": "code",
   "execution_count": 10,
   "metadata": {},
   "outputs": [],
   "source": [
    "from sklearn.svm import SVC"
   ]
  },
  {
   "cell_type": "code",
   "execution_count": 11,
   "metadata": {},
   "outputs": [],
   "source": [
    "# C_list = [0.0001, 0.001, 0.01, 0.1, 1.0, 10.0, 100]\n",
    "C_list =[1,10,100]\n",
    "gamma_list =[0.001,0.01, 0.1]"
   ]
  },
  {
   "cell_type": "code",
   "execution_count": 12,
   "metadata": {},
   "outputs": [],
   "source": [
    "def cross_validate_C(C_list,gamma_list, X_train, y_train, X_cv, y_cv):\n",
    "    models = []\n",
    "    train_f1_score = []\n",
    "    cv_f1_score = []\n",
    "\n",
    "    for C in C_list:\n",
    "        for gamma in gamma_list:\n",
    "            svm = SVC(kernel = 'rbf', class_weight = 'balanced', C = C, gamma = gamma)\n",
    "            svm.fit(X_train, y_train)\n",
    "            models.append(svm)\n",
    "\n",
    "            y_train_pred = svm.predict(X_train)\n",
    "            train_f1_score.append(f1_score(y_train, y_train_pred))\n",
    "\n",
    "            y_cv_pred = svm.predict(X_cv)\n",
    "            cv_f1_score.append(f1_score(y_cv, y_cv_pred))\n",
    "        \n",
    "    print(train_f1_score)\n",
    "    print(cv_f1_score)\n",
    "    \n",
    "    print('Best param C value:', C_list[int(np.argmax(cv_f1_score)/ len(gamma_list))])\n",
    "    print('Best param gamma value:', gamma_list[np.argmax(cv_f1_score)% len(gamma_list)])\n",
    "    best_model = models[np.argmax(cv_f1_score)]\n",
    "    \n",
    "    return best_model"
   ]
  },
  {
   "cell_type": "code",
   "execution_count": 13,
   "metadata": {},
   "outputs": [
    {
     "name": "stdout",
     "output_type": "stream",
     "text": [
      "[0.5920960759670437, 0.608986476661335, 0.6886750555144338, 0.5995224048321394, 0.647162599235519, 0.7605011053795137, 0.6210842511800887, 0.6842260153031194, 0.8214123695750795]\n",
      "[0.6060851926977687, 0.6071126164267571, 0.6140273489192766, 0.6076360682372055, 0.6195142735406902, 0.5793226381461676, 0.610857853294654, 0.6105624731644482, 0.5290909090909091]\n",
      "Best param C value: 10\n",
      "Best param gamma value: 0.01\n"
     ]
    }
   ],
   "source": [
    "svm = cross_validate_C(C_list, gamma_list, X_train, y_train, X_cv, y_cv)"
   ]
  },
  {
   "cell_type": "markdown",
   "metadata": {},
   "source": [
    "## Basic Evaluation"
   ]
  },
  {
   "cell_type": "code",
   "execution_count": 14,
   "metadata": {},
   "outputs": [],
   "source": [
    "def evaluate(model, X, y):\n",
    "    h = model.predict(X)\n",
    "    errors = abs(h - y)\n",
    "    print('Average Error: {:0.4f} degrees.'.format(np.mean(errors)))\n",
    "    print(classification_report(y,h))\n",
    "    print('Confusion matrix:\\n',confusion_matrix(y,h))\n",
    "    print('Recall Score = ',recall_score(y, h))\n",
    "    print('Precision Score = ',precision_score(y, h))\n",
    "    print('F1 score = ', f1_score(y,h))\n",
    "\n",
    "    return evaluate"
   ]
  },
  {
   "cell_type": "markdown",
   "metadata": {},
   "source": [
    "### Train set"
   ]
  },
  {
   "cell_type": "code",
   "execution_count": 15,
   "metadata": {},
   "outputs": [
    {
     "name": "stdout",
     "output_type": "stream",
     "text": [
      "Average Error: 0.2088 degrees.\n",
      "              precision    recall  f1-score   support\n",
      "\n",
      "         0.0       0.91      0.80      0.85      8613\n",
      "         1.0       0.56      0.76      0.65      2881\n",
      "\n",
      "    accuracy                           0.79     11494\n",
      "   macro avg       0.74      0.78      0.75     11494\n",
      "weighted avg       0.82      0.79      0.80     11494\n",
      "\n",
      "Confusion matrix:\n",
      " [[6893 1720]\n",
      " [ 680 2201]]\n",
      "Recall Score =  0.763970843457133\n",
      "Precision Score =  0.5613363937770977\n",
      "F1 score =  0.647162599235519\n"
     ]
    },
    {
     "data": {
      "text/plain": [
       "<function __main__.evaluate(model, X, y)>"
      ]
     },
     "execution_count": 15,
     "metadata": {},
     "output_type": "execute_result"
    }
   ],
   "source": [
    "evaluate(svm, X_train, y_train)"
   ]
  },
  {
   "cell_type": "markdown",
   "metadata": {},
   "source": [
    "### Cross validation set"
   ]
  },
  {
   "cell_type": "code",
   "execution_count": 16,
   "metadata": {},
   "outputs": [
    {
     "name": "stdout",
     "output_type": "stream",
     "text": [
      "Average Error: 0.2330 degrees.\n",
      "              precision    recall  f1-score   support\n",
      "\n",
      "         0.0       0.91      0.77      0.83      2876\n",
      "         1.0       0.52      0.76      0.62       956\n",
      "\n",
      "    accuracy                           0.77      3832\n",
      "   macro avg       0.71      0.76      0.73      3832\n",
      "weighted avg       0.81      0.77      0.78      3832\n",
      "\n",
      "Confusion matrix:\n",
      " [[2212  664]\n",
      " [ 229  727]]\n",
      "Recall Score =  0.7604602510460251\n",
      "Precision Score =  0.5226455787203451\n",
      "F1 score =  0.6195142735406902\n"
     ]
    },
    {
     "data": {
      "text/plain": [
       "<function __main__.evaluate(model, X, y)>"
      ]
     },
     "execution_count": 16,
     "metadata": {},
     "output_type": "execute_result"
    }
   ],
   "source": [
    "evaluate(svm, X_cv, y_cv)"
   ]
  },
  {
   "cell_type": "markdown",
   "metadata": {},
   "source": [
    "### Test set"
   ]
  },
  {
   "cell_type": "code",
   "execution_count": 17,
   "metadata": {},
   "outputs": [
    {
     "name": "stdout",
     "output_type": "stream",
     "text": [
      "Average Error: 0.2127 degrees.\n",
      "              precision    recall  f1-score   support\n",
      "\n",
      "         0.0       0.92      0.78      0.85      2877\n",
      "         1.0       0.55      0.80      0.65       955\n",
      "\n",
      "    accuracy                           0.79      3832\n",
      "   macro avg       0.74      0.79      0.75      3832\n",
      "weighted avg       0.83      0.79      0.80      3832\n",
      "\n",
      "Confusion matrix:\n",
      " [[2251  626]\n",
      " [ 189  766]]\n",
      "Recall Score =  0.8020942408376963\n",
      "Precision Score =  0.5502873563218391\n",
      "F1 score =  0.6527481891776736\n"
     ]
    },
    {
     "data": {
      "text/plain": [
       "<function __main__.evaluate(model, X, y)>"
      ]
     },
     "execution_count": 17,
     "metadata": {},
     "output_type": "execute_result"
    }
   ],
   "source": [
    "evaluate(svm, X_test, y_test)"
   ]
  },
  {
   "cell_type": "markdown",
   "metadata": {},
   "source": [
    "### Coefficients"
   ]
  },
  {
   "cell_type": "code",
   "execution_count": null,
   "metadata": {},
   "outputs": [],
   "source": []
  },
  {
   "cell_type": "code",
   "execution_count": null,
   "metadata": {},
   "outputs": [],
   "source": []
  },
  {
   "cell_type": "code",
   "execution_count": 18,
   "metadata": {},
   "outputs": [
    {
     "data": {
      "text/plain": [
       "['Models/svm_no_under_sample_balanced_class_weight.pkl']"
      ]
     },
     "execution_count": 18,
     "metadata": {},
     "output_type": "execute_result"
    }
   ],
   "source": [
    "# joblib.dump(log_reg, \"Models/default_log_reg_first_ver.pkl\")\n",
    "# joblib.dump(log_reg, \"Models/log_reg_under_sample.pkl\")\n",
    "joblib.dump(svm, \"Models/svm_no_under_sample_balanced_class_weight.pkl\")"
   ]
  }
 ],
 "metadata": {
  "kernelspec": {
   "display_name": "Python 3",
   "language": "python",
   "name": "python3"
  },
  "language_info": {
   "codemirror_mode": {
    "name": "ipython",
    "version": 3
   },
   "file_extension": ".py",
   "mimetype": "text/x-python",
   "name": "python",
   "nbconvert_exporter": "python",
   "pygments_lexer": "ipython3",
   "version": "3.8.5"
  },
  "metadata": {
   "interpreter": {
    "hash": "3516c099f2e50fbe6b83d8aca3e7ba54c35d25f18189c7f24f96f469bdbc3fe7"
   }
  }
 },
 "nbformat": 4,
 "nbformat_minor": 2
}
