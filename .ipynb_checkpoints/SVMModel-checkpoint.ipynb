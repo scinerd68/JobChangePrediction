{
 "cells": [
  {
   "cell_type": "code",
   "execution_count": 1,
   "metadata": {},
   "outputs": [],
   "source": [
    "import joblib"
   ]
  },
  {
   "cell_type": "code",
   "execution_count": 2,
   "metadata": {},
   "outputs": [],
   "source": [
    "import numpy as np\n",
    "import pandas as pd"
   ]
  },
  {
   "cell_type": "code",
   "execution_count": 3,
   "metadata": {},
   "outputs": [],
   "source": [
    "from sklearn.metrics import classification_report, confusion_matrix, recall_score, f1_score, precision_score, roc_auc_score, roc_curve, auc"
   ]
  },
  {
   "cell_type": "code",
   "execution_count": 4,
   "metadata": {},
   "outputs": [],
   "source": [
    "X_train = np.genfromtxt(\"Data/X_train.csv\", delimiter=',')\n",
    "y_train = np.genfromtxt(\"Data/y_train.csv\", delimiter=',')\n",
    "\n",
    "X_cv = np.genfromtxt(\"Data/X_cv.csv\", delimiter=',')\n",
    "y_cv = np.genfromtxt(\"Data/y_cv.csv\", delimiter=',')\n",
    "\n",
    "X_test = np.genfromtxt(\"Data/X_test.csv\", delimiter=',')\n",
    "y_test = np.genfromtxt(\"Data/y_test.csv\", delimiter=',')\n",
    "\n",
    "##Using strattified set - in pipeline"
   ]
  },
  {
   "cell_type": "code",
   "execution_count": 5,
   "metadata": {},
   "outputs": [
    {
     "data": {
      "text/plain": [
       "(11494, 151)"
      ]
     },
     "execution_count": 5,
     "metadata": {},
     "output_type": "execute_result"
    }
   ],
   "source": [
    "X_train.shape"
   ]
  },
  {
   "cell_type": "code",
   "execution_count": 6,
   "metadata": {},
   "outputs": [
    {
     "data": {
      "text/plain": [
       "array([[-1.67239838, -0.9568655 , -1.60575708, ..., -0.41906592,\n",
       "        -1.45427135,  1.45427135],\n",
       "       [ 0.56402217, -0.26671559,  0.6227592 , ..., -0.41906592,\n",
       "         0.68762958, -0.68762958],\n",
       "       [ 0.78359801, -0.83903503,  0.6227592 , ..., -0.41906592,\n",
       "         0.68762958, -0.68762958],\n",
       "       ...,\n",
       "       [ 0.73480338,  2.00572921,  0.6227592 , ..., -0.41906592,\n",
       "         0.68762958, -0.68762958],\n",
       "       [-1.67239838, -0.41821192,  0.6227592 , ..., -0.41906592,\n",
       "         0.68762958, -0.68762958],\n",
       "       [ 0.65347899, -0.31721437,  0.6227592 , ..., -0.41906592,\n",
       "         0.68762958, -0.68762958]])"
      ]
     },
     "execution_count": 6,
     "metadata": {},
     "output_type": "execute_result"
    }
   ],
   "source": [
    "X_train"
   ]
  },
  {
   "cell_type": "code",
   "execution_count": 7,
   "metadata": {},
   "outputs": [
    {
     "data": {
      "text/plain": [
       "array([0., 0., 0., ..., 0., 0., 0.])"
      ]
     },
     "execution_count": 7,
     "metadata": {},
     "output_type": "execute_result"
    }
   ],
   "source": [
    "y_train"
   ]
  },
  {
   "cell_type": "markdown",
   "metadata": {},
   "source": [
    "# SVM"
   ]
  },
  {
   "cell_type": "code",
   "execution_count": 8,
   "metadata": {},
   "outputs": [],
   "source": [
    "from sklearn.svm import SVC"
   ]
  },
  {
   "cell_type": "code",
   "execution_count": 9,
   "metadata": {},
   "outputs": [],
   "source": [
    "# C_list = [0.0001, 0.001, 0.01, 0.1, 1.0, 10.0, 100]\n",
    "C_list =[100, 200, 500]\n",
    "gamma_list =[0.0002,0.0005,0.001]"
   ]
  },
  {
   "cell_type": "code",
   "execution_count": 10,
   "metadata": {},
   "outputs": [],
   "source": [
    "def cross_validate_C(C_list,gamma_list, X_train, y_train, X_cv, y_cv):\n",
    "    models = []\n",
    "    train_f1_score = []\n",
    "    cv_f1_score = []\n",
    "\n",
    "    for C in C_list:\n",
    "        for gamma in gamma_list:\n",
    "            svm = SVC(kernel = 'rbf', class_weight = 'balanced', C = C, gamma = gamma, random_state =42)\n",
    "            svm.fit(X_train, y_train)\n",
    "            models.append(svm)\n",
    "\n",
    "            y_train_pred = svm.predict(X_train)\n",
    "            train_f1_score.append(f1_score(y_train, y_train_pred))\n",
    "\n",
    "            y_cv_pred = svm.predict(X_cv)\n",
    "            cv_f1_score.append(f1_score(y_cv, y_cv_pred))\n",
    "        \n",
    "    print(train_f1_score)\n",
    "    print(cv_f1_score)\n",
    "    \n",
    "    print('Best param C value:', C_list[int(np.argmax(cv_f1_score)/ len(C_list))])\n",
    "    print('Best param gamma value:', gamma_list[np.argmax(cv_f1_score)% len(gamma_list)])\n",
    "    best_model = models[np.argmax(cv_f1_score)]\n",
    "    \n",
    "    return best_model"
   ]
  },
  {
   "cell_type": "code",
   "execution_count": 11,
   "metadata": {},
   "outputs": [
    {
     "name": "stdout",
     "output_type": "stream",
     "text": [
      "[0.596674182638106, 0.639697322467986, 0.6640023682652456, 0.6070575003514691, 0.655060489820006, 0.6718842291789723, 0.6366922076044528, 0.6671610797982794, 0.680857310628303]\n",
      "[0.6073040623717686, 0.6092827004219409, 0.6052974381241858, 0.6053169734151329, 0.6103004291845493, 0.5974924340683097, 0.608294930875576, 0.6024305555555556, 0.599396291504959]\n",
      "Best param C value: 200\n",
      "Best param gamma value: 0.0005\n"
     ]
    }
   ],
   "source": [
    "svm = cross_validate_C(C_list, gamma_list, X_train, y_train, X_cv, y_cv)"
   ]
  },
  {
   "cell_type": "markdown",
   "metadata": {},
   "source": [
    "## Evaluation"
   ]
  },
  {
   "cell_type": "code",
   "execution_count": 12,
   "metadata": {},
   "outputs": [],
   "source": [
    "def evaluate(model, X, y):\n",
    "    h = model.predict(X)\n",
    "    print(classification_report(y,h))\n",
    "    print('Confusion matrix:\\n',confusion_matrix(y,h))\n",
    "    print('Recall Score = ',recall_score(y, h))\n",
    "    print('Precision Score = ',precision_score(y, h))\n",
    "    print('F1 score = ', f1_score(y,h))\n",
    "\n",
    "    return evaluate"
   ]
  },
  {
   "cell_type": "markdown",
   "metadata": {},
   "source": [
    "### Train set"
   ]
  },
  {
   "cell_type": "code",
   "execution_count": 13,
   "metadata": {},
   "outputs": [
    {
     "name": "stdout",
     "output_type": "stream",
     "text": [
      "              precision    recall  f1-score   support\n",
      "\n",
      "         0.0       0.91      0.81      0.86      8613\n",
      "         1.0       0.57      0.77      0.66      2881\n",
      "\n",
      "    accuracy                           0.80     11494\n",
      "   macro avg       0.74      0.79      0.76     11494\n",
      "weighted avg       0.83      0.80      0.81     11494\n",
      "\n",
      "Confusion matrix:\n",
      " [[6936 1677]\n",
      " [ 661 2220]]\n",
      "Recall Score =  0.7705657757723012\n",
      "Precision Score =  0.5696689761354888\n",
      "F1 score =  0.655060489820006\n"
     ]
    },
    {
     "data": {
      "text/plain": [
       "<function __main__.evaluate(model, X, y)>"
      ]
     },
     "execution_count": 13,
     "metadata": {},
     "output_type": "execute_result"
    }
   ],
   "source": [
    "evaluate(svm, X_train, y_train)"
   ]
  },
  {
   "cell_type": "markdown",
   "metadata": {},
   "source": [
    "### Cross validation set"
   ]
  },
  {
   "cell_type": "code",
   "execution_count": 14,
   "metadata": {},
   "outputs": [
    {
     "name": "stdout",
     "output_type": "stream",
     "text": [
      "              precision    recall  f1-score   support\n",
      "\n",
      "         0.0       0.90      0.77      0.83      2876\n",
      "         1.0       0.52      0.74      0.61       956\n",
      "\n",
      "    accuracy                           0.76      3832\n",
      "   macro avg       0.71      0.76      0.72      3832\n",
      "weighted avg       0.80      0.76      0.78      3832\n",
      "\n",
      "Confusion matrix:\n",
      " [[2213  663]\n",
      " [ 245  711]]\n",
      "Recall Score =  0.7437238493723849\n",
      "Precision Score =  0.517467248908297\n",
      "F1 score =  0.6103004291845493\n"
     ]
    },
    {
     "data": {
      "text/plain": [
       "<function __main__.evaluate(model, X, y)>"
      ]
     },
     "execution_count": 14,
     "metadata": {},
     "output_type": "execute_result"
    }
   ],
   "source": [
    "evaluate(svm, X_cv, y_cv)"
   ]
  },
  {
   "cell_type": "markdown",
   "metadata": {},
   "source": [
    "### Test set"
   ]
  },
  {
   "cell_type": "code",
   "execution_count": 15,
   "metadata": {},
   "outputs": [
    {
     "name": "stdout",
     "output_type": "stream",
     "text": [
      "              precision    recall  f1-score   support\n",
      "\n",
      "         0.0       0.91      0.78      0.84      2877\n",
      "         1.0       0.54      0.78      0.64       955\n",
      "\n",
      "    accuracy                           0.78      3832\n",
      "   macro avg       0.73      0.78      0.74      3832\n",
      "weighted avg       0.82      0.78      0.79      3832\n",
      "\n",
      "Confusion matrix:\n",
      " [[2239  638]\n",
      " [ 208  747]]\n",
      "Recall Score =  0.7821989528795812\n",
      "Precision Score =  0.5393501805054152\n",
      "F1 score =  0.6384615384615384\n"
     ]
    },
    {
     "data": {
      "text/plain": [
       "<function __main__.evaluate(model, X, y)>"
      ]
     },
     "execution_count": 15,
     "metadata": {},
     "output_type": "execute_result"
    }
   ],
   "source": [
    "evaluate(svm, X_test, y_test)"
   ]
  },
  {
   "cell_type": "markdown",
   "metadata": {},
   "source": [
    "## Export model"
   ]
  },
  {
   "cell_type": "code",
   "execution_count": 16,
   "metadata": {},
   "outputs": [
    {
     "data": {
      "text/plain": [
       "['Models/svm_no_under_sample_balanced_class_weight.pkl']"
      ]
     },
     "execution_count": 16,
     "metadata": {},
     "output_type": "execute_result"
    }
   ],
   "source": [
    "joblib.dump(svm, \"Models/svm_no_under_sample_balanced_class_weight.pkl\")"
   ]
  }
 ],
 "metadata": {
  "kernelspec": {
   "display_name": "Python 3",
   "language": "python",
   "name": "python3"
  },
  "language_info": {
   "codemirror_mode": {
    "name": "ipython",
    "version": 3
   },
   "file_extension": ".py",
   "mimetype": "text/x-python",
   "name": "python",
   "nbconvert_exporter": "python",
   "pygments_lexer": "ipython3",
   "version": "3.9.2"
  },
  "metadata": {
   "interpreter": {
    "hash": "3516c099f2e50fbe6b83d8aca3e7ba54c35d25f18189c7f24f96f469bdbc3fe7"
   }
  }
 },
 "nbformat": 4,
 "nbformat_minor": 2
}
