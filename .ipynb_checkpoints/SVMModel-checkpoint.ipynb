{
 "cells": [
  {
   "cell_type": "code",
   "execution_count": 28,
   "metadata": {},
   "outputs": [],
   "source": [
    "import joblib"
   ]
  },
  {
   "cell_type": "code",
   "execution_count": 29,
   "metadata": {},
   "outputs": [],
   "source": [
    "import numpy as np\n",
    "import pandas as pd"
   ]
  },
  {
   "cell_type": "code",
   "execution_count": 30,
   "metadata": {},
   "outputs": [],
   "source": [
    "from sklearn.metrics import classification_report, confusion_matrix, recall_score, f1_score, precision_score, roc_auc_score, roc_curve, auc"
   ]
  },
  {
   "cell_type": "code",
   "execution_count": 31,
   "metadata": {},
   "outputs": [],
   "source": [
    "# X_train = np.genfromtxt(\"Data/X_train_under.csv\", delimiter=',')\n",
    "# y_train = np.genfromtxt(\"Data/y_train_under.csv\", delimiter=',')\n",
    "X_train = np.genfromtxt(\"Data/X_train.csv\", delimiter=',')\n",
    "y_train = np.genfromtxt(\"Data/y_train.csv\", delimiter=',')\n",
    "\n",
    "X_cv = np.genfromtxt(\"Data/X_cv.csv\", delimiter=',')\n",
    "y_cv = np.genfromtxt(\"Data/y_cv.csv\", delimiter=',')\n",
    "\n",
    "X_test = np.genfromtxt(\"Data/X_test.csv\", delimiter=',')\n",
    "y_test = np.genfromtxt(\"Data/y_test.csv\", delimiter=',')\n",
    "\n",
    "##Using strattified set - in pipeline"
   ]
  },
  {
   "cell_type": "code",
   "execution_count": 32,
   "metadata": {},
   "outputs": [
    {
     "data": {
      "text/plain": [
       "(11494, 149)"
      ]
     },
     "execution_count": 32,
     "metadata": {},
     "output_type": "execute_result"
    }
   ],
   "source": [
    "X_train.shape"
   ]
  },
  {
   "cell_type": "code",
   "execution_count": 33,
   "metadata": {},
   "outputs": [],
   "source": [
    "# X_train"
   ]
  },
  {
   "cell_type": "code",
   "execution_count": 34,
   "metadata": {},
   "outputs": [],
   "source": [
    "# y_train"
   ]
  },
  {
   "cell_type": "markdown",
   "metadata": {},
   "source": [
    "### Recursive Feature Elimination"
   ]
  },
  {
   "cell_type": "code",
   "execution_count": 35,
   "metadata": {},
   "outputs": [
    {
     "name": "stdout",
     "output_type": "stream",
     "text": [
      "[ True  True  True  True  True  True  True  True False False  True False\n",
      " False  True  True  True False False False  True  True False  True  True\n",
      " False False False  True False False  True False False  True  True False\n",
      "  True False  True  True False  True  True  True False  True  True False\n",
      " False False  True  True  True False False False False  True  True False\n",
      "  True False  True False False False False  True False False  True  True\n",
      "  True False False False False False False  True  True False False  True\n",
      "  True  True False False False False False  True False  True False False\n",
      " False  True False False  True  True False False False  True  True False\n",
      "  True  True  True False  True  True False False  True False  True  True\n",
      " False False  True  True False False False False False  True False  True\n",
      " False False False  True  True  True  True False  True  True  True  True\n",
      "  True False False  True  True]\n",
      "[ 1  1  1  1  1  1  1  1 16 60  1 10 30  1  1  1 37 69 33  1  1  8  1  1\n",
      " 53 62 18  1 42 25  1 65 56  1  1 74  1 52  1  1 55  1  1  1 22  1  1 64\n",
      " 45 26  1  1  1 21 71 20  9  1  1 73  1 27  1 14 76 40 63  1 15 44  1  1\n",
      "  1 23 36 34 51 39 31  1  1 32 11  1  1  1 61 13 48 17 54  1  5  1 49 50\n",
      " 35  1 72 29  1  1 24  7  4  1  1 19  1  1  1 38  1  1 12 75  1 58  1  1\n",
      " 57 67  1  1 68 28 70  3  6  1 59  1 66 47 41  1  1  1  1  2  1  1  1  1\n",
      "  1 46 43  1  1]\n"
     ]
    }
   ],
   "source": [
    "from sklearn.feature_selection import RFE\n",
    "from sklearn.linear_model import LogisticRegression\n",
    "logreg = LogisticRegression()\n",
    "rfe = RFE(logreg)\n",
    "rfe = rfe.fit(X_train, y_train)\n",
    "print(rfe.support_)\n",
    "print(rfe.ranking_)"
   ]
  },
  {
   "cell_type": "code",
   "execution_count": 36,
   "metadata": {},
   "outputs": [],
   "source": [
    "X_train = X_train[:,np.argwhere(np.array( rfe.support_)).reshape(np.argwhere(np.array( rfe.support_)).shape[0],)]\n",
    "X_cv = X_cv[:,np.argwhere(np.array( rfe.support_)).reshape(np.argwhere(np.array( rfe.support_)).shape[0],)]\n",
    "X_test = X_test[:,np.argwhere(np.array( rfe.support_)).reshape(np.argwhere(np.array( rfe.support_)).shape[0],)]"
   ]
  },
  {
   "cell_type": "markdown",
   "metadata": {},
   "source": [
    "# SVM"
   ]
  },
  {
   "cell_type": "code",
   "execution_count": 37,
   "metadata": {},
   "outputs": [],
   "source": [
    "from sklearn.svm import SVC"
   ]
  },
  {
   "cell_type": "code",
   "execution_count": 38,
   "metadata": {},
   "outputs": [],
   "source": [
    "# C_list = [0.0001, 0.001, 0.01, 0.1, 1.0, 10.0, 100]\n",
    "C_list =[100,1000, 10000]"
   ]
  },
  {
   "cell_type": "code",
   "execution_count": 39,
   "metadata": {},
   "outputs": [],
   "source": [
    "def cross_validate_C(C_list, X_train, y_train, X_cv, y_cv):\n",
    "    models = []\n",
    "    train_f1_score = []\n",
    "    cv_f1_score = []\n",
    "\n",
    "    for C in C_list:\n",
    "        svm = SVC(kernel = 'rbf', class_weight = 'balanced', C = C)\n",
    "        svm.fit(X_train, y_train)\n",
    "        models.append(svm)\n",
    "\n",
    "        y_train_pred = svm.predict(X_train)\n",
    "        train_f1_score.append(f1_score(y_train, y_train_pred))\n",
    "\n",
    "        y_cv_pred = svm.predict(X_cv)\n",
    "        cv_f1_score.append(f1_score(y_cv, y_cv_pred))\n",
    "        \n",
    "    print(train_f1_score)\n",
    "    print(cv_f1_score)\n",
    "    \n",
    "    print('Best param value:', C_list[np.argmax(cv_f1_score)])\n",
    "    best_model = models[np.argmax(cv_f1_score)]\n",
    "    \n",
    "    return best_model"
   ]
  },
  {
   "cell_type": "code",
   "execution_count": 40,
   "metadata": {},
   "outputs": [
    {
     "name": "stdout",
     "output_type": "stream",
     "text": [
      "[0.7009098914000588, 0.7405421507298183, 0.7800090593386684]\n",
      "[0.5805580558055805, 0.5648021828103684, 0.541647701411015]\n",
      "Best param value: 100\n"
     ]
    }
   ],
   "source": [
    "svm = cross_validate_C(C_list, X_train, y_train, X_cv, y_cv)"
   ]
  },
  {
   "cell_type": "markdown",
   "metadata": {},
   "source": [
    "## Basic Evaluation"
   ]
  },
  {
   "cell_type": "code",
   "execution_count": 47,
   "metadata": {},
   "outputs": [],
   "source": [
    "def evaluate(model, X, y):\n",
    "    h = model.predict(X)\n",
    "    errors = abs(h - y)\n",
    "    print('Average Error: {:0.4f} degrees.'.format(np.mean(errors)))\n",
    "    print(classification_report(y,h))\n",
    "    print('Confusion matrix:\\n',confusion_matrix(y,h))\n",
    "    print('Recall Score = ',recall_score(y, h))\n",
    "    print('Precision Score = ',precision_score(y, h))\n",
    "    print('F1 score = ', f1_score(y,h))\n",
    "\n",
    "    return evaluate"
   ]
  },
  {
   "cell_type": "markdown",
   "metadata": {},
   "source": [
    "### Train set"
   ]
  },
  {
   "cell_type": "code",
   "execution_count": 48,
   "metadata": {},
   "outputs": [
    {
     "name": "stdout",
     "output_type": "stream",
     "text": [
      "Average Error: 0.1773 degrees.\n",
      "              precision    recall  f1-score   support\n",
      "\n",
      "         0.0       0.93      0.82      0.87      8579\n",
      "         1.0       0.61      0.82      0.70      2915\n",
      "\n",
      "    accuracy                           0.82     11494\n",
      "   macro avg       0.77      0.82      0.79     11494\n",
      "weighted avg       0.85      0.82      0.83     11494\n",
      "\n",
      "Confusion matrix:\n",
      " [[7068 1511]\n",
      " [ 527 2388]]\n",
      "Recall Score =  0.8192109777015437\n",
      "Precision Score =  0.6124647345473199\n",
      "F1 score =  0.7009098914000588\n"
     ]
    },
    {
     "data": {
      "text/plain": [
       "<function __main__.evaluate(model, X, y)>"
      ]
     },
     "execution_count": 48,
     "metadata": {},
     "output_type": "execute_result"
    }
   ],
   "source": [
    "evaluate(svm, X_train, y_train)"
   ]
  },
  {
   "cell_type": "markdown",
   "metadata": {},
   "source": [
    "### Cross validation set"
   ]
  },
  {
   "cell_type": "code",
   "execution_count": 49,
   "metadata": {},
   "outputs": [
    {
     "name": "stdout",
     "output_type": "stream",
     "text": [
      "Average Error: 0.2432 degrees.\n",
      "              precision    recall  f1-score   support\n",
      "\n",
      "         0.0       0.89      0.77      0.83      2910\n",
      "         1.0       0.50      0.70      0.58       922\n",
      "\n",
      "    accuracy                           0.76      3832\n",
      "   macro avg       0.69      0.74      0.70      3832\n",
      "weighted avg       0.80      0.76      0.77      3832\n",
      "\n",
      "Confusion matrix:\n",
      " [[2255  655]\n",
      " [ 277  645]]\n",
      "Recall Score =  0.6995661605206074\n",
      "Precision Score =  0.49615384615384617\n",
      "F1 score =  0.5805580558055805\n"
     ]
    },
    {
     "data": {
      "text/plain": [
       "<function __main__.evaluate(model, X, y)>"
      ]
     },
     "execution_count": 49,
     "metadata": {},
     "output_type": "execute_result"
    }
   ],
   "source": [
    "evaluate(svm, X_cv, y_cv)"
   ]
  },
  {
   "cell_type": "markdown",
   "metadata": {},
   "source": [
    "### Test set"
   ]
  },
  {
   "cell_type": "code",
   "execution_count": 50,
   "metadata": {},
   "outputs": [
    {
     "name": "stdout",
     "output_type": "stream",
     "text": [
      "Average Error: 0.1952 degrees.\n",
      "              precision    recall  f1-score   support\n",
      "\n",
      "         0.0       0.92      0.82      0.86      2895\n",
      "         1.0       0.58      0.77      0.66       937\n",
      "\n",
      "    accuracy                           0.80      3832\n",
      "   macro avg       0.75      0.79      0.76      3832\n",
      "weighted avg       0.83      0.80      0.81      3832\n",
      "\n",
      "Confusion matrix:\n",
      " [[2365  530]\n",
      " [ 218  719]]\n",
      "Recall Score =  0.767342582710779\n",
      "Precision Score =  0.5756605284227382\n",
      "F1 score =  0.6578225068618482\n"
     ]
    },
    {
     "data": {
      "text/plain": [
       "<function __main__.evaluate(model, X, y)>"
      ]
     },
     "execution_count": 50,
     "metadata": {},
     "output_type": "execute_result"
    }
   ],
   "source": [
    "evaluate(svm, X_test, y_test)"
   ]
  },
  {
   "cell_type": "markdown",
   "metadata": {},
   "source": [
    "### Coefficients"
   ]
  },
  {
   "cell_type": "code",
   "execution_count": null,
   "metadata": {},
   "outputs": [],
   "source": []
  },
  {
   "cell_type": "code",
   "execution_count": null,
   "metadata": {},
   "outputs": [],
   "source": []
  },
  {
   "cell_type": "code",
   "execution_count": 51,
   "metadata": {},
   "outputs": [
    {
     "data": {
      "text/plain": [
       "['Models/svm_no_under_sample_balanced_class_weight.pkl']"
      ]
     },
     "execution_count": 51,
     "metadata": {},
     "output_type": "execute_result"
    }
   ],
   "source": [
    "# joblib.dump(log_reg, \"Models/default_log_reg_first_ver.pkl\")\n",
    "# joblib.dump(log_reg, \"Models/log_reg_under_sample.pkl\")\n",
    "joblib.dump(svm, \"Models/svm_no_under_sample_balanced_class_weight.pkl\")"
   ]
  }
 ],
 "metadata": {
  "kernelspec": {
   "display_name": "Python 3",
   "language": "python",
   "name": "python3"
  },
  "language_info": {
   "codemirror_mode": {
    "name": "ipython",
    "version": 3
   },
   "file_extension": ".py",
   "mimetype": "text/x-python",
   "name": "python",
   "nbconvert_exporter": "python",
   "pygments_lexer": "ipython3",
   "version": "3.8.5"
  },
  "metadata": {
   "interpreter": {
    "hash": "3516c099f2e50fbe6b83d8aca3e7ba54c35d25f18189c7f24f96f469bdbc3fe7"
   }
  }
 },
 "nbformat": 4,
 "nbformat_minor": 2
}
