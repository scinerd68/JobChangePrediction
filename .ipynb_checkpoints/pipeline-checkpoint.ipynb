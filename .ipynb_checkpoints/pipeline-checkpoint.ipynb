{
 "cells": [
  {
   "cell_type": "code",
   "execution_count": 1,
   "metadata": {},
   "outputs": [],
   "source": [
    "from sklearn.pipeline import Pipeline\n",
    "from sklearn.preprocessing import StandardScaler\n",
    "from sklearn.compose import ColumnTransformer\n",
    "from sklearn.preprocessing import OneHotEncoder\n",
    "from sklearn.impute import SimpleImputer\n",
    "from sklearn.base import TransformerMixin"
   ]
  },
  {
   "cell_type": "code",
   "execution_count": 2,
   "metadata": {},
   "outputs": [],
   "source": [
    "import numpy as np\n",
    "import pandas as pd"
   ]
  },
  {
   "cell_type": "code",
   "execution_count": 3,
   "metadata": {},
   "outputs": [],
   "source": [
    "# train_set = pd.read_csv(\"Data/train.csv\")\n",
    "# cv_set = pd.read_csv(\"Data/cv.csv\")\n",
    "# test_set = pd.read_csv(\"Data/test.csv\")"
   ]
  },
  {
   "cell_type": "code",
   "execution_count": 4,
   "metadata": {},
   "outputs": [],
   "source": [
    "train_set = pd.read_csv(\"Data/strat_train.csv\")\n",
    "cv_set = pd.read_csv(\"Data/strat_cv.csv\")\n",
    "test_set = pd.read_csv(\"Data/strat_test.csv\")"
   ]
  },
  {
   "cell_type": "code",
   "execution_count": 5,
   "metadata": {
    "scrolled": true
   },
   "outputs": [
    {
     "data": {
      "text/html": [
       "<div>\n",
       "<style scoped>\n",
       "    .dataframe tbody tr th:only-of-type {\n",
       "        vertical-align: middle;\n",
       "    }\n",
       "\n",
       "    .dataframe tbody tr th {\n",
       "        vertical-align: top;\n",
       "    }\n",
       "\n",
       "    .dataframe thead th {\n",
       "        text-align: right;\n",
       "    }\n",
       "</style>\n",
       "<table border=\"1\" class=\"dataframe\">\n",
       "  <thead>\n",
       "    <tr style=\"text-align: right;\">\n",
       "      <th></th>\n",
       "      <th>enrollee_id</th>\n",
       "      <th>city</th>\n",
       "      <th>city_development_index</th>\n",
       "      <th>gender</th>\n",
       "      <th>relevent_experience</th>\n",
       "      <th>enrolled_university</th>\n",
       "      <th>education_level</th>\n",
       "      <th>major_discipline</th>\n",
       "      <th>experience</th>\n",
       "      <th>company_size</th>\n",
       "      <th>company_type</th>\n",
       "      <th>last_new_job</th>\n",
       "      <th>training_hours</th>\n",
       "      <th>target</th>\n",
       "    </tr>\n",
       "  </thead>\n",
       "  <tbody>\n",
       "    <tr>\n",
       "      <th>0</th>\n",
       "      <td>3769</td>\n",
       "      <td>city_21</td>\n",
       "      <td>0.624</td>\n",
       "      <td>Male</td>\n",
       "      <td>Has relevent experience</td>\n",
       "      <td>no_enrollment</td>\n",
       "      <td>Masters</td>\n",
       "      <td>STEM</td>\n",
       "      <td>4</td>\n",
       "      <td>50-99</td>\n",
       "      <td>Pvt Ltd</td>\n",
       "      <td>1</td>\n",
       "      <td>5</td>\n",
       "      <td>0.0</td>\n",
       "    </tr>\n",
       "    <tr>\n",
       "      <th>1</th>\n",
       "      <td>27927</td>\n",
       "      <td>city_27</td>\n",
       "      <td>0.848</td>\n",
       "      <td>Male</td>\n",
       "      <td>No relevent experience</td>\n",
       "      <td>no_enrollment</td>\n",
       "      <td>Masters</td>\n",
       "      <td>STEM</td>\n",
       "      <td>12</td>\n",
       "      <td>NaN</td>\n",
       "      <td>NaN</td>\n",
       "      <td>2</td>\n",
       "      <td>17</td>\n",
       "      <td>1.0</td>\n",
       "    </tr>\n",
       "    <tr>\n",
       "      <th>2</th>\n",
       "      <td>22830</td>\n",
       "      <td>city_16</td>\n",
       "      <td>0.910</td>\n",
       "      <td>Male</td>\n",
       "      <td>Has relevent experience</td>\n",
       "      <td>no_enrollment</td>\n",
       "      <td>Graduate</td>\n",
       "      <td>STEM</td>\n",
       "      <td>9</td>\n",
       "      <td>100-500</td>\n",
       "      <td>Pvt Ltd</td>\n",
       "      <td>4</td>\n",
       "      <td>37</td>\n",
       "      <td>0.0</td>\n",
       "    </tr>\n",
       "    <tr>\n",
       "      <th>3</th>\n",
       "      <td>8987</td>\n",
       "      <td>city_138</td>\n",
       "      <td>0.836</td>\n",
       "      <td>Male</td>\n",
       "      <td>Has relevent experience</td>\n",
       "      <td>Full time course</td>\n",
       "      <td>High School</td>\n",
       "      <td>NaN</td>\n",
       "      <td>3</td>\n",
       "      <td>50-99</td>\n",
       "      <td>Pvt Ltd</td>\n",
       "      <td>1</td>\n",
       "      <td>10</td>\n",
       "      <td>0.0</td>\n",
       "    </tr>\n",
       "    <tr>\n",
       "      <th>4</th>\n",
       "      <td>5958</td>\n",
       "      <td>city_71</td>\n",
       "      <td>0.884</td>\n",
       "      <td>NaN</td>\n",
       "      <td>Has relevent experience</td>\n",
       "      <td>no_enrollment</td>\n",
       "      <td>Masters</td>\n",
       "      <td>Humanities</td>\n",
       "      <td>2</td>\n",
       "      <td>5000-9999</td>\n",
       "      <td>Pvt Ltd</td>\n",
       "      <td>1</td>\n",
       "      <td>26</td>\n",
       "      <td>0.0</td>\n",
       "    </tr>\n",
       "    <tr>\n",
       "      <th>5</th>\n",
       "      <td>29916</td>\n",
       "      <td>city_103</td>\n",
       "      <td>0.920</td>\n",
       "      <td>Male</td>\n",
       "      <td>No relevent experience</td>\n",
       "      <td>no_enrollment</td>\n",
       "      <td>Graduate</td>\n",
       "      <td>STEM</td>\n",
       "      <td>5</td>\n",
       "      <td>NaN</td>\n",
       "      <td>NaN</td>\n",
       "      <td>&gt;4</td>\n",
       "      <td>13</td>\n",
       "      <td>1.0</td>\n",
       "    </tr>\n",
       "    <tr>\n",
       "      <th>6</th>\n",
       "      <td>4124</td>\n",
       "      <td>city_67</td>\n",
       "      <td>0.855</td>\n",
       "      <td>Male</td>\n",
       "      <td>No relevent experience</td>\n",
       "      <td>NaN</td>\n",
       "      <td>High School</td>\n",
       "      <td>NaN</td>\n",
       "      <td>7</td>\n",
       "      <td>NaN</td>\n",
       "      <td>NaN</td>\n",
       "      <td>never</td>\n",
       "      <td>18</td>\n",
       "      <td>0.0</td>\n",
       "    </tr>\n",
       "    <tr>\n",
       "      <th>7</th>\n",
       "      <td>25594</td>\n",
       "      <td>city_75</td>\n",
       "      <td>0.939</td>\n",
       "      <td>Male</td>\n",
       "      <td>Has relevent experience</td>\n",
       "      <td>no_enrollment</td>\n",
       "      <td>Graduate</td>\n",
       "      <td>STEM</td>\n",
       "      <td>9</td>\n",
       "      <td>NaN</td>\n",
       "      <td>Pvt Ltd</td>\n",
       "      <td>never</td>\n",
       "      <td>80</td>\n",
       "      <td>0.0</td>\n",
       "    </tr>\n",
       "    <tr>\n",
       "      <th>8</th>\n",
       "      <td>364</td>\n",
       "      <td>city_16</td>\n",
       "      <td>0.910</td>\n",
       "      <td>Male</td>\n",
       "      <td>Has relevent experience</td>\n",
       "      <td>no_enrollment</td>\n",
       "      <td>Graduate</td>\n",
       "      <td>STEM</td>\n",
       "      <td>&gt;20</td>\n",
       "      <td>1000-4999</td>\n",
       "      <td>Public Sector</td>\n",
       "      <td>&gt;4</td>\n",
       "      <td>23</td>\n",
       "      <td>0.0</td>\n",
       "    </tr>\n",
       "    <tr>\n",
       "      <th>9</th>\n",
       "      <td>26775</td>\n",
       "      <td>city_16</td>\n",
       "      <td>0.910</td>\n",
       "      <td>Male</td>\n",
       "      <td>Has relevent experience</td>\n",
       "      <td>no_enrollment</td>\n",
       "      <td>Graduate</td>\n",
       "      <td>STEM</td>\n",
       "      <td>&gt;20</td>\n",
       "      <td>100-500</td>\n",
       "      <td>Pvt Ltd</td>\n",
       "      <td>&gt;4</td>\n",
       "      <td>114</td>\n",
       "      <td>0.0</td>\n",
       "    </tr>\n",
       "  </tbody>\n",
       "</table>\n",
       "</div>"
      ],
      "text/plain": [
       "   enrollee_id      city  city_development_index gender  \\\n",
       "0         3769   city_21                   0.624   Male   \n",
       "1        27927   city_27                   0.848   Male   \n",
       "2        22830   city_16                   0.910   Male   \n",
       "3         8987  city_138                   0.836   Male   \n",
       "4         5958   city_71                   0.884    NaN   \n",
       "5        29916  city_103                   0.920   Male   \n",
       "6         4124   city_67                   0.855   Male   \n",
       "7        25594   city_75                   0.939   Male   \n",
       "8          364   city_16                   0.910   Male   \n",
       "9        26775   city_16                   0.910   Male   \n",
       "\n",
       "       relevent_experience enrolled_university education_level  \\\n",
       "0  Has relevent experience       no_enrollment         Masters   \n",
       "1   No relevent experience       no_enrollment         Masters   \n",
       "2  Has relevent experience       no_enrollment        Graduate   \n",
       "3  Has relevent experience    Full time course     High School   \n",
       "4  Has relevent experience       no_enrollment         Masters   \n",
       "5   No relevent experience       no_enrollment        Graduate   \n",
       "6   No relevent experience                 NaN     High School   \n",
       "7  Has relevent experience       no_enrollment        Graduate   \n",
       "8  Has relevent experience       no_enrollment        Graduate   \n",
       "9  Has relevent experience       no_enrollment        Graduate   \n",
       "\n",
       "  major_discipline experience company_size   company_type last_new_job  \\\n",
       "0             STEM          4        50-99        Pvt Ltd            1   \n",
       "1             STEM         12          NaN            NaN            2   \n",
       "2             STEM          9      100-500        Pvt Ltd            4   \n",
       "3              NaN          3        50-99        Pvt Ltd            1   \n",
       "4       Humanities          2    5000-9999        Pvt Ltd            1   \n",
       "5             STEM          5          NaN            NaN           >4   \n",
       "6              NaN          7          NaN            NaN        never   \n",
       "7             STEM          9          NaN        Pvt Ltd        never   \n",
       "8             STEM        >20    1000-4999  Public Sector           >4   \n",
       "9             STEM        >20      100-500        Pvt Ltd           >4   \n",
       "\n",
       "   training_hours  target  \n",
       "0               5     0.0  \n",
       "1              17     1.0  \n",
       "2              37     0.0  \n",
       "3              10     0.0  \n",
       "4              26     0.0  \n",
       "5              13     1.0  \n",
       "6              18     0.0  \n",
       "7              80     0.0  \n",
       "8              23     0.0  \n",
       "9             114     0.0  "
      ]
     },
     "execution_count": 5,
     "metadata": {},
     "output_type": "execute_result"
    }
   ],
   "source": [
    "train_set.head(10)"
   ]
  },
  {
   "cell_type": "code",
   "execution_count": 6,
   "metadata": {},
   "outputs": [],
   "source": [
    "job_change = train_set.drop([\"enrollee_id\", \"target\"], axis=1)\n",
    "job_change_labels = train_set[\"target\"].copy()"
   ]
  },
  {
   "cell_type": "code",
   "execution_count": 7,
   "metadata": {},
   "outputs": [
    {
     "data": {
      "text/html": [
       "<div>\n",
       "<style scoped>\n",
       "    .dataframe tbody tr th:only-of-type {\n",
       "        vertical-align: middle;\n",
       "    }\n",
       "\n",
       "    .dataframe tbody tr th {\n",
       "        vertical-align: top;\n",
       "    }\n",
       "\n",
       "    .dataframe thead th {\n",
       "        text-align: right;\n",
       "    }\n",
       "</style>\n",
       "<table border=\"1\" class=\"dataframe\">\n",
       "  <thead>\n",
       "    <tr style=\"text-align: right;\">\n",
       "      <th></th>\n",
       "      <th>city</th>\n",
       "      <th>city_development_index</th>\n",
       "      <th>gender</th>\n",
       "      <th>relevent_experience</th>\n",
       "      <th>enrolled_university</th>\n",
       "      <th>education_level</th>\n",
       "      <th>major_discipline</th>\n",
       "      <th>experience</th>\n",
       "      <th>company_size</th>\n",
       "      <th>company_type</th>\n",
       "      <th>last_new_job</th>\n",
       "      <th>training_hours</th>\n",
       "    </tr>\n",
       "  </thead>\n",
       "  <tbody>\n",
       "    <tr>\n",
       "      <th>0</th>\n",
       "      <td>city_21</td>\n",
       "      <td>0.624</td>\n",
       "      <td>Male</td>\n",
       "      <td>Has relevent experience</td>\n",
       "      <td>no_enrollment</td>\n",
       "      <td>Masters</td>\n",
       "      <td>STEM</td>\n",
       "      <td>4</td>\n",
       "      <td>50-99</td>\n",
       "      <td>Pvt Ltd</td>\n",
       "      <td>1</td>\n",
       "      <td>5</td>\n",
       "    </tr>\n",
       "    <tr>\n",
       "      <th>1</th>\n",
       "      <td>city_27</td>\n",
       "      <td>0.848</td>\n",
       "      <td>Male</td>\n",
       "      <td>No relevent experience</td>\n",
       "      <td>no_enrollment</td>\n",
       "      <td>Masters</td>\n",
       "      <td>STEM</td>\n",
       "      <td>12</td>\n",
       "      <td>NaN</td>\n",
       "      <td>NaN</td>\n",
       "      <td>2</td>\n",
       "      <td>17</td>\n",
       "    </tr>\n",
       "    <tr>\n",
       "      <th>2</th>\n",
       "      <td>city_16</td>\n",
       "      <td>0.910</td>\n",
       "      <td>Male</td>\n",
       "      <td>Has relevent experience</td>\n",
       "      <td>no_enrollment</td>\n",
       "      <td>Graduate</td>\n",
       "      <td>STEM</td>\n",
       "      <td>9</td>\n",
       "      <td>100-500</td>\n",
       "      <td>Pvt Ltd</td>\n",
       "      <td>4</td>\n",
       "      <td>37</td>\n",
       "    </tr>\n",
       "    <tr>\n",
       "      <th>3</th>\n",
       "      <td>city_138</td>\n",
       "      <td>0.836</td>\n",
       "      <td>Male</td>\n",
       "      <td>Has relevent experience</td>\n",
       "      <td>Full time course</td>\n",
       "      <td>High School</td>\n",
       "      <td>NaN</td>\n",
       "      <td>3</td>\n",
       "      <td>50-99</td>\n",
       "      <td>Pvt Ltd</td>\n",
       "      <td>1</td>\n",
       "      <td>10</td>\n",
       "    </tr>\n",
       "    <tr>\n",
       "      <th>4</th>\n",
       "      <td>city_71</td>\n",
       "      <td>0.884</td>\n",
       "      <td>NaN</td>\n",
       "      <td>Has relevent experience</td>\n",
       "      <td>no_enrollment</td>\n",
       "      <td>Masters</td>\n",
       "      <td>Humanities</td>\n",
       "      <td>2</td>\n",
       "      <td>5000-9999</td>\n",
       "      <td>Pvt Ltd</td>\n",
       "      <td>1</td>\n",
       "      <td>26</td>\n",
       "    </tr>\n",
       "  </tbody>\n",
       "</table>\n",
       "</div>"
      ],
      "text/plain": [
       "       city  city_development_index gender      relevent_experience  \\\n",
       "0   city_21                   0.624   Male  Has relevent experience   \n",
       "1   city_27                   0.848   Male   No relevent experience   \n",
       "2   city_16                   0.910   Male  Has relevent experience   \n",
       "3  city_138                   0.836   Male  Has relevent experience   \n",
       "4   city_71                   0.884    NaN  Has relevent experience   \n",
       "\n",
       "  enrolled_university education_level major_discipline experience  \\\n",
       "0       no_enrollment         Masters             STEM          4   \n",
       "1       no_enrollment         Masters             STEM         12   \n",
       "2       no_enrollment        Graduate             STEM          9   \n",
       "3    Full time course     High School              NaN          3   \n",
       "4       no_enrollment         Masters       Humanities          2   \n",
       "\n",
       "  company_size company_type last_new_job  training_hours  \n",
       "0        50-99      Pvt Ltd            1               5  \n",
       "1          NaN          NaN            2              17  \n",
       "2      100-500      Pvt Ltd            4              37  \n",
       "3        50-99      Pvt Ltd            1              10  \n",
       "4    5000-9999      Pvt Ltd            1              26  "
      ]
     },
     "execution_count": 7,
     "metadata": {},
     "output_type": "execute_result"
    }
   ],
   "source": [
    "job_change.head()"
   ]
  },
  {
   "cell_type": "code",
   "execution_count": 8,
   "metadata": {},
   "outputs": [],
   "source": [
    "num_attribs = ['city_development_index', 'training_hours']\n",
    "ord_cat_attribs = ['relevent_experience', 'enrolled_university', 'education_level', 'experience', 'company_size', 'last_new_job']\n",
    "nom_cat_attribs = ['city', 'gender', 'major_discipline', 'company_type']"
   ]
  },
  {
   "cell_type": "code",
   "execution_count": 9,
   "metadata": {},
   "outputs": [
    {
     "name": "stdout",
     "output_type": "stream",
     "text": [
      "['Has relevent experience' 'No relevent experience']\n",
      "['no_enrollment' 'Full time course' nan 'Part time course']\n",
      "['Masters' 'Graduate' 'High School' 'Phd' nan 'Primary School']\n",
      "['4' '12' '9' '3' '2' '5' '7' '>20' '19' '15' '16' '11' '10' '<1' '6' '13'\n",
      " '8' '1' '18' '14' '20' '17' nan]\n",
      "['50-99' nan '100-500' '5000-9999' '1000-4999' '<10' '10000+' '500-999'\n",
      " '10/49']\n",
      "['1' '2' '4' '>4' 'never' '3' nan]\n"
     ]
    }
   ],
   "source": [
    "for attribs in ord_cat_attribs:\n",
    "    print(job_change[attribs].unique())"
   ]
  },
  {
   "cell_type": "code",
   "execution_count": 10,
   "metadata": {},
   "outputs": [],
   "source": [
    "num_pipeline = Pipeline([\n",
    "    ('imputer', SimpleImputer(missing_values=np.nan, strategy= \"median\")),\n",
    "    ('std_scaler', StandardScaler())\n",
    "])"
   ]
  },
  {
   "cell_type": "code",
   "execution_count": 11,
   "metadata": {},
   "outputs": [],
   "source": [
    "class OrdToNumeric(TransformerMixin):\n",
    "    def fit(self,X,y=None):\n",
    "        return self\n",
    "\n",
    "    def transform(self,X,y=None):\n",
    "        X['relevent_experience'] = X['relevent_experience'].apply(self.relevent_experience_to_numeric)\n",
    "        X['enrolled_university'] = X['enrolled_university'].apply(self.enrolled_university_to_numeric)\n",
    "        X['education_level'] = X['education_level'].apply(self.education_level_to_numeric)\n",
    "        X['experience'] = X['experience'].apply(self.experience_to_numeric)\n",
    "        X['company_size'] = X['company_size'].apply(self.company_size_to_numeric)\n",
    "        X['last_new_job'] = X['last_new_job'].apply(self.last_new_job_to_numeric)\n",
    "        return X\n",
    "\n",
    "    def relevent_experience_to_numeric(self, experience):\n",
    "        if experience != experience:\n",
    "            return None\n",
    "        if experience == \"Has relevent experience\":\n",
    "            return 1\n",
    "        return 0\n",
    "\n",
    "    def enrolled_university_to_numeric(self, x):\n",
    "        if x != x:\n",
    "            return None\n",
    "        if x == 'no_enrollment':\n",
    "            return 0\n",
    "        if x == 'Part time course':\n",
    "            return 1\n",
    "        if x == 'Full time course':\n",
    "            return 2\n",
    "\n",
    "    def education_level_to_numeric(self, x):\n",
    "        if x != x:\n",
    "            return None\n",
    "        if x == \"Primary School\":\n",
    "            return 1\n",
    "        if x == \"High School\":\n",
    "            return 2\n",
    "        if x == \"Graduate\":\n",
    "            return 3\n",
    "        if x == \"Masters\":\n",
    "            return 4\n",
    "        if x == \"Phd\":\n",
    "            return 5\n",
    "\n",
    "    def experience_to_numeric(self, x):\n",
    "        if x != x:\n",
    "            return None\n",
    "        if x == '>20':\n",
    "            return 21\n",
    "        elif x == '<1':\n",
    "            return 0\n",
    "        else:\n",
    "            return int(x)\n",
    "\n",
    "    def company_size_to_numeric(self, x):\n",
    "        if x != x:\n",
    "            return None\n",
    "        if x == '<10' :\n",
    "            return 0\n",
    "        if x == '10/49' :\n",
    "            return 1\n",
    "        if x == '50-99' :\n",
    "            return 2\n",
    "        if x == '100-500' :\n",
    "            return 3\n",
    "        if x == '500-999' :\n",
    "            return 4\n",
    "        if x == '1000-4999' :\n",
    "            return 5\n",
    "        if x == '5000-9999':\n",
    "            return 6\n",
    "        if x == '10000+':\n",
    "            return 7\n",
    "\n",
    "    def last_new_job_to_numeric(self, x):\n",
    "        if x != x:\n",
    "            return None\n",
    "        if x == '>4' :\n",
    "            return 5\n",
    "        if x == 'never' :\n",
    "            return 0\n",
    "        else:\n",
    "            return int(x)"
   ]
  },
  {
   "cell_type": "code",
   "execution_count": 12,
   "metadata": {},
   "outputs": [],
   "source": [
    "ord_pipeline = Pipeline([\n",
    "    ('ord_to_numeric', OrdToNumeric()),\n",
    "    ('ord_imputer', SimpleImputer(missing_values=np.nan, strategy=\"most_frequent\")),\n",
    "    ('ord_std_scaler', StandardScaler())\n",
    "])"
   ]
  },
  {
   "cell_type": "code",
   "execution_count": 13,
   "metadata": {},
   "outputs": [],
   "source": [
    "class DenseTransformer(TransformerMixin):\n",
    "    def fit(self, X, y=None):\n",
    "        return self\n",
    "\n",
    "    def transform(self, X, y=None):\n",
    "        return X.toarray()"
   ]
  },
  {
   "cell_type": "code",
   "execution_count": 14,
   "metadata": {},
   "outputs": [],
   "source": [
    "nom_pipeline = Pipeline([\n",
    "    ('nom_imputer', SimpleImputer(strategy=\"constant\")),\n",
    "    ('one_hot_encoder', OneHotEncoder(handle_unknown='ignore')),\n",
    "    ('to_array', DenseTransformer()),\n",
    "    ('nom_std_scaler', StandardScaler())\n",
    "])"
   ]
  },
  {
   "cell_type": "code",
   "execution_count": 15,
   "metadata": {},
   "outputs": [],
   "source": [
    "full_pipeline = ColumnTransformer([\n",
    "    (\"num\", num_pipeline, num_attribs),\n",
    "    (\"ord\", ord_pipeline, ord_cat_attribs),\n",
    "    (\"nom\", nom_pipeline, nom_cat_attribs)\n",
    "])"
   ]
  },
  {
   "cell_type": "code",
   "execution_count": 16,
   "metadata": {},
   "outputs": [],
   "source": [
    "job_change_prepared = full_pipeline.fit_transform(job_change)"
   ]
  },
  {
   "cell_type": "code",
   "execution_count": 17,
   "metadata": {},
   "outputs": [
    {
     "data": {
      "text/plain": [
       "array([[-1.64652041, -1.01234952,  0.6254507 , ..., -0.22905834,\n",
       "         0.99064753, -0.69615321],\n",
       "       [ 0.16373428, -0.81131152, -1.59884705, ..., -0.22905834,\n",
       "        -1.00944077,  1.4364654 ],\n",
       "       [ 0.66478691, -0.47624819,  0.6254507 , ..., -0.22905834,\n",
       "         0.99064753, -0.69615321],\n",
       "       ...,\n",
       "       [ 0.47891255, -1.02910269, -1.59884705, ..., -0.22905834,\n",
       "         0.99064753, -0.69615321],\n",
       "       [-1.17779375, -0.57676719,  0.6254507 , ..., -0.22905834,\n",
       "        -1.00944077,  1.4364654 ],\n",
       "       [ 0.74560186,  1.46711915,  0.6254507 , ..., -0.22905834,\n",
       "         0.99064753, -0.69615321]])"
      ]
     },
     "execution_count": 17,
     "metadata": {},
     "output_type": "execute_result"
    }
   ],
   "source": [
    "job_change_prepared"
   ]
  },
  {
   "cell_type": "code",
   "execution_count": 18,
   "metadata": {},
   "outputs": [
    {
     "data": {
      "text/plain": [
       "(11494, 149)"
      ]
     },
     "execution_count": 18,
     "metadata": {},
     "output_type": "execute_result"
    }
   ],
   "source": [
    "job_change_prepared.shape"
   ]
  },
  {
   "cell_type": "code",
   "execution_count": 19,
   "metadata": {},
   "outputs": [
    {
     "data": {
      "text/plain": [
       "array([-1.64652041, -1.01234952,  0.6254507 , -0.56910299,  1.27340643,\n",
       "       -0.89205111, -0.44972363, -0.58496153, -0.03733592, -0.06675982,\n",
       "       -0.11919018, -0.06407714, -0.12648831, -0.54013976, -0.12684285,\n",
       "       -0.05909509, -0.02086142, -0.01865821, -0.01615778, -0.11691722,\n",
       "       -0.01615778, -0.27461187, -0.05115552, -0.08528589, -0.02950893,\n",
       "       -0.03364975, -0.02799341, -0.01615778, -0.0131922 , -0.06543199,\n",
       "       -0.03733592, -0.02285354, -0.06338903, -0.01615778, -0.04852404,\n",
       "       -0.02468571, -0.02285354, -0.04668821, -0.18032988, -0.0754141 ,\n",
       "       -0.01615778, -0.03492151, -0.00932789, -0.04175011, -0.05446872,\n",
       "       -0.0437917 , -0.03848666, -0.05759374, -0.02285354, -0.07364355,\n",
       "       -0.06127912, -0.05115552, -0.03095057, -0.03733592, -0.05115552,\n",
       "       -0.06543199, -0.29217041, -0.20966649, -0.08580188, -0.05983183,\n",
       "       -0.00932789, -0.02639129, -0.00932789, -0.08528589, -0.02639129,\n",
       "       -0.03960418, -0.01865821, -0.00932789, -0.01865821, -0.08319085,\n",
       "       -0.02285354, -0.03960418,  2.44428201, -0.0964782 , -0.05909509,\n",
       "       -0.01615778, -0.03364975, -0.04941662, -0.09320955, -0.03733592,\n",
       "       -0.00932789, -0.02639129, -0.09273354, -0.02799341, -0.02639129,\n",
       "       -0.06269349, -0.07243968, -0.02799341, -0.02639129, -0.03364975,\n",
       "       -0.07827804, -0.08528589, -0.02639129, -0.08682494, -0.03232822,\n",
       "       -0.02799341, -0.02639129, -0.07243968, -0.02468571, -0.10357656,\n",
       "       -0.0131922 , -0.07121589, -0.09225514, -0.15243068, -0.03232822,\n",
       "       -0.04574292, -0.0476149 , -0.12289021, -0.03232822, -0.1236177 ,\n",
       "       -0.07423832, -0.12929913, -0.05446872, -0.04278299, -0.04175011,\n",
       "       -0.02086142, -0.01615778, -0.02468571, -0.0131922 , -0.01865821,\n",
       "       -0.08833796, -0.03095057, -0.06055974, -0.02468571, -0.09964351,\n",
       "       -0.04477785, -0.03848666, -0.03364975, -0.07243968, -0.06675982,\n",
       "       -0.06934056, -0.26080088,  0.66549399, -0.10357656, -0.55061293,\n",
       "       -0.11381988, -0.13239459, -0.18716107, -0.10653937, -0.14162203,\n",
       "        0.56897806, -0.419783  , -0.17800216, -0.2393918 , -0.16949919,\n",
       "       -0.07883863, -0.22905834,  0.99064753, -0.69615321])"
      ]
     },
     "execution_count": 19,
     "metadata": {},
     "output_type": "execute_result"
    }
   ],
   "source": [
    "job_change_prepared[0]"
   ]
  },
  {
   "cell_type": "code",
   "execution_count": 20,
   "metadata": {},
   "outputs": [],
   "source": [
    "np.savetxt(\"Data/X_train.csv\", job_change_prepared, delimiter=',')\n",
    "np.savetxt(\"Data/y_train.csv\", job_change_labels.to_numpy(), delimiter=',')"
   ]
  },
  {
   "cell_type": "markdown",
   "metadata": {},
   "source": [
    "### Undersampling"
   ]
  },
  {
   "cell_type": "code",
   "execution_count": 21,
   "metadata": {},
   "outputs": [],
   "source": [
    "from imblearn.under_sampling import RandomUnderSampler"
   ]
  },
  {
   "cell_type": "code",
   "execution_count": 22,
   "metadata": {},
   "outputs": [],
   "source": [
    "undersample = RandomUnderSampler(sampling_strategy=\"majority\", random_state=42)"
   ]
  },
  {
   "cell_type": "code",
   "execution_count": 23,
   "metadata": {},
   "outputs": [],
   "source": [
    "# fit and apply the transform\n",
    "X_under, y_under = undersample.fit_resample(job_change_prepared, job_change_labels.to_numpy())"
   ]
  },
  {
   "cell_type": "code",
   "execution_count": 24,
   "metadata": {},
   "outputs": [
    {
     "data": {
      "text/plain": [
       "(11494, 149)"
      ]
     },
     "execution_count": 24,
     "metadata": {},
     "output_type": "execute_result"
    }
   ],
   "source": [
    "job_change_prepared.shape"
   ]
  },
  {
   "cell_type": "code",
   "execution_count": 25,
   "metadata": {},
   "outputs": [
    {
     "data": {
      "text/plain": [
       "(5830, 149)"
      ]
     },
     "execution_count": 25,
     "metadata": {},
     "output_type": "execute_result"
    }
   ],
   "source": [
    "X_under.shape"
   ]
  },
  {
   "cell_type": "code",
   "execution_count": 26,
   "metadata": {},
   "outputs": [],
   "source": [
    "np.savetxt(\"Data/X_train_under.csv\", X_under, delimiter=',')\n",
    "np.savetxt(\"Data/y_train_under.csv\", y_under, delimiter=',')"
   ]
  },
  {
   "cell_type": "markdown",
   "metadata": {},
   "source": [
    "# Process test set"
   ]
  },
  {
   "cell_type": "code",
   "execution_count": 27,
   "metadata": {},
   "outputs": [
    {
     "data": {
      "text/html": [
       "<div>\n",
       "<style scoped>\n",
       "    .dataframe tbody tr th:only-of-type {\n",
       "        vertical-align: middle;\n",
       "    }\n",
       "\n",
       "    .dataframe tbody tr th {\n",
       "        vertical-align: top;\n",
       "    }\n",
       "\n",
       "    .dataframe thead th {\n",
       "        text-align: right;\n",
       "    }\n",
       "</style>\n",
       "<table border=\"1\" class=\"dataframe\">\n",
       "  <thead>\n",
       "    <tr style=\"text-align: right;\">\n",
       "      <th></th>\n",
       "      <th>enrollee_id</th>\n",
       "      <th>city</th>\n",
       "      <th>city_development_index</th>\n",
       "      <th>gender</th>\n",
       "      <th>relevent_experience</th>\n",
       "      <th>enrolled_university</th>\n",
       "      <th>education_level</th>\n",
       "      <th>major_discipline</th>\n",
       "      <th>experience</th>\n",
       "      <th>company_size</th>\n",
       "      <th>company_type</th>\n",
       "      <th>last_new_job</th>\n",
       "      <th>training_hours</th>\n",
       "      <th>target</th>\n",
       "    </tr>\n",
       "  </thead>\n",
       "  <tbody>\n",
       "    <tr>\n",
       "      <th>0</th>\n",
       "      <td>32080</td>\n",
       "      <td>city_11</td>\n",
       "      <td>0.550</td>\n",
       "      <td>NaN</td>\n",
       "      <td>Has relevent experience</td>\n",
       "      <td>no_enrollment</td>\n",
       "      <td>Graduate</td>\n",
       "      <td>STEM</td>\n",
       "      <td>2</td>\n",
       "      <td>100-500</td>\n",
       "      <td>Pvt Ltd</td>\n",
       "      <td>2</td>\n",
       "      <td>46</td>\n",
       "      <td>0.0</td>\n",
       "    </tr>\n",
       "    <tr>\n",
       "      <th>1</th>\n",
       "      <td>2804</td>\n",
       "      <td>city_16</td>\n",
       "      <td>0.910</td>\n",
       "      <td>NaN</td>\n",
       "      <td>No relevent experience</td>\n",
       "      <td>no_enrollment</td>\n",
       "      <td>High School</td>\n",
       "      <td>NaN</td>\n",
       "      <td>3</td>\n",
       "      <td>NaN</td>\n",
       "      <td>NaN</td>\n",
       "      <td>never</td>\n",
       "      <td>9</td>\n",
       "      <td>0.0</td>\n",
       "    </tr>\n",
       "    <tr>\n",
       "      <th>2</th>\n",
       "      <td>2660</td>\n",
       "      <td>city_103</td>\n",
       "      <td>0.920</td>\n",
       "      <td>Male</td>\n",
       "      <td>Has relevent experience</td>\n",
       "      <td>no_enrollment</td>\n",
       "      <td>Masters</td>\n",
       "      <td>STEM</td>\n",
       "      <td>&gt;20</td>\n",
       "      <td>100-500</td>\n",
       "      <td>Funded Startup</td>\n",
       "      <td>&gt;4</td>\n",
       "      <td>6</td>\n",
       "      <td>0.0</td>\n",
       "    </tr>\n",
       "    <tr>\n",
       "      <th>3</th>\n",
       "      <td>11999</td>\n",
       "      <td>city_36</td>\n",
       "      <td>0.893</td>\n",
       "      <td>NaN</td>\n",
       "      <td>No relevent experience</td>\n",
       "      <td>Full time course</td>\n",
       "      <td>Graduate</td>\n",
       "      <td>STEM</td>\n",
       "      <td>3</td>\n",
       "      <td>1000-4999</td>\n",
       "      <td>Pvt Ltd</td>\n",
       "      <td>NaN</td>\n",
       "      <td>16</td>\n",
       "      <td>1.0</td>\n",
       "    </tr>\n",
       "    <tr>\n",
       "      <th>4</th>\n",
       "      <td>8397</td>\n",
       "      <td>city_103</td>\n",
       "      <td>0.920</td>\n",
       "      <td>NaN</td>\n",
       "      <td>No relevent experience</td>\n",
       "      <td>NaN</td>\n",
       "      <td>High School</td>\n",
       "      <td>NaN</td>\n",
       "      <td>2</td>\n",
       "      <td>NaN</td>\n",
       "      <td>NaN</td>\n",
       "      <td>never</td>\n",
       "      <td>46</td>\n",
       "      <td>0.0</td>\n",
       "    </tr>\n",
       "  </tbody>\n",
       "</table>\n",
       "</div>"
      ],
      "text/plain": [
       "   enrollee_id      city  city_development_index gender  \\\n",
       "0        32080   city_11                   0.550    NaN   \n",
       "1         2804   city_16                   0.910    NaN   \n",
       "2         2660  city_103                   0.920   Male   \n",
       "3        11999   city_36                   0.893    NaN   \n",
       "4         8397  city_103                   0.920    NaN   \n",
       "\n",
       "       relevent_experience enrolled_university education_level  \\\n",
       "0  Has relevent experience       no_enrollment        Graduate   \n",
       "1   No relevent experience       no_enrollment     High School   \n",
       "2  Has relevent experience       no_enrollment         Masters   \n",
       "3   No relevent experience    Full time course        Graduate   \n",
       "4   No relevent experience                 NaN     High School   \n",
       "\n",
       "  major_discipline experience company_size    company_type last_new_job  \\\n",
       "0             STEM          2      100-500         Pvt Ltd            2   \n",
       "1              NaN          3          NaN             NaN        never   \n",
       "2             STEM        >20      100-500  Funded Startup           >4   \n",
       "3             STEM          3    1000-4999         Pvt Ltd          NaN   \n",
       "4              NaN          2          NaN             NaN        never   \n",
       "\n",
       "   training_hours  target  \n",
       "0              46     0.0  \n",
       "1               9     0.0  \n",
       "2               6     0.0  \n",
       "3              16     1.0  \n",
       "4              46     0.0  "
      ]
     },
     "execution_count": 27,
     "metadata": {},
     "output_type": "execute_result"
    }
   ],
   "source": [
    "test_set.head()"
   ]
  },
  {
   "cell_type": "code",
   "execution_count": 28,
   "metadata": {},
   "outputs": [],
   "source": [
    "job_change_test = test_set.drop([\"enrollee_id\", \"target\"], axis=1)\n",
    "job_change_test_labels = test_set[\"target\"].copy()"
   ]
  },
  {
   "cell_type": "code",
   "execution_count": 29,
   "metadata": {},
   "outputs": [],
   "source": [
    "job_change_test_prepared = full_pipeline.transform(job_change_test)"
   ]
  },
  {
   "cell_type": "code",
   "execution_count": 30,
   "metadata": {},
   "outputs": [
    {
     "data": {
      "text/plain": [
       "(3832, 149)"
      ]
     },
     "execution_count": 30,
     "metadata": {},
     "output_type": "execute_result"
    }
   ],
   "source": [
    "job_change_test_prepared.shape"
   ]
  },
  {
   "cell_type": "code",
   "execution_count": 31,
   "metadata": {},
   "outputs": [
    {
     "data": {
      "text/plain": [
       "array([[-2.24455098, -0.32546969,  0.6254507 , ..., -0.22905834,\n",
       "         0.99064753, -0.69615321],\n",
       "       [ 0.66478691, -0.94533686, -1.59884705, ..., -0.22905834,\n",
       "        -1.00944077,  1.4364654 ],\n",
       "       [ 0.74560186, -0.99559636,  0.6254507 , ..., -0.22905834,\n",
       "        -1.00944077, -0.69615321],\n",
       "       ...,\n",
       "       [ 0.22030474, -0.27521019,  0.6254507 , ..., -0.22905834,\n",
       "         0.99064753, -0.69615321],\n",
       "       [ 0.66478691,  1.24932798,  0.6254507 , ..., -0.22905834,\n",
       "         0.99064753, -0.69615321],\n",
       "       [-2.01018765,  0.14361898,  0.6254507 , ..., -0.22905834,\n",
       "         0.99064753, -0.69615321]])"
      ]
     },
     "execution_count": 31,
     "metadata": {},
     "output_type": "execute_result"
    }
   ],
   "source": [
    "job_change_test_prepared"
   ]
  },
  {
   "cell_type": "code",
   "execution_count": 32,
   "metadata": {},
   "outputs": [],
   "source": [
    "np.savetxt(\"Data/X_test.csv\", job_change_test_prepared, delimiter=',')\n",
    "np.savetxt(\"Data/y_test.csv\", job_change_test_labels.to_numpy(), delimiter=',')"
   ]
  },
  {
   "cell_type": "code",
   "execution_count": 33,
   "metadata": {},
   "outputs": [],
   "source": [
    "job_change_cv = cv_set.drop([\"enrollee_id\", \"target\"], axis=1)\n",
    "job_change_cv_labels = cv_set[\"target\"].copy()"
   ]
  },
  {
   "cell_type": "code",
   "execution_count": 34,
   "metadata": {},
   "outputs": [],
   "source": [
    "job_change_cv_prepared = full_pipeline.transform(job_change_cv)"
   ]
  },
  {
   "cell_type": "code",
   "execution_count": 35,
   "metadata": {},
   "outputs": [],
   "source": [
    "np.savetxt(\"Data/X_cv.csv\", job_change_cv_prepared, delimiter=',')\n",
    "np.savetxt(\"Data/y_cv.csv\", job_change_cv_labels.to_numpy(), delimiter=',')"
   ]
  }
 ],
 "metadata": {
  "kernelspec": {
   "display_name": "Python 3",
   "language": "python",
   "name": "python3"
  },
  "language_info": {
   "codemirror_mode": {
    "name": "ipython",
    "version": 3
   },
   "file_extension": ".py",
   "mimetype": "text/x-python",
   "name": "python",
   "nbconvert_exporter": "python",
   "pygments_lexer": "ipython3",
   "version": "3.8.5"
  },
  "metadata": {
   "interpreter": {
    "hash": "3516c099f2e50fbe6b83d8aca3e7ba54c35d25f18189c7f24f96f469bdbc3fe7"
   }
  }
 },
 "nbformat": 4,
 "nbformat_minor": 2
}
