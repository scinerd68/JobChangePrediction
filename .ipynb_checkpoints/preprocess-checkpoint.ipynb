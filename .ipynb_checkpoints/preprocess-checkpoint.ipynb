{
 "cells": [
  {
   "cell_type": "code",
   "execution_count": 60,
   "metadata": {},
   "outputs": [],
   "source": [
    "import pandas as pd"
   ]
  },
  {
   "cell_type": "code",
   "execution_count": 61,
   "metadata": {},
   "outputs": [],
   "source": [
    "strat_train_set = pd.read_csv(\"Data/train.csv\", index_col=\"enrollee_id\")"
   ]
  },
  {
   "cell_type": "code",
   "execution_count": 62,
   "metadata": {},
   "outputs": [
    {
     "data": {
      "text/html": [
       "<div>\n",
       "<style scoped>\n",
       "    .dataframe tbody tr th:only-of-type {\n",
       "        vertical-align: middle;\n",
       "    }\n",
       "\n",
       "    .dataframe tbody tr th {\n",
       "        vertical-align: top;\n",
       "    }\n",
       "\n",
       "    .dataframe thead th {\n",
       "        text-align: right;\n",
       "    }\n",
       "</style>\n",
       "<table border=\"1\" class=\"dataframe\">\n",
       "  <thead>\n",
       "    <tr style=\"text-align: right;\">\n",
       "      <th></th>\n",
       "      <th>Unnamed: 0</th>\n",
       "      <th>city</th>\n",
       "      <th>city_development_index</th>\n",
       "      <th>gender</th>\n",
       "      <th>relevent_experience</th>\n",
       "      <th>enrolled_university</th>\n",
       "      <th>education_level</th>\n",
       "      <th>major_discipline</th>\n",
       "      <th>experience</th>\n",
       "      <th>company_size</th>\n",
       "      <th>company_type</th>\n",
       "      <th>last_new_job</th>\n",
       "      <th>training_hours</th>\n",
       "      <th>target</th>\n",
       "    </tr>\n",
       "    <tr>\n",
       "      <th>enrollee_id</th>\n",
       "      <th></th>\n",
       "      <th></th>\n",
       "      <th></th>\n",
       "      <th></th>\n",
       "      <th></th>\n",
       "      <th></th>\n",
       "      <th></th>\n",
       "      <th></th>\n",
       "      <th></th>\n",
       "      <th></th>\n",
       "      <th></th>\n",
       "      <th></th>\n",
       "      <th></th>\n",
       "      <th></th>\n",
       "    </tr>\n",
       "  </thead>\n",
       "  <tbody>\n",
       "    <tr>\n",
       "      <th>20667</th>\n",
       "      <td>8253</td>\n",
       "      <td>city_21</td>\n",
       "      <td>0.624</td>\n",
       "      <td>NaN</td>\n",
       "      <td>Has relevent experience</td>\n",
       "      <td>no_enrollment</td>\n",
       "      <td>Masters</td>\n",
       "      <td>STEM</td>\n",
       "      <td>7</td>\n",
       "      <td>&lt;10</td>\n",
       "      <td>Early Stage Startup</td>\n",
       "      <td>1</td>\n",
       "      <td>40</td>\n",
       "      <td>0.0</td>\n",
       "    </tr>\n",
       "    <tr>\n",
       "      <th>4093</th>\n",
       "      <td>10067</td>\n",
       "      <td>city_103</td>\n",
       "      <td>0.920</td>\n",
       "      <td>Male</td>\n",
       "      <td>Has relevent experience</td>\n",
       "      <td>no_enrollment</td>\n",
       "      <td>Graduate</td>\n",
       "      <td>STEM</td>\n",
       "      <td>19</td>\n",
       "      <td>100-500</td>\n",
       "      <td>Pvt Ltd</td>\n",
       "      <td>2</td>\n",
       "      <td>48</td>\n",
       "      <td>0.0</td>\n",
       "    </tr>\n",
       "    <tr>\n",
       "      <th>24146</th>\n",
       "      <td>1851</td>\n",
       "      <td>city_21</td>\n",
       "      <td>0.624</td>\n",
       "      <td>NaN</td>\n",
       "      <td>Has relevent experience</td>\n",
       "      <td>no_enrollment</td>\n",
       "      <td>Graduate</td>\n",
       "      <td>STEM</td>\n",
       "      <td>5</td>\n",
       "      <td>NaN</td>\n",
       "      <td>NaN</td>\n",
       "      <td>1</td>\n",
       "      <td>135</td>\n",
       "      <td>0.0</td>\n",
       "    </tr>\n",
       "    <tr>\n",
       "      <th>28323</th>\n",
       "      <td>4139</td>\n",
       "      <td>city_19</td>\n",
       "      <td>0.682</td>\n",
       "      <td>Male</td>\n",
       "      <td>No relevent experience</td>\n",
       "      <td>Full time course</td>\n",
       "      <td>Graduate</td>\n",
       "      <td>STEM</td>\n",
       "      <td>2</td>\n",
       "      <td>NaN</td>\n",
       "      <td>NaN</td>\n",
       "      <td>never</td>\n",
       "      <td>45</td>\n",
       "      <td>1.0</td>\n",
       "    </tr>\n",
       "    <tr>\n",
       "      <th>16720</th>\n",
       "      <td>2473</td>\n",
       "      <td>city_21</td>\n",
       "      <td>0.624</td>\n",
       "      <td>Male</td>\n",
       "      <td>No relevent experience</td>\n",
       "      <td>Full time course</td>\n",
       "      <td>High School</td>\n",
       "      <td>NaN</td>\n",
       "      <td>10</td>\n",
       "      <td>NaN</td>\n",
       "      <td>NaN</td>\n",
       "      <td>never</td>\n",
       "      <td>68</td>\n",
       "      <td>0.0</td>\n",
       "    </tr>\n",
       "  </tbody>\n",
       "</table>\n",
       "</div>"
      ],
      "text/plain": [
       "             Unnamed: 0      city  city_development_index gender  \\\n",
       "enrollee_id                                                        \n",
       "20667              8253   city_21                   0.624    NaN   \n",
       "4093              10067  city_103                   0.920   Male   \n",
       "24146              1851   city_21                   0.624    NaN   \n",
       "28323              4139   city_19                   0.682   Male   \n",
       "16720              2473   city_21                   0.624   Male   \n",
       "\n",
       "                 relevent_experience enrolled_university education_level  \\\n",
       "enrollee_id                                                                \n",
       "20667        Has relevent experience       no_enrollment         Masters   \n",
       "4093         Has relevent experience       no_enrollment        Graduate   \n",
       "24146        Has relevent experience       no_enrollment        Graduate   \n",
       "28323         No relevent experience    Full time course        Graduate   \n",
       "16720         No relevent experience    Full time course     High School   \n",
       "\n",
       "            major_discipline experience company_size         company_type  \\\n",
       "enrollee_id                                                                 \n",
       "20667                   STEM          7          <10  Early Stage Startup   \n",
       "4093                    STEM         19      100-500              Pvt Ltd   \n",
       "24146                   STEM          5          NaN                  NaN   \n",
       "28323                   STEM          2          NaN                  NaN   \n",
       "16720                    NaN         10          NaN                  NaN   \n",
       "\n",
       "            last_new_job  training_hours  target  \n",
       "enrollee_id                                       \n",
       "20667                  1              40     0.0  \n",
       "4093                   2              48     0.0  \n",
       "24146                  1             135     0.0  \n",
       "28323              never              45     1.0  \n",
       "16720              never              68     0.0  "
      ]
     },
     "execution_count": 62,
     "metadata": {},
     "output_type": "execute_result"
    }
   ],
   "source": [
    "strat_train_set.head()"
   ]
  },
  {
   "cell_type": "code",
   "execution_count": 63,
   "metadata": {},
   "outputs": [],
   "source": [
    "job_change = strat_train_set.drop(\"target\", axis=1)\n",
    "job_change_labels = strat_train_set[\"target\"].copy()"
   ]
  },
  {
   "cell_type": "code",
   "execution_count": 64,
   "metadata": {},
   "outputs": [
    {
     "data": {
      "text/html": [
       "<div>\n",
       "<style scoped>\n",
       "    .dataframe tbody tr th:only-of-type {\n",
       "        vertical-align: middle;\n",
       "    }\n",
       "\n",
       "    .dataframe tbody tr th {\n",
       "        vertical-align: top;\n",
       "    }\n",
       "\n",
       "    .dataframe thead th {\n",
       "        text-align: right;\n",
       "    }\n",
       "</style>\n",
       "<table border=\"1\" class=\"dataframe\">\n",
       "  <thead>\n",
       "    <tr style=\"text-align: right;\">\n",
       "      <th></th>\n",
       "      <th>Unnamed: 0</th>\n",
       "      <th>city</th>\n",
       "      <th>city_development_index</th>\n",
       "      <th>gender</th>\n",
       "      <th>relevent_experience</th>\n",
       "      <th>enrolled_university</th>\n",
       "      <th>education_level</th>\n",
       "      <th>major_discipline</th>\n",
       "      <th>experience</th>\n",
       "      <th>company_size</th>\n",
       "      <th>company_type</th>\n",
       "      <th>last_new_job</th>\n",
       "      <th>training_hours</th>\n",
       "    </tr>\n",
       "    <tr>\n",
       "      <th>enrollee_id</th>\n",
       "      <th></th>\n",
       "      <th></th>\n",
       "      <th></th>\n",
       "      <th></th>\n",
       "      <th></th>\n",
       "      <th></th>\n",
       "      <th></th>\n",
       "      <th></th>\n",
       "      <th></th>\n",
       "      <th></th>\n",
       "      <th></th>\n",
       "      <th></th>\n",
       "      <th></th>\n",
       "    </tr>\n",
       "  </thead>\n",
       "  <tbody>\n",
       "    <tr>\n",
       "      <th>20667</th>\n",
       "      <td>8253</td>\n",
       "      <td>city_21</td>\n",
       "      <td>0.624</td>\n",
       "      <td>NaN</td>\n",
       "      <td>Has relevent experience</td>\n",
       "      <td>no_enrollment</td>\n",
       "      <td>Masters</td>\n",
       "      <td>STEM</td>\n",
       "      <td>7</td>\n",
       "      <td>&lt;10</td>\n",
       "      <td>Early Stage Startup</td>\n",
       "      <td>1</td>\n",
       "      <td>40</td>\n",
       "    </tr>\n",
       "    <tr>\n",
       "      <th>4093</th>\n",
       "      <td>10067</td>\n",
       "      <td>city_103</td>\n",
       "      <td>0.920</td>\n",
       "      <td>Male</td>\n",
       "      <td>Has relevent experience</td>\n",
       "      <td>no_enrollment</td>\n",
       "      <td>Graduate</td>\n",
       "      <td>STEM</td>\n",
       "      <td>19</td>\n",
       "      <td>100-500</td>\n",
       "      <td>Pvt Ltd</td>\n",
       "      <td>2</td>\n",
       "      <td>48</td>\n",
       "    </tr>\n",
       "    <tr>\n",
       "      <th>24146</th>\n",
       "      <td>1851</td>\n",
       "      <td>city_21</td>\n",
       "      <td>0.624</td>\n",
       "      <td>NaN</td>\n",
       "      <td>Has relevent experience</td>\n",
       "      <td>no_enrollment</td>\n",
       "      <td>Graduate</td>\n",
       "      <td>STEM</td>\n",
       "      <td>5</td>\n",
       "      <td>NaN</td>\n",
       "      <td>NaN</td>\n",
       "      <td>1</td>\n",
       "      <td>135</td>\n",
       "    </tr>\n",
       "    <tr>\n",
       "      <th>28323</th>\n",
       "      <td>4139</td>\n",
       "      <td>city_19</td>\n",
       "      <td>0.682</td>\n",
       "      <td>Male</td>\n",
       "      <td>No relevent experience</td>\n",
       "      <td>Full time course</td>\n",
       "      <td>Graduate</td>\n",
       "      <td>STEM</td>\n",
       "      <td>2</td>\n",
       "      <td>NaN</td>\n",
       "      <td>NaN</td>\n",
       "      <td>never</td>\n",
       "      <td>45</td>\n",
       "    </tr>\n",
       "    <tr>\n",
       "      <th>16720</th>\n",
       "      <td>2473</td>\n",
       "      <td>city_21</td>\n",
       "      <td>0.624</td>\n",
       "      <td>Male</td>\n",
       "      <td>No relevent experience</td>\n",
       "      <td>Full time course</td>\n",
       "      <td>High School</td>\n",
       "      <td>NaN</td>\n",
       "      <td>10</td>\n",
       "      <td>NaN</td>\n",
       "      <td>NaN</td>\n",
       "      <td>never</td>\n",
       "      <td>68</td>\n",
       "    </tr>\n",
       "    <tr>\n",
       "      <th>...</th>\n",
       "      <td>...</td>\n",
       "      <td>...</td>\n",
       "      <td>...</td>\n",
       "      <td>...</td>\n",
       "      <td>...</td>\n",
       "      <td>...</td>\n",
       "      <td>...</td>\n",
       "      <td>...</td>\n",
       "      <td>...</td>\n",
       "      <td>...</td>\n",
       "      <td>...</td>\n",
       "      <td>...</td>\n",
       "      <td>...</td>\n",
       "    </tr>\n",
       "    <tr>\n",
       "      <th>5471</th>\n",
       "      <td>11284</td>\n",
       "      <td>city_103</td>\n",
       "      <td>0.920</td>\n",
       "      <td>NaN</td>\n",
       "      <td>No relevent experience</td>\n",
       "      <td>no_enrollment</td>\n",
       "      <td>Graduate</td>\n",
       "      <td>STEM</td>\n",
       "      <td>&gt;20</td>\n",
       "      <td>NaN</td>\n",
       "      <td>NaN</td>\n",
       "      <td>&gt;4</td>\n",
       "      <td>25</td>\n",
       "    </tr>\n",
       "    <tr>\n",
       "      <th>4815</th>\n",
       "      <td>11964</td>\n",
       "      <td>city_57</td>\n",
       "      <td>0.866</td>\n",
       "      <td>Male</td>\n",
       "      <td>No relevent experience</td>\n",
       "      <td>Full time course</td>\n",
       "      <td>High School</td>\n",
       "      <td>NaN</td>\n",
       "      <td>4</td>\n",
       "      <td>NaN</td>\n",
       "      <td>NaN</td>\n",
       "      <td>never</td>\n",
       "      <td>122</td>\n",
       "    </tr>\n",
       "    <tr>\n",
       "      <th>25935</th>\n",
       "      <td>5390</td>\n",
       "      <td>city_36</td>\n",
       "      <td>0.893</td>\n",
       "      <td>Male</td>\n",
       "      <td>Has relevent experience</td>\n",
       "      <td>no_enrollment</td>\n",
       "      <td>Masters</td>\n",
       "      <td>STEM</td>\n",
       "      <td>10</td>\n",
       "      <td>10/49</td>\n",
       "      <td>Early Stage Startup</td>\n",
       "      <td>2</td>\n",
       "      <td>57</td>\n",
       "    </tr>\n",
       "    <tr>\n",
       "      <th>6525</th>\n",
       "      <td>860</td>\n",
       "      <td>city_21</td>\n",
       "      <td>0.624</td>\n",
       "      <td>NaN</td>\n",
       "      <td>No relevent experience</td>\n",
       "      <td>Full time course</td>\n",
       "      <td>Graduate</td>\n",
       "      <td>STEM</td>\n",
       "      <td>5</td>\n",
       "      <td>NaN</td>\n",
       "      <td>NaN</td>\n",
       "      <td>never</td>\n",
       "      <td>16</td>\n",
       "    </tr>\n",
       "    <tr>\n",
       "      <th>3366</th>\n",
       "      <td>15795</td>\n",
       "      <td>city_57</td>\n",
       "      <td>0.866</td>\n",
       "      <td>Male</td>\n",
       "      <td>Has relevent experience</td>\n",
       "      <td>no_enrollment</td>\n",
       "      <td>Masters</td>\n",
       "      <td>STEM</td>\n",
       "      <td>&gt;20</td>\n",
       "      <td>100-500</td>\n",
       "      <td>Pvt Ltd</td>\n",
       "      <td>&gt;4</td>\n",
       "      <td>50</td>\n",
       "    </tr>\n",
       "  </tbody>\n",
       "</table>\n",
       "<p>13410 rows × 13 columns</p>\n",
       "</div>"
      ],
      "text/plain": [
       "             Unnamed: 0      city  city_development_index gender  \\\n",
       "enrollee_id                                                        \n",
       "20667              8253   city_21                   0.624    NaN   \n",
       "4093              10067  city_103                   0.920   Male   \n",
       "24146              1851   city_21                   0.624    NaN   \n",
       "28323              4139   city_19                   0.682   Male   \n",
       "16720              2473   city_21                   0.624   Male   \n",
       "...                 ...       ...                     ...    ...   \n",
       "5471              11284  city_103                   0.920    NaN   \n",
       "4815              11964   city_57                   0.866   Male   \n",
       "25935              5390   city_36                   0.893   Male   \n",
       "6525                860   city_21                   0.624    NaN   \n",
       "3366              15795   city_57                   0.866   Male   \n",
       "\n",
       "                 relevent_experience enrolled_university education_level  \\\n",
       "enrollee_id                                                                \n",
       "20667        Has relevent experience       no_enrollment         Masters   \n",
       "4093         Has relevent experience       no_enrollment        Graduate   \n",
       "24146        Has relevent experience       no_enrollment        Graduate   \n",
       "28323         No relevent experience    Full time course        Graduate   \n",
       "16720         No relevent experience    Full time course     High School   \n",
       "...                              ...                 ...             ...   \n",
       "5471          No relevent experience       no_enrollment        Graduate   \n",
       "4815          No relevent experience    Full time course     High School   \n",
       "25935        Has relevent experience       no_enrollment         Masters   \n",
       "6525          No relevent experience    Full time course        Graduate   \n",
       "3366         Has relevent experience       no_enrollment         Masters   \n",
       "\n",
       "            major_discipline experience company_size         company_type  \\\n",
       "enrollee_id                                                                 \n",
       "20667                   STEM          7          <10  Early Stage Startup   \n",
       "4093                    STEM         19      100-500              Pvt Ltd   \n",
       "24146                   STEM          5          NaN                  NaN   \n",
       "28323                   STEM          2          NaN                  NaN   \n",
       "16720                    NaN         10          NaN                  NaN   \n",
       "...                      ...        ...          ...                  ...   \n",
       "5471                    STEM        >20          NaN                  NaN   \n",
       "4815                     NaN          4          NaN                  NaN   \n",
       "25935                   STEM         10        10/49  Early Stage Startup   \n",
       "6525                    STEM          5          NaN                  NaN   \n",
       "3366                    STEM        >20      100-500              Pvt Ltd   \n",
       "\n",
       "            last_new_job  training_hours  \n",
       "enrollee_id                               \n",
       "20667                  1              40  \n",
       "4093                   2              48  \n",
       "24146                  1             135  \n",
       "28323              never              45  \n",
       "16720              never              68  \n",
       "...                  ...             ...  \n",
       "5471                  >4              25  \n",
       "4815               never             122  \n",
       "25935                  2              57  \n",
       "6525               never              16  \n",
       "3366                  >4              50  \n",
       "\n",
       "[13410 rows x 13 columns]"
      ]
     },
     "execution_count": 64,
     "metadata": {},
     "output_type": "execute_result"
    }
   ],
   "source": [
    "job_change"
   ]
  },
  {
   "cell_type": "code",
   "execution_count": 65,
   "metadata": {},
   "outputs": [
    {
     "data": {
      "text/plain": [
       "Index(['Unnamed: 0', 'city', 'city_development_index', 'gender',\n",
       "       'relevent_experience', 'enrolled_university', 'education_level',\n",
       "       'major_discipline', 'experience', 'company_size', 'company_type',\n",
       "       'last_new_job', 'training_hours'],\n",
       "      dtype='object')"
      ]
     },
     "execution_count": 65,
     "metadata": {},
     "output_type": "execute_result"
    }
   ],
   "source": [
    "job_change.columns"
   ]
  },
  {
   "cell_type": "markdown",
   "metadata": {},
   "source": [
    "# Handle numerical attributes"
   ]
  },
  {
   "cell_type": "code",
   "execution_count": 66,
   "metadata": {},
   "outputs": [],
   "source": [
    "num_attribs = ['city_development_index', 'training_hours']"
   ]
  },
  {
   "cell_type": "code",
   "execution_count": 67,
   "metadata": {},
   "outputs": [],
   "source": [
    "job_change_num = job_change[num_attribs]"
   ]
  },
  {
   "cell_type": "code",
   "execution_count": 68,
   "metadata": {},
   "outputs": [
    {
     "data": {
      "text/html": [
       "<div>\n",
       "<style scoped>\n",
       "    .dataframe tbody tr th:only-of-type {\n",
       "        vertical-align: middle;\n",
       "    }\n",
       "\n",
       "    .dataframe tbody tr th {\n",
       "        vertical-align: top;\n",
       "    }\n",
       "\n",
       "    .dataframe thead th {\n",
       "        text-align: right;\n",
       "    }\n",
       "</style>\n",
       "<table border=\"1\" class=\"dataframe\">\n",
       "  <thead>\n",
       "    <tr style=\"text-align: right;\">\n",
       "      <th></th>\n",
       "      <th>city_development_index</th>\n",
       "      <th>training_hours</th>\n",
       "    </tr>\n",
       "    <tr>\n",
       "      <th>enrollee_id</th>\n",
       "      <th></th>\n",
       "      <th></th>\n",
       "    </tr>\n",
       "  </thead>\n",
       "  <tbody>\n",
       "    <tr>\n",
       "      <th>20667</th>\n",
       "      <td>0.624</td>\n",
       "      <td>40</td>\n",
       "    </tr>\n",
       "    <tr>\n",
       "      <th>4093</th>\n",
       "      <td>0.920</td>\n",
       "      <td>48</td>\n",
       "    </tr>\n",
       "    <tr>\n",
       "      <th>24146</th>\n",
       "      <td>0.624</td>\n",
       "      <td>135</td>\n",
       "    </tr>\n",
       "    <tr>\n",
       "      <th>28323</th>\n",
       "      <td>0.682</td>\n",
       "      <td>45</td>\n",
       "    </tr>\n",
       "    <tr>\n",
       "      <th>16720</th>\n",
       "      <td>0.624</td>\n",
       "      <td>68</td>\n",
       "    </tr>\n",
       "    <tr>\n",
       "      <th>...</th>\n",
       "      <td>...</td>\n",
       "      <td>...</td>\n",
       "    </tr>\n",
       "    <tr>\n",
       "      <th>5471</th>\n",
       "      <td>0.920</td>\n",
       "      <td>25</td>\n",
       "    </tr>\n",
       "    <tr>\n",
       "      <th>4815</th>\n",
       "      <td>0.866</td>\n",
       "      <td>122</td>\n",
       "    </tr>\n",
       "    <tr>\n",
       "      <th>25935</th>\n",
       "      <td>0.893</td>\n",
       "      <td>57</td>\n",
       "    </tr>\n",
       "    <tr>\n",
       "      <th>6525</th>\n",
       "      <td>0.624</td>\n",
       "      <td>16</td>\n",
       "    </tr>\n",
       "    <tr>\n",
       "      <th>3366</th>\n",
       "      <td>0.866</td>\n",
       "      <td>50</td>\n",
       "    </tr>\n",
       "  </tbody>\n",
       "</table>\n",
       "<p>13410 rows × 2 columns</p>\n",
       "</div>"
      ],
      "text/plain": [
       "             city_development_index  training_hours\n",
       "enrollee_id                                        \n",
       "20667                         0.624              40\n",
       "4093                          0.920              48\n",
       "24146                         0.624             135\n",
       "28323                         0.682              45\n",
       "16720                         0.624              68\n",
       "...                             ...             ...\n",
       "5471                          0.920              25\n",
       "4815                          0.866             122\n",
       "25935                         0.893              57\n",
       "6525                          0.624              16\n",
       "3366                          0.866              50\n",
       "\n",
       "[13410 rows x 2 columns]"
      ]
     },
     "execution_count": 68,
     "metadata": {},
     "output_type": "execute_result"
    }
   ],
   "source": [
    "job_change_num"
   ]
  },
  {
   "cell_type": "code",
   "execution_count": 69,
   "metadata": {},
   "outputs": [
    {
     "name": "stdout",
     "output_type": "stream",
     "text": [
      "[0.624 0.92  0.682 0.887 0.91  0.913 0.939 0.897 0.556 0.926 0.899 0.794\n",
      " 0.55  0.802 0.743 0.579 0.924 0.827 0.843 0.855 0.893 0.804 0.949 0.866\n",
      " 0.74  0.555 0.89  0.689 0.739 0.836 0.754 0.698 0.925 0.691 0.776 0.884\n",
      " 0.896 0.527 0.516 0.448 0.727 0.789 0.647 0.795 0.762 0.493 0.767 0.666\n",
      " 0.923 0.722 0.856 0.64  0.487 0.563 0.865 0.512 0.775 0.788 0.763 0.738\n",
      " 0.878 0.766 0.915 0.479 0.83  0.895 0.769 0.903 0.848 0.764 0.847 0.558\n",
      " 0.725 0.78  0.742 0.898 0.745 0.68  0.796 0.645 0.735 0.84  0.921 0.807\n",
      " 0.781 0.649 0.73  0.625 0.518 0.824 0.701 0.693 0.664]\n",
      "[ 40  48 135  45  68  33   7 250  22 118  87  25  27  20  21  50  30  44\n",
      " 158  28 120  23  11  42   4  24   2  78  80  52   3  90  43 114   9  62\n",
      "  53  72  16  95  12  14  81   6 126 140  59 107 102  67 131  51  91 147\n",
      "  36  56  17  18  54 194  38 100  60  10  83  69  47   8 130  57 108 152\n",
      "  64 103 109 106  82 144  39  19  97 192  34 168  55 298  15  13 112  86\n",
      "  41 105  85 136 278  61 146 182  37  31 166 111  46  94  49  26  29 198\n",
      "  70  58 282 308   5  76 216 129  74 162 134 141 290 119  32  77 188 328\n",
      "  35  99 164 244  96 214  98 148 172 264 145 110 122  73  88  89 151 113\n",
      "  92 163 218  75 178 174 124 128  84 150 104 322 232 284 280 176 138 212\n",
      "  65 224 258  66 125 326 190 242 154 132 156 167  63 294 155  79 196 157\n",
      " 272 256 206 117 180 200 101 139 116 133 160 260 143 330 153 332 123  71\n",
      " 184 314 222 161 165 236 316 320 304 210 254 127 246 302 262 286 266 268\n",
      " 204 170 149 292   1 202 220 276 142 336 248 310 234 324 300 334 226 288\n",
      " 270 121 306 238 228 312 240]\n"
     ]
    }
   ],
   "source": [
    "for attributes in job_change_num.columns:\n",
    "    print(job_change_num[attributes].unique())"
   ]
  },
  {
   "cell_type": "code",
   "execution_count": 70,
   "metadata": {},
   "outputs": [],
   "source": [
    "import numpy as np"
   ]
  },
  {
   "cell_type": "code",
   "execution_count": 71,
   "metadata": {},
   "outputs": [],
   "source": [
    "from sklearn.impute import SimpleImputer\n",
    "\n",
    "imputer = SimpleImputer(missing_values=np.nan, strategy=\"median\")"
   ]
  },
  {
   "cell_type": "code",
   "execution_count": 72,
   "metadata": {},
   "outputs": [
    {
     "data": {
      "text/plain": [
       "SimpleImputer(strategy='median')"
      ]
     },
     "execution_count": 72,
     "metadata": {},
     "output_type": "execute_result"
    }
   ],
   "source": [
    "imputer.fit(job_change_num)"
   ]
  },
  {
   "cell_type": "code",
   "execution_count": 73,
   "metadata": {},
   "outputs": [
    {
     "data": {
      "text/plain": [
       "array([ 0.903, 47.   ])"
      ]
     },
     "execution_count": 73,
     "metadata": {},
     "output_type": "execute_result"
    }
   ],
   "source": [
    "imputer.statistics_"
   ]
  },
  {
   "cell_type": "code",
   "execution_count": 74,
   "metadata": {},
   "outputs": [],
   "source": [
    "job_change_num = imputer.transform(job_change_num)"
   ]
  },
  {
   "cell_type": "code",
   "execution_count": 75,
   "metadata": {},
   "outputs": [
    {
     "data": {
      "text/plain": [
       "array([[  0.624,  40.   ],\n",
       "       [  0.92 ,  48.   ],\n",
       "       [  0.624, 135.   ],\n",
       "       ...,\n",
       "       [  0.893,  57.   ],\n",
       "       [  0.624,  16.   ],\n",
       "       [  0.866,  50.   ]])"
      ]
     },
     "execution_count": 75,
     "metadata": {},
     "output_type": "execute_result"
    }
   ],
   "source": [
    "job_change_num"
   ]
  },
  {
   "cell_type": "code",
   "execution_count": 76,
   "metadata": {},
   "outputs": [],
   "source": [
    "from sklearn.preprocessing import StandardScaler"
   ]
  },
  {
   "cell_type": "code",
   "execution_count": 77,
   "metadata": {},
   "outputs": [],
   "source": [
    "std_scaler = StandardScaler()"
   ]
  },
  {
   "cell_type": "code",
   "execution_count": 78,
   "metadata": {},
   "outputs": [],
   "source": [
    "job_change_num = std_scaler.fit_transform(job_change_num)"
   ]
  },
  {
   "cell_type": "code",
   "execution_count": 79,
   "metadata": {},
   "outputs": [
    {
     "data": {
      "text/plain": [
       "array([[-1.66129974, -0.42229418],\n",
       "       [ 0.74080339, -0.28876006],\n",
       "       [-1.66129974,  1.16342347],\n",
       "       ...,\n",
       "       [ 0.52169263, -0.13853418],\n",
       "       [-1.66129974, -0.82289653],\n",
       "       [ 0.30258187, -0.25537653]])"
      ]
     },
     "execution_count": 79,
     "metadata": {},
     "output_type": "execute_result"
    }
   ],
   "source": [
    "job_change_num"
   ]
  },
  {
   "cell_type": "markdown",
   "metadata": {},
   "source": [
    "# Handle Ordinal Categorical Attributes"
   ]
  },
  {
   "cell_type": "code",
   "execution_count": 80,
   "metadata": {},
   "outputs": [],
   "source": [
    "ord_cat_attribs = ['relevent_experience', 'enrolled_university', 'education_level', 'experience', 'company_size', 'last_new_job']"
   ]
  },
  {
   "cell_type": "code",
   "execution_count": 81,
   "metadata": {},
   "outputs": [],
   "source": [
    "job_change_ord_cat = job_change[ord_cat_attribs]"
   ]
  },
  {
   "cell_type": "code",
   "execution_count": 82,
   "metadata": {},
   "outputs": [
    {
     "data": {
      "text/html": [
       "<div>\n",
       "<style scoped>\n",
       "    .dataframe tbody tr th:only-of-type {\n",
       "        vertical-align: middle;\n",
       "    }\n",
       "\n",
       "    .dataframe tbody tr th {\n",
       "        vertical-align: top;\n",
       "    }\n",
       "\n",
       "    .dataframe thead th {\n",
       "        text-align: right;\n",
       "    }\n",
       "</style>\n",
       "<table border=\"1\" class=\"dataframe\">\n",
       "  <thead>\n",
       "    <tr style=\"text-align: right;\">\n",
       "      <th></th>\n",
       "      <th>relevent_experience</th>\n",
       "      <th>enrolled_university</th>\n",
       "      <th>education_level</th>\n",
       "      <th>experience</th>\n",
       "      <th>company_size</th>\n",
       "      <th>last_new_job</th>\n",
       "    </tr>\n",
       "    <tr>\n",
       "      <th>enrollee_id</th>\n",
       "      <th></th>\n",
       "      <th></th>\n",
       "      <th></th>\n",
       "      <th></th>\n",
       "      <th></th>\n",
       "      <th></th>\n",
       "    </tr>\n",
       "  </thead>\n",
       "  <tbody>\n",
       "    <tr>\n",
       "      <th>20667</th>\n",
       "      <td>Has relevent experience</td>\n",
       "      <td>no_enrollment</td>\n",
       "      <td>Masters</td>\n",
       "      <td>7</td>\n",
       "      <td>&lt;10</td>\n",
       "      <td>1</td>\n",
       "    </tr>\n",
       "    <tr>\n",
       "      <th>4093</th>\n",
       "      <td>Has relevent experience</td>\n",
       "      <td>no_enrollment</td>\n",
       "      <td>Graduate</td>\n",
       "      <td>19</td>\n",
       "      <td>100-500</td>\n",
       "      <td>2</td>\n",
       "    </tr>\n",
       "    <tr>\n",
       "      <th>24146</th>\n",
       "      <td>Has relevent experience</td>\n",
       "      <td>no_enrollment</td>\n",
       "      <td>Graduate</td>\n",
       "      <td>5</td>\n",
       "      <td>NaN</td>\n",
       "      <td>1</td>\n",
       "    </tr>\n",
       "    <tr>\n",
       "      <th>28323</th>\n",
       "      <td>No relevent experience</td>\n",
       "      <td>Full time course</td>\n",
       "      <td>Graduate</td>\n",
       "      <td>2</td>\n",
       "      <td>NaN</td>\n",
       "      <td>never</td>\n",
       "    </tr>\n",
       "    <tr>\n",
       "      <th>16720</th>\n",
       "      <td>No relevent experience</td>\n",
       "      <td>Full time course</td>\n",
       "      <td>High School</td>\n",
       "      <td>10</td>\n",
       "      <td>NaN</td>\n",
       "      <td>never</td>\n",
       "    </tr>\n",
       "    <tr>\n",
       "      <th>...</th>\n",
       "      <td>...</td>\n",
       "      <td>...</td>\n",
       "      <td>...</td>\n",
       "      <td>...</td>\n",
       "      <td>...</td>\n",
       "      <td>...</td>\n",
       "    </tr>\n",
       "    <tr>\n",
       "      <th>5471</th>\n",
       "      <td>No relevent experience</td>\n",
       "      <td>no_enrollment</td>\n",
       "      <td>Graduate</td>\n",
       "      <td>&gt;20</td>\n",
       "      <td>NaN</td>\n",
       "      <td>&gt;4</td>\n",
       "    </tr>\n",
       "    <tr>\n",
       "      <th>4815</th>\n",
       "      <td>No relevent experience</td>\n",
       "      <td>Full time course</td>\n",
       "      <td>High School</td>\n",
       "      <td>4</td>\n",
       "      <td>NaN</td>\n",
       "      <td>never</td>\n",
       "    </tr>\n",
       "    <tr>\n",
       "      <th>25935</th>\n",
       "      <td>Has relevent experience</td>\n",
       "      <td>no_enrollment</td>\n",
       "      <td>Masters</td>\n",
       "      <td>10</td>\n",
       "      <td>10/49</td>\n",
       "      <td>2</td>\n",
       "    </tr>\n",
       "    <tr>\n",
       "      <th>6525</th>\n",
       "      <td>No relevent experience</td>\n",
       "      <td>Full time course</td>\n",
       "      <td>Graduate</td>\n",
       "      <td>5</td>\n",
       "      <td>NaN</td>\n",
       "      <td>never</td>\n",
       "    </tr>\n",
       "    <tr>\n",
       "      <th>3366</th>\n",
       "      <td>Has relevent experience</td>\n",
       "      <td>no_enrollment</td>\n",
       "      <td>Masters</td>\n",
       "      <td>&gt;20</td>\n",
       "      <td>100-500</td>\n",
       "      <td>&gt;4</td>\n",
       "    </tr>\n",
       "  </tbody>\n",
       "</table>\n",
       "<p>13410 rows × 6 columns</p>\n",
       "</div>"
      ],
      "text/plain": [
       "                 relevent_experience enrolled_university education_level  \\\n",
       "enrollee_id                                                                \n",
       "20667        Has relevent experience       no_enrollment         Masters   \n",
       "4093         Has relevent experience       no_enrollment        Graduate   \n",
       "24146        Has relevent experience       no_enrollment        Graduate   \n",
       "28323         No relevent experience    Full time course        Graduate   \n",
       "16720         No relevent experience    Full time course     High School   \n",
       "...                              ...                 ...             ...   \n",
       "5471          No relevent experience       no_enrollment        Graduate   \n",
       "4815          No relevent experience    Full time course     High School   \n",
       "25935        Has relevent experience       no_enrollment         Masters   \n",
       "6525          No relevent experience    Full time course        Graduate   \n",
       "3366         Has relevent experience       no_enrollment         Masters   \n",
       "\n",
       "            experience company_size last_new_job  \n",
       "enrollee_id                                       \n",
       "20667                7          <10            1  \n",
       "4093                19      100-500            2  \n",
       "24146                5          NaN            1  \n",
       "28323                2          NaN        never  \n",
       "16720               10          NaN        never  \n",
       "...                ...          ...          ...  \n",
       "5471               >20          NaN           >4  \n",
       "4815                 4          NaN        never  \n",
       "25935               10        10/49            2  \n",
       "6525                 5          NaN        never  \n",
       "3366               >20      100-500           >4  \n",
       "\n",
       "[13410 rows x 6 columns]"
      ]
     },
     "execution_count": 82,
     "metadata": {},
     "output_type": "execute_result"
    }
   ],
   "source": [
    "job_change_ord_cat"
   ]
  },
  {
   "cell_type": "code",
   "execution_count": 83,
   "metadata": {},
   "outputs": [
    {
     "name": "stdout",
     "output_type": "stream",
     "text": [
      "['Has relevent experience' 'No relevent experience']\n",
      "['no_enrollment' 'Full time course' nan 'Part time course']\n",
      "['Masters' 'Graduate' 'High School' nan 'Phd' 'Primary School']\n",
      "['7' '19' '5' '2' '10' '4' '17' '15' '12' '8' '>20' '6' '13' '11' '16'\n",
      " '14' '20' '3' '1' '9' '18' '<1' nan]\n",
      "['<10' '100-500' nan '50-99' '5000-9999' '10/49' '10000+' '1000-4999'\n",
      " '500-999']\n",
      "['1' '2' 'never' '3' '>4' '4' nan]\n"
     ]
    }
   ],
   "source": [
    "for attributes in ord_cat_attribs:\n",
    "    print(job_change_ord_cat[attributes].unique())"
   ]
  },
  {
   "cell_type": "code",
   "execution_count": 84,
   "metadata": {},
   "outputs": [],
   "source": [
    "ord_cat_imputer = SimpleImputer(missing_values=np.nan, strategy=\"most_frequent\")"
   ]
  },
  {
   "cell_type": "code",
   "execution_count": 85,
   "metadata": {},
   "outputs": [],
   "source": [
    "job_change_ord_cat_imputed = ord_cat_imputer.fit_transform(job_change_ord_cat)"
   ]
  },
  {
   "cell_type": "code",
   "execution_count": 86,
   "metadata": {},
   "outputs": [
    {
     "data": {
      "text/plain": [
       "array([['Has relevent experience', 'no_enrollment', 'Masters', '7',\n",
       "        '<10', '1'],\n",
       "       ['Has relevent experience', 'no_enrollment', 'Graduate', '19',\n",
       "        '100-500', '2'],\n",
       "       ['Has relevent experience', 'no_enrollment', 'Graduate', '5',\n",
       "        '50-99', '1'],\n",
       "       ...,\n",
       "       ['Has relevent experience', 'no_enrollment', 'Masters', '10',\n",
       "        '10/49', '2'],\n",
       "       ['No relevent experience', 'Full time course', 'Graduate', '5',\n",
       "        '50-99', 'never'],\n",
       "       ['Has relevent experience', 'no_enrollment', 'Masters', '>20',\n",
       "        '100-500', '>4']], dtype=object)"
      ]
     },
     "execution_count": 86,
     "metadata": {},
     "output_type": "execute_result"
    }
   ],
   "source": [
    "job_change_ord_cat_imputed"
   ]
  },
  {
   "cell_type": "code",
   "execution_count": 87,
   "metadata": {},
   "outputs": [],
   "source": [
    "job_change_ord_cat_imputed = pd.DataFrame(job_change_ord_cat_imputed, columns=ord_cat_attribs)"
   ]
  },
  {
   "cell_type": "code",
   "execution_count": 88,
   "metadata": {},
   "outputs": [],
   "source": [
    "def relevent_experience_to_numeric(experience):\n",
    "  if experience == \"Has relevent experience\":\n",
    "    return 1\n",
    "  return 0\n",
    "\n",
    "def enrolled_university_to_numeric(x):\n",
    "  if x == 'no_enrollment':\n",
    "    return 0\n",
    "  if x == 'Part time course':\n",
    "    return 1\n",
    "  if x == 'Full time course':\n",
    "    return 2\n",
    "\n",
    "def education_level_to_numeric(x):\n",
    "  if x == \"Primary School\":\n",
    "    return 1\n",
    "  if x == \"High School\":\n",
    "    return 2\n",
    "  if x == \"Graduate\":\n",
    "    return 3\n",
    "  if x == \"Masters\":\n",
    "    return 4\n",
    "  if x == \"Phd\":\n",
    "    return 5\n",
    "\n",
    "def experience_to_numeric(x):\n",
    "    if x == '>20':\n",
    "        return 21\n",
    "    elif x == '<1':\n",
    "        return 0\n",
    "    else:\n",
    "        return int(x)\n",
    "\n",
    "def company_size_to_numeric(x):\n",
    "    if x == '<10' :\n",
    "        return 0\n",
    "    if x == '10/49' :\n",
    "        return 1\n",
    "    if x == '50-99' :\n",
    "        return 2\n",
    "    if x == '100-500' :\n",
    "        return 3\n",
    "    if x == '500-999' :\n",
    "        return 4\n",
    "    if x == '1000-4999' :\n",
    "        return 5\n",
    "    if x == '5000-9999':\n",
    "        return 6\n",
    "    if x == '10000+':\n",
    "        return 7\n",
    "\n",
    "def last_new_job_to_numeric(x):\n",
    "    if x == '>4' :\n",
    "        return 5\n",
    "    if x == 'never' :\n",
    "        return 0\n",
    "    else:\n",
    "        return int(x)"
   ]
  },
  {
   "cell_type": "code",
   "execution_count": 89,
   "metadata": {},
   "outputs": [
    {
     "data": {
      "text/html": [
       "<div>\n",
       "<style scoped>\n",
       "    .dataframe tbody tr th:only-of-type {\n",
       "        vertical-align: middle;\n",
       "    }\n",
       "\n",
       "    .dataframe tbody tr th {\n",
       "        vertical-align: top;\n",
       "    }\n",
       "\n",
       "    .dataframe thead th {\n",
       "        text-align: right;\n",
       "    }\n",
       "</style>\n",
       "<table border=\"1\" class=\"dataframe\">\n",
       "  <thead>\n",
       "    <tr style=\"text-align: right;\">\n",
       "      <th></th>\n",
       "      <th>relevent_experience</th>\n",
       "      <th>enrolled_university</th>\n",
       "      <th>education_level</th>\n",
       "      <th>experience</th>\n",
       "      <th>company_size</th>\n",
       "      <th>last_new_job</th>\n",
       "    </tr>\n",
       "  </thead>\n",
       "  <tbody>\n",
       "    <tr>\n",
       "      <th>0</th>\n",
       "      <td>Has relevent experience</td>\n",
       "      <td>no_enrollment</td>\n",
       "      <td>Masters</td>\n",
       "      <td>7</td>\n",
       "      <td>&lt;10</td>\n",
       "      <td>1</td>\n",
       "    </tr>\n",
       "    <tr>\n",
       "      <th>1</th>\n",
       "      <td>Has relevent experience</td>\n",
       "      <td>no_enrollment</td>\n",
       "      <td>Graduate</td>\n",
       "      <td>19</td>\n",
       "      <td>100-500</td>\n",
       "      <td>2</td>\n",
       "    </tr>\n",
       "    <tr>\n",
       "      <th>2</th>\n",
       "      <td>Has relevent experience</td>\n",
       "      <td>no_enrollment</td>\n",
       "      <td>Graduate</td>\n",
       "      <td>5</td>\n",
       "      <td>50-99</td>\n",
       "      <td>1</td>\n",
       "    </tr>\n",
       "    <tr>\n",
       "      <th>3</th>\n",
       "      <td>No relevent experience</td>\n",
       "      <td>Full time course</td>\n",
       "      <td>Graduate</td>\n",
       "      <td>2</td>\n",
       "      <td>50-99</td>\n",
       "      <td>never</td>\n",
       "    </tr>\n",
       "    <tr>\n",
       "      <th>4</th>\n",
       "      <td>No relevent experience</td>\n",
       "      <td>Full time course</td>\n",
       "      <td>High School</td>\n",
       "      <td>10</td>\n",
       "      <td>50-99</td>\n",
       "      <td>never</td>\n",
       "    </tr>\n",
       "    <tr>\n",
       "      <th>...</th>\n",
       "      <td>...</td>\n",
       "      <td>...</td>\n",
       "      <td>...</td>\n",
       "      <td>...</td>\n",
       "      <td>...</td>\n",
       "      <td>...</td>\n",
       "    </tr>\n",
       "    <tr>\n",
       "      <th>13405</th>\n",
       "      <td>No relevent experience</td>\n",
       "      <td>no_enrollment</td>\n",
       "      <td>Graduate</td>\n",
       "      <td>&gt;20</td>\n",
       "      <td>50-99</td>\n",
       "      <td>&gt;4</td>\n",
       "    </tr>\n",
       "    <tr>\n",
       "      <th>13406</th>\n",
       "      <td>No relevent experience</td>\n",
       "      <td>Full time course</td>\n",
       "      <td>High School</td>\n",
       "      <td>4</td>\n",
       "      <td>50-99</td>\n",
       "      <td>never</td>\n",
       "    </tr>\n",
       "    <tr>\n",
       "      <th>13407</th>\n",
       "      <td>Has relevent experience</td>\n",
       "      <td>no_enrollment</td>\n",
       "      <td>Masters</td>\n",
       "      <td>10</td>\n",
       "      <td>10/49</td>\n",
       "      <td>2</td>\n",
       "    </tr>\n",
       "    <tr>\n",
       "      <th>13408</th>\n",
       "      <td>No relevent experience</td>\n",
       "      <td>Full time course</td>\n",
       "      <td>Graduate</td>\n",
       "      <td>5</td>\n",
       "      <td>50-99</td>\n",
       "      <td>never</td>\n",
       "    </tr>\n",
       "    <tr>\n",
       "      <th>13409</th>\n",
       "      <td>Has relevent experience</td>\n",
       "      <td>no_enrollment</td>\n",
       "      <td>Masters</td>\n",
       "      <td>&gt;20</td>\n",
       "      <td>100-500</td>\n",
       "      <td>&gt;4</td>\n",
       "    </tr>\n",
       "  </tbody>\n",
       "</table>\n",
       "<p>13410 rows × 6 columns</p>\n",
       "</div>"
      ],
      "text/plain": [
       "           relevent_experience enrolled_university education_level experience  \\\n",
       "0      Has relevent experience       no_enrollment         Masters          7   \n",
       "1      Has relevent experience       no_enrollment        Graduate         19   \n",
       "2      Has relevent experience       no_enrollment        Graduate          5   \n",
       "3       No relevent experience    Full time course        Graduate          2   \n",
       "4       No relevent experience    Full time course     High School         10   \n",
       "...                        ...                 ...             ...        ...   \n",
       "13405   No relevent experience       no_enrollment        Graduate        >20   \n",
       "13406   No relevent experience    Full time course     High School          4   \n",
       "13407  Has relevent experience       no_enrollment         Masters         10   \n",
       "13408   No relevent experience    Full time course        Graduate          5   \n",
       "13409  Has relevent experience       no_enrollment         Masters        >20   \n",
       "\n",
       "      company_size last_new_job  \n",
       "0              <10            1  \n",
       "1          100-500            2  \n",
       "2            50-99            1  \n",
       "3            50-99        never  \n",
       "4            50-99        never  \n",
       "...            ...          ...  \n",
       "13405        50-99           >4  \n",
       "13406        50-99        never  \n",
       "13407        10/49            2  \n",
       "13408        50-99        never  \n",
       "13409      100-500           >4  \n",
       "\n",
       "[13410 rows x 6 columns]"
      ]
     },
     "execution_count": 89,
     "metadata": {},
     "output_type": "execute_result"
    }
   ],
   "source": [
    "job_change_ord_cat_imputed"
   ]
  },
  {
   "cell_type": "code",
   "execution_count": 90,
   "metadata": {},
   "outputs": [],
   "source": [
    "job_change_ord_cat_encoded = job_change_ord_cat_imputed.copy() "
   ]
  },
  {
   "cell_type": "code",
   "execution_count": 91,
   "metadata": {},
   "outputs": [],
   "source": [
    "job_change_ord_cat_encoded['relevent_experience'] = job_change_ord_cat_imputed['relevent_experience'].apply(relevent_experience_to_numeric)\n",
    "job_change_ord_cat_encoded['enrolled_university'] = job_change_ord_cat_imputed['enrolled_university'].apply(enrolled_university_to_numeric)\n",
    "job_change_ord_cat_encoded['education_level'] = job_change_ord_cat_imputed['education_level'].apply(education_level_to_numeric)\n",
    "job_change_ord_cat_encoded['experience'] = job_change_ord_cat_imputed['experience'].apply(experience_to_numeric)\n",
    "job_change_ord_cat_encoded['company_size'] = job_change_ord_cat_imputed['company_size'].apply(company_size_to_numeric)\n",
    "job_change_ord_cat_encoded['last_new_job'] = job_change_ord_cat_imputed['last_new_job'].apply(last_new_job_to_numeric)"
   ]
  },
  {
   "cell_type": "code",
   "execution_count": 92,
   "metadata": {},
   "outputs": [
    {
     "data": {
      "text/html": [
       "<div>\n",
       "<style scoped>\n",
       "    .dataframe tbody tr th:only-of-type {\n",
       "        vertical-align: middle;\n",
       "    }\n",
       "\n",
       "    .dataframe tbody tr th {\n",
       "        vertical-align: top;\n",
       "    }\n",
       "\n",
       "    .dataframe thead th {\n",
       "        text-align: right;\n",
       "    }\n",
       "</style>\n",
       "<table border=\"1\" class=\"dataframe\">\n",
       "  <thead>\n",
       "    <tr style=\"text-align: right;\">\n",
       "      <th></th>\n",
       "      <th>relevent_experience</th>\n",
       "      <th>enrolled_university</th>\n",
       "      <th>education_level</th>\n",
       "      <th>experience</th>\n",
       "      <th>company_size</th>\n",
       "      <th>last_new_job</th>\n",
       "    </tr>\n",
       "  </thead>\n",
       "  <tbody>\n",
       "    <tr>\n",
       "      <th>0</th>\n",
       "      <td>1</td>\n",
       "      <td>0</td>\n",
       "      <td>4</td>\n",
       "      <td>7</td>\n",
       "      <td>0</td>\n",
       "      <td>1</td>\n",
       "    </tr>\n",
       "    <tr>\n",
       "      <th>1</th>\n",
       "      <td>1</td>\n",
       "      <td>0</td>\n",
       "      <td>3</td>\n",
       "      <td>19</td>\n",
       "      <td>3</td>\n",
       "      <td>2</td>\n",
       "    </tr>\n",
       "    <tr>\n",
       "      <th>2</th>\n",
       "      <td>1</td>\n",
       "      <td>0</td>\n",
       "      <td>3</td>\n",
       "      <td>5</td>\n",
       "      <td>2</td>\n",
       "      <td>1</td>\n",
       "    </tr>\n",
       "    <tr>\n",
       "      <th>3</th>\n",
       "      <td>0</td>\n",
       "      <td>2</td>\n",
       "      <td>3</td>\n",
       "      <td>2</td>\n",
       "      <td>2</td>\n",
       "      <td>0</td>\n",
       "    </tr>\n",
       "    <tr>\n",
       "      <th>4</th>\n",
       "      <td>0</td>\n",
       "      <td>2</td>\n",
       "      <td>2</td>\n",
       "      <td>10</td>\n",
       "      <td>2</td>\n",
       "      <td>0</td>\n",
       "    </tr>\n",
       "    <tr>\n",
       "      <th>...</th>\n",
       "      <td>...</td>\n",
       "      <td>...</td>\n",
       "      <td>...</td>\n",
       "      <td>...</td>\n",
       "      <td>...</td>\n",
       "      <td>...</td>\n",
       "    </tr>\n",
       "    <tr>\n",
       "      <th>13405</th>\n",
       "      <td>0</td>\n",
       "      <td>0</td>\n",
       "      <td>3</td>\n",
       "      <td>21</td>\n",
       "      <td>2</td>\n",
       "      <td>5</td>\n",
       "    </tr>\n",
       "    <tr>\n",
       "      <th>13406</th>\n",
       "      <td>0</td>\n",
       "      <td>2</td>\n",
       "      <td>2</td>\n",
       "      <td>4</td>\n",
       "      <td>2</td>\n",
       "      <td>0</td>\n",
       "    </tr>\n",
       "    <tr>\n",
       "      <th>13407</th>\n",
       "      <td>1</td>\n",
       "      <td>0</td>\n",
       "      <td>4</td>\n",
       "      <td>10</td>\n",
       "      <td>1</td>\n",
       "      <td>2</td>\n",
       "    </tr>\n",
       "    <tr>\n",
       "      <th>13408</th>\n",
       "      <td>0</td>\n",
       "      <td>2</td>\n",
       "      <td>3</td>\n",
       "      <td>5</td>\n",
       "      <td>2</td>\n",
       "      <td>0</td>\n",
       "    </tr>\n",
       "    <tr>\n",
       "      <th>13409</th>\n",
       "      <td>1</td>\n",
       "      <td>0</td>\n",
       "      <td>4</td>\n",
       "      <td>21</td>\n",
       "      <td>3</td>\n",
       "      <td>5</td>\n",
       "    </tr>\n",
       "  </tbody>\n",
       "</table>\n",
       "<p>13410 rows × 6 columns</p>\n",
       "</div>"
      ],
      "text/plain": [
       "       relevent_experience  enrolled_university  education_level  experience  \\\n",
       "0                        1                    0                4           7   \n",
       "1                        1                    0                3          19   \n",
       "2                        1                    0                3           5   \n",
       "3                        0                    2                3           2   \n",
       "4                        0                    2                2          10   \n",
       "...                    ...                  ...              ...         ...   \n",
       "13405                    0                    0                3          21   \n",
       "13406                    0                    2                2           4   \n",
       "13407                    1                    0                4          10   \n",
       "13408                    0                    2                3           5   \n",
       "13409                    1                    0                4          21   \n",
       "\n",
       "       company_size  last_new_job  \n",
       "0                 0             1  \n",
       "1                 3             2  \n",
       "2                 2             1  \n",
       "3                 2             0  \n",
       "4                 2             0  \n",
       "...             ...           ...  \n",
       "13405             2             5  \n",
       "13406             2             0  \n",
       "13407             1             2  \n",
       "13408             2             0  \n",
       "13409             3             5  \n",
       "\n",
       "[13410 rows x 6 columns]"
      ]
     },
     "execution_count": 92,
     "metadata": {},
     "output_type": "execute_result"
    }
   ],
   "source": [
    "job_change_ord_cat_encoded"
   ]
  },
  {
   "cell_type": "code",
   "execution_count": 93,
   "metadata": {},
   "outputs": [],
   "source": [
    "job_change_ord_cat_encoded = job_change_ord_cat_encoded.to_numpy()"
   ]
  },
  {
   "cell_type": "code",
   "execution_count": 94,
   "metadata": {},
   "outputs": [
    {
     "data": {
      "text/plain": [
       "array([[ 1,  0,  4,  7,  0,  1],\n",
       "       [ 1,  0,  3, 19,  3,  2],\n",
       "       [ 1,  0,  3,  5,  2,  1],\n",
       "       ...,\n",
       "       [ 1,  0,  4, 10,  1,  2],\n",
       "       [ 0,  2,  3,  5,  2,  0],\n",
       "       [ 1,  0,  4, 21,  3,  5]], dtype=int64)"
      ]
     },
     "execution_count": 94,
     "metadata": {},
     "output_type": "execute_result"
    }
   ],
   "source": [
    "job_change_ord_cat_encoded"
   ]
  },
  {
   "cell_type": "code",
   "execution_count": 95,
   "metadata": {},
   "outputs": [],
   "source": [
    "job_change_ord_cat_scaled = std_scaler.fit_transform(job_change_ord_cat_encoded)"
   ]
  },
  {
   "cell_type": "code",
   "execution_count": 96,
   "metadata": {},
   "outputs": [
    {
     "data": {
      "text/plain": [
       "array([[ 0.62190287, -0.56997915,  1.26429189, -0.46703132, -1.50308819,\n",
       "        -0.58755418],\n",
       "       [ 0.62190287, -0.56997915, -0.19463198,  1.29741157,  0.06803107,\n",
       "         0.01381214],\n",
       "       [ 0.62190287, -0.56997915, -0.19463198, -0.76110514, -0.45567535,\n",
       "        -0.58755418],\n",
       "       ...,\n",
       "       [ 0.62190287, -0.56997915,  1.26429189, -0.0259206 , -0.97938177,\n",
       "         0.01381214],\n",
       "       [-1.60796813,  1.92460976, -0.19463198, -0.76110514, -0.45567535,\n",
       "        -1.18892051],\n",
       "       [ 0.62190287, -0.56997915,  1.26429189,  1.59148538,  0.06803107,\n",
       "         1.81791111]])"
      ]
     },
     "execution_count": 96,
     "metadata": {},
     "output_type": "execute_result"
    }
   ],
   "source": [
    "job_change_ord_cat_scaled"
   ]
  },
  {
   "cell_type": "markdown",
   "metadata": {},
   "source": [
    "# Handle Nominal Attributes"
   ]
  },
  {
   "cell_type": "code",
   "execution_count": 97,
   "metadata": {},
   "outputs": [],
   "source": [
    "nom_cat_attribs = ['city', 'gender', 'major_discipline', 'company_type']"
   ]
  },
  {
   "cell_type": "code",
   "execution_count": 98,
   "metadata": {},
   "outputs": [],
   "source": [
    "job_change_nom_cat = job_change[nom_cat_attribs]"
   ]
  },
  {
   "cell_type": "code",
   "execution_count": 99,
   "metadata": {},
   "outputs": [],
   "source": [
    "nom_imputer = SimpleImputer(strategy=\"constant\")"
   ]
  },
  {
   "cell_type": "code",
   "execution_count": 100,
   "metadata": {},
   "outputs": [],
   "source": [
    "job_change_nom_cat_imputed = nom_imputer.fit_transform(job_change_nom_cat)"
   ]
  },
  {
   "cell_type": "code",
   "execution_count": 101,
   "metadata": {},
   "outputs": [],
   "source": [
    "job_change_nom_cat_imputed_df = pd.DataFrame(job_change_nom_cat_imputed, columns=nom_cat_attribs)"
   ]
  },
  {
   "cell_type": "code",
   "execution_count": 102,
   "metadata": {},
   "outputs": [
    {
     "data": {
      "text/html": [
       "<div>\n",
       "<style scoped>\n",
       "    .dataframe tbody tr th:only-of-type {\n",
       "        vertical-align: middle;\n",
       "    }\n",
       "\n",
       "    .dataframe tbody tr th {\n",
       "        vertical-align: top;\n",
       "    }\n",
       "\n",
       "    .dataframe thead th {\n",
       "        text-align: right;\n",
       "    }\n",
       "</style>\n",
       "<table border=\"1\" class=\"dataframe\">\n",
       "  <thead>\n",
       "    <tr style=\"text-align: right;\">\n",
       "      <th></th>\n",
       "      <th>city</th>\n",
       "      <th>gender</th>\n",
       "      <th>major_discipline</th>\n",
       "      <th>company_type</th>\n",
       "    </tr>\n",
       "  </thead>\n",
       "  <tbody>\n",
       "    <tr>\n",
       "      <th>0</th>\n",
       "      <td>city_21</td>\n",
       "      <td>missing_value</td>\n",
       "      <td>STEM</td>\n",
       "      <td>Early Stage Startup</td>\n",
       "    </tr>\n",
       "    <tr>\n",
       "      <th>1</th>\n",
       "      <td>city_103</td>\n",
       "      <td>Male</td>\n",
       "      <td>STEM</td>\n",
       "      <td>Pvt Ltd</td>\n",
       "    </tr>\n",
       "    <tr>\n",
       "      <th>2</th>\n",
       "      <td>city_21</td>\n",
       "      <td>missing_value</td>\n",
       "      <td>STEM</td>\n",
       "      <td>missing_value</td>\n",
       "    </tr>\n",
       "    <tr>\n",
       "      <th>3</th>\n",
       "      <td>city_19</td>\n",
       "      <td>Male</td>\n",
       "      <td>STEM</td>\n",
       "      <td>missing_value</td>\n",
       "    </tr>\n",
       "    <tr>\n",
       "      <th>4</th>\n",
       "      <td>city_21</td>\n",
       "      <td>Male</td>\n",
       "      <td>missing_value</td>\n",
       "      <td>missing_value</td>\n",
       "    </tr>\n",
       "    <tr>\n",
       "      <th>...</th>\n",
       "      <td>...</td>\n",
       "      <td>...</td>\n",
       "      <td>...</td>\n",
       "      <td>...</td>\n",
       "    </tr>\n",
       "    <tr>\n",
       "      <th>13405</th>\n",
       "      <td>city_103</td>\n",
       "      <td>missing_value</td>\n",
       "      <td>STEM</td>\n",
       "      <td>missing_value</td>\n",
       "    </tr>\n",
       "    <tr>\n",
       "      <th>13406</th>\n",
       "      <td>city_57</td>\n",
       "      <td>Male</td>\n",
       "      <td>missing_value</td>\n",
       "      <td>missing_value</td>\n",
       "    </tr>\n",
       "    <tr>\n",
       "      <th>13407</th>\n",
       "      <td>city_36</td>\n",
       "      <td>Male</td>\n",
       "      <td>STEM</td>\n",
       "      <td>Early Stage Startup</td>\n",
       "    </tr>\n",
       "    <tr>\n",
       "      <th>13408</th>\n",
       "      <td>city_21</td>\n",
       "      <td>missing_value</td>\n",
       "      <td>STEM</td>\n",
       "      <td>missing_value</td>\n",
       "    </tr>\n",
       "    <tr>\n",
       "      <th>13409</th>\n",
       "      <td>city_57</td>\n",
       "      <td>Male</td>\n",
       "      <td>STEM</td>\n",
       "      <td>Pvt Ltd</td>\n",
       "    </tr>\n",
       "  </tbody>\n",
       "</table>\n",
       "<p>13410 rows × 4 columns</p>\n",
       "</div>"
      ],
      "text/plain": [
       "           city         gender major_discipline         company_type\n",
       "0       city_21  missing_value             STEM  Early Stage Startup\n",
       "1      city_103           Male             STEM              Pvt Ltd\n",
       "2       city_21  missing_value             STEM        missing_value\n",
       "3       city_19           Male             STEM        missing_value\n",
       "4       city_21           Male    missing_value        missing_value\n",
       "...         ...            ...              ...                  ...\n",
       "13405  city_103  missing_value             STEM        missing_value\n",
       "13406   city_57           Male    missing_value        missing_value\n",
       "13407   city_36           Male             STEM  Early Stage Startup\n",
       "13408   city_21  missing_value             STEM        missing_value\n",
       "13409   city_57           Male             STEM              Pvt Ltd\n",
       "\n",
       "[13410 rows x 4 columns]"
      ]
     },
     "execution_count": 102,
     "metadata": {},
     "output_type": "execute_result"
    }
   ],
   "source": [
    "job_change_nom_cat_imputed_df"
   ]
  },
  {
   "cell_type": "code",
   "execution_count": 103,
   "metadata": {},
   "outputs": [
    {
     "name": "stdout",
     "output_type": "stream",
     "text": [
      "['city_21' 'city_103' 'city_19' 'city_100' 'city_16' 'city_61' 'city_28'\n",
      " 'city_136' 'city_155' 'city_114' 'city_23' 'city_105' 'city_11'\n",
      " 'city_160' 'city_65' 'city_116' 'city_74' 'city_104' 'city_41' 'city_159'\n",
      " 'city_67' 'city_36' 'city_102' 'city_98' 'city_57' 'city_143' 'city_75'\n",
      " 'city_145' 'city_45' 'city_149' 'city_55' 'city_138' 'city_73' 'city_90'\n",
      " 'city_97' 'city_91' 'city_40' 'city_71' 'city_30' 'city_50' 'city_128'\n",
      " 'city_43' 'city_33' 'city_152' 'city_142' 'city_115' 'city_24' 'city_7'\n",
      " 'city_26' 'city_72' 'city_46' 'city_48' 'city_162' 'city_64' 'city_83'\n",
      " 'city_118' 'city_54' 'city_134' 'city_12' 'city_139' 'city_42' 'city_150'\n",
      " 'city_78' 'city_93' 'city_9' 'city_179' 'city_59' 'city_76' 'city_2'\n",
      " 'city_141' 'city_123' 'city_173' 'city_158' 'city_99' 'city_13'\n",
      " 'city_126' 'city_77' 'city_10' 'city_53' 'city_70' 'city_157' 'city_84'\n",
      " 'city_165' 'city_14' 'city_27' 'city_176' 'city_1' 'city_89' 'city_94'\n",
      " 'city_69' 'city_101' 'city_44' 'city_37' 'city_80' 'city_120' 'city_133'\n",
      " 'city_39' 'city_106' 'city_180' 'city_127' 'city_131' 'city_20' 'city_62'\n",
      " 'city_146' 'city_79' 'city_144' 'city_167' 'city_31' 'city_121'\n",
      " 'city_175' 'city_8' 'city_166' 'city_81' 'city_129' 'city_107' 'city_18'\n",
      " 'city_109' 'city_25' 'city_117' 'city_82' 'city_171']\n",
      "['missing_value' 'Male' 'Female' 'Other']\n",
      "['STEM' 'missing_value' 'Other' 'Humanities' 'Business Degree' 'Arts'\n",
      " 'No Major']\n",
      "['Early Stage Startup' 'Pvt Ltd' 'missing_value' 'Public Sector' 'NGO'\n",
      " 'Other' 'Funded Startup']\n"
     ]
    }
   ],
   "source": [
    "for attributes in job_change_nom_cat_imputed_df.columns:\n",
    "    print(job_change_nom_cat_imputed_df[attributes].unique())"
   ]
  },
  {
   "cell_type": "code",
   "execution_count": 104,
   "metadata": {},
   "outputs": [],
   "source": [
    "from sklearn.preprocessing import OneHotEncoder"
   ]
  },
  {
   "cell_type": "code",
   "execution_count": 105,
   "metadata": {},
   "outputs": [],
   "source": [
    "nom_cat_encoder = OneHotEncoder()"
   ]
  },
  {
   "cell_type": "code",
   "execution_count": 106,
   "metadata": {},
   "outputs": [],
   "source": [
    "job_change_nom_cat_encoded = nom_cat_encoder.fit_transform(job_change_nom_cat_imputed_df)"
   ]
  },
  {
   "cell_type": "code",
   "execution_count": 107,
   "metadata": {},
   "outputs": [],
   "source": [
    "job_change_nom_cat_encoded = job_change_nom_cat_encoded.toarray()"
   ]
  },
  {
   "cell_type": "code",
   "execution_count": 108,
   "metadata": {},
   "outputs": [
    {
     "data": {
      "text/plain": [
       "array([[0., 0., 0., ..., 0., 0., 0.],\n",
       "       [0., 0., 0., ..., 0., 1., 0.],\n",
       "       [0., 0., 0., ..., 0., 0., 1.],\n",
       "       ...,\n",
       "       [0., 0., 0., ..., 0., 0., 0.],\n",
       "       [0., 0., 0., ..., 0., 0., 1.],\n",
       "       [0., 0., 0., ..., 0., 1., 0.]])"
      ]
     },
     "execution_count": 108,
     "metadata": {},
     "output_type": "execute_result"
    }
   ],
   "source": [
    "job_change_nom_cat_encoded"
   ]
  },
  {
   "cell_type": "code",
   "execution_count": 109,
   "metadata": {},
   "outputs": [
    {
     "data": {
      "text/plain": [
       "(13410, 139)"
      ]
     },
     "execution_count": 109,
     "metadata": {},
     "output_type": "execute_result"
    }
   ],
   "source": [
    "job_change_nom_cat_encoded.shape"
   ]
  },
  {
   "cell_type": "code",
   "execution_count": 110,
   "metadata": {},
   "outputs": [
    {
     "data": {
      "text/plain": [
       "[array(['city_1', 'city_10', 'city_100', 'city_101', 'city_102',\n",
       "        'city_103', 'city_104', 'city_105', 'city_106', 'city_107',\n",
       "        'city_109', 'city_11', 'city_114', 'city_115', 'city_116',\n",
       "        'city_117', 'city_118', 'city_12', 'city_120', 'city_121',\n",
       "        'city_123', 'city_126', 'city_127', 'city_128', 'city_129',\n",
       "        'city_13', 'city_131', 'city_133', 'city_134', 'city_136',\n",
       "        'city_138', 'city_139', 'city_14', 'city_141', 'city_142',\n",
       "        'city_143', 'city_144', 'city_145', 'city_146', 'city_149',\n",
       "        'city_150', 'city_152', 'city_155', 'city_157', 'city_158',\n",
       "        'city_159', 'city_16', 'city_160', 'city_162', 'city_165',\n",
       "        'city_166', 'city_167', 'city_171', 'city_173', 'city_175',\n",
       "        'city_176', 'city_179', 'city_18', 'city_180', 'city_19', 'city_2',\n",
       "        'city_20', 'city_21', 'city_23', 'city_24', 'city_25', 'city_26',\n",
       "        'city_27', 'city_28', 'city_30', 'city_31', 'city_33', 'city_36',\n",
       "        'city_37', 'city_39', 'city_40', 'city_41', 'city_42', 'city_43',\n",
       "        'city_44', 'city_45', 'city_46', 'city_48', 'city_50', 'city_53',\n",
       "        'city_54', 'city_55', 'city_57', 'city_59', 'city_61', 'city_62',\n",
       "        'city_64', 'city_65', 'city_67', 'city_69', 'city_7', 'city_70',\n",
       "        'city_71', 'city_72', 'city_73', 'city_74', 'city_75', 'city_76',\n",
       "        'city_77', 'city_78', 'city_79', 'city_8', 'city_80', 'city_81',\n",
       "        'city_82', 'city_83', 'city_84', 'city_89', 'city_9', 'city_90',\n",
       "        'city_91', 'city_93', 'city_94', 'city_97', 'city_98', 'city_99'],\n",
       "       dtype=object),\n",
       " array(['Female', 'Male', 'Other', 'missing_value'], dtype=object),\n",
       " array(['Arts', 'Business Degree', 'Humanities', 'No Major', 'Other',\n",
       "        'STEM', 'missing_value'], dtype=object),\n",
       " array(['Early Stage Startup', 'Funded Startup', 'NGO', 'Other',\n",
       "        'Public Sector', 'Pvt Ltd', 'missing_value'], dtype=object)]"
      ]
     },
     "execution_count": 110,
     "metadata": {},
     "output_type": "execute_result"
    }
   ],
   "source": [
    "nom_cat_encoder.categories_"
   ]
  },
  {
   "cell_type": "code",
   "execution_count": 111,
   "metadata": {},
   "outputs": [],
   "source": [
    "job_change_nom_cat_scaled = std_scaler.fit_transform(job_change_nom_cat_encoded)"
   ]
  },
  {
   "cell_type": "code",
   "execution_count": 112,
   "metadata": {},
   "outputs": [
    {
     "data": {
      "text/plain": [
       "array([[-0.03666178, -0.06704015, -0.11988396, ..., -0.22697421,\n",
       "        -1.02890375, -0.68855816],\n",
       "       [-0.03666178, -0.06704015, -0.11988396, ..., -0.22697421,\n",
       "         0.97190821, -0.68855816],\n",
       "       [-0.03666178, -0.06704015, -0.11988396, ..., -0.22697421,\n",
       "        -1.02890375,  1.45231014],\n",
       "       ...,\n",
       "       [-0.03666178, -0.06704015, -0.11988396, ..., -0.22697421,\n",
       "        -1.02890375, -0.68855816],\n",
       "       [-0.03666178, -0.06704015, -0.11988396, ..., -0.22697421,\n",
       "        -1.02890375,  1.45231014],\n",
       "       [-0.03666178, -0.06704015, -0.11988396, ..., -0.22697421,\n",
       "         0.97190821, -0.68855816]])"
      ]
     },
     "execution_count": 112,
     "metadata": {},
     "output_type": "execute_result"
    }
   ],
   "source": [
    "job_change_nom_cat_scaled"
   ]
  },
  {
   "cell_type": "markdown",
   "metadata": {},
   "source": [
    "# Concatenate result"
   ]
  },
  {
   "cell_type": "code",
   "execution_count": 113,
   "metadata": {},
   "outputs": [],
   "source": [
    "job_change_preprocessed = np.concatenate((job_change_num, job_change_ord_cat_scaled, job_change_nom_cat_scaled), axis=1)"
   ]
  },
  {
   "cell_type": "code",
   "execution_count": 114,
   "metadata": {},
   "outputs": [
    {
     "data": {
      "text/plain": [
       "array([[-1.66129974, -0.42229418,  0.62190287, ..., -0.22697421,\n",
       "        -1.02890375, -0.68855816],\n",
       "       [ 0.74080339, -0.28876006,  0.62190287, ..., -0.22697421,\n",
       "         0.97190821, -0.68855816],\n",
       "       [-1.66129974,  1.16342347,  0.62190287, ..., -0.22697421,\n",
       "        -1.02890375,  1.45231014],\n",
       "       ...,\n",
       "       [ 0.52169263, -0.13853418,  0.62190287, ..., -0.22697421,\n",
       "        -1.02890375, -0.68855816],\n",
       "       [-1.66129974, -0.82289653, -1.60796813, ..., -0.22697421,\n",
       "        -1.02890375,  1.45231014],\n",
       "       [ 0.30258187, -0.25537653,  0.62190287, ..., -0.22697421,\n",
       "         0.97190821, -0.68855816]])"
      ]
     },
     "execution_count": 114,
     "metadata": {},
     "output_type": "execute_result"
    }
   ],
   "source": [
    "job_change_preprocessed"
   ]
  },
  {
   "cell_type": "code",
   "execution_count": 115,
   "metadata": {},
   "outputs": [
    {
     "data": {
      "text/plain": [
       "array([-1.66129974, -0.42229418,  0.62190287, -0.56997915,  1.26429189,\n",
       "       -0.46703132, -1.50308819, -0.58755418, -0.03666178, -0.06704015,\n",
       "       -0.11988396, -0.06055898, -0.12855025, -0.53521429, -0.12366795,\n",
       "       -0.06590841, -0.02115721, -0.0172735 , -0.02115721, -0.11565315,\n",
       "       -0.27908355, -0.05188246, -0.08219949, -0.02865234, -0.03562751,\n",
       "       -0.02992751, -0.01931308, -0.0122133 , -0.0546971 , -0.03960368,\n",
       "       -0.02591509, -0.07243878, -0.01495873, -0.04890794, -0.02443207,\n",
       "       -0.02115721, -0.04491642, -0.18069462, -0.07891741, -0.01495873,\n",
       "       -0.03346372, -0.03562751, -0.04966811, -0.04574235, -0.0376678 ,\n",
       "       -0.05260008, -0.0172735 , -0.07698076, -0.05930577, -0.05115489,\n",
       "       -0.02731792, -0.03346372, -0.0546971 , -0.07449087, -0.29580913,\n",
       "       -0.21452702, -0.08401891, -0.06815343, -0.01495873, -0.02115721,\n",
       "       -0.00863578, -0.08968444, -0.02285325, -0.03562751, -0.01495873,\n",
       "       -0.00863578, -0.01931308, -0.08080879, -0.02115721, -0.03960368,\n",
       "        2.4880411 , -0.1008439 , -0.05605204, -0.01495873, -0.0376678 ,\n",
       "       -0.05041692, -0.09816875, -0.03456248, -0.01495873, -0.03115071,\n",
       "       -0.08968444, -0.02992751, -0.02443207, -0.06055898, -0.06979067,\n",
       "       -0.02865234, -0.02591509, -0.03115071, -0.07795496, -0.08034002,\n",
       "       -0.02731792, -0.087114  , -0.03666178, -0.02992751, -0.03115071,\n",
       "       -0.07243878, -0.02443207, -0.10308381, -0.0172735 , -0.07549646,\n",
       "       -0.09259594, -0.15306779, -0.02731792, -0.04144979, -0.05260008,\n",
       "       -0.12052239, -0.03232782, -0.12304489, -0.07139109, -0.1249053 ,\n",
       "       -0.05041692, -0.04144979, -0.03960368, -0.01931308, -0.0172735 ,\n",
       "       -0.02591509, -0.02115721, -0.01495873, -0.08311404, -0.03666178,\n",
       "       -0.05737538, -0.02865234, -0.10778395, -0.05188246, -0.04144979,\n",
       "       -0.0376678 , -0.07648912, -0.06417404, -0.07139109, -0.25949035,\n",
       "       -1.49064035, -0.09621418,  1.78880186, -0.11532163, -0.13384347,\n",
       "       -0.18740751, -0.10778395, -0.14061246,  0.56558102, -0.41484978,\n",
       "        5.41025696, -0.23022496, -0.16153105, -0.07986856, -0.22697421,\n",
       "       -1.02890375, -0.68855816])"
      ]
     },
     "execution_count": 115,
     "metadata": {},
     "output_type": "execute_result"
    }
   ],
   "source": [
    "job_change_preprocessed[0]"
   ]
  },
  {
   "cell_type": "code",
   "execution_count": 116,
   "metadata": {},
   "outputs": [
    {
     "data": {
      "text/plain": [
       "(13410, 147)"
      ]
     },
     "execution_count": 116,
     "metadata": {},
     "output_type": "execute_result"
    }
   ],
   "source": [
    "job_change_preprocessed.shape"
   ]
  },
  {
   "cell_type": "code",
   "execution_count": 117,
   "metadata": {},
   "outputs": [],
   "source": [
    "np.savetxt(\"Data/X_train.csv\", job_change_preprocessed, delimiter=',')"
   ]
  },
  {
   "cell_type": "code",
   "execution_count": 118,
   "metadata": {},
   "outputs": [],
   "source": [
    "np.savetxt(\"Data/y_train.csv\", job_change_labels.to_numpy(), delimiter=',')"
   ]
  },
  {
   "cell_type": "code",
   "execution_count": null,
   "metadata": {},
   "outputs": [],
   "source": []
  }
 ],
 "metadata": {
  "kernelspec": {
   "display_name": "Python 3",
   "language": "python",
   "name": "python3"
  },
  "language_info": {
   "codemirror_mode": {
    "name": "ipython",
    "version": 3
   },
   "file_extension": ".py",
   "mimetype": "text/x-python",
   "name": "python",
   "nbconvert_exporter": "python",
   "pygments_lexer": "ipython3",
   "version": "3.8.5"
  }
 },
 "nbformat": 4,
 "nbformat_minor": 2
}
