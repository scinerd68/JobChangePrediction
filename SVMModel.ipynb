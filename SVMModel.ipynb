{
 "cells": [
  {
   "cell_type": "code",
   "execution_count": 1,
   "metadata": {},
   "outputs": [],
   "source": [
    "import joblib"
   ]
  },
  {
   "cell_type": "code",
   "execution_count": 2,
   "metadata": {},
   "outputs": [],
   "source": [
    "import numpy as np\n",
    "import pandas as pd"
   ]
  },
  {
   "cell_type": "code",
   "execution_count": 3,
   "metadata": {},
   "outputs": [],
   "source": [
    "from sklearn.metrics import classification_report, confusion_matrix, recall_score, f1_score, precision_score, roc_auc_score, roc_curve, auc"
   ]
  },
  {
   "cell_type": "code",
   "execution_count": 4,
   "metadata": {},
   "outputs": [],
   "source": [
    "X_train = np.genfromtxt(\"Data/X_train.csv\", delimiter=',')\n",
    "y_train = np.genfromtxt(\"Data/y_train.csv\", delimiter=',')\n",
    "\n",
    "X_cv = np.genfromtxt(\"Data/X_cv.csv\", delimiter=',')\n",
    "y_cv = np.genfromtxt(\"Data/y_cv.csv\", delimiter=',')\n",
    "\n",
    "X_test = np.genfromtxt(\"Data/X_test.csv\", delimiter=',')\n",
    "y_test = np.genfromtxt(\"Data/y_test.csv\", delimiter=',')\n",
    "\n",
    "##Using strattified set - in pipeline"
   ]
  },
  {
   "cell_type": "code",
   "execution_count": 5,
   "metadata": {},
   "outputs": [
    {
     "data": {
      "text/plain": [
       "(11494, 151)"
      ]
     },
     "execution_count": 5,
     "metadata": {},
     "output_type": "execute_result"
    }
   ],
   "source": [
    "X_train.shape"
   ]
  },
  {
   "cell_type": "code",
   "execution_count": 6,
   "metadata": {},
   "outputs": [
    {
     "data": {
      "text/plain": [
       "array([[-1.67239838, -0.9568655 , -1.60575708, ..., -0.41906592,\n",
       "        -1.45427135,  1.45427135],\n",
       "       [ 0.56402217, -0.26671559,  0.6227592 , ..., -0.41906592,\n",
       "         0.68762958, -0.68762958],\n",
       "       [ 0.78359801, -0.83903503,  0.6227592 , ..., -0.41906592,\n",
       "         0.68762958, -0.68762958],\n",
       "       ...,\n",
       "       [ 0.73480338,  2.00572921,  0.6227592 , ..., -0.41906592,\n",
       "         0.68762958, -0.68762958],\n",
       "       [-1.67239838, -0.41821192,  0.6227592 , ..., -0.41906592,\n",
       "         0.68762958, -0.68762958],\n",
       "       [ 0.65347899, -0.31721437,  0.6227592 , ..., -0.41906592,\n",
       "         0.68762958, -0.68762958]])"
      ]
     },
     "execution_count": 6,
     "metadata": {},
     "output_type": "execute_result"
    }
   ],
   "source": [
    "X_train"
   ]
  },
  {
   "cell_type": "code",
   "execution_count": 7,
   "metadata": {},
   "outputs": [
    {
     "data": {
      "text/plain": [
       "array([0., 0., 0., ..., 0., 0., 0.])"
      ]
     },
     "execution_count": 7,
     "metadata": {},
     "output_type": "execute_result"
    }
   ],
   "source": [
    "y_train"
   ]
  },
  {
   "cell_type": "markdown",
   "metadata": {},
   "source": [
    "### Recursive Feature Elimination"
   ]
  },
  {
   "cell_type": "code",
   "execution_count": 8,
   "metadata": {},
   "outputs": [
    {
     "name": "stdout",
     "output_type": "stream",
     "text": [
      "[ True  True  True  True  True  True  True  True  True False  True False\n",
      " False  True  True  True False False False  True  True False  True  True\n",
      " False  True  True  True False False False False False  True False False\n",
      "  True False  True  True False  True  True  True False  True  True False\n",
      " False  True False  True  True False False False False  True False  True\n",
      "  True False  True False False False False False False False  True  True\n",
      "  True  True False False False False  True False False  True  True  True\n",
      "  True  True False False False False False False  True False False False\n",
      "  True False False  True  True  True  True  True  True False  True  True\n",
      " False  True False  True  True False False  True False  True  True False\n",
      " False  True False False  True False False  True False False False  True\n",
      " False False  True False False False  True False  True False  True  True\n",
      " False False False  True  True  True  True]\n",
      "[ 1  1  1  1  1  1  1  1  1 69  1 19 56  1  1  1  6 48 30  1  1 12  1  1\n",
      " 14  1  1  1 66 75 34 26 32  1  5 61  1 62  1  1 68  1  1  1 49  1  1 52\n",
      " 40  1 10  1  1  9 39 57 17  1 31  1  1 25  1 13  7 64 53 27 59 51  1  1\n",
      "  1  1 11 28 77 15  1  8 45  1  1  1  1  1 21 44 65 46 35 20  1 33 29 73\n",
      "  1 38 47  1  1  1  1  1  1  3  1  1 36  1 16  1  1 37 67  1 54  1  1 43\n",
      " 42  1 60 72  1  2 58  1 18 55 41  1  4 50  1 71 63 22  1 76  1 24  1  1\n",
      " 23 74 70  1  1  1  1]\n"
     ]
    }
   ],
   "source": [
    "from sklearn.feature_selection import RFE\n",
    "from sklearn.linear_model import LogisticRegression\n",
    "logreg = LogisticRegression()\n",
    "rfe = RFE(logreg)\n",
    "rfe = rfe.fit(X_train, y_train)\n",
    "print(rfe.support_)\n",
    "print(rfe.ranking_)"
   ]
  },
  {
   "cell_type": "code",
   "execution_count": 9,
   "metadata": {},
   "outputs": [],
   "source": [
    "X_train = X_train[:,np.argwhere(np.array( rfe.support_)).reshape(np.argwhere(np.array( rfe.support_)).shape[0],)]\n",
    "X_cv = X_cv[:,np.argwhere(np.array( rfe.support_)).reshape(np.argwhere(np.array( rfe.support_)).shape[0],)]\n",
    "X_test = X_test[:,np.argwhere(np.array( rfe.support_)).reshape(np.argwhere(np.array( rfe.support_)).shape[0],)]"
   ]
  },
  {
   "cell_type": "markdown",
   "metadata": {},
   "source": [
    "# SVM"
   ]
  },
  {
   "cell_type": "code",
   "execution_count": 10,
   "metadata": {},
   "outputs": [],
   "source": [
    "from sklearn.svm import SVC"
   ]
  },
  {
   "cell_type": "code",
   "execution_count": 11,
   "metadata": {},
   "outputs": [],
   "source": [
    "# C_list = [0.0001, 0.001, 0.01, 0.1, 1.0, 10.0, 100]\n",
    "C_list =[1,10,100]\n",
    "gamma_list =[0.001,0.01, 0.1]"
   ]
  },
  {
   "cell_type": "code",
   "execution_count": 12,
   "metadata": {},
   "outputs": [],
   "source": [
    "def cross_validate_C(C_list,gamma_list, X_train, y_train, X_cv, y_cv):\n",
    "    models = []\n",
    "    train_f1_score = []\n",
    "    cv_f1_score = []\n",
    "\n",
    "    for C in C_list:\n",
    "        for gamma in gamma_list:\n",
    "            svm = SVC(kernel = 'rbf', class_weight = 'balanced', C = C, gamma = gamma)\n",
    "            svm.fit(X_train, y_train)\n",
    "            models.append(svm)\n",
    "\n",
    "            y_train_pred = svm.predict(X_train)\n",
    "            train_f1_score.append(f1_score(y_train, y_train_pred))\n",
    "\n",
    "            y_cv_pred = svm.predict(X_cv)\n",
    "            cv_f1_score.append(f1_score(y_cv, y_cv_pred))\n",
    "        \n",
    "    print(train_f1_score)\n",
    "    print(cv_f1_score)\n",
    "    \n",
    "    print('Best param C value:', C_list[int(np.argmax(cv_f1_score)/ len(C_list))])\n",
    "    print('Best param gamma value:', gamma_list[np.argmax(cv_f1_score)% len(gamma_list)])\n",
    "    best_model = models[np.argmax(cv_f1_score)]\n",
    "    \n",
    "    return best_model"
   ]
  },
  {
   "cell_type": "code",
   "execution_count": 13,
   "metadata": {},
   "outputs": [
    {
     "name": "stdout",
     "output_type": "stream",
     "text": [
      "[0.586928662964545, 0.6124873243517311, 0.6868148148148149, 0.6006227002547411, 0.6456460881096213, 0.7542047801711419, 0.62093553907587, 0.6835255841467021, 0.8153404801449494]\n",
      "[0.6037267080745342, 0.606931530008453, 0.6162018592297477, 0.6095862351495289, 0.6188034188034188, 0.5763765541740674, 0.612008281573499, 0.6080554352533564, 0.5245009074410163]\n",
      "Best param C value: 10\n",
      "Best param gamma value: 0.01\n"
     ]
    }
   ],
   "source": [
    "svm = cross_validate_C(C_list, gamma_list, X_train, y_train, X_cv, y_cv)"
   ]
  },
  {
   "cell_type": "markdown",
   "metadata": {},
   "source": [
    "## Evaluation"
   ]
  },
  {
   "cell_type": "code",
   "execution_count": 14,
   "metadata": {},
   "outputs": [],
   "source": [
    "def evaluate(model, X, y):\n",
    "    h = model.predict(X)\n",
    "    print(classification_report(y,h))\n",
    "    print('Confusion matrix:\\n',confusion_matrix(y,h))\n",
    "    print('Recall Score = ',recall_score(y, h))\n",
    "    print('Precision Score = ',precision_score(y, h))\n",
    "    print('F1 score = ', f1_score(y,h))\n",
    "\n",
    "    return evaluate"
   ]
  },
  {
   "cell_type": "markdown",
   "metadata": {},
   "source": [
    "### Train set"
   ]
  },
  {
   "cell_type": "code",
   "execution_count": 15,
   "metadata": {},
   "outputs": [
    {
     "name": "stdout",
     "output_type": "stream",
     "text": [
      "              precision    recall  f1-score   support\n",
      "\n",
      "         0.0       0.91      0.80      0.85      8613\n",
      "         1.0       0.56      0.76      0.65      2881\n",
      "\n",
      "    accuracy                           0.79     11494\n",
      "   macro avg       0.73      0.78      0.75     11494\n",
      "weighted avg       0.82      0.79      0.80     11494\n",
      "\n",
      "Confusion matrix:\n",
      " [[6898 1715]\n",
      " [ 690 2191]]\n",
      "Recall Score =  0.7604998264491496\n",
      "Precision Score =  0.5609318996415771\n",
      "F1 score =  0.6456460881096213\n"
     ]
    },
    {
     "data": {
      "text/plain": [
       "<function __main__.evaluate(model, X, y)>"
      ]
     },
     "execution_count": 15,
     "metadata": {},
     "output_type": "execute_result"
    }
   ],
   "source": [
    "evaluate(svm, X_train, y_train)"
   ]
  },
  {
   "cell_type": "markdown",
   "metadata": {},
   "source": [
    "### Cross validation set"
   ]
  },
  {
   "cell_type": "code",
   "execution_count": 16,
   "metadata": {},
   "outputs": [
    {
     "name": "stdout",
     "output_type": "stream",
     "text": [
      "              precision    recall  f1-score   support\n",
      "\n",
      "         0.0       0.91      0.77      0.83      2876\n",
      "         1.0       0.52      0.76      0.62       956\n",
      "\n",
      "    accuracy                           0.77      3832\n",
      "   macro avg       0.71      0.76      0.73      3832\n",
      "weighted avg       0.81      0.77      0.78      3832\n",
      "\n",
      "Confusion matrix:\n",
      " [[2216  660]\n",
      " [ 232  724]]\n",
      "Recall Score =  0.7573221757322176\n",
      "Precision Score =  0.523121387283237\n",
      "F1 score =  0.6188034188034188\n"
     ]
    },
    {
     "data": {
      "text/plain": [
       "<function __main__.evaluate(model, X, y)>"
      ]
     },
     "execution_count": 16,
     "metadata": {},
     "output_type": "execute_result"
    }
   ],
   "source": [
    "evaluate(svm, X_cv, y_cv)"
   ]
  },
  {
   "cell_type": "markdown",
   "metadata": {},
   "source": [
    "### Test set"
   ]
  },
  {
   "cell_type": "code",
   "execution_count": 17,
   "metadata": {},
   "outputs": [
    {
     "name": "stdout",
     "output_type": "stream",
     "text": [
      "              precision    recall  f1-score   support\n",
      "\n",
      "         0.0       0.92      0.78      0.85      2877\n",
      "         1.0       0.55      0.80      0.65       955\n",
      "\n",
      "    accuracy                           0.79      3832\n",
      "   macro avg       0.74      0.79      0.75      3832\n",
      "weighted avg       0.83      0.79      0.80      3832\n",
      "\n",
      "Confusion matrix:\n",
      " [[2255  622]\n",
      " [ 190  765]]\n",
      "Recall Score =  0.8010471204188482\n",
      "Precision Score =  0.55155010814708\n",
      "F1 score =  0.6532877882152007\n"
     ]
    },
    {
     "data": {
      "text/plain": [
       "<function __main__.evaluate(model, X, y)>"
      ]
     },
     "execution_count": 17,
     "metadata": {},
     "output_type": "execute_result"
    }
   ],
   "source": [
    "evaluate(svm, X_test, y_test)"
   ]
  },
  {
   "cell_type": "markdown",
   "metadata": {},
   "source": [
    "## Export model"
   ]
  },
  {
   "cell_type": "code",
   "execution_count": 18,
   "metadata": {},
   "outputs": [
    {
     "data": {
      "text/plain": [
       "['Models/svm_no_under_sample_balanced_class_weight.pkl']"
      ]
     },
     "execution_count": 18,
     "metadata": {},
     "output_type": "execute_result"
    }
   ],
   "source": [
    "joblib.dump(svm, \"Models/svm_no_under_sample_balanced_class_weight.pkl\")"
   ]
  }
 ],
 "metadata": {
  "kernelspec": {
   "display_name": "Python 3",
   "language": "python",
   "name": "python3"
  },
  "language_info": {
   "codemirror_mode": {
    "name": "ipython",
    "version": 3
   },
   "file_extension": ".py",
   "mimetype": "text/x-python",
   "name": "python",
   "nbconvert_exporter": "python",
   "pygments_lexer": "ipython3",
   "version": "3.9.2"
  },
  "metadata": {
   "interpreter": {
    "hash": "3516c099f2e50fbe6b83d8aca3e7ba54c35d25f18189c7f24f96f469bdbc3fe7"
   }
  }
 },
 "nbformat": 4,
 "nbformat_minor": 2
}
