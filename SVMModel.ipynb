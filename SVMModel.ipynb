{
 "cells": [
  {
   "cell_type": "code",
   "execution_count": 63,
   "metadata": {},
   "outputs": [],
   "source": [
    "import joblib"
   ]
  },
  {
   "cell_type": "code",
   "execution_count": 64,
   "metadata": {},
   "outputs": [],
   "source": [
    "import numpy as np\n",
    "import pandas as pd"
   ]
  },
  {
   "cell_type": "code",
   "execution_count": 65,
   "metadata": {},
   "outputs": [],
   "source": [
    "from sklearn.metrics import classification_report, confusion_matrix, recall_score, f1_score, precision_score, roc_auc_score, roc_curve, auc"
   ]
  },
  {
   "cell_type": "code",
   "execution_count": 66,
   "metadata": {},
   "outputs": [],
   "source": [
    "# X_train = np.genfromtxt(\"Data/X_train_under.csv\", delimiter=',')\n",
    "# y_train = np.genfromtxt(\"Data/y_train_under.csv\", delimiter=',')\n",
    "X_train = np.genfromtxt(\"Data/X_train.csv\", delimiter=',')\n",
    "y_train = np.genfromtxt(\"Data/y_train.csv\", delimiter=',')\n",
    "\n",
    "X_cv = np.genfromtxt(\"Data/X_cv.csv\", delimiter=',')\n",
    "y_cv = np.genfromtxt(\"Data/y_cv.csv\", delimiter=',')\n",
    "\n",
    "X_test = np.genfromtxt(\"Data/X_test.csv\", delimiter=',')\n",
    "y_test = np.genfromtxt(\"Data/y_test.csv\", delimiter=',')\n",
    "\n",
    "##Using strattified set - in pipeline"
   ]
  },
  {
   "cell_type": "code",
   "execution_count": 67,
   "metadata": {},
   "outputs": [
    {
     "data": {
      "text/plain": [
       "(11494, 149)"
      ]
     },
     "execution_count": 67,
     "metadata": {},
     "output_type": "execute_result"
    }
   ],
   "source": [
    "X_train.shape"
   ]
  },
  {
   "cell_type": "code",
   "execution_count": 68,
   "metadata": {},
   "outputs": [],
   "source": [
    "# X_train"
   ]
  },
  {
   "cell_type": "code",
   "execution_count": 69,
   "metadata": {},
   "outputs": [],
   "source": [
    "# y_train"
   ]
  },
  {
   "cell_type": "markdown",
   "metadata": {},
   "source": [
    "### Recursive Feature Elimination"
   ]
  },
  {
   "cell_type": "code",
   "execution_count": 70,
   "metadata": {},
   "outputs": [
    {
     "name": "stdout",
     "output_type": "stream",
     "text": [
      "[ True  True  True  True  True  True  True  True False False  True False\n",
      " False  True  True  True False False False  True  True False  True  True\n",
      " False False False  True False False  True False False  True  True False\n",
      "  True False  True  True False  True  True  True False  True  True False\n",
      " False False  True  True  True False False False False  True  True False\n",
      "  True False  True False False False False  True False False  True  True\n",
      "  True False False False False False False  True  True False False  True\n",
      "  True  True False False False False False  True False  True False False\n",
      " False  True False False  True  True False False False  True  True False\n",
      "  True  True  True False  True  True False False  True False  True  True\n",
      " False False  True  True False False False False False  True False  True\n",
      " False False False  True  True  True  True False  True  True  True  True\n",
      "  True False False  True  True]\n",
      "[ 1  1  1  1  1  1  1  1 16 60  1 10 30  1  1  1 37 69 33  1  1  8  1  1\n",
      " 53 62 18  1 42 25  1 65 56  1  1 74  1 52  1  1 55  1  1  1 22  1  1 64\n",
      " 45 26  1  1  1 21 71 20  9  1  1 73  1 27  1 14 76 40 63  1 15 44  1  1\n",
      "  1 23 36 34 51 39 31  1  1 32 11  1  1  1 61 13 48 17 54  1  5  1 49 50\n",
      " 35  1 72 29  1  1 24  7  4  1  1 19  1  1  1 38  1  1 12 75  1 58  1  1\n",
      " 57 67  1  1 68 28 70  3  6  1 59  1 66 47 41  1  1  1  1  2  1  1  1  1\n",
      "  1 46 43  1  1]\n"
     ]
    }
   ],
   "source": [
    "from sklearn.feature_selection import RFE\n",
    "from sklearn.linear_model import LogisticRegression\n",
    "logreg = LogisticRegression()\n",
    "rfe = RFE(logreg)\n",
    "rfe = rfe.fit(X_train, y_train)\n",
    "print(rfe.support_)\n",
    "print(rfe.ranking_)"
   ]
  },
  {
   "cell_type": "code",
   "execution_count": 71,
   "metadata": {},
   "outputs": [],
   "source": [
    "X_train = X_train[:,np.argwhere(np.array( rfe.support_)).reshape(np.argwhere(np.array( rfe.support_)).shape[0],)]\n",
    "X_cv = X_cv[:,np.argwhere(np.array( rfe.support_)).reshape(np.argwhere(np.array( rfe.support_)).shape[0],)]\n",
    "X_test = X_test[:,np.argwhere(np.array( rfe.support_)).reshape(np.argwhere(np.array( rfe.support_)).shape[0],)]"
   ]
  },
  {
   "cell_type": "markdown",
   "metadata": {},
   "source": [
    "# SVM"
   ]
  },
  {
   "cell_type": "code",
   "execution_count": 72,
   "metadata": {},
   "outputs": [],
   "source": [
    "from sklearn.svm import SVC"
   ]
  },
  {
   "cell_type": "code",
   "execution_count": 73,
   "metadata": {},
   "outputs": [],
   "source": [
    "# C_list = [0.0001, 0.001, 0.01, 0.1, 1.0, 10.0, 100]\n",
    "C_list =[0.01,1,100]\n",
    "gamma_list =[0.01, 1, 100]"
   ]
  },
  {
   "cell_type": "code",
   "execution_count": 74,
   "metadata": {},
   "outputs": [],
   "source": [
    "def cross_validate_C(C_list,gamma_list, X_train, y_train, X_cv, y_cv):\n",
    "    models = []\n",
    "    train_f1_score = []\n",
    "    cv_f1_score = []\n",
    "\n",
    "    for C in C_list:\n",
    "        for gamma in gamma_list:\n",
    "            svm = SVC(kernel = 'rbf', class_weight = 'balanced', C = C, gamma = gamma)\n",
    "            svm.fit(X_train, y_train)\n",
    "            models.append(svm)\n",
    "\n",
    "            y_train_pred = svm.predict(X_train)\n",
    "            train_f1_score.append(f1_score(y_train, y_train_pred))\n",
    "\n",
    "            y_cv_pred = svm.predict(X_cv)\n",
    "            cv_f1_score.append(f1_score(y_cv, y_cv_pred))\n",
    "        \n",
    "    print(train_f1_score)\n",
    "    print(cv_f1_score)\n",
    "    \n",
    "    print('Best param C value:', C_list[int(np.argmax(cv_f1_score)/ len(gamma_list))])\n",
    "    print('Best param gamma value:', gamma_list[np.argmax(cv_f1_score)% len(gamma_list)])\n",
    "    best_model = models[np.argmax(cv_f1_score)]\n",
    "    \n",
    "    return best_model"
   ]
  },
  {
   "cell_type": "code",
   "execution_count": 75,
   "metadata": {},
   "outputs": [
    {
     "name": "stdout",
     "output_type": "stream",
     "text": [
      "[0.5436347673397717, 0.40619549291844, 0.4046082309667569, 0.6196748878923768, 0.8361669242658423, 0.9866215071972904, 0.6908771416019914, 0.9508357915437562, 0.9962406015037594]\n",
      "[0.5480195333695063, 0.3899344470289702, 0.3878838872528397, 0.5934924078091107, 0.5002773155851358, 0.09561752988047809, 0.5869565217391304, 0.4081632653061225, 0.10119047619047619]\n",
      "Best param C value: 1\n",
      "Best param gamma value: 0.01\n"
     ]
    }
   ],
   "source": [
    "svm = cross_validate_C(C_list, gamma_list, X_train, y_train, X_cv, y_cv)"
   ]
  },
  {
   "cell_type": "markdown",
   "metadata": {},
   "source": [
    "## Basic Evaluation"
   ]
  },
  {
   "cell_type": "code",
   "execution_count": 76,
   "metadata": {},
   "outputs": [],
   "source": [
    "def evaluate(model, X, y):\n",
    "    h = model.predict(X)\n",
    "    errors = abs(h - y)\n",
    "    print('Average Error: {:0.4f} degrees.'.format(np.mean(errors)))\n",
    "    print(classification_report(y,h))\n",
    "    print('Confusion matrix:\\n',confusion_matrix(y,h))\n",
    "    print('Recall Score = ',recall_score(y, h))\n",
    "    print('Precision Score = ',precision_score(y, h))\n",
    "    print('F1 score = ', f1_score(y,h))\n",
    "\n",
    "    return evaluate"
   ]
  },
  {
   "cell_type": "markdown",
   "metadata": {},
   "source": [
    "### Train set"
   ]
  },
  {
   "cell_type": "code",
   "execution_count": 77,
   "metadata": {},
   "outputs": [
    {
     "name": "stdout",
     "output_type": "stream",
     "text": [
      "Average Error: 0.2361 degrees.\n",
      "              precision    recall  f1-score   support\n",
      "\n",
      "         0.0       0.90      0.77      0.83      8579\n",
      "         1.0       0.52      0.76      0.62      2915\n",
      "\n",
      "    accuracy                           0.76     11494\n",
      "   macro avg       0.71      0.76      0.72     11494\n",
      "weighted avg       0.81      0.76      0.78     11494\n",
      "\n",
      "Confusion matrix:\n",
      " [[6569 2010]\n",
      " [ 704 2211]]\n",
      "Recall Score =  0.7584905660377359\n",
      "Precision Score =  0.5238095238095238\n",
      "F1 score =  0.6196748878923768\n"
     ]
    },
    {
     "data": {
      "text/plain": [
       "<function __main__.evaluate(model, X, y)>"
      ]
     },
     "execution_count": 77,
     "metadata": {},
     "output_type": "execute_result"
    }
   ],
   "source": [
    "evaluate(svm, X_train, y_train)"
   ]
  },
  {
   "cell_type": "markdown",
   "metadata": {},
   "source": [
    "### Cross validation set"
   ]
  },
  {
   "cell_type": "code",
   "execution_count": 78,
   "metadata": {},
   "outputs": [
    {
     "name": "stdout",
     "output_type": "stream",
     "text": [
      "Average Error: 0.2445 degrees.\n",
      "              precision    recall  f1-score   support\n",
      "\n",
      "         0.0       0.90      0.76      0.83      2910\n",
      "         1.0       0.49      0.74      0.59       922\n",
      "\n",
      "    accuracy                           0.76      3832\n",
      "   macro avg       0.70      0.75      0.71      3832\n",
      "weighted avg       0.80      0.76      0.77      3832\n",
      "\n",
      "Confusion matrix:\n",
      " [[2211  699]\n",
      " [ 238  684]]\n",
      "Recall Score =  0.7418655097613883\n",
      "Precision Score =  0.4945770065075922\n",
      "F1 score =  0.5934924078091107\n"
     ]
    },
    {
     "data": {
      "text/plain": [
       "<function __main__.evaluate(model, X, y)>"
      ]
     },
     "execution_count": 78,
     "metadata": {},
     "output_type": "execute_result"
    }
   ],
   "source": [
    "evaluate(svm, X_cv, y_cv)"
   ]
  },
  {
   "cell_type": "markdown",
   "metadata": {},
   "source": [
    "### Test set"
   ]
  },
  {
   "cell_type": "code",
   "execution_count": 79,
   "metadata": {},
   "outputs": [
    {
     "name": "stdout",
     "output_type": "stream",
     "text": [
      "Average Error: 0.2370 degrees.\n",
      "              precision    recall  f1-score   support\n",
      "\n",
      "         0.0       0.90      0.77      0.83      2895\n",
      "         1.0       0.51      0.74      0.61       937\n",
      "\n",
      "    accuracy                           0.76      3832\n",
      "   macro avg       0.71      0.76      0.72      3832\n",
      "weighted avg       0.81      0.76      0.78      3832\n",
      "\n",
      "Confusion matrix:\n",
      " [[2226  669]\n",
      " [ 239  698]]\n",
      "Recall Score =  0.7449306296691569\n",
      "Precision Score =  0.5106071689831748\n",
      "F1 score =  0.6059027777777778\n"
     ]
    },
    {
     "data": {
      "text/plain": [
       "<function __main__.evaluate(model, X, y)>"
      ]
     },
     "execution_count": 79,
     "metadata": {},
     "output_type": "execute_result"
    }
   ],
   "source": [
    "evaluate(svm, X_test, y_test)"
   ]
  },
  {
   "cell_type": "markdown",
   "metadata": {},
   "source": [
    "### Coefficients"
   ]
  },
  {
   "cell_type": "code",
   "execution_count": null,
   "metadata": {},
   "outputs": [],
   "source": []
  },
  {
   "cell_type": "code",
   "execution_count": null,
   "metadata": {},
   "outputs": [],
   "source": []
  },
  {
   "cell_type": "code",
   "execution_count": 80,
   "metadata": {},
   "outputs": [
    {
     "data": {
      "text/plain": [
       "['Models/svm_no_under_sample_balanced_class_weight.pkl']"
      ]
     },
     "execution_count": 80,
     "metadata": {},
     "output_type": "execute_result"
    }
   ],
   "source": [
    "# joblib.dump(log_reg, \"Models/default_log_reg_first_ver.pkl\")\n",
    "# joblib.dump(log_reg, \"Models/log_reg_under_sample.pkl\")\n",
    "joblib.dump(svm, \"Models/svm_no_under_sample_balanced_class_weight.pkl\")"
   ]
  }
 ],
 "metadata": {
  "kernelspec": {
   "display_name": "Python 3",
   "language": "python",
   "name": "python3"
  },
  "language_info": {
   "codemirror_mode": {
    "name": "ipython",
    "version": 3
   },
   "file_extension": ".py",
   "mimetype": "text/x-python",
   "name": "python",
   "nbconvert_exporter": "python",
   "pygments_lexer": "ipython3",
   "version": "3.9.2"
  },
  "metadata": {
   "interpreter": {
    "hash": "3516c099f2e50fbe6b83d8aca3e7ba54c35d25f18189c7f24f96f469bdbc3fe7"
   }
  }
 },
 "nbformat": 4,
 "nbformat_minor": 2
}
