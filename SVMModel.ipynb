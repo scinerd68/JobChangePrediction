{
 "cells": [
  {
   "cell_type": "code",
   "execution_count": 22,
   "metadata": {},
   "outputs": [],
   "source": [
    "import joblib"
   ]
  },
  {
   "cell_type": "code",
   "execution_count": 23,
   "metadata": {},
   "outputs": [],
   "source": [
    "import numpy as np\n",
    "import pandas as pd"
   ]
  },
  {
   "cell_type": "code",
   "execution_count": 24,
   "metadata": {},
   "outputs": [],
   "source": [
    "from sklearn.metrics import classification_report, confusion_matrix, recall_score, f1_score, precision_score, roc_auc_score, roc_curve, auc"
   ]
  },
  {
   "cell_type": "code",
   "execution_count": 25,
   "metadata": {},
   "outputs": [],
   "source": [
    "# X_train = np.genfromtxt(\"Data/X_train_under.csv\", delimiter=',')\n",
    "# y_train = np.genfromtxt(\"Data/y_train_under.csv\", delimiter=',')\n",
    "X_train = np.genfromtxt(\"Data/X_train.csv\", delimiter=',')\n",
    "y_train = np.genfromtxt(\"Data/y_train.csv\", delimiter=',')\n",
    "\n",
    "X_cv = np.genfromtxt(\"Data/X_cv.csv\", delimiter=',')\n",
    "y_cv = np.genfromtxt(\"Data/y_cv.csv\", delimiter=',')\n",
    "\n",
    "X_test = np.genfromtxt(\"Data/X_test.csv\", delimiter=',')\n",
    "y_test = np.genfromtxt(\"Data/y_test.csv\", delimiter=',')\n",
    "\n",
    "##Using strattified set - in pipeline"
   ]
  },
  {
   "cell_type": "code",
   "execution_count": 26,
   "metadata": {},
   "outputs": [
    {
     "data": {
      "text/plain": [
       "(12260, 147)"
      ]
     },
     "execution_count": 26,
     "metadata": {},
     "output_type": "execute_result"
    }
   ],
   "source": [
    "X_train.shape"
   ]
  },
  {
   "cell_type": "code",
   "execution_count": 27,
   "metadata": {},
   "outputs": [],
   "source": [
    "# X_train"
   ]
  },
  {
   "cell_type": "code",
   "execution_count": 28,
   "metadata": {},
   "outputs": [],
   "source": [
    "# y_train"
   ]
  },
  {
   "cell_type": "markdown",
   "metadata": {},
   "source": [
    "### Recursive Feature Elimination"
   ]
  },
  {
   "cell_type": "code",
   "execution_count": 29,
   "metadata": {},
   "outputs": [
    {
     "name": "stdout",
     "output_type": "stream",
     "text": [
      "[ True  True  True  True  True  True  True  True False False  True False\n",
      " False  True  True  True False False False  True False  True  True False\n",
      " False  True  True False False False False False  True  True False  True\n",
      " False  True  True False  True  True  True False  True  True False False\n",
      "  True  True  True  True False  True False False  True  True  True  True\n",
      " False  True  True False False  True  True False  True  True  True False\n",
      " False  True False False  True False  True False False False  True  True\n",
      " False False False False False False False  True False  True False  True\n",
      " False False  True  True  True False  True  True False False  True False\n",
      " False False False  True False False  True False  True  True False False\n",
      " False False False False False False  True  True False False False False\n",
      " False False  True  True False  True  True  True  True  True  True False\n",
      " False  True  True]\n",
      "[ 1  1  1  1  1  1  1  1 20 38  1 26 23  1  1  1 62 37 46  1 11  1  1 63\n",
      " 48  1  1 55 71 14 51 57  1  1 49  1 75  1  1 54  1  1  1 64  1  1 30 74\n",
      "  1  1  1  1  4  1 17 18  1  1  1  1  6  1  1 43 56  1  1 35  1  1  1 29\n",
      "  5  1 40 22  1  7  1 33  8 39  1  1 53 27 16 44 25 42 31  1 19  1 32  1\n",
      " 61 28  1  1  1 10  1  1 24  9  1 65 12 13  2  1 58 50  1 36  1  1 52 72\n",
      " 67 66  3 60 45 34  1  1 68 21 41 73 59 47  1  1 69  1  1  1  1  1  1 15\n",
      " 70  1  1]\n"
     ]
    }
   ],
   "source": [
    "from sklearn.feature_selection import RFE\n",
    "from sklearn.linear_model import LogisticRegression\n",
    "logreg = LogisticRegression()\n",
    "rfe = RFE(logreg)\n",
    "rfe = rfe.fit(X_train, y_train)\n",
    "print(rfe.support_)\n",
    "print(rfe.ranking_)"
   ]
  },
  {
   "cell_type": "code",
   "execution_count": 30,
   "metadata": {},
   "outputs": [],
   "source": [
    "X_train = X_train[:,np.argwhere(np.array( rfe.support_)).reshape(np.argwhere(np.array( rfe.support_)).shape[0],)]\n",
    "X_cv = X_cv[:,np.argwhere(np.array( rfe.support_)).reshape(np.argwhere(np.array( rfe.support_)).shape[0],)]\n",
    "X_test = X_test[:,np.argwhere(np.array( rfe.support_)).reshape(np.argwhere(np.array( rfe.support_)).shape[0],)]"
   ]
  },
  {
   "cell_type": "markdown",
   "metadata": {},
   "source": [
    "# SVM"
   ]
  },
  {
   "cell_type": "code",
   "execution_count": 31,
   "metadata": {},
   "outputs": [],
   "source": [
    "from sklearn.svm import SVC"
   ]
  },
  {
   "cell_type": "code",
   "execution_count": 32,
   "metadata": {},
   "outputs": [],
   "source": [
    "# C_list = [0.0001, 0.001, 0.01, 0.1, 1.0, 10.0, 100]\n",
    "C_list =[0.001,1,100]"
   ]
  },
  {
   "cell_type": "code",
   "execution_count": 33,
   "metadata": {},
   "outputs": [],
   "source": [
    "def cross_validate_C(C_list, X_train, y_train, X_cv, y_cv):\n",
    "    models = []\n",
    "    train_f1_score = []\n",
    "    cv_f1_score = []\n",
    "\n",
    "    for C in C_list:\n",
    "        svm = SVC(kernel = 'rbf', class_weight = 'balanced', C = C)\n",
    "        svm.fit(X_train, y_train)\n",
    "        models.append(svm)\n",
    "\n",
    "        y_train_pred = svm.predict(X_train)\n",
    "        train_f1_score.append(f1_score(y_train, y_train_pred))\n",
    "\n",
    "        y_cv_pred = svm.predict(X_cv)\n",
    "        cv_f1_score.append(f1_score(y_cv, y_cv_pred))\n",
    "        \n",
    "    print(train_f1_score)\n",
    "    print(cv_f1_score)\n",
    "    \n",
    "    print('Best param value:', C_list[np.argmax(cv_f1_score)])\n",
    "    best_model = models[np.argmax(cv_f1_score)]\n",
    "    \n",
    "    return best_model"
   ]
  },
  {
   "cell_type": "code",
   "execution_count": 34,
   "metadata": {},
   "outputs": [
    {
     "name": "stdout",
     "output_type": "stream",
     "text": [
      "[0.0, 0.617007075156855, 0.6887380523618231]\n",
      "[0.0, 0.5821697099892588, 0.5826330532212886]\n",
      "Best param value: 100\n"
     ]
    }
   ],
   "source": [
    "svm = cross_validate_C(C_list, X_train, y_train, X_cv, y_cv)"
   ]
  },
  {
   "cell_type": "markdown",
   "metadata": {},
   "source": [
    "### LGBM for more insight"
   ]
  },
  {
   "cell_type": "code",
   "execution_count": 35,
   "metadata": {},
   "outputs": [],
   "source": [
    "# import pandas as pd\n",
    "# import numpy as np\n",
    "# from sklearn.preprocessing import LabelEncoder, StandardScaler, OrdinalEncoder\n",
    "# from sklearn.experimental import enable_iterative_imputer\n",
    "# from sklearn.impute import IterativeImputer\n",
    "# from sklearn.linear_model import LinearRegression, LogisticRegression\n",
    "# import seaborn as sns\n",
    "# import matplotlib.pyplot as plt\n",
    "# from sklearn.model_selection import train_test_split as tts\n",
    "# from sklearn.model_selection import RandomizedSearchCV\n",
    "# from lightgbm.sklearn import LGBMClassifier\n",
    "# from sklearn.ensemble import RandomForestClassifier\n",
    "# from sklearn.tree import DecisionTreeClassifier \n",
    "# import six\n",
    "# import sys\n",
    "# sys.modules['sklearn.externals.six'] = six\n",
    "# from imblearn.over_sampling import SVMSMOTE\n",
    "# from imblearn.ensemble import EasyEnsembleClassifier\n",
    "# from sklearn.inspection import permutation_importance\n",
    "# import eli5\n",
    "# from eli5.sklearn import PermutationImportance"
   ]
  },
  {
   "cell_type": "code",
   "execution_count": 36,
   "metadata": {},
   "outputs": [],
   "source": [
    "# easy_lgbm = EasyEnsembleClassifier(base_estimator= LGBMClassifier(random_state=42), n_estimators=250, n_jobs=1,\n",
    "#                        random_state=42, replacement=True,\n",
    "#                        sampling_strategy='auto', verbose=0,\n",
    "#                        warm_start=True)\n",
    "# easy_lgbm.fit(X_train, y_train)\n"
   ]
  },
  {
   "cell_type": "code",
   "execution_count": 37,
   "metadata": {},
   "outputs": [],
   "source": [
    "# evaluate(easy_lgbm, X_train, y_train)"
   ]
  },
  {
   "cell_type": "code",
   "execution_count": 38,
   "metadata": {},
   "outputs": [],
   "source": [
    "# evaluate(easy_lgbm, X_test, y_test)"
   ]
  },
  {
   "cell_type": "code",
   "execution_count": 39,
   "metadata": {},
   "outputs": [],
   "source": [
    "# print(f1_score(y_train, easy_lgbm.predict(X_train)))\n",
    "# print(f1_score(y_test, easy_lgbm.predict(X_test)))\n",
    "\n",
    "# predict_proba_easy_lgbm = pd.DataFrame(easy_lgbm.predict_proba(X_test))\n",
    "# predict_proba_easy_lgbm"
   ]
  },
  {
   "cell_type": "code",
   "execution_count": 40,
   "metadata": {},
   "outputs": [],
   "source": [
    "# prediction = pd.DataFrame(easy_lgbm.predict(X_test))\n",
    "# prediction.value_counts()"
   ]
  },
  {
   "cell_type": "markdown",
   "metadata": {},
   "source": [
    "## Basic Evaluation"
   ]
  },
  {
   "cell_type": "code",
   "execution_count": 41,
   "metadata": {},
   "outputs": [],
   "source": [
    "def evaluate(model, X, y):\n",
    "    h = model.predict(X)\n",
    "    errors = abs(h - y)\n",
    "    print('Average Error: {:0.4f} degrees.'.format(np.mean(errors)))\n",
    "    print(classification_report(y,h))\n",
    "    print('Confusion matrix:\\n',confusion_matrix(y,h))\n",
    "    print('Recall Score = ',recall_score(y, h))\n",
    "    print('Precision Score = ',precision_score(y, h))\n",
    "    print('F1 score = ', f1_score(y,h))\n",
    "\n",
    "    return evaluate"
   ]
  },
  {
   "cell_type": "markdown",
   "metadata": {},
   "source": [
    "### Train set"
   ]
  },
  {
   "cell_type": "code",
   "execution_count": 42,
   "metadata": {},
   "outputs": [
    {
     "name": "stdout",
     "output_type": "stream",
     "text": [
      "Average Error: 0.1833 degrees.\n",
      "              precision    recall  f1-score   support\n",
      "\n",
      "         0.0       0.93      0.82      0.87      9193\n",
      "         1.0       0.60      0.81      0.69      3067\n",
      "\n",
      "    accuracy                           0.82     12260\n",
      "   macro avg       0.76      0.81      0.78     12260\n",
      "weighted avg       0.85      0.82      0.82     12260\n",
      "\n",
      "Confusion matrix:\n",
      " [[7527 1666]\n",
      " [ 581 2486]]\n",
      "Recall Score =  0.8105640691229214\n",
      "Precision Score =  0.598747591522158\n",
      "F1 score =  0.6887380523618231\n"
     ]
    },
    {
     "data": {
      "text/plain": [
       "<function __main__.evaluate(model, X, y)>"
      ]
     },
     "execution_count": 42,
     "metadata": {},
     "output_type": "execute_result"
    }
   ],
   "source": [
    "evaluate(svm, X_train, y_train)"
   ]
  },
  {
   "cell_type": "markdown",
   "metadata": {},
   "source": [
    "### Cross validation set"
   ]
  },
  {
   "cell_type": "code",
   "execution_count": 43,
   "metadata": {},
   "outputs": [
    {
     "name": "stdout",
     "output_type": "stream",
     "text": [
      "Average Error: 0.2430 degrees.\n",
      "              precision    recall  f1-score   support\n",
      "\n",
      "         0.0       0.88      0.78      0.83      2296\n",
      "         1.0       0.51      0.68      0.58       770\n",
      "\n",
      "    accuracy                           0.76      3066\n",
      "   macro avg       0.70      0.73      0.71      3066\n",
      "weighted avg       0.79      0.76      0.77      3066\n",
      "\n",
      "Confusion matrix:\n",
      " [[1801  495]\n",
      " [ 250  520]]\n",
      "Recall Score =  0.6753246753246753\n",
      "Precision Score =  0.5123152709359606\n",
      "F1 score =  0.5826330532212886\n"
     ]
    },
    {
     "data": {
      "text/plain": [
       "<function __main__.evaluate(model, X, y)>"
      ]
     },
     "execution_count": 43,
     "metadata": {},
     "output_type": "execute_result"
    }
   ],
   "source": [
    "evaluate(svm, X_cv, y_cv)"
   ]
  },
  {
   "cell_type": "markdown",
   "metadata": {},
   "source": [
    "### Test set"
   ]
  },
  {
   "cell_type": "code",
   "execution_count": 44,
   "metadata": {},
   "outputs": [
    {
     "name": "stdout",
     "output_type": "stream",
     "text": [
      "Average Error: 0.1962 degrees.\n",
      "              precision    recall  f1-score   support\n",
      "\n",
      "         0.0       0.92      0.81      0.86      2871\n",
      "         1.0       0.58      0.79      0.67       961\n",
      "\n",
      "    accuracy                           0.80      3832\n",
      "   macro avg       0.75      0.80      0.76      3832\n",
      "weighted avg       0.83      0.80      0.81      3832\n",
      "\n",
      "Confusion matrix:\n",
      " [[2324  547]\n",
      " [ 205  756]]\n",
      "Recall Score =  0.7866805411030177\n",
      "Precision Score =  0.580199539524175\n",
      "F1 score =  0.667844522968198\n"
     ]
    },
    {
     "data": {
      "text/plain": [
       "<function __main__.evaluate(model, X, y)>"
      ]
     },
     "execution_count": 44,
     "metadata": {},
     "output_type": "execute_result"
    }
   ],
   "source": [
    "evaluate(svm, X_test, y_test)"
   ]
  },
  {
   "cell_type": "markdown",
   "metadata": {},
   "source": [
    "### Coefficients"
   ]
  },
  {
   "cell_type": "code",
   "execution_count": null,
   "metadata": {},
   "outputs": [],
   "source": []
  },
  {
   "cell_type": "code",
   "execution_count": null,
   "metadata": {},
   "outputs": [],
   "source": []
  },
  {
   "cell_type": "code",
   "execution_count": 45,
   "metadata": {},
   "outputs": [
    {
     "data": {
      "text/plain": [
       "['Models/svm_no_under_sample_balanced_class_weight.pkl']"
      ]
     },
     "execution_count": 45,
     "metadata": {},
     "output_type": "execute_result"
    }
   ],
   "source": [
    "# joblib.dump(log_reg, \"Models/default_log_reg_first_ver.pkl\")\n",
    "# joblib.dump(log_reg, \"Models/log_reg_under_sample.pkl\")\n",
    "joblib.dump(svm, \"Models/svm_no_under_sample_balanced_class_weight.pkl\")"
   ]
  }
 ],
 "metadata": {
  "kernelspec": {
   "display_name": "Python 3",
   "language": "python",
   "name": "python3"
  },
  "language_info": {
   "codemirror_mode": {
    "name": "ipython",
    "version": 3
   },
   "file_extension": ".py",
   "mimetype": "text/x-python",
   "name": "python",
   "nbconvert_exporter": "python",
   "pygments_lexer": "ipython3",
   "version": "3.8.5"
  },
  "metadata": {
   "interpreter": {
    "hash": "3516c099f2e50fbe6b83d8aca3e7ba54c35d25f18189c7f24f96f469bdbc3fe7"
   }
  }
 },
 "nbformat": 4,
 "nbformat_minor": 2
}
