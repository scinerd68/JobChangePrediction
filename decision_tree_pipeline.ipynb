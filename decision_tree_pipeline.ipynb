{
 "cells": [
  {
   "cell_type": "code",
   "execution_count": 1,
   "metadata": {},
   "outputs": [],
   "source": [
    "from sklearn.pipeline import Pipeline\r\n",
    "from sklearn.preprocessing import StandardScaler\r\n",
    "from sklearn.compose import ColumnTransformer\r\n",
    "from sklearn.preprocessing import OneHotEncoder\r\n",
    "from sklearn.preprocessing import LabelEncoder\r\n",
    "from sklearn.preprocessing import OrdinalEncoder\r\n",
    "from sklearn.experimental import enable_iterative_imputer\r\n",
    "from sklearn.impute import SimpleImputer\r\n",
    "from sklearn.impute import KNNImputer\r\n",
    "from sklearn.impute import IterativeImputer\r\n",
    "from sklearn.base import BaseEstimator\r\n",
    "from sklearn.base import TransformerMixin\r\n",
    "from sklearn.impute import MissingIndicator"
   ]
  },
  {
   "cell_type": "code",
   "execution_count": 2,
   "metadata": {},
   "outputs": [],
   "source": [
    "import numpy as np\r\n",
    "import pandas as pd"
   ]
  },
  {
   "cell_type": "code",
   "execution_count": 3,
   "metadata": {},
   "outputs": [],
   "source": [
    "train_set = pd.read_csv(\"Data/train.csv\")"
   ]
  },
  {
   "cell_type": "code",
   "execution_count": 4,
   "metadata": {},
   "outputs": [
    {
     "data": {
      "text/html": "<div>\n<style scoped>\n    .dataframe tbody tr th:only-of-type {\n        vertical-align: middle;\n    }\n\n    .dataframe tbody tr th {\n        vertical-align: top;\n    }\n\n    .dataframe thead th {\n        text-align: right;\n    }\n</style>\n<table border=\"1\" class=\"dataframe\">\n  <thead>\n    <tr style=\"text-align: right;\">\n      <th></th>\n      <th>enrollee_id</th>\n      <th>city</th>\n      <th>city_development_index</th>\n      <th>gender</th>\n      <th>relevent_experience</th>\n      <th>enrolled_university</th>\n      <th>education_level</th>\n      <th>major_discipline</th>\n      <th>experience</th>\n      <th>company_size</th>\n      <th>company_type</th>\n      <th>last_new_job</th>\n      <th>training_hours</th>\n      <th>target</th>\n    </tr>\n  </thead>\n  <tbody>\n    <tr>\n      <th>0</th>\n      <td>22601</td>\n      <td>city_61</td>\n      <td>0.913</td>\n      <td>NaN</td>\n      <td>Has relevent experience</td>\n      <td>no_enrollment</td>\n      <td>Graduate</td>\n      <td>STEM</td>\n      <td>6</td>\n      <td>50-99</td>\n      <td>Funded Startup</td>\n      <td>2</td>\n      <td>304</td>\n      <td>0.0</td>\n    </tr>\n    <tr>\n      <th>1</th>\n      <td>32926</td>\n      <td>city_104</td>\n      <td>0.924</td>\n      <td>Female</td>\n      <td>No relevent experience</td>\n      <td>Part time course</td>\n      <td>Graduate</td>\n      <td>STEM</td>\n      <td>19</td>\n      <td>10000+</td>\n      <td>Pvt Ltd</td>\n      <td>4</td>\n      <td>81</td>\n      <td>0.0</td>\n    </tr>\n    <tr>\n      <th>2</th>\n      <td>11499</td>\n      <td>city_114</td>\n      <td>0.926</td>\n      <td>Male</td>\n      <td>Has relevent experience</td>\n      <td>no_enrollment</td>\n      <td>Graduate</td>\n      <td>STEM</td>\n      <td>10</td>\n      <td>&lt;10</td>\n      <td>Pvt Ltd</td>\n      <td>2</td>\n      <td>76</td>\n      <td>0.0</td>\n    </tr>\n    <tr>\n      <th>3</th>\n      <td>23859</td>\n      <td>city_100</td>\n      <td>0.887</td>\n      <td>Male</td>\n      <td>Has relevent experience</td>\n      <td>Part time course</td>\n      <td>Graduate</td>\n      <td>STEM</td>\n      <td>&gt;20</td>\n      <td>NaN</td>\n      <td>Pvt Ltd</td>\n      <td>2</td>\n      <td>53</td>\n      <td>0.0</td>\n    </tr>\n    <tr>\n      <th>4</th>\n      <td>4916</td>\n      <td>city_128</td>\n      <td>0.527</td>\n      <td>Male</td>\n      <td>No relevent experience</td>\n      <td>no_enrollment</td>\n      <td>Graduate</td>\n      <td>STEM</td>\n      <td>5</td>\n      <td>NaN</td>\n      <td>NaN</td>\n      <td>1</td>\n      <td>92</td>\n      <td>0.0</td>\n    </tr>\n  </tbody>\n</table>\n</div>",
      "text/plain": "   enrollee_id      city  city_development_index  gender  \\\n0        22601   city_61                   0.913     NaN   \n1        32926  city_104                   0.924  Female   \n2        11499  city_114                   0.926    Male   \n3        23859  city_100                   0.887    Male   \n4         4916  city_128                   0.527    Male   \n\n       relevent_experience enrolled_university education_level  \\\n0  Has relevent experience       no_enrollment        Graduate   \n1   No relevent experience    Part time course        Graduate   \n2  Has relevent experience       no_enrollment        Graduate   \n3  Has relevent experience    Part time course        Graduate   \n4   No relevent experience       no_enrollment        Graduate   \n\n  major_discipline experience company_size    company_type last_new_job  \\\n0             STEM          6        50-99  Funded Startup            2   \n1             STEM         19       10000+         Pvt Ltd            4   \n2             STEM         10          <10         Pvt Ltd            2   \n3             STEM        >20          NaN         Pvt Ltd            2   \n4             STEM          5          NaN             NaN            1   \n\n   training_hours  target  \n0             304     0.0  \n1              81     0.0  \n2              76     0.0  \n3              53     0.0  \n4              92     0.0  "
     },
     "execution_count": 4,
     "metadata": {},
     "output_type": "execute_result"
    }
   ],
   "source": [
    "train_set.head()"
   ]
  },
  {
   "cell_type": "code",
   "execution_count": 5,
   "metadata": {},
   "outputs": [],
   "source": [
    "job_change = train_set.drop(\"target\", axis=1)"
   ]
  },
  {
   "cell_type": "code",
   "execution_count": 6,
   "metadata": {},
   "outputs": [
    {
     "data": {
      "text/html": "<div>\n<style scoped>\n    .dataframe tbody tr th:only-of-type {\n        vertical-align: middle;\n    }\n\n    .dataframe tbody tr th {\n        vertical-align: top;\n    }\n\n    .dataframe thead th {\n        text-align: right;\n    }\n</style>\n<table border=\"1\" class=\"dataframe\">\n  <thead>\n    <tr style=\"text-align: right;\">\n      <th></th>\n      <th>enrollee_id</th>\n      <th>city</th>\n      <th>city_development_index</th>\n      <th>gender</th>\n      <th>relevent_experience</th>\n      <th>enrolled_university</th>\n      <th>education_level</th>\n      <th>major_discipline</th>\n      <th>experience</th>\n      <th>company_size</th>\n      <th>company_type</th>\n      <th>last_new_job</th>\n      <th>training_hours</th>\n    </tr>\n  </thead>\n  <tbody>\n    <tr>\n      <th>0</th>\n      <td>22601</td>\n      <td>city_61</td>\n      <td>0.913</td>\n      <td>NaN</td>\n      <td>Has relevent experience</td>\n      <td>no_enrollment</td>\n      <td>Graduate</td>\n      <td>STEM</td>\n      <td>6</td>\n      <td>50-99</td>\n      <td>Funded Startup</td>\n      <td>2</td>\n      <td>304</td>\n    </tr>\n    <tr>\n      <th>1</th>\n      <td>32926</td>\n      <td>city_104</td>\n      <td>0.924</td>\n      <td>Female</td>\n      <td>No relevent experience</td>\n      <td>Part time course</td>\n      <td>Graduate</td>\n      <td>STEM</td>\n      <td>19</td>\n      <td>10000+</td>\n      <td>Pvt Ltd</td>\n      <td>4</td>\n      <td>81</td>\n    </tr>\n    <tr>\n      <th>2</th>\n      <td>11499</td>\n      <td>city_114</td>\n      <td>0.926</td>\n      <td>Male</td>\n      <td>Has relevent experience</td>\n      <td>no_enrollment</td>\n      <td>Graduate</td>\n      <td>STEM</td>\n      <td>10</td>\n      <td>&lt;10</td>\n      <td>Pvt Ltd</td>\n      <td>2</td>\n      <td>76</td>\n    </tr>\n    <tr>\n      <th>3</th>\n      <td>23859</td>\n      <td>city_100</td>\n      <td>0.887</td>\n      <td>Male</td>\n      <td>Has relevent experience</td>\n      <td>Part time course</td>\n      <td>Graduate</td>\n      <td>STEM</td>\n      <td>&gt;20</td>\n      <td>NaN</td>\n      <td>Pvt Ltd</td>\n      <td>2</td>\n      <td>53</td>\n    </tr>\n    <tr>\n      <th>4</th>\n      <td>4916</td>\n      <td>city_128</td>\n      <td>0.527</td>\n      <td>Male</td>\n      <td>No relevent experience</td>\n      <td>no_enrollment</td>\n      <td>Graduate</td>\n      <td>STEM</td>\n      <td>5</td>\n      <td>NaN</td>\n      <td>NaN</td>\n      <td>1</td>\n      <td>92</td>\n    </tr>\n  </tbody>\n</table>\n</div>",
      "text/plain": "   enrollee_id      city  city_development_index  gender  \\\n0        22601   city_61                   0.913     NaN   \n1        32926  city_104                   0.924  Female   \n2        11499  city_114                   0.926    Male   \n3        23859  city_100                   0.887    Male   \n4         4916  city_128                   0.527    Male   \n\n       relevent_experience enrolled_university education_level  \\\n0  Has relevent experience       no_enrollment        Graduate   \n1   No relevent experience    Part time course        Graduate   \n2  Has relevent experience       no_enrollment        Graduate   \n3  Has relevent experience    Part time course        Graduate   \n4   No relevent experience       no_enrollment        Graduate   \n\n  major_discipline experience company_size    company_type last_new_job  \\\n0             STEM          6        50-99  Funded Startup            2   \n1             STEM         19       10000+         Pvt Ltd            4   \n2             STEM         10          <10         Pvt Ltd            2   \n3             STEM        >20          NaN         Pvt Ltd            2   \n4             STEM          5          NaN             NaN            1   \n\n   training_hours  \n0             304  \n1              81  \n2              76  \n3              53  \n4              92  "
     },
     "execution_count": 6,
     "metadata": {},
     "output_type": "execute_result"
    }
   ],
   "source": [
    "job_change.head()"
   ]
  },
  {
   "cell_type": "markdown",
   "metadata": {},
   "source": [
    "# Testing transformers"
   ]
  },
  {
   "cell_type": "code",
   "execution_count": 7,
   "metadata": {},
   "outputs": [],
   "source": [
    "job_change_temp = job_change.copy()"
   ]
  },
  {
   "cell_type": "code",
   "execution_count": 8,
   "metadata": {},
   "outputs": [
    {
     "data": {
      "text/html": "<div>\n<style scoped>\n    .dataframe tbody tr th:only-of-type {\n        vertical-align: middle;\n    }\n\n    .dataframe tbody tr th {\n        vertical-align: top;\n    }\n\n    .dataframe thead th {\n        text-align: right;\n    }\n</style>\n<table border=\"1\" class=\"dataframe\">\n  <thead>\n    <tr style=\"text-align: right;\">\n      <th></th>\n      <th>enrollee_id</th>\n      <th>city</th>\n      <th>city_development_index</th>\n      <th>gender</th>\n      <th>relevent_experience</th>\n      <th>enrolled_university</th>\n      <th>education_level</th>\n      <th>major_discipline</th>\n      <th>experience</th>\n      <th>company_size</th>\n      <th>company_type</th>\n      <th>last_new_job</th>\n      <th>training_hours</th>\n    </tr>\n  </thead>\n  <tbody>\n    <tr>\n      <th>0</th>\n      <td>22601</td>\n      <td>city_61</td>\n      <td>0.913</td>\n      <td>NaN</td>\n      <td>Has relevent experience</td>\n      <td>no_enrollment</td>\n      <td>Graduate</td>\n      <td>STEM</td>\n      <td>6</td>\n      <td>50-99</td>\n      <td>Funded Startup</td>\n      <td>2</td>\n      <td>304</td>\n    </tr>\n    <tr>\n      <th>1</th>\n      <td>32926</td>\n      <td>city_104</td>\n      <td>0.924</td>\n      <td>Female</td>\n      <td>No relevent experience</td>\n      <td>Part time course</td>\n      <td>Graduate</td>\n      <td>STEM</td>\n      <td>19</td>\n      <td>10000+</td>\n      <td>Pvt Ltd</td>\n      <td>4</td>\n      <td>81</td>\n    </tr>\n    <tr>\n      <th>2</th>\n      <td>11499</td>\n      <td>city_114</td>\n      <td>0.926</td>\n      <td>Male</td>\n      <td>Has relevent experience</td>\n      <td>no_enrollment</td>\n      <td>Graduate</td>\n      <td>STEM</td>\n      <td>10</td>\n      <td>&lt;10</td>\n      <td>Pvt Ltd</td>\n      <td>2</td>\n      <td>76</td>\n    </tr>\n    <tr>\n      <th>3</th>\n      <td>23859</td>\n      <td>city_100</td>\n      <td>0.887</td>\n      <td>Male</td>\n      <td>Has relevent experience</td>\n      <td>Part time course</td>\n      <td>Graduate</td>\n      <td>STEM</td>\n      <td>&gt;20</td>\n      <td>NaN</td>\n      <td>Pvt Ltd</td>\n      <td>2</td>\n      <td>53</td>\n    </tr>\n    <tr>\n      <th>4</th>\n      <td>4916</td>\n      <td>city_128</td>\n      <td>0.527</td>\n      <td>Male</td>\n      <td>No relevent experience</td>\n      <td>no_enrollment</td>\n      <td>Graduate</td>\n      <td>STEM</td>\n      <td>5</td>\n      <td>NaN</td>\n      <td>NaN</td>\n      <td>1</td>\n      <td>92</td>\n    </tr>\n  </tbody>\n</table>\n</div>",
      "text/plain": "   enrollee_id      city  city_development_index  gender  \\\n0        22601   city_61                   0.913     NaN   \n1        32926  city_104                   0.924  Female   \n2        11499  city_114                   0.926    Male   \n3        23859  city_100                   0.887    Male   \n4         4916  city_128                   0.527    Male   \n\n       relevent_experience enrolled_university education_level  \\\n0  Has relevent experience       no_enrollment        Graduate   \n1   No relevent experience    Part time course        Graduate   \n2  Has relevent experience       no_enrollment        Graduate   \n3  Has relevent experience    Part time course        Graduate   \n4   No relevent experience       no_enrollment        Graduate   \n\n  major_discipline experience company_size    company_type last_new_job  \\\n0             STEM          6        50-99  Funded Startup            2   \n1             STEM         19       10000+         Pvt Ltd            4   \n2             STEM         10          <10         Pvt Ltd            2   \n3             STEM        >20          NaN         Pvt Ltd            2   \n4             STEM          5          NaN             NaN            1   \n\n   training_hours  \n0             304  \n1              81  \n2              76  \n3              53  \n4              92  "
     },
     "execution_count": 8,
     "metadata": {},
     "output_type": "execute_result"
    }
   ],
   "source": [
    "job_change_temp.head()"
   ]
  },
  {
   "cell_type": "code",
   "execution_count": 9,
   "metadata": {},
   "outputs": [],
   "source": [
    "num_attribs = ['city_development_index', 'training_hours']\r\n",
    "ord_cat_attribs = ['relevent_experience', 'enrolled_university', 'education_level', 'experience', 'company_size', 'last_new_job']\r\n",
    "nom_cat_attribs = ['gender', 'major_discipline', 'company_type']"
   ]
  },
  {
   "cell_type": "code",
   "execution_count": 10,
   "metadata": {},
   "outputs": [],
   "source": [
    "from custom_transformer import OrdToNumeric"
   ]
  },
  {
   "cell_type": "code",
   "execution_count": 11,
   "metadata": {},
   "outputs": [],
   "source": [
    "ord_transformer = OrdToNumeric()"
   ]
  },
  {
   "cell_type": "code",
   "execution_count": 12,
   "metadata": {},
   "outputs": [
    {
     "name": "stderr",
     "output_type": "stream",
     "text": [
      "d:\\ComputerScience\\BachKhoa\\MachineLearning\\Project\\custom_transformer.py:23: SettingWithCopyWarning: \n",
      "A value is trying to be set on a copy of a slice from a DataFrame.\n",
      "Try using .loc[row_indexer,col_indexer] = value instead\n",
      "\n",
      "See the caveats in the documentation: https://pandas.pydata.org/pandas-docs/stable/user_guide/indexing.html#returning-a-view-versus-a-copy\n",
      "  X['relevent_experience'] = X['relevent_experience'].apply(self.relevent_experience_to_numeric)\n",
      "d:\\ComputerScience\\BachKhoa\\MachineLearning\\Project\\custom_transformer.py:24: SettingWithCopyWarning: \n",
      "A value is trying to be set on a copy of a slice from a DataFrame.\n",
      "Try using .loc[row_indexer,col_indexer] = value instead\n",
      "\n",
      "See the caveats in the documentation: https://pandas.pydata.org/pandas-docs/stable/user_guide/indexing.html#returning-a-view-versus-a-copy\n",
      "  X['enrolled_university'] = X['enrolled_university'].apply(self.enrolled_university_to_numeric)\n",
      "d:\\ComputerScience\\BachKhoa\\MachineLearning\\Project\\custom_transformer.py:25: SettingWithCopyWarning: \n",
      "A value is trying to be set on a copy of a slice from a DataFrame.\n",
      "Try using .loc[row_indexer,col_indexer] = value instead\n",
      "\n",
      "See the caveats in the documentation: https://pandas.pydata.org/pandas-docs/stable/user_guide/indexing.html#returning-a-view-versus-a-copy\n",
      "  X['education_level'] = X['education_level'].apply(self.education_level_to_numeric)\n",
      "d:\\ComputerScience\\BachKhoa\\MachineLearning\\Project\\custom_transformer.py:26: SettingWithCopyWarning: \n",
      "A value is trying to be set on a copy of a slice from a DataFrame.\n",
      "Try using .loc[row_indexer,col_indexer] = value instead\n",
      "\n",
      "See the caveats in the documentation: https://pandas.pydata.org/pandas-docs/stable/user_guide/indexing.html#returning-a-view-versus-a-copy\n",
      "  X['experience'] = X['experience'].apply(self.experience_to_numeric)\n",
      "d:\\ComputerScience\\BachKhoa\\MachineLearning\\Project\\custom_transformer.py:27: SettingWithCopyWarning: \n",
      "A value is trying to be set on a copy of a slice from a DataFrame.\n",
      "Try using .loc[row_indexer,col_indexer] = value instead\n",
      "\n",
      "See the caveats in the documentation: https://pandas.pydata.org/pandas-docs/stable/user_guide/indexing.html#returning-a-view-versus-a-copy\n",
      "  X['company_size'] = X['company_size'].apply(self.company_size_to_numeric)\n",
      "d:\\ComputerScience\\BachKhoa\\MachineLearning\\Project\\custom_transformer.py:28: SettingWithCopyWarning: \n",
      "A value is trying to be set on a copy of a slice from a DataFrame.\n",
      "Try using .loc[row_indexer,col_indexer] = value instead\n",
      "\n",
      "See the caveats in the documentation: https://pandas.pydata.org/pandas-docs/stable/user_guide/indexing.html#returning-a-view-versus-a-copy\n",
      "  X['last_new_job'] = X['last_new_job'].apply(self.last_new_job_to_numeric)\n"
     ]
    }
   ],
   "source": [
    "job_change_temp[ord_cat_attribs] = ord_transformer.fit_transform(job_change_temp[ord_cat_attribs])"
   ]
  },
  {
   "cell_type": "code",
   "execution_count": 13,
   "metadata": {},
   "outputs": [
    {
     "data": {
      "text/html": "<div>\n<style scoped>\n    .dataframe tbody tr th:only-of-type {\n        vertical-align: middle;\n    }\n\n    .dataframe tbody tr th {\n        vertical-align: top;\n    }\n\n    .dataframe thead th {\n        text-align: right;\n    }\n</style>\n<table border=\"1\" class=\"dataframe\">\n  <thead>\n    <tr style=\"text-align: right;\">\n      <th></th>\n      <th>relevent_experience</th>\n      <th>enrolled_university</th>\n      <th>education_level</th>\n      <th>experience</th>\n      <th>company_size</th>\n      <th>last_new_job</th>\n    </tr>\n  </thead>\n  <tbody>\n    <tr>\n      <th>0</th>\n      <td>1</td>\n      <td>0.0</td>\n      <td>3.0</td>\n      <td>6.0</td>\n      <td>2.0</td>\n      <td>2.0</td>\n    </tr>\n    <tr>\n      <th>1</th>\n      <td>0</td>\n      <td>1.0</td>\n      <td>3.0</td>\n      <td>19.0</td>\n      <td>7.0</td>\n      <td>4.0</td>\n    </tr>\n    <tr>\n      <th>2</th>\n      <td>1</td>\n      <td>0.0</td>\n      <td>3.0</td>\n      <td>10.0</td>\n      <td>0.0</td>\n      <td>2.0</td>\n    </tr>\n    <tr>\n      <th>3</th>\n      <td>1</td>\n      <td>1.0</td>\n      <td>3.0</td>\n      <td>21.0</td>\n      <td>NaN</td>\n      <td>2.0</td>\n    </tr>\n    <tr>\n      <th>4</th>\n      <td>0</td>\n      <td>0.0</td>\n      <td>3.0</td>\n      <td>5.0</td>\n      <td>NaN</td>\n      <td>1.0</td>\n    </tr>\n    <tr>\n      <th>...</th>\n      <td>...</td>\n      <td>...</td>\n      <td>...</td>\n      <td>...</td>\n      <td>...</td>\n      <td>...</td>\n    </tr>\n    <tr>\n      <th>11489</th>\n      <td>1</td>\n      <td>0.0</td>\n      <td>4.0</td>\n      <td>21.0</td>\n      <td>NaN</td>\n      <td>5.0</td>\n    </tr>\n    <tr>\n      <th>11490</th>\n      <td>1</td>\n      <td>0.0</td>\n      <td>3.0</td>\n      <td>21.0</td>\n      <td>2.0</td>\n      <td>1.0</td>\n    </tr>\n    <tr>\n      <th>11491</th>\n      <td>0</td>\n      <td>2.0</td>\n      <td>2.0</td>\n      <td>4.0</td>\n      <td>0.0</td>\n      <td>1.0</td>\n    </tr>\n    <tr>\n      <th>11492</th>\n      <td>1</td>\n      <td>0.0</td>\n      <td>NaN</td>\n      <td>21.0</td>\n      <td>7.0</td>\n      <td>5.0</td>\n    </tr>\n    <tr>\n      <th>11493</th>\n      <td>1</td>\n      <td>0.0</td>\n      <td>3.0</td>\n      <td>17.0</td>\n      <td>2.0</td>\n      <td>5.0</td>\n    </tr>\n  </tbody>\n</table>\n<p>11494 rows × 6 columns</p>\n</div>",
      "text/plain": "       relevent_experience  enrolled_university  education_level  experience  \\\n0                        1                  0.0              3.0         6.0   \n1                        0                  1.0              3.0        19.0   \n2                        1                  0.0              3.0        10.0   \n3                        1                  1.0              3.0        21.0   \n4                        0                  0.0              3.0         5.0   \n...                    ...                  ...              ...         ...   \n11489                    1                  0.0              4.0        21.0   \n11490                    1                  0.0              3.0        21.0   \n11491                    0                  2.0              2.0         4.0   \n11492                    1                  0.0              NaN        21.0   \n11493                    1                  0.0              3.0        17.0   \n\n       company_size  last_new_job  \n0               2.0           2.0  \n1               7.0           4.0  \n2               0.0           2.0  \n3               NaN           2.0  \n4               NaN           1.0  \n...             ...           ...  \n11489           NaN           5.0  \n11490           2.0           1.0  \n11491           0.0           1.0  \n11492           7.0           5.0  \n11493           2.0           5.0  \n\n[11494 rows x 6 columns]"
     },
     "execution_count": 13,
     "metadata": {},
     "output_type": "execute_result"
    }
   ],
   "source": [
    "job_change_temp[ord_cat_attribs]"
   ]
  },
  {
   "cell_type": "code",
   "execution_count": 14,
   "metadata": {},
   "outputs": [],
   "source": [
    "from custom_transformer import CustomEncoder"
   ]
  },
  {
   "cell_type": "code",
   "execution_count": 15,
   "metadata": {},
   "outputs": [],
   "source": [
    "nom_transformer = CustomEncoder()"
   ]
  },
  {
   "cell_type": "code",
   "execution_count": 16,
   "metadata": {},
   "outputs": [
    {
     "name": "stderr",
     "output_type": "stream",
     "text": [
      "C:\\Users\\Admin\\AppData\\Roaming\\Python\\Python37\\site-packages\\pandas\\core\\indexing.py:670: SettingWithCopyWarning: \n",
      "A value is trying to be set on a copy of a slice from a DataFrame\n",
      "\n",
      "See the caveats in the documentation: https://pandas.pydata.org/pandas-docs/stable/user_guide/indexing.html#returning-a-view-versus-a-copy\n",
      "  self._setitem_with_indexer(indexer, value)\n",
      "d:\\ComputerScience\\BachKhoa\\MachineLearning\\Project\\custom_transformer.py:124: SettingWithCopyWarning: \n",
      "A value is trying to be set on a copy of a slice from a DataFrame\n",
      "\n",
      "See the caveats in the documentation: https://pandas.pydata.org/pandas-docs/stable/user_guide/indexing.html#returning-a-view-versus-a-copy\n",
      "  lambda x: le_dict.get(x, le_dict['_unk'])).values\n"
     ]
    }
   ],
   "source": [
    "job_change_temp[nom_cat_attribs] = nom_transformer.fit_transform(job_change_temp[nom_cat_attribs])"
   ]
  },
  {
   "cell_type": "code",
   "execution_count": 17,
   "metadata": {},
   "outputs": [
    {
     "data": {
      "text/html": "<div>\n<style scoped>\n    .dataframe tbody tr th:only-of-type {\n        vertical-align: middle;\n    }\n\n    .dataframe tbody tr th {\n        vertical-align: top;\n    }\n\n    .dataframe thead th {\n        text-align: right;\n    }\n</style>\n<table border=\"1\" class=\"dataframe\">\n  <thead>\n    <tr style=\"text-align: right;\">\n      <th></th>\n      <th>gender</th>\n      <th>major_discipline</th>\n      <th>company_type</th>\n    </tr>\n  </thead>\n  <tbody>\n    <tr>\n      <th>0</th>\n      <td>NaN</td>\n      <td>5</td>\n      <td>1</td>\n    </tr>\n    <tr>\n      <th>1</th>\n      <td>0</td>\n      <td>5</td>\n      <td>5</td>\n    </tr>\n    <tr>\n      <th>2</th>\n      <td>1</td>\n      <td>5</td>\n      <td>5</td>\n    </tr>\n    <tr>\n      <th>3</th>\n      <td>1</td>\n      <td>5</td>\n      <td>5</td>\n    </tr>\n    <tr>\n      <th>4</th>\n      <td>1</td>\n      <td>5</td>\n      <td>NaN</td>\n    </tr>\n    <tr>\n      <th>...</th>\n      <td>...</td>\n      <td>...</td>\n      <td>...</td>\n    </tr>\n    <tr>\n      <th>11489</th>\n      <td>1</td>\n      <td>5</td>\n      <td>NaN</td>\n    </tr>\n    <tr>\n      <th>11490</th>\n      <td>1</td>\n      <td>5</td>\n      <td>1</td>\n    </tr>\n    <tr>\n      <th>11491</th>\n      <td>1</td>\n      <td>NaN</td>\n      <td>0</td>\n    </tr>\n    <tr>\n      <th>11492</th>\n      <td>1</td>\n      <td>NaN</td>\n      <td>5</td>\n    </tr>\n    <tr>\n      <th>11493</th>\n      <td>1</td>\n      <td>5</td>\n      <td>3</td>\n    </tr>\n  </tbody>\n</table>\n<p>11494 rows × 3 columns</p>\n</div>",
      "text/plain": "      gender major_discipline company_type\n0        NaN                5            1\n1          0                5            5\n2          1                5            5\n3          1                5            5\n4          1                5          NaN\n...      ...              ...          ...\n11489      1                5          NaN\n11490      1                5            1\n11491      1              NaN            0\n11492      1              NaN            5\n11493      1                5            3\n\n[11494 rows x 3 columns]"
     },
     "execution_count": 17,
     "metadata": {},
     "output_type": "execute_result"
    }
   ],
   "source": [
    "job_change_temp[nom_cat_attribs]"
   ]
  },
  {
   "cell_type": "code",
   "execution_count": 18,
   "metadata": {},
   "outputs": [],
   "source": [
    "job_change_temp.drop([\"enrollee_id\", \"city\"], axis=1, inplace=True)"
   ]
  },
  {
   "cell_type": "code",
   "execution_count": 19,
   "metadata": {},
   "outputs": [
    {
     "data": {
      "text/html": "<div>\n<style scoped>\n    .dataframe tbody tr th:only-of-type {\n        vertical-align: middle;\n    }\n\n    .dataframe tbody tr th {\n        vertical-align: top;\n    }\n\n    .dataframe thead th {\n        text-align: right;\n    }\n</style>\n<table border=\"1\" class=\"dataframe\">\n  <thead>\n    <tr style=\"text-align: right;\">\n      <th></th>\n      <th>city_development_index</th>\n      <th>gender</th>\n      <th>relevent_experience</th>\n      <th>enrolled_university</th>\n      <th>education_level</th>\n      <th>major_discipline</th>\n      <th>experience</th>\n      <th>company_size</th>\n      <th>company_type</th>\n      <th>last_new_job</th>\n      <th>training_hours</th>\n    </tr>\n  </thead>\n  <tbody>\n    <tr>\n      <th>0</th>\n      <td>0.913</td>\n      <td>NaN</td>\n      <td>1</td>\n      <td>0.0</td>\n      <td>3.0</td>\n      <td>5</td>\n      <td>6.0</td>\n      <td>2.0</td>\n      <td>1</td>\n      <td>2.0</td>\n      <td>304</td>\n    </tr>\n    <tr>\n      <th>1</th>\n      <td>0.924</td>\n      <td>0</td>\n      <td>0</td>\n      <td>1.0</td>\n      <td>3.0</td>\n      <td>5</td>\n      <td>19.0</td>\n      <td>7.0</td>\n      <td>5</td>\n      <td>4.0</td>\n      <td>81</td>\n    </tr>\n    <tr>\n      <th>2</th>\n      <td>0.926</td>\n      <td>1</td>\n      <td>1</td>\n      <td>0.0</td>\n      <td>3.0</td>\n      <td>5</td>\n      <td>10.0</td>\n      <td>0.0</td>\n      <td>5</td>\n      <td>2.0</td>\n      <td>76</td>\n    </tr>\n    <tr>\n      <th>3</th>\n      <td>0.887</td>\n      <td>1</td>\n      <td>1</td>\n      <td>1.0</td>\n      <td>3.0</td>\n      <td>5</td>\n      <td>21.0</td>\n      <td>NaN</td>\n      <td>5</td>\n      <td>2.0</td>\n      <td>53</td>\n    </tr>\n    <tr>\n      <th>4</th>\n      <td>0.527</td>\n      <td>1</td>\n      <td>0</td>\n      <td>0.0</td>\n      <td>3.0</td>\n      <td>5</td>\n      <td>5.0</td>\n      <td>NaN</td>\n      <td>NaN</td>\n      <td>1.0</td>\n      <td>92</td>\n    </tr>\n    <tr>\n      <th>...</th>\n      <td>...</td>\n      <td>...</td>\n      <td>...</td>\n      <td>...</td>\n      <td>...</td>\n      <td>...</td>\n      <td>...</td>\n      <td>...</td>\n      <td>...</td>\n      <td>...</td>\n      <td>...</td>\n    </tr>\n    <tr>\n      <th>11489</th>\n      <td>0.920</td>\n      <td>1</td>\n      <td>1</td>\n      <td>0.0</td>\n      <td>4.0</td>\n      <td>5</td>\n      <td>21.0</td>\n      <td>NaN</td>\n      <td>NaN</td>\n      <td>5.0</td>\n      <td>70</td>\n    </tr>\n    <tr>\n      <th>11490</th>\n      <td>0.920</td>\n      <td>1</td>\n      <td>1</td>\n      <td>0.0</td>\n      <td>3.0</td>\n      <td>5</td>\n      <td>21.0</td>\n      <td>2.0</td>\n      <td>1</td>\n      <td>1.0</td>\n      <td>184</td>\n    </tr>\n    <tr>\n      <th>11491</th>\n      <td>0.558</td>\n      <td>1</td>\n      <td>0</td>\n      <td>2.0</td>\n      <td>2.0</td>\n      <td>NaN</td>\n      <td>4.0</td>\n      <td>0.0</td>\n      <td>0</td>\n      <td>1.0</td>\n      <td>87</td>\n    </tr>\n    <tr>\n      <th>11492</th>\n      <td>0.920</td>\n      <td>1</td>\n      <td>1</td>\n      <td>0.0</td>\n      <td>NaN</td>\n      <td>NaN</td>\n      <td>21.0</td>\n      <td>7.0</td>\n      <td>5</td>\n      <td>5.0</td>\n      <td>62</td>\n    </tr>\n    <tr>\n      <th>11493</th>\n      <td>0.887</td>\n      <td>1</td>\n      <td>1</td>\n      <td>0.0</td>\n      <td>3.0</td>\n      <td>5</td>\n      <td>17.0</td>\n      <td>2.0</td>\n      <td>3</td>\n      <td>5.0</td>\n      <td>105</td>\n    </tr>\n  </tbody>\n</table>\n<p>11494 rows × 11 columns</p>\n</div>",
      "text/plain": "       city_development_index gender  relevent_experience  \\\n0                       0.913    NaN                    1   \n1                       0.924      0                    0   \n2                       0.926      1                    1   \n3                       0.887      1                    1   \n4                       0.527      1                    0   \n...                       ...    ...                  ...   \n11489                   0.920      1                    1   \n11490                   0.920      1                    1   \n11491                   0.558      1                    0   \n11492                   0.920      1                    1   \n11493                   0.887      1                    1   \n\n       enrolled_university  education_level major_discipline  experience  \\\n0                      0.0              3.0                5         6.0   \n1                      1.0              3.0                5        19.0   \n2                      0.0              3.0                5        10.0   \n3                      1.0              3.0                5        21.0   \n4                      0.0              3.0                5         5.0   \n...                    ...              ...              ...         ...   \n11489                  0.0              4.0                5        21.0   \n11490                  0.0              3.0                5        21.0   \n11491                  2.0              2.0              NaN         4.0   \n11492                  0.0              NaN              NaN        21.0   \n11493                  0.0              3.0                5        17.0   \n\n       company_size company_type  last_new_job  training_hours  \n0               2.0            1           2.0             304  \n1               7.0            5           4.0              81  \n2               0.0            5           2.0              76  \n3               NaN            5           2.0              53  \n4               NaN          NaN           1.0              92  \n...             ...          ...           ...             ...  \n11489           NaN          NaN           5.0              70  \n11490           2.0            1           1.0             184  \n11491           0.0            0           1.0              87  \n11492           7.0            5           5.0              62  \n11493           2.0            3           5.0             105  \n\n[11494 rows x 11 columns]"
     },
     "execution_count": 19,
     "metadata": {},
     "output_type": "execute_result"
    }
   ],
   "source": [
    "job_change_temp"
   ]
  },
  {
   "cell_type": "markdown",
   "metadata": {},
   "source": [
    "# Make a pipeline"
   ]
  },
  {
   "cell_type": "code",
   "execution_count": 20,
   "metadata": {},
   "outputs": [],
   "source": [
    "ord_pipeline = Pipeline([\r\n",
    "    ('ord_to_numeric', OrdToNumeric()),\r\n",
    "])"
   ]
  },
  {
   "cell_type": "code",
   "execution_count": 21,
   "metadata": {},
   "outputs": [],
   "source": [
    "nom_pipeline = Pipeline([\r\n",
    "    ('custom_encoder', CustomEncoder()),\r\n",
    "])"
   ]
  },
  {
   "cell_type": "code",
   "execution_count": 22,
   "metadata": {},
   "outputs": [],
   "source": [
    "full_pipeline = ColumnTransformer([\r\n",
    "    (\"num\", 'passthrough', num_attribs),\r\n",
    "    (\"ord\", ord_pipeline, ord_cat_attribs),\r\n",
    "    (\"nom\", nom_pipeline, nom_cat_attribs)\r\n",
    "])"
   ]
  },
  {
   "cell_type": "code",
   "execution_count": 30,
   "metadata": {},
   "outputs": [],
   "source": [
    "job_change_prepared = full_pipeline.fit_transform(job_change)"
   ]
  },
  {
   "cell_type": "code",
   "execution_count": 24,
   "metadata": {},
   "outputs": [
    {
     "data": {
      "text/plain": "(11494, 11)"
     },
     "execution_count": 24,
     "metadata": {},
     "output_type": "execute_result"
    }
   ],
   "source": [
    "job_change_prepared.shape"
   ]
  },
  {
   "cell_type": "code",
   "execution_count": 31,
   "metadata": {},
   "outputs": [
    {
     "data": {
      "text/plain": "array([0.9129999999999999, 304.0, 1.0, 0.0, 3.0, 6.0, 2.0, 2.0, nan, 5, 1],\n      dtype=object)"
     },
     "execution_count": 31,
     "metadata": {},
     "output_type": "execute_result"
    }
   ],
   "source": [
    "job_change_prepared[0, :]"
   ]
  },
  {
   "cell_type": "code",
   "execution_count": 26,
   "metadata": {},
   "outputs": [],
   "source": [
    "np.savetxt(\"Data/X_train_tree.csv\", job_change_prepared, delimiter=',')"
   ]
  },
  {
   "cell_type": "markdown",
   "metadata": {},
   "source": [
    "# Test set"
   ]
  },
  {
   "cell_type": "code",
   "execution_count": 27,
   "metadata": {},
   "outputs": [],
   "source": [
    "test_set = pd.read_csv(\"Data/test.csv\")"
   ]
  },
  {
   "cell_type": "code",
   "execution_count": 28,
   "metadata": {},
   "outputs": [
    {
     "data": {
      "text/html": "<div>\n<style scoped>\n    .dataframe tbody tr th:only-of-type {\n        vertical-align: middle;\n    }\n\n    .dataframe tbody tr th {\n        vertical-align: top;\n    }\n\n    .dataframe thead th {\n        text-align: right;\n    }\n</style>\n<table border=\"1\" class=\"dataframe\">\n  <thead>\n    <tr style=\"text-align: right;\">\n      <th></th>\n      <th>enrollee_id</th>\n      <th>city</th>\n      <th>city_development_index</th>\n      <th>gender</th>\n      <th>relevent_experience</th>\n      <th>enrolled_university</th>\n      <th>education_level</th>\n      <th>major_discipline</th>\n      <th>experience</th>\n      <th>company_size</th>\n      <th>company_type</th>\n      <th>last_new_job</th>\n      <th>training_hours</th>\n      <th>target</th>\n    </tr>\n  </thead>\n  <tbody>\n    <tr>\n      <th>0</th>\n      <td>6992</td>\n      <td>city_16</td>\n      <td>0.910</td>\n      <td>NaN</td>\n      <td>Has relevent experience</td>\n      <td>no_enrollment</td>\n      <td>Graduate</td>\n      <td>STEM</td>\n      <td>6</td>\n      <td>500-999</td>\n      <td>Pvt Ltd</td>\n      <td>1</td>\n      <td>21</td>\n      <td>0.0</td>\n    </tr>\n    <tr>\n      <th>1</th>\n      <td>8637</td>\n      <td>city_103</td>\n      <td>0.920</td>\n      <td>Female</td>\n      <td>Has relevent experience</td>\n      <td>no_enrollment</td>\n      <td>Masters</td>\n      <td>Humanities</td>\n      <td>&gt;20</td>\n      <td>100-500</td>\n      <td>Funded Startup</td>\n      <td>2</td>\n      <td>74</td>\n      <td>0.0</td>\n    </tr>\n    <tr>\n      <th>2</th>\n      <td>24729</td>\n      <td>city_104</td>\n      <td>0.924</td>\n      <td>NaN</td>\n      <td>Has relevent experience</td>\n      <td>no_enrollment</td>\n      <td>Graduate</td>\n      <td>STEM</td>\n      <td>9</td>\n      <td>10/49</td>\n      <td>Pvt Ltd</td>\n      <td>1</td>\n      <td>94</td>\n      <td>0.0</td>\n    </tr>\n    <tr>\n      <th>3</th>\n      <td>10933</td>\n      <td>city_21</td>\n      <td>0.624</td>\n      <td>Male</td>\n      <td>Has relevent experience</td>\n      <td>no_enrollment</td>\n      <td>Masters</td>\n      <td>STEM</td>\n      <td>15</td>\n      <td>10000+</td>\n      <td>Pvt Ltd</td>\n      <td>1</td>\n      <td>75</td>\n      <td>0.0</td>\n    </tr>\n    <tr>\n      <th>4</th>\n      <td>28023</td>\n      <td>city_134</td>\n      <td>0.698</td>\n      <td>Male</td>\n      <td>No relevent experience</td>\n      <td>no_enrollment</td>\n      <td>Masters</td>\n      <td>STEM</td>\n      <td>12</td>\n      <td>500-999</td>\n      <td>NGO</td>\n      <td>1</td>\n      <td>157</td>\n      <td>0.0</td>\n    </tr>\n  </tbody>\n</table>\n</div>",
      "text/plain": "   enrollee_id      city  city_development_index  gender  \\\n0         6992   city_16                   0.910     NaN   \n1         8637  city_103                   0.920  Female   \n2        24729  city_104                   0.924     NaN   \n3        10933   city_21                   0.624    Male   \n4        28023  city_134                   0.698    Male   \n\n       relevent_experience enrolled_university education_level  \\\n0  Has relevent experience       no_enrollment        Graduate   \n1  Has relevent experience       no_enrollment         Masters   \n2  Has relevent experience       no_enrollment        Graduate   \n3  Has relevent experience       no_enrollment         Masters   \n4   No relevent experience       no_enrollment         Masters   \n\n  major_discipline experience company_size    company_type last_new_job  \\\n0             STEM          6      500-999         Pvt Ltd            1   \n1       Humanities        >20      100-500  Funded Startup            2   \n2             STEM          9        10/49         Pvt Ltd            1   \n3             STEM         15       10000+         Pvt Ltd            1   \n4             STEM         12      500-999             NGO            1   \n\n   training_hours  target  \n0              21     0.0  \n1              74     0.0  \n2              94     0.0  \n3              75     0.0  \n4             157     0.0  "
     },
     "execution_count": 28,
     "metadata": {},
     "output_type": "execute_result"
    }
   ],
   "source": [
    "test_set.head()"
   ]
  },
  {
   "cell_type": "code",
   "execution_count": 33,
   "metadata": {},
   "outputs": [],
   "source": [
    "test_set = test_set.drop(\"target\", axis=1)"
   ]
  },
  {
   "cell_type": "code",
   "execution_count": 34,
   "metadata": {},
   "outputs": [],
   "source": [
    "X_test_tree = full_pipeline.transform(test_set)"
   ]
  },
  {
   "cell_type": "code",
   "execution_count": 43,
   "metadata": {},
   "outputs": [
    {
     "data": {
      "text/plain": "(3832, 11)"
     },
     "execution_count": 43,
     "metadata": {},
     "output_type": "execute_result"
    }
   ],
   "source": [
    "X_test_tree.shape"
   ]
  },
  {
   "cell_type": "code",
   "execution_count": 35,
   "metadata": {},
   "outputs": [],
   "source": [
    "np.savetxt(\"Data/X_test_tree.csv\", X_test_tree, delimiter=',')"
   ]
  },
  {
   "cell_type": "markdown",
   "metadata": {},
   "source": [
    "# CV"
   ]
  },
  {
   "cell_type": "code",
   "execution_count": 36,
   "metadata": {},
   "outputs": [],
   "source": [
    "cv_set = pd.read_csv(\"Data/cv.csv\")"
   ]
  },
  {
   "cell_type": "code",
   "execution_count": 38,
   "metadata": {},
   "outputs": [
    {
     "data": {
      "text/html": "<div>\n<style scoped>\n    .dataframe tbody tr th:only-of-type {\n        vertical-align: middle;\n    }\n\n    .dataframe tbody tr th {\n        vertical-align: top;\n    }\n\n    .dataframe thead th {\n        text-align: right;\n    }\n</style>\n<table border=\"1\" class=\"dataframe\">\n  <thead>\n    <tr style=\"text-align: right;\">\n      <th></th>\n      <th>enrollee_id</th>\n      <th>city</th>\n      <th>city_development_index</th>\n      <th>gender</th>\n      <th>relevent_experience</th>\n      <th>enrolled_university</th>\n      <th>education_level</th>\n      <th>major_discipline</th>\n      <th>experience</th>\n      <th>company_size</th>\n      <th>company_type</th>\n      <th>last_new_job</th>\n      <th>training_hours</th>\n      <th>target</th>\n    </tr>\n  </thead>\n  <tbody>\n    <tr>\n      <th>0</th>\n      <td>7509</td>\n      <td>city_103</td>\n      <td>0.920</td>\n      <td>NaN</td>\n      <td>Has relevent experience</td>\n      <td>no_enrollment</td>\n      <td>Graduate</td>\n      <td>STEM</td>\n      <td>&gt;20</td>\n      <td>10000+</td>\n      <td>Pvt Ltd</td>\n      <td>&gt;4</td>\n      <td>36</td>\n      <td>0.0</td>\n    </tr>\n    <tr>\n      <th>1</th>\n      <td>75</td>\n      <td>city_105</td>\n      <td>0.794</td>\n      <td>Male</td>\n      <td>No relevent experience</td>\n      <td>no_enrollment</td>\n      <td>High School</td>\n      <td>NaN</td>\n      <td>3</td>\n      <td>NaN</td>\n      <td>Pvt Ltd</td>\n      <td>never</td>\n      <td>14</td>\n      <td>0.0</td>\n    </tr>\n    <tr>\n      <th>2</th>\n      <td>9476</td>\n      <td>city_114</td>\n      <td>0.926</td>\n      <td>Female</td>\n      <td>No relevent experience</td>\n      <td>Full time course</td>\n      <td>Graduate</td>\n      <td>STEM</td>\n      <td>2</td>\n      <td>NaN</td>\n      <td>NaN</td>\n      <td>2</td>\n      <td>125</td>\n      <td>0.0</td>\n    </tr>\n    <tr>\n      <th>3</th>\n      <td>16480</td>\n      <td>city_71</td>\n      <td>0.884</td>\n      <td>Male</td>\n      <td>No relevent experience</td>\n      <td>Full time course</td>\n      <td>Graduate</td>\n      <td>STEM</td>\n      <td>2</td>\n      <td>NaN</td>\n      <td>NaN</td>\n      <td>1</td>\n      <td>20</td>\n      <td>0.0</td>\n    </tr>\n    <tr>\n      <th>4</th>\n      <td>15048</td>\n      <td>city_103</td>\n      <td>0.920</td>\n      <td>Male</td>\n      <td>Has relevent experience</td>\n      <td>no_enrollment</td>\n      <td>Graduate</td>\n      <td>STEM</td>\n      <td>5</td>\n      <td>100-500</td>\n      <td>Pvt Ltd</td>\n      <td>1</td>\n      <td>46</td>\n      <td>0.0</td>\n    </tr>\n  </tbody>\n</table>\n</div>",
      "text/plain": "   enrollee_id      city  city_development_index  gender  \\\n0         7509  city_103                   0.920     NaN   \n1           75  city_105                   0.794    Male   \n2         9476  city_114                   0.926  Female   \n3        16480   city_71                   0.884    Male   \n4        15048  city_103                   0.920    Male   \n\n       relevent_experience enrolled_university education_level  \\\n0  Has relevent experience       no_enrollment        Graduate   \n1   No relevent experience       no_enrollment     High School   \n2   No relevent experience    Full time course        Graduate   \n3   No relevent experience    Full time course        Graduate   \n4  Has relevent experience       no_enrollment        Graduate   \n\n  major_discipline experience company_size company_type last_new_job  \\\n0             STEM        >20       10000+      Pvt Ltd           >4   \n1              NaN          3          NaN      Pvt Ltd        never   \n2             STEM          2          NaN          NaN            2   \n3             STEM          2          NaN          NaN            1   \n4             STEM          5      100-500      Pvt Ltd            1   \n\n   training_hours  target  \n0              36     0.0  \n1              14     0.0  \n2             125     0.0  \n3              20     0.0  \n4              46     0.0  "
     },
     "execution_count": 38,
     "metadata": {},
     "output_type": "execute_result"
    }
   ],
   "source": [
    "cv_set.head()"
   ]
  },
  {
   "cell_type": "code",
   "execution_count": 40,
   "metadata": {},
   "outputs": [],
   "source": [
    "cv_set = cv_set.drop(\"target\", axis=1)"
   ]
  },
  {
   "cell_type": "code",
   "execution_count": 44,
   "metadata": {},
   "outputs": [],
   "source": [
    "X_cv_tree = full_pipeline.transform(cv_set)"
   ]
  },
  {
   "cell_type": "code",
   "execution_count": 45,
   "metadata": {},
   "outputs": [
    {
     "data": {
      "text/plain": "(3832, 11)"
     },
     "execution_count": 45,
     "metadata": {},
     "output_type": "execute_result"
    }
   ],
   "source": [
    "X_cv_tree.shape"
   ]
  },
  {
   "cell_type": "code",
   "execution_count": null,
   "metadata": {},
   "outputs": [],
   "source": [
    "np.savetxt(\"Data/X_cv_tree.csv\", X_cv_tree, delimiter=',')"
   ]
  }
 ],
 "metadata": {
  "kernelspec": {
   "display_name": "Python 3.7.4 32-bit",
   "name": "python374jvsc74a57bd03516c099f2e50fbe6b83d8aca3e7ba54c35d25f18189c7f24f96f469bdbc3fe7"
  },
  "language_info": {
   "codemirror_mode": {
    "name": "ipython",
    "version": 3
   },
   "file_extension": ".py",
   "mimetype": "text/x-python",
   "name": "python",
   "nbconvert_exporter": "python",
   "pygments_lexer": "ipython3",
   "version": "3.7.4"
  },
  "metadata": {
   "interpreter": {
    "hash": "3516c099f2e50fbe6b83d8aca3e7ba54c35d25f18189c7f24f96f469bdbc3fe7"
   }
  },
  "orig_nbformat": 2
 },
 "nbformat": 4,
 "nbformat_minor": 2
}