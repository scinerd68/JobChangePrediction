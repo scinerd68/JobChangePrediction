{
 "cells": [
  {
   "cell_type": "code",
   "execution_count": 1,
   "metadata": {},
   "outputs": [],
   "source": [
    "import joblib"
   ]
  },
  {
   "cell_type": "code",
   "execution_count": 6,
   "metadata": {},
   "outputs": [],
   "source": [
    "import numpy as np"
   ]
  },
  {
   "cell_type": "code",
   "execution_count": 3,
   "metadata": {},
   "outputs": [],
   "source": [
    "clf = joblib.load(\"Models/log_reg_no_under_sample_balanced_class_weight.pkl\")"
   ]
  },
  {
   "cell_type": "code",
   "execution_count": 4,
   "metadata": {},
   "outputs": [
    {
     "data": {
      "text/plain": "LogisticRegression(class_weight='balanced', max_iter=1000, random_state=42)"
     },
     "execution_count": 4,
     "metadata": {},
     "output_type": "execute_result"
    }
   ],
   "source": [
    "clf"
   ]
  },
  {
   "cell_type": "code",
   "execution_count": 7,
   "metadata": {},
   "outputs": [],
   "source": [
    "X_train = np.genfromtxt(\"Data/X_train.csv\", delimiter=',')\r\n",
    "y_train = np.genfromtxt(\"Data/y_train.csv\", delimiter=',')"
   ]
  },
  {
   "cell_type": "code",
   "execution_count": 8,
   "metadata": {},
   "outputs": [],
   "source": [
    "X_cv = np.genfromtxt(\"Data/X_cv.csv\", delimiter=',')\r\n",
    "y_cv = np.genfromtxt(\"Data/y_cv.csv\", delimiter=',')"
   ]
  },
  {
   "cell_type": "code",
   "execution_count": 9,
   "metadata": {},
   "outputs": [],
   "source": [
    "X_test = np.genfromtxt(\"Data/X_test.csv\", delimiter=',')\r\n",
    "y_test = np.genfromtxt(\"Data/y_test.csv\", delimiter=',')"
   ]
  },
  {
   "cell_type": "code",
   "execution_count": 10,
   "metadata": {},
   "outputs": [],
   "source": [
    "from sklearn.linear_model import LogisticRegression"
   ]
  },
  {
   "cell_type": "code",
   "execution_count": 12,
   "metadata": {},
   "outputs": [],
   "source": [
    "from sklearn.metrics import accuracy_score, f1_score, confusion_matrix, precision_score, recall_score"
   ]
  },
  {
   "cell_type": "code",
   "execution_count": 21,
   "metadata": {},
   "outputs": [],
   "source": [
    "C_list = [0.0001, 0.001, 0.01, 0.1, 1.0, 3.0, 5.0, 10.0, 100]"
   ]
  },
  {
   "cell_type": "code",
   "execution_count": 29,
   "metadata": {},
   "outputs": [],
   "source": [
    "models = []\r\n",
    "train_f1_score = []\r\n",
    "cv_f1_score = []\r\n",
    "\r\n",
    "for C in C_list:\r\n",
    "    log_reg = LogisticRegression(max_iter=1000, random_state=42, class_weight=\"balanced\", C=C)\r\n",
    "    log_reg.fit(X_train, y_train)\r\n",
    "    models.append(log_reg)\r\n",
    "\r\n",
    "    y_train_pred = log_reg.predict(X_train)\r\n",
    "    train_f1_score.append(f1_score(y_train, y_train_pred))\r\n",
    "    \r\n",
    "    y_cv_pred = log_reg.predict(X_cv)\r\n",
    "    cv_f1_score.append(f1_score(y_cv, y_cv_pred))"
   ]
  },
  {
   "cell_type": "code",
   "execution_count": 30,
   "metadata": {},
   "outputs": [
    {
     "name": "stdout",
     "output_type": "stream",
     "text": [
      "[0.5891907855877141, 0.6225926990514515, 0.6262510723477267, 0.6257510729613733, 0.6257510729613733, 0.6257510729613733, 0.6257510729613733, 0.6257510729613733, 0.6257510729613733]\n"
     ]
    }
   ],
   "source": [
    "print(train_f1_score)"
   ]
  },
  {
   "cell_type": "code",
   "execution_count": 31,
   "metadata": {},
   "outputs": [
    {
     "name": "stdout",
     "output_type": "stream",
     "text": [
      "[0.5459636024265049, 0.5763324299909666, 0.5824719101123595, 0.5813117699910153, 0.5815730337078652, 0.5815730337078652, 0.5815730337078652, 0.5815730337078652, 0.5815730337078652]\n"
     ]
    }
   ],
   "source": [
    "print(cv_f1_score)"
   ]
  },
  {
   "cell_type": "code",
   "execution_count": 32,
   "metadata": {},
   "outputs": [
    {
     "name": "stdout",
     "output_type": "stream",
     "text": [
      "0.5707964601769911\n",
      "0.5971978984238179\n",
      "0.6020008699434536\n",
      "0.6013925152306352\n",
      "0.6020008699434536\n",
      "0.6020008699434536\n",
      "0.6020008699434536\n",
      "0.6020008699434536\n",
      "0.6020008699434536\n"
     ]
    }
   ],
   "source": [
    "for model in models:\r\n",
    "    y_test_pred = model.predict(X_test)\r\n",
    "    print(f1_score(y_test, y_test_pred))"
   ]
  },
  {
   "cell_type": "code",
   "execution_count": 35,
   "metadata": {},
   "outputs": [],
   "source": [
    "best_model = models[np.argmax(cv_f1_score)]"
   ]
  },
  {
   "cell_type": "code",
   "execution_count": 37,
   "metadata": {},
   "outputs": [
    {
     "name": "stdout",
     "output_type": "stream",
     "text": [
      "0.6020008699434536\n"
     ]
    }
   ],
   "source": [
    "y_test_pred = best_model.predict(X_test)\r\n",
    "print(f1_score(y_test, y_test_pred))"
   ]
  },
  {
   "cell_type": "code",
   "execution_count": 39,
   "metadata": {},
   "outputs": [
    {
     "data": {
      "text/plain": "['Models/best_model.pkl']"
     },
     "execution_count": 39,
     "metadata": {},
     "output_type": "execute_result"
    }
   ],
   "source": [
    "joblib.dump(best_model, 'Models/best_model.pkl')"
   ]
  }
 ],
 "metadata": {
  "kernelspec": {
   "display_name": "Python 3.7.4 32-bit",
   "name": "python374jvsc74a57bd03516c099f2e50fbe6b83d8aca3e7ba54c35d25f18189c7f24f96f469bdbc3fe7"
  },
  "language_info": {
   "codemirror_mode": {
    "name": "ipython",
    "version": 3
   },
   "file_extension": ".py",
   "mimetype": "text/x-python",
   "name": "python",
   "nbconvert_exporter": "python",
   "pygments_lexer": "ipython3",
   "version": "3.7.4"
  },
  "metadata": {
   "interpreter": {
    "hash": "3516c099f2e50fbe6b83d8aca3e7ba54c35d25f18189c7f24f96f469bdbc3fe7"
   }
  },
  "orig_nbformat": 2
 },
 "nbformat": 4,
 "nbformat_minor": 2
}