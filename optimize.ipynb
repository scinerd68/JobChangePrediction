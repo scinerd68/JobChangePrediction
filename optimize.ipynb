{
 "cells": [
  {
   "cell_type": "code",
   "execution_count": 291,
   "metadata": {},
   "outputs": [],
   "source": [
    "import joblib"
   ]
  },
  {
   "cell_type": "code",
   "execution_count": 292,
   "metadata": {},
   "outputs": [],
   "source": [
    "import numpy as np"
   ]
  },
  {
   "cell_type": "markdown",
   "metadata": {},
   "source": [
    "# Load data"
   ]
  },
  {
   "cell_type": "code",
   "execution_count": 293,
   "metadata": {},
   "outputs": [],
   "source": [
    "X_train = np.genfromtxt(\"Data/X_train.csv\", delimiter=',')\r\n",
    "y_train = np.genfromtxt(\"Data/y_train.csv\", delimiter=',')"
   ]
  },
  {
   "cell_type": "code",
   "execution_count": 294,
   "metadata": {},
   "outputs": [],
   "source": [
    "X_cv = np.genfromtxt(\"Data/X_cv.csv\", delimiter=',')\r\n",
    "y_cv = np.genfromtxt(\"Data/y_cv.csv\", delimiter=',')"
   ]
  },
  {
   "cell_type": "code",
   "execution_count": 295,
   "metadata": {},
   "outputs": [],
   "source": [
    "X_test = np.genfromtxt(\"Data/X_test.csv\", delimiter=',')\r\n",
    "y_test = np.genfromtxt(\"Data/y_test.csv\", delimiter=',')"
   ]
  },
  {
   "cell_type": "markdown",
   "metadata": {},
   "source": [
    "# Logistic Regression"
   ]
  },
  {
   "cell_type": "code",
   "execution_count": 296,
   "metadata": {},
   "outputs": [],
   "source": [
    "from sklearn.linear_model import LogisticRegression"
   ]
  },
  {
   "cell_type": "code",
   "execution_count": 297,
   "metadata": {},
   "outputs": [],
   "source": [
    "from sklearn.metrics import accuracy_score, f1_score, confusion_matrix, precision_score, recall_score"
   ]
  },
  {
   "cell_type": "code",
   "execution_count": 298,
   "metadata": {},
   "outputs": [],
   "source": [
    "C_list = [0.0001, 0.001, 0.01, 0.1, 1.0, 3.0, 5.0, 10.0, 100]"
   ]
  },
  {
   "cell_type": "code",
   "execution_count": 299,
   "metadata": {},
   "outputs": [],
   "source": [
    "models = []\r\n",
    "train_f1_score = []\r\n",
    "cv_f1_score = []\r\n",
    "\r\n",
    "for C in C_list:\r\n",
    "    log_reg = LogisticRegression(max_iter=1000, random_state=42, class_weight=\"balanced\", C=C)\r\n",
    "    log_reg.fit(X_train, y_train)\r\n",
    "    models.append(log_reg)\r\n",
    "\r\n",
    "    y_train_pred = log_reg.predict(X_train)\r\n",
    "    train_f1_score.append(f1_score(y_train, y_train_pred))\r\n",
    "    \r\n",
    "    y_cv_pred = log_reg.predict(X_cv)\r\n",
    "    cv_f1_score.append(f1_score(y_cv, y_cv_pred))"
   ]
  },
  {
   "cell_type": "code",
   "execution_count": 300,
   "metadata": {},
   "outputs": [
    {
     "name": "stdout",
     "output_type": "stream",
     "text": [
      "[0.6060179977502813, 0.6328426468486494, 0.6323885486397949, 0.6320741268709906, 0.6323445521962351, 0.6323445521962351, 0.6323445521962351, 0.6323445521962351, 0.6323445521962351]\n"
     ]
    }
   ],
   "source": [
    "print(train_f1_score)"
   ]
  },
  {
   "cell_type": "code",
   "execution_count": 301,
   "metadata": {},
   "outputs": [
    {
     "name": "stdout",
     "output_type": "stream",
     "text": [
      "[0.5688967656180771, 0.5926589077887198, 0.5948121645796064, 0.5929558626839054, 0.5920641997325011, 0.5911725367810967, 0.5911725367810967, 0.5911725367810967, 0.5911725367810967]\n"
     ]
    }
   ],
   "source": [
    "print(cv_f1_score)"
   ]
  },
  {
   "cell_type": "code",
   "execution_count": 302,
   "metadata": {},
   "outputs": [
    {
     "data": {
      "text/plain": "0.5948121645796064"
     },
     "execution_count": 302,
     "metadata": {},
     "output_type": "execute_result"
    }
   ],
   "source": [
    "cv_f1_score[np.argmax(cv_f1_score)]"
   ]
  },
  {
   "cell_type": "code",
   "execution_count": 303,
   "metadata": {},
   "outputs": [
    {
     "name": "stdout",
     "output_type": "stream",
     "text": [
      "0.5938037865748709\n",
      "0.6155172413793103\n",
      "0.6101254868022501\n",
      "0.6104626026805015\n",
      "0.6104626026805015\n",
      "0.6104626026805015\n",
      "0.6104626026805015\n",
      "0.6104626026805015\n",
      "0.6104626026805015\n"
     ]
    }
   ],
   "source": [
    "for model in models:\r\n",
    "    y_test_pred = model.predict(X_test)\r\n",
    "    print(f1_score(y_test, y_test_pred))"
   ]
  },
  {
   "cell_type": "code",
   "execution_count": 304,
   "metadata": {},
   "outputs": [],
   "source": [
    "best_model = models[np.argmax(cv_f1_score)]"
   ]
  },
  {
   "cell_type": "code",
   "execution_count": 305,
   "metadata": {},
   "outputs": [
    {
     "data": {
      "text/plain": "LogisticRegression(C=0.01, class_weight='balanced', max_iter=1000,\n                   random_state=42)"
     },
     "execution_count": 305,
     "metadata": {},
     "output_type": "execute_result"
    }
   ],
   "source": [
    "best_model"
   ]
  },
  {
   "cell_type": "code",
   "execution_count": 306,
   "metadata": {},
   "outputs": [
    {
     "data": {
      "text/plain": "array([[-3.52990989e-01, -6.70458535e-02, -7.99212582e-02,\n         1.57633218e-01,  3.50524215e-03, -1.50274944e-01,\n        -4.72939663e-03,  1.28751622e-01, -1.96234491e-04,\n         2.61651573e-02,  3.45196861e-02,  3.20104431e-01,\n        -3.56346549e-02,  1.80178731e-02, -2.18860096e-02,\n         1.34066492e-02, -5.08135459e-03,  1.89840182e-02,\n         1.83356748e-02, -5.72910332e-03, -4.79713611e-02,\n         6.27608039e-03, -3.51056234e-02, -6.70423391e-02,\n         1.76926305e-02,  5.09171766e-02,  7.68452591e-02,\n        -6.46848254e-03, -9.75514991e-03,  9.75514991e-03,\n         1.70743348e-01, -1.70743348e-01, -1.87934492e-01,\n         1.87934492e-01, -9.46685999e-02, -3.80063104e-02,\n         1.48879919e-02,  4.28735565e-02, -8.39846854e-02,\n         6.93374645e-02, -6.12777441e-02, -7.23834552e-02,\n        -2.80841720e-02, -1.74041842e-03, -1.98861696e-02,\n         1.37275099e-01, -5.29573148e-02, -1.13619159e-01,\n         3.78092937e-02, -3.09922900e-02,  2.33951677e-03,\n         1.08687884e-02,  1.99929967e-03, -5.47678249e-02,\n        -6.05048161e-03,  1.91009743e-02, -2.23979435e-02,\n         3.12655565e-02, -3.99405358e-02, -5.32095855e-02,\n         2.80121215e-03, -5.35680371e-02,  8.00338868e-05,\n        -1.01490996e-01, -1.09092730e-01,  1.14283142e-04,\n        -9.39143300e-03, -3.91899380e-02,  1.79644954e-02,\n         1.72276091e-02,  5.37151881e-02,  1.92923105e-02,\n         8.36371422e-03, -3.15522099e-02, -2.99875068e-02,\n        -2.84788571e-02,  5.13736679e-02, -1.51346863e-02,\n        -7.36825040e-03, -5.66483125e-02, -1.41498944e-01,\n         6.85811443e-02, -5.33998771e-03, -2.93704217e-03,\n         7.99246643e-03,  6.06309919e-03, -4.26737222e-02,\n        -2.34241781e-02, -7.76547422e-03,  1.90918432e-02,\n         4.23613410e-02, -2.01847873e-02,  7.63537341e-03,\n        -4.20898795e-02, -5.95563605e-02,  4.39248276e-01,\n        -5.12402501e-02, -1.43733010e-02,  1.25207610e-02,\n        -1.89323570e-02, -2.04980742e-02, -2.85106281e-02,\n        -2.81419919e-02,  3.33863811e-03,  4.24125399e-02,\n        -2.74379916e-02, -2.68266058e-02, -7.73973024e-02,\n        -3.08437307e-02,  1.33344886e-02,  2.48419521e-02,\n         2.48439230e-02, -8.62626317e-03, -4.54837792e-03,\n         9.90707277e-03, -8.01547656e-03, -5.35481081e-02,\n         1.38254302e-02,  6.86638843e-04, -2.27575017e-02,\n        -4.48559313e-02,  1.66199019e-02, -3.88655225e-02,\n        -5.85210436e-02, -5.78113665e-02, -5.83685216e-02,\n        -7.61706431e-02, -8.65323764e-02, -5.18462544e-02,\n         1.05550307e-02, -2.18072747e-02, -4.43065171e-02,\n        -3.12440852e-03,  6.96758889e-02, -7.37613385e-02,\n         2.50577802e-03, -1.14029117e-01, -6.67018162e-03,\n        -6.61556955e-03, -6.29354134e-02,  6.26768469e-03,\n        -6.32351807e-02, -3.75647221e-02, -7.34717355e-03,\n        -1.49846641e-02,  2.75073798e-02,  3.84394456e-03,\n        -3.98649084e-02,  1.45704963e-02,  1.18603049e-02,\n        -2.97112486e-03, -6.38310716e-02, -2.14452221e-02,\n         1.13697824e-02]])"
     },
     "execution_count": 306,
     "metadata": {},
     "output_type": "execute_result"
    }
   ],
   "source": [
    "best_model.coef_"
   ]
  },
  {
   "cell_type": "markdown",
   "metadata": {},
   "source": [
    "city_development_index is the most important factor"
   ]
  },
  {
   "cell_type": "code",
   "execution_count": 326,
   "metadata": {},
   "outputs": [
    {
     "name": "stdout",
     "output_type": "stream",
     "text": [
      "[[ 62  65   8 118  43  52  50 135  60  83 150 132 103   4 146 113   6  16\n",
      "   82  19  54  85 140  21  27 138 137 143  78  92  88  84 115  72 112  66\n",
      "   28  29 114 129  51 153 149  98 109  15 117  97 148  36 144  77 121  69\n",
      "   24  68  13  18  99  17  89  55  71  44  91 100 152 130  14  56 119  87\n",
      "  110 111   9 106 105 145  42 102  75 101  74 108  49  57  73  10  22  12\n",
      "  142  48  35 122  67 147  58  93  90 104  86  37 131 120  20  25  96  76\n",
      "  128  46  59 116  61  70  53  79 124 125 123  94  40 139 141 151  23   1\n",
      "   81  39 133  41 134 126  26 107   2  38 127  34  63  64  47 136   7  45\n",
      "   80   5   3  31  30  32  33  11   0  95]]\n"
     ]
    }
   ],
   "source": [
    "print(np.argsort(np.abs(best_model.coef_)))"
   ]
  },
  {
   "cell_type": "code",
   "execution_count": 324,
   "metadata": {},
   "outputs": [
    {
     "data": {
      "text/plain": "array([95], dtype=int32)"
     },
     "execution_count": 324,
     "metadata": {},
     "output_type": "execute_result"
    }
   ],
   "source": [
    "np.abs(best_model.coef_).argmax(axis=1)"
   ]
  },
  {
   "cell_type": "code",
   "execution_count": 308,
   "metadata": {},
   "outputs": [
    {
     "data": {
      "text/plain": "array([0.43924828])"
     },
     "execution_count": 308,
     "metadata": {},
     "output_type": "execute_result"
    }
   ],
   "source": [
    "abs(best_model.coef_).max(axis=1)"
   ]
  },
  {
   "cell_type": "code",
   "execution_count": 309,
   "metadata": {},
   "outputs": [
    {
     "name": "stdout",
     "output_type": "stream",
     "text": [
      "0.6101254868022501\n"
     ]
    }
   ],
   "source": [
    "y_test_pred = best_model.predict(X_test)\r\n",
    "print(f1_score(y_test, y_test_pred))"
   ]
  },
  {
   "cell_type": "code",
   "execution_count": 310,
   "metadata": {},
   "outputs": [
    {
     "data": {
      "text/plain": "['Models/best_model.pkl']"
     },
     "execution_count": 310,
     "metadata": {},
     "output_type": "execute_result"
    }
   ],
   "source": [
    "joblib.dump(best_model, 'Models/best_model.pkl')"
   ]
  },
  {
   "cell_type": "markdown",
   "metadata": {},
   "source": [
    "# SGDClassifier"
   ]
  },
  {
   "cell_type": "code",
   "execution_count": 311,
   "metadata": {},
   "outputs": [],
   "source": [
    "from sklearn.linear_model import SGDClassifier"
   ]
  },
  {
   "cell_type": "code",
   "execution_count": 312,
   "metadata": {},
   "outputs": [],
   "source": [
    "eta0_list = [0.0001, 0.001, 0.01, 0.1, 1.0, 3.0, 5.0, 10.0]\r\n",
    "alpha_list = [0.0001, 0.001, 0.01, 0.1, 1.0, 3.0, 5.0, 10.0]"
   ]
  },
  {
   "cell_type": "code",
   "execution_count": 313,
   "metadata": {},
   "outputs": [],
   "source": [
    "sgd_models = []\r\n",
    "sgd_train_f1_score = []\r\n",
    "sgd_cv_f1_score = []\r\n",
    "\r\n",
    "for eta0 in eta0_list:\r\n",
    "    for alpha in alpha_list:\r\n",
    "        clf = SGDClassifier(loss='log', alpha=alpha, eta0=eta0, random_state=42, learning_rate='constant',\r\n",
    "                 class_weight='balanced')\r\n",
    "        clf.fit(X_train, y_train)\r\n",
    "        sgd_models.append(clf)\r\n",
    "\r\n",
    "        y_train_pred = clf.predict(X_train)\r\n",
    "        sgd_train_f1_score.append(f1_score(y_train, y_train_pred))\r\n",
    "        \r\n",
    "        y_cv_pred = clf.predict(X_cv)\r\n",
    "        sgd_cv_f1_score.append(f1_score(y_cv, y_cv_pred))"
   ]
  },
  {
   "cell_type": "code",
   "execution_count": 314,
   "metadata": {},
   "outputs": [
    {
     "name": "stdout",
     "output_type": "stream",
     "text": [
      "[0.6322838011112695, 0.6322838011112695, 0.6327635327635329, 0.6314888762122076, 0.6029825548677546, 0.5753908905506459, 0.5676004872107187, 0.5822492049725354, 0.6293364042032531, 0.6293364042032531, 0.6296829971181556, 0.6282219309742246, 0.5842017822081257, 0.5686635944700461, 0.5536881419234361, 0.5188876386433049, 0.5715044482804408, 0.5709728867623605, 0.5678945953213229, 0.5482491312483294, 0.497638275179034, 0.41552279274699205, 0.37778968041421174, 0.3316919440614536, 0.4692410768668534, 0.4790404652289799, 0.49434656849855385, 0.45394091355063776, 0.481746234363033, 0.40115084258117545, 0.3597135512302608, 0.18467731790162287, 0.43480305702527927, 0.4979570990806945, 0.5080794090489381, 0.2025087288245183, 0.21714285714285717, 0.21714285714285717, 0.21714285714285717, 0.21714285714285717, 0.5044201768070722, 0.4684524565189793, 0.3847874720357942, 0.40369567266899226, 0.32380952380952377, 0.32380952380952377, 0.32380952380952377, 0.32380952380952377, 0.5025100401606425, 0.32867806405008426, 0.43028126870137645, 0.3971743789189618, 0.27688760806916424, 0.27688760806916424, 0.27688760806916424, 0.27688760806916424, 0.45172246482290157, 0.42618270799347474, 0.41340973231848116, 0.2811587693689647, 0.2811587693689647, 0.2811587693689647, 0.2811587693689647, 0.2811587693689647]\n"
     ]
    }
   ],
   "source": [
    "print(sgd_train_f1_score)"
   ]
  },
  {
   "cell_type": "code",
   "execution_count": 315,
   "metadata": {},
   "outputs": [
    {
     "name": "stdout",
     "output_type": "stream",
     "text": [
      "[0.5924276169265034, 0.5926916221033868, 0.5931219294327825, 0.5924932975871313, 0.568888888888889, 0.5450680272108843, 0.5372250423011845, 0.5505819158460161, 0.5883408071748879, 0.588077095472882, 0.5872302158273381, 0.5822323462414578, 0.5443338074917022, 0.523444976076555, 0.5107421875, 0.47225025227043393, 0.5287739783152626, 0.5280334728033473, 0.525559780312632, 0.5107278081615482, 0.47024673439767783, 0.3921775898520085, 0.3590604026845638, 0.3096129837702872, 0.44302369311771345, 0.4558383233532934, 0.4611549646863316, 0.4268986283037805, 0.45181927229108354, 0.3940824677368587, 0.35373009220452645, 0.1942472917444901, 0.38960113960113957, 0.4778761061946903, 0.48790746582544686, 0.2100673801030519, 0.23297137216189534, 0.23297137216189534, 0.23297137216189534, 0.23297137216189534, 0.47432762836185827, 0.4374250299880048, 0.37666126418152346, 0.393073593073593, 0.3232804232804233, 0.3232804232804233, 0.3232804232804233, 0.3232804232804233, 0.471690745802421, 0.34070796460176994, 0.41353383458646614, 0.3837460928107718, 0.2575966850828729, 0.2575966850828729, 0.2575966850828729, 0.2575966850828729, 0.44236526946107785, 0.4019820377825952, 0.400208986415883, 0.2624831309041835, 0.2624831309041835, 0.2624831309041835, 0.2624831309041835, 0.2624831309041835]\n"
     ]
    }
   ],
   "source": [
    "print(sgd_cv_f1_score)"
   ]
  },
  {
   "cell_type": "code",
   "execution_count": 316,
   "metadata": {},
   "outputs": [],
   "source": [
    "best_sgd_model = sgd_models[np.argmax(sgd_cv_f1_score)]"
   ]
  },
  {
   "cell_type": "code",
   "execution_count": 317,
   "metadata": {},
   "outputs": [
    {
     "data": {
      "text/plain": "0.6327635327635329"
     },
     "execution_count": 317,
     "metadata": {},
     "output_type": "execute_result"
    }
   ],
   "source": [
    "sgd_train_f1_score[np.argmax(sgd_cv_f1_score)]"
   ]
  },
  {
   "cell_type": "code",
   "execution_count": 318,
   "metadata": {},
   "outputs": [
    {
     "data": {
      "text/plain": "0.5931219294327825"
     },
     "execution_count": 318,
     "metadata": {},
     "output_type": "execute_result"
    }
   ],
   "source": [
    "sgd_cv_f1_score[np.argmax(sgd_cv_f1_score)]"
   ]
  },
  {
   "cell_type": "code",
   "execution_count": 319,
   "metadata": {},
   "outputs": [
    {
     "data": {
      "text/plain": "SGDClassifier(alpha=0.01, class_weight='balanced', eta0=0.0001,\n              learning_rate='constant', loss='log', random_state=42)"
     },
     "execution_count": 319,
     "metadata": {},
     "output_type": "execute_result"
    }
   ],
   "source": [
    "best_sgd_model"
   ]
  },
  {
   "cell_type": "code",
   "execution_count": 320,
   "metadata": {},
   "outputs": [
    {
     "name": "stdout",
     "output_type": "stream",
     "text": [
      "0.6098615916955017\n"
     ]
    }
   ],
   "source": [
    "y_test_pred = best_sgd_model.predict(X_test)\r\n",
    "print(f1_score(y_test, y_test_pred))"
   ]
  },
  {
   "cell_type": "code",
   "execution_count": 321,
   "metadata": {},
   "outputs": [
    {
     "name": "stdout",
     "output_type": "stream",
     "text": [
      "[[2225  655]\n",
      " [ 247  705]]\n"
     ]
    }
   ],
   "source": [
    "print(confusion_matrix(y_test, y_test_pred))"
   ]
  },
  {
   "cell_type": "code",
   "execution_count": 322,
   "metadata": {},
   "outputs": [
    {
     "data": {
      "text/plain": "0.7646137787056367"
     },
     "execution_count": 322,
     "metadata": {},
     "output_type": "execute_result"
    }
   ],
   "source": [
    "accuracy_score(y_test, y_test_pred)"
   ]
  },
  {
   "cell_type": "code",
   "execution_count": 323,
   "metadata": {},
   "outputs": [
    {
     "data": {
      "text/plain": "['Models/best_sgd_model.pkl']"
     },
     "execution_count": 323,
     "metadata": {},
     "output_type": "execute_result"
    }
   ],
   "source": [
    "joblib.dump(best_sgd_model, \"Models/best_sgd_model.pkl\")"
   ]
  },
  {
   "cell_type": "code",
   "execution_count": null,
   "metadata": {},
   "outputs": [],
   "source": []
  }
 ],
 "metadata": {
  "kernelspec": {
   "display_name": "Python 3.7.4 32-bit",
   "name": "python374jvsc74a57bd03516c099f2e50fbe6b83d8aca3e7ba54c35d25f18189c7f24f96f469bdbc3fe7"
  },
  "language_info": {
   "codemirror_mode": {
    "name": "ipython",
    "version": 3
   },
   "file_extension": ".py",
   "mimetype": "text/x-python",
   "name": "python",
   "nbconvert_exporter": "python",
   "pygments_lexer": "ipython3",
   "version": "3.7.4"
  },
  "metadata": {
   "interpreter": {
    "hash": "3516c099f2e50fbe6b83d8aca3e7ba54c35d25f18189c7f24f96f469bdbc3fe7"
   }
  },
  "orig_nbformat": 2
 },
 "nbformat": 4,
 "nbformat_minor": 2
}