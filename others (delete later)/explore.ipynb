{
 "cells": [
  {
   "cell_type": "markdown",
   "metadata": {},
   "source": [
    "## Explore data"
   ]
  },
  {
   "cell_type": "code",
   "execution_count": 1,
   "metadata": {},
   "outputs": [],
   "source": [
    "import pandas as pd"
   ]
  },
  {
   "cell_type": "code",
   "execution_count": 2,
   "metadata": {},
   "outputs": [],
   "source": [
    "import numpy as np"
   ]
  },
  {
   "cell_type": "code",
   "execution_count": 3,
   "metadata": {},
   "outputs": [],
   "source": [
    "import matplotlib as mpl"
   ]
  },
  {
   "cell_type": "code",
   "execution_count": 4,
   "metadata": {},
   "outputs": [],
   "source": [
    "import matplotlib.pyplot as plt"
   ]
  },
  {
   "cell_type": "code",
   "execution_count": 5,
   "metadata": {},
   "outputs": [],
   "source": [
    "import seaborn as sns"
   ]
  },
  {
   "cell_type": "code",
   "execution_count": 6,
   "metadata": {},
   "outputs": [],
   "source": [
    "job_change = pd.read_csv('data/aug_train.csv')"
   ]
  },
  {
   "cell_type": "code",
   "execution_count": 7,
   "metadata": {},
   "outputs": [
    {
     "data": {
      "text/plain": [
       "(19158, 14)"
      ]
     },
     "execution_count": 7,
     "metadata": {},
     "output_type": "execute_result"
    }
   ],
   "source": [
    "job_change.shape"
   ]
  },
  {
   "cell_type": "code",
   "execution_count": 8,
   "metadata": {},
   "outputs": [
    {
     "data": {
      "text/html": [
       "<div>\n",
       "<style scoped>\n",
       "    .dataframe tbody tr th:only-of-type {\n",
       "        vertical-align: middle;\n",
       "    }\n",
       "\n",
       "    .dataframe tbody tr th {\n",
       "        vertical-align: top;\n",
       "    }\n",
       "\n",
       "    .dataframe thead th {\n",
       "        text-align: right;\n",
       "    }\n",
       "</style>\n",
       "<table border=\"1\" class=\"dataframe\">\n",
       "  <thead>\n",
       "    <tr style=\"text-align: right;\">\n",
       "      <th></th>\n",
       "      <th>enrollee_id</th>\n",
       "      <th>city</th>\n",
       "      <th>city_development_index</th>\n",
       "      <th>gender</th>\n",
       "      <th>relevent_experience</th>\n",
       "      <th>enrolled_university</th>\n",
       "      <th>education_level</th>\n",
       "      <th>major_discipline</th>\n",
       "      <th>experience</th>\n",
       "      <th>company_size</th>\n",
       "      <th>company_type</th>\n",
       "      <th>last_new_job</th>\n",
       "      <th>training_hours</th>\n",
       "      <th>target</th>\n",
       "    </tr>\n",
       "  </thead>\n",
       "  <tbody>\n",
       "    <tr>\n",
       "      <th>0</th>\n",
       "      <td>8949</td>\n",
       "      <td>city_103</td>\n",
       "      <td>0.920</td>\n",
       "      <td>Male</td>\n",
       "      <td>Has relevent experience</td>\n",
       "      <td>no_enrollment</td>\n",
       "      <td>Graduate</td>\n",
       "      <td>STEM</td>\n",
       "      <td>&gt;20</td>\n",
       "      <td>NaN</td>\n",
       "      <td>NaN</td>\n",
       "      <td>1</td>\n",
       "      <td>36</td>\n",
       "      <td>1.0</td>\n",
       "    </tr>\n",
       "    <tr>\n",
       "      <th>1</th>\n",
       "      <td>29725</td>\n",
       "      <td>city_40</td>\n",
       "      <td>0.776</td>\n",
       "      <td>Male</td>\n",
       "      <td>No relevent experience</td>\n",
       "      <td>no_enrollment</td>\n",
       "      <td>Graduate</td>\n",
       "      <td>STEM</td>\n",
       "      <td>15</td>\n",
       "      <td>50-99</td>\n",
       "      <td>Pvt Ltd</td>\n",
       "      <td>&gt;4</td>\n",
       "      <td>47</td>\n",
       "      <td>0.0</td>\n",
       "    </tr>\n",
       "    <tr>\n",
       "      <th>2</th>\n",
       "      <td>11561</td>\n",
       "      <td>city_21</td>\n",
       "      <td>0.624</td>\n",
       "      <td>NaN</td>\n",
       "      <td>No relevent experience</td>\n",
       "      <td>Full time course</td>\n",
       "      <td>Graduate</td>\n",
       "      <td>STEM</td>\n",
       "      <td>5</td>\n",
       "      <td>NaN</td>\n",
       "      <td>NaN</td>\n",
       "      <td>never</td>\n",
       "      <td>83</td>\n",
       "      <td>0.0</td>\n",
       "    </tr>\n",
       "    <tr>\n",
       "      <th>3</th>\n",
       "      <td>33241</td>\n",
       "      <td>city_115</td>\n",
       "      <td>0.789</td>\n",
       "      <td>NaN</td>\n",
       "      <td>No relevent experience</td>\n",
       "      <td>NaN</td>\n",
       "      <td>Graduate</td>\n",
       "      <td>Business Degree</td>\n",
       "      <td>&lt;1</td>\n",
       "      <td>NaN</td>\n",
       "      <td>Pvt Ltd</td>\n",
       "      <td>never</td>\n",
       "      <td>52</td>\n",
       "      <td>1.0</td>\n",
       "    </tr>\n",
       "    <tr>\n",
       "      <th>4</th>\n",
       "      <td>666</td>\n",
       "      <td>city_162</td>\n",
       "      <td>0.767</td>\n",
       "      <td>Male</td>\n",
       "      <td>Has relevent experience</td>\n",
       "      <td>no_enrollment</td>\n",
       "      <td>Masters</td>\n",
       "      <td>STEM</td>\n",
       "      <td>&gt;20</td>\n",
       "      <td>50-99</td>\n",
       "      <td>Funded Startup</td>\n",
       "      <td>4</td>\n",
       "      <td>8</td>\n",
       "      <td>0.0</td>\n",
       "    </tr>\n",
       "    <tr>\n",
       "      <th>5</th>\n",
       "      <td>21651</td>\n",
       "      <td>city_176</td>\n",
       "      <td>0.764</td>\n",
       "      <td>NaN</td>\n",
       "      <td>Has relevent experience</td>\n",
       "      <td>Part time course</td>\n",
       "      <td>Graduate</td>\n",
       "      <td>STEM</td>\n",
       "      <td>11</td>\n",
       "      <td>NaN</td>\n",
       "      <td>NaN</td>\n",
       "      <td>1</td>\n",
       "      <td>24</td>\n",
       "      <td>1.0</td>\n",
       "    </tr>\n",
       "    <tr>\n",
       "      <th>6</th>\n",
       "      <td>28806</td>\n",
       "      <td>city_160</td>\n",
       "      <td>0.920</td>\n",
       "      <td>Male</td>\n",
       "      <td>Has relevent experience</td>\n",
       "      <td>no_enrollment</td>\n",
       "      <td>High School</td>\n",
       "      <td>NaN</td>\n",
       "      <td>5</td>\n",
       "      <td>50-99</td>\n",
       "      <td>Funded Startup</td>\n",
       "      <td>1</td>\n",
       "      <td>24</td>\n",
       "      <td>0.0</td>\n",
       "    </tr>\n",
       "    <tr>\n",
       "      <th>7</th>\n",
       "      <td>402</td>\n",
       "      <td>city_46</td>\n",
       "      <td>0.762</td>\n",
       "      <td>Male</td>\n",
       "      <td>Has relevent experience</td>\n",
       "      <td>no_enrollment</td>\n",
       "      <td>Graduate</td>\n",
       "      <td>STEM</td>\n",
       "      <td>13</td>\n",
       "      <td>&lt;10</td>\n",
       "      <td>Pvt Ltd</td>\n",
       "      <td>&gt;4</td>\n",
       "      <td>18</td>\n",
       "      <td>1.0</td>\n",
       "    </tr>\n",
       "    <tr>\n",
       "      <th>8</th>\n",
       "      <td>27107</td>\n",
       "      <td>city_103</td>\n",
       "      <td>0.920</td>\n",
       "      <td>Male</td>\n",
       "      <td>Has relevent experience</td>\n",
       "      <td>no_enrollment</td>\n",
       "      <td>Graduate</td>\n",
       "      <td>STEM</td>\n",
       "      <td>7</td>\n",
       "      <td>50-99</td>\n",
       "      <td>Pvt Ltd</td>\n",
       "      <td>1</td>\n",
       "      <td>46</td>\n",
       "      <td>1.0</td>\n",
       "    </tr>\n",
       "    <tr>\n",
       "      <th>9</th>\n",
       "      <td>699</td>\n",
       "      <td>city_103</td>\n",
       "      <td>0.920</td>\n",
       "      <td>NaN</td>\n",
       "      <td>Has relevent experience</td>\n",
       "      <td>no_enrollment</td>\n",
       "      <td>Graduate</td>\n",
       "      <td>STEM</td>\n",
       "      <td>17</td>\n",
       "      <td>10000+</td>\n",
       "      <td>Pvt Ltd</td>\n",
       "      <td>&gt;4</td>\n",
       "      <td>123</td>\n",
       "      <td>0.0</td>\n",
       "    </tr>\n",
       "  </tbody>\n",
       "</table>\n",
       "</div>"
      ],
      "text/plain": [
       "   enrollee_id      city  city_development_index gender  \\\n",
       "0         8949  city_103                   0.920   Male   \n",
       "1        29725   city_40                   0.776   Male   \n",
       "2        11561   city_21                   0.624    NaN   \n",
       "3        33241  city_115                   0.789    NaN   \n",
       "4          666  city_162                   0.767   Male   \n",
       "5        21651  city_176                   0.764    NaN   \n",
       "6        28806  city_160                   0.920   Male   \n",
       "7          402   city_46                   0.762   Male   \n",
       "8        27107  city_103                   0.920   Male   \n",
       "9          699  city_103                   0.920    NaN   \n",
       "\n",
       "       relevent_experience enrolled_university education_level  \\\n",
       "0  Has relevent experience       no_enrollment        Graduate   \n",
       "1   No relevent experience       no_enrollment        Graduate   \n",
       "2   No relevent experience    Full time course        Graduate   \n",
       "3   No relevent experience                 NaN        Graduate   \n",
       "4  Has relevent experience       no_enrollment         Masters   \n",
       "5  Has relevent experience    Part time course        Graduate   \n",
       "6  Has relevent experience       no_enrollment     High School   \n",
       "7  Has relevent experience       no_enrollment        Graduate   \n",
       "8  Has relevent experience       no_enrollment        Graduate   \n",
       "9  Has relevent experience       no_enrollment        Graduate   \n",
       "\n",
       "  major_discipline experience company_size    company_type last_new_job  \\\n",
       "0             STEM        >20          NaN             NaN            1   \n",
       "1             STEM         15        50-99         Pvt Ltd           >4   \n",
       "2             STEM          5          NaN             NaN        never   \n",
       "3  Business Degree         <1          NaN         Pvt Ltd        never   \n",
       "4             STEM        >20        50-99  Funded Startup            4   \n",
       "5             STEM         11          NaN             NaN            1   \n",
       "6              NaN          5        50-99  Funded Startup            1   \n",
       "7             STEM         13          <10         Pvt Ltd           >4   \n",
       "8             STEM          7        50-99         Pvt Ltd            1   \n",
       "9             STEM         17       10000+         Pvt Ltd           >4   \n",
       "\n",
       "   training_hours  target  \n",
       "0              36     1.0  \n",
       "1              47     0.0  \n",
       "2              83     0.0  \n",
       "3              52     1.0  \n",
       "4               8     0.0  \n",
       "5              24     1.0  \n",
       "6              24     0.0  \n",
       "7              18     1.0  \n",
       "8              46     1.0  \n",
       "9             123     0.0  "
      ]
     },
     "execution_count": 8,
     "metadata": {},
     "output_type": "execute_result"
    }
   ],
   "source": [
    "job_change.head(10)"
   ]
  },
  {
   "cell_type": "code",
   "execution_count": 9,
   "metadata": {},
   "outputs": [
    {
     "data": {
      "text/plain": [
       "enrollee_id               19158\n",
       "city                        123\n",
       "city_development_index       93\n",
       "gender                        3\n",
       "relevent_experience           2\n",
       "enrolled_university           3\n",
       "education_level               5\n",
       "major_discipline              6\n",
       "experience                   22\n",
       "company_size                  8\n",
       "company_type                  6\n",
       "last_new_job                  6\n",
       "training_hours              241\n",
       "target                        2\n",
       "dtype: int64"
      ]
     },
     "execution_count": 9,
     "metadata": {},
     "output_type": "execute_result"
    }
   ],
   "source": [
    "job_change.nunique(axis=0)"
   ]
  },
  {
   "cell_type": "code",
   "execution_count": 10,
   "metadata": {},
   "outputs": [
    {
     "name": "stdout",
     "output_type": "stream",
     "text": [
      "<class 'pandas.core.frame.DataFrame'>\n",
      "RangeIndex: 19158 entries, 0 to 19157\n",
      "Data columns (total 14 columns):\n",
      " #   Column                  Non-Null Count  Dtype  \n",
      "---  ------                  --------------  -----  \n",
      " 0   enrollee_id             19158 non-null  int64  \n",
      " 1   city                    19158 non-null  object \n",
      " 2   city_development_index  19158 non-null  float64\n",
      " 3   gender                  14650 non-null  object \n",
      " 4   relevent_experience     19158 non-null  object \n",
      " 5   enrolled_university     18772 non-null  object \n",
      " 6   education_level         18698 non-null  object \n",
      " 7   major_discipline        16345 non-null  object \n",
      " 8   experience              19093 non-null  object \n",
      " 9   company_size            13220 non-null  object \n",
      " 10  company_type            13018 non-null  object \n",
      " 11  last_new_job            18735 non-null  object \n",
      " 12  training_hours          19158 non-null  int64  \n",
      " 13  target                  19158 non-null  float64\n",
      "dtypes: float64(2), int64(2), object(10)\n",
      "memory usage: 2.0+ MB\n"
     ]
    }
   ],
   "source": [
    "job_change.info()"
   ]
  },
  {
   "cell_type": "code",
   "execution_count": 11,
   "metadata": {},
   "outputs": [
    {
     "data": {
      "text/html": [
       "<div>\n",
       "<style scoped>\n",
       "    .dataframe tbody tr th:only-of-type {\n",
       "        vertical-align: middle;\n",
       "    }\n",
       "\n",
       "    .dataframe tbody tr th {\n",
       "        vertical-align: top;\n",
       "    }\n",
       "\n",
       "    .dataframe thead th {\n",
       "        text-align: right;\n",
       "    }\n",
       "</style>\n",
       "<table border=\"1\" class=\"dataframe\">\n",
       "  <thead>\n",
       "    <tr style=\"text-align: right;\">\n",
       "      <th></th>\n",
       "      <th>enrollee_id</th>\n",
       "      <th>city_development_index</th>\n",
       "      <th>training_hours</th>\n",
       "      <th>target</th>\n",
       "    </tr>\n",
       "  </thead>\n",
       "  <tbody>\n",
       "    <tr>\n",
       "      <th>count</th>\n",
       "      <td>19158.000000</td>\n",
       "      <td>19158.000000</td>\n",
       "      <td>19158.000000</td>\n",
       "      <td>19158.000000</td>\n",
       "    </tr>\n",
       "    <tr>\n",
       "      <th>mean</th>\n",
       "      <td>16875.358179</td>\n",
       "      <td>0.828848</td>\n",
       "      <td>65.366896</td>\n",
       "      <td>0.249348</td>\n",
       "    </tr>\n",
       "    <tr>\n",
       "      <th>std</th>\n",
       "      <td>9616.292592</td>\n",
       "      <td>0.123362</td>\n",
       "      <td>60.058462</td>\n",
       "      <td>0.432647</td>\n",
       "    </tr>\n",
       "    <tr>\n",
       "      <th>min</th>\n",
       "      <td>1.000000</td>\n",
       "      <td>0.448000</td>\n",
       "      <td>1.000000</td>\n",
       "      <td>0.000000</td>\n",
       "    </tr>\n",
       "    <tr>\n",
       "      <th>25%</th>\n",
       "      <td>8554.250000</td>\n",
       "      <td>0.740000</td>\n",
       "      <td>23.000000</td>\n",
       "      <td>0.000000</td>\n",
       "    </tr>\n",
       "    <tr>\n",
       "      <th>50%</th>\n",
       "      <td>16982.500000</td>\n",
       "      <td>0.903000</td>\n",
       "      <td>47.000000</td>\n",
       "      <td>0.000000</td>\n",
       "    </tr>\n",
       "    <tr>\n",
       "      <th>75%</th>\n",
       "      <td>25169.750000</td>\n",
       "      <td>0.920000</td>\n",
       "      <td>88.000000</td>\n",
       "      <td>0.000000</td>\n",
       "    </tr>\n",
       "    <tr>\n",
       "      <th>max</th>\n",
       "      <td>33380.000000</td>\n",
       "      <td>0.949000</td>\n",
       "      <td>336.000000</td>\n",
       "      <td>1.000000</td>\n",
       "    </tr>\n",
       "  </tbody>\n",
       "</table>\n",
       "</div>"
      ],
      "text/plain": [
       "        enrollee_id  city_development_index  training_hours        target\n",
       "count  19158.000000            19158.000000    19158.000000  19158.000000\n",
       "mean   16875.358179                0.828848       65.366896      0.249348\n",
       "std     9616.292592                0.123362       60.058462      0.432647\n",
       "min        1.000000                0.448000        1.000000      0.000000\n",
       "25%     8554.250000                0.740000       23.000000      0.000000\n",
       "50%    16982.500000                0.903000       47.000000      0.000000\n",
       "75%    25169.750000                0.920000       88.000000      0.000000\n",
       "max    33380.000000                0.949000      336.000000      1.000000"
      ]
     },
     "execution_count": 11,
     "metadata": {},
     "output_type": "execute_result"
    }
   ],
   "source": [
    "job_change.describe()"
   ]
  },
  {
   "cell_type": "code",
   "execution_count": 12,
   "metadata": {},
   "outputs": [
    {
     "data": {
      "text/plain": [
       "enrollee_id               16982.500\n",
       "city_development_index        0.903\n",
       "training_hours               47.000\n",
       "target                        0.000\n",
       "dtype: float64"
      ]
     },
     "execution_count": 12,
     "metadata": {},
     "output_type": "execute_result"
    }
   ],
   "source": [
    "job_change.median()"
   ]
  },
  {
   "cell_type": "code",
   "execution_count": 13,
   "metadata": {},
   "outputs": [
    {
     "name": "stdout",
     "output_type": "stream",
     "text": [
      "enrollee_id total: 19158\n",
      "2047     1\n",
      "2692     1\n",
      "4743     1\n",
      "27272    1\n",
      "25225    1\n",
      "        ..\n",
      "17682    1\n",
      "19731    1\n",
      "29972    1\n",
      "25878    1\n",
      "6147     1\n",
      "Name: enrollee_id, Length: 19158, dtype: int64\n",
      "\n",
      "city total: 19158\n",
      "city_103    4355\n",
      "city_21     2702\n",
      "city_16     1533\n",
      "city_114    1336\n",
      "city_160     845\n",
      "            ... \n",
      "city_121       3\n",
      "city_111       3\n",
      "city_129       3\n",
      "city_171       1\n",
      "city_140       1\n",
      "Name: city, Length: 123, dtype: int64\n",
      "\n",
      "city_development_index total: 19158\n",
      "0.920    5200\n",
      "0.624    2702\n",
      "0.910    1533\n",
      "0.926    1336\n",
      "0.698     683\n",
      "         ... \n",
      "0.649       4\n",
      "0.807       4\n",
      "0.781       3\n",
      "0.625       3\n",
      "0.664       1\n",
      "Name: city_development_index, Length: 93, dtype: int64\n",
      "\n",
      "gender total: 14650\n",
      "Male      13221\n",
      "Female     1238\n",
      "Other       191\n",
      "Name: gender, dtype: int64\n",
      "\n",
      "relevent_experience total: 19158\n",
      "Has relevent experience    13792\n",
      "No relevent experience      5366\n",
      "Name: relevent_experience, dtype: int64\n",
      "\n",
      "enrolled_university total: 18772\n",
      "no_enrollment       13817\n",
      "Full time course     3757\n",
      "Part time course     1198\n",
      "Name: enrolled_university, dtype: int64\n",
      "\n",
      "education_level total: 18698\n",
      "Graduate          11598\n",
      "Masters            4361\n",
      "High School        2017\n",
      "Phd                 414\n",
      "Primary School      308\n",
      "Name: education_level, dtype: int64\n",
      "\n",
      "major_discipline total: 16345\n",
      "STEM               14492\n",
      "Humanities           669\n",
      "Other                381\n",
      "Business Degree      327\n",
      "Arts                 253\n",
      "No Major             223\n",
      "Name: major_discipline, dtype: int64\n",
      "\n",
      "experience total: 19093\n",
      ">20    3286\n",
      "5      1430\n",
      "4      1403\n",
      "3      1354\n",
      "6      1216\n",
      "2      1127\n",
      "7      1028\n",
      "10      985\n",
      "9       980\n",
      "8       802\n",
      "15      686\n",
      "11      664\n",
      "14      586\n",
      "1       549\n",
      "<1      522\n",
      "16      508\n",
      "12      494\n",
      "13      399\n",
      "17      342\n",
      "19      304\n",
      "18      280\n",
      "20      148\n",
      "Name: experience, dtype: int64\n",
      "\n",
      "company_size total: 13220\n",
      "50-99        3083\n",
      "100-500      2571\n",
      "10000+       2019\n",
      "10/49        1471\n",
      "1000-4999    1328\n",
      "<10          1308\n",
      "500-999       877\n",
      "5000-9999     563\n",
      "Name: company_size, dtype: int64\n",
      "\n",
      "company_type total: 13018\n",
      "Pvt Ltd                9817\n",
      "Funded Startup         1001\n",
      "Public Sector           955\n",
      "Early Stage Startup     603\n",
      "NGO                     521\n",
      "Other                   121\n",
      "Name: company_type, dtype: int64\n",
      "\n",
      "last_new_job total: 18735\n",
      "1        8040\n",
      ">4       3290\n",
      "2        2900\n",
      "never    2452\n",
      "4        1029\n",
      "3        1024\n",
      "Name: last_new_job, dtype: int64\n",
      "\n",
      "training_hours total: 19158\n",
      "28     329\n",
      "12     292\n",
      "18     291\n",
      "22     282\n",
      "50     279\n",
      "      ... \n",
      "266      6\n",
      "272      5\n",
      "234      5\n",
      "286      5\n",
      "238      4\n",
      "Name: training_hours, Length: 241, dtype: int64\n",
      "\n",
      "target total: 19158\n",
      "0.0    14381\n",
      "1.0     4777\n",
      "Name: target, dtype: int64\n",
      "\n"
     ]
    }
   ],
   "source": [
    "for column in job_change.columns:\n",
    "    print(column, 'total:', job_change[column].count())\n",
    "    print(job_change[column].value_counts())\n",
    "    print()"
   ]
  },
  {
   "cell_type": "code",
   "execution_count": 14,
   "metadata": {},
   "outputs": [],
   "source": [
    "corr = job_change.corr()"
   ]
  },
  {
   "cell_type": "code",
   "execution_count": 15,
   "metadata": {},
   "outputs": [
    {
     "data": {
      "text/plain": [
       "<AxesSubplot:>"
      ]
     },
     "execution_count": 15,
     "metadata": {},
     "output_type": "execute_result"
    },
    {
     "data": {
      "image/png": "[encoded data removed]",
      "text/plain": [
       "<Figure size 432x288 with 2 Axes>"
      ]
     },
     "metadata": {
      "needs_background": "light"
     },
     "output_type": "display_data"
    }
   ],
   "source": [
    "sns.heatmap(corr, xticklabels=corr.columns, yticklabels=corr.columns, annot=True, cmap=sns.diverging_palette(220, 20, as_cmap=True))"
   ]
  },
  {
   "cell_type": "code",
   "execution_count": 16,
   "metadata": {},
   "outputs": [],
   "source": [
    "# def enrolled_university_to_numeric(x):\n",
    "#     if x != x:\n",
    "#         return None\n",
    "#     if x == 'no_enrollment':\n",
    "#         return 0\n",
    "#     if x == 'Part time course':\n",
    "#         return 1\n",
    "#     if x == 'Full time course':\n",
    "#         return 2\n",
    "\n",
    "def education_level_to_numeric(x):\n",
    "    if x != x:\n",
    "        return None\n",
    "    if x == \"Primary School\":\n",
    "        return 1\n",
    "    if x == \"High School\":\n",
    "        return 2\n",
    "    if x == \"Graduate\":\n",
    "        return 3\n",
    "    if x == \"Masters\":\n",
    "        return 4\n",
    "    if x == \"Phd\":\n",
    "        return 5\n",
    "\n",
    "def experience_to_numeric(x):\n",
    "    if x != x:\n",
    "        return None\n",
    "    if x == '>20':\n",
    "        return 21\n",
    "    elif x == '<1':\n",
    "        return 0\n",
    "    else:\n",
    "        return int(x)\n",
    "\n",
    "def company_size_to_numeric(x):\n",
    "    if x != x:\n",
    "        return None\n",
    "    if x == '<10' :\n",
    "        return 0\n",
    "    if x == '10/49' :\n",
    "        return 1\n",
    "    if x == '50-99' :\n",
    "        return 2\n",
    "    if x == '100-500' :\n",
    "        return 3\n",
    "    if x == '500-999' :\n",
    "        return 4\n",
    "    if x == '1000-4999' :\n",
    "        return 5\n",
    "    if x == '5000-9999':\n",
    "        return 6\n",
    "    if x == '10000+':\n",
    "        return 7\n",
    "\n",
    "def last_new_job_to_numeric(x):\n",
    "    if x != x:\n",
    "        return None\n",
    "    if x == '>4' :\n",
    "        return 5\n",
    "    if x == 'never' :\n",
    "        return 0\n",
    "    else:\n",
    "        return int(x)"
   ]
  },
  {
   "cell_type": "code",
   "execution_count": 17,
   "metadata": {},
   "outputs": [
    {
     "data": {
      "text/plain": [
       "<AxesSubplot:>"
      ]
     },
     "execution_count": 17,
     "metadata": {},
     "output_type": "execute_result"
    },
    {
     "data": {
      "image/png": "[encoded data removed]",
      "text/plain": [
       "<Figure size 432x288 with 1 Axes>"
      ]
     },
     "metadata": {
      "needs_background": "light"
     },
     "output_type": "display_data"
    }
   ],
   "source": [
    "job_change[\"city_development_index\"].hist(bins=25)"
   ]
  },
  {
   "cell_type": "code",
   "execution_count": 18,
   "metadata": {},
   "outputs": [
    {
     "data": {
      "text/plain": [
       "<AxesSubplot:>"
      ]
     },
     "execution_count": 18,
     "metadata": {},
     "output_type": "execute_result"
    },
    {
     "data": {
      "image/png": "[encoded data removed]",
      "text/plain": [
       "<Figure size 432x288 with 1 Axes>"
      ]
     },
     "metadata": {
      "needs_background": "light"
     },
     "output_type": "display_data"
    }
   ],
   "source": [
    "job_change[\"training_hours\"].hist(bins=50)"
   ]
  },
  {
   "cell_type": "code",
   "execution_count": 19,
   "metadata": {},
   "outputs": [
    {
     "data": {
      "text/plain": [
       "education_level\n",
       "Graduate          47.0\n",
       "High School       49.0\n",
       "Masters           46.0\n",
       "Phd               47.0\n",
       "Primary School    41.5\n",
       "Name: training_hours, dtype: float64"
      ]
     },
     "execution_count": 19,
     "metadata": {},
     "output_type": "execute_result"
    }
   ],
   "source": [
    "job_change.groupby(\"education_level\").training_hours.median()"
   ]
  },
  {
   "cell_type": "code",
   "execution_count": 20,
   "metadata": {},
   "outputs": [
    {
     "data": {
      "text/plain": [
       "education_level\n",
       "Graduate          0.910\n",
       "High School       0.897\n",
       "Masters           0.897\n",
       "Phd               0.915\n",
       "Primary School    0.910\n",
       "Name: city_development_index, dtype: float64"
      ]
     },
     "execution_count": 20,
     "metadata": {},
     "output_type": "execute_result"
    }
   ],
   "source": [
    "job_change.groupby(\"education_level\").city_development_index.median()"
   ]
  },
  {
   "cell_type": "code",
   "execution_count": 21,
   "metadata": {},
   "outputs": [
    {
     "data": {
      "text/plain": [
       "education_level  company_type       \n",
       "Graduate         Pvt Ltd                0.768503\n",
       "                 Funded Startup         0.082140\n",
       "                 Public Sector          0.058117\n",
       "                 Early Stage Startup    0.044649\n",
       "                 NGO                    0.036884\n",
       "                 Other                  0.009706\n",
       "High School      Pvt Ltd                0.765295\n",
       "                 Public Sector          0.072303\n",
       "                 Funded Startup         0.060067\n",
       "                 Early Stage Startup    0.057842\n",
       "                 NGO                    0.032258\n",
       "                 Other                  0.012236\n",
       "Masters          Pvt Ltd                0.740134\n",
       "                 Public Sector          0.089860\n",
       "                 Funded Startup         0.070735\n",
       "                 Early Stage Startup    0.046145\n",
       "                 NGO                    0.045537\n",
       "                 Other                  0.007590\n",
       "Phd              Pvt Ltd                0.504478\n",
       "                 Public Sector          0.289552\n",
       "                 NGO                    0.098507\n",
       "                 Funded Startup         0.074627\n",
       "                 Early Stage Startup    0.029851\n",
       "                 Other                  0.002985\n",
       "Primary School   Pvt Ltd                0.764045\n",
       "                 Early Stage Startup    0.078652\n",
       "                 Funded Startup         0.078652\n",
       "                 Public Sector          0.044944\n",
       "                 NGO                    0.022472\n",
       "                 Other                  0.011236\n",
       "Name: company_type, dtype: float64"
      ]
     },
     "execution_count": 21,
     "metadata": {},
     "output_type": "execute_result"
    }
   ],
   "source": [
    "job_change.groupby(\"education_level\").company_type.value_counts(normalize=True)"
   ]
  },
  {
   "cell_type": "code",
   "execution_count": 22,
   "metadata": {},
   "outputs": [
    {
     "data": {
      "text/plain": [
       "education_level  target\n",
       "Graduate         0.0       0.720210\n",
       "                 1.0       0.279790\n",
       "High School      0.0       0.804660\n",
       "                 1.0       0.195340\n",
       "Masters          0.0       0.785600\n",
       "                 1.0       0.214400\n",
       "Phd              0.0       0.859903\n",
       "                 1.0       0.140097\n",
       "Primary School   0.0       0.866883\n",
       "                 1.0       0.133117\n",
       "Name: target, dtype: float64"
      ]
     },
     "execution_count": 22,
     "metadata": {},
     "output_type": "execute_result"
    }
   ],
   "source": [
    "job_change.groupby(\"education_level\").target.value_counts(normalize=True)"
   ]
  },
  {
   "cell_type": "code",
   "execution_count": 23,
   "metadata": {},
   "outputs": [
    {
     "data": {
      "text/plain": [
       "<matplotlib.collections.PathCollection at 0x1b96f7ee370>"
      ]
     },
     "execution_count": 23,
     "metadata": {},
     "output_type": "execute_result"
    },
    {
     "data": {
      "image/png": "[encoded data removed]",
      "text/plain": [
       "<Figure size 432x288 with 1 Axes>"
      ]
     },
     "metadata": {
      "needs_background": "light"
     },
     "output_type": "display_data"
    }
   ],
   "source": [
    "plt.scatter(job_change[\"city_development_index\"], job_change[\"training_hours\"], c=job_change[\"target\"], cmap=mpl.colors.ListedColormap([\"red\", \"blue\"]))"
   ]
  },
  {
   "cell_type": "code",
   "execution_count": 24,
   "metadata": {},
   "outputs": [
    {
     "data": {
      "text/plain": [
       "<matplotlib.collections.PathCollection at 0x1b96f8419a0>"
      ]
     },
     "execution_count": 24,
     "metadata": {},
     "output_type": "execute_result"
    },
    {
     "data": {
      "image/png": "[encoded data removed]",
      "text/plain": [
       "<Figure size 432x288 with 1 Axes>"
      ]
     },
     "metadata": {
      "needs_background": "light"
     },
     "output_type": "display_data"
    }
   ],
   "source": [
    "plt.scatter(job_change[\"city_development_index\"], np.zeros(job_change[\"city_development_index\"].shape), c=job_change[\"target\"], cmap=mpl.colors.ListedColormap([\"red\", \"blue\"]))"
   ]
  },
  {
   "cell_type": "code",
   "execution_count": 25,
   "metadata": {},
   "outputs": [
    {
     "data": {
      "text/plain": [
       "<matplotlib.collections.PathCollection at 0x1b96f885130>"
      ]
     },
     "execution_count": 25,
     "metadata": {},
     "output_type": "execute_result"
    },
    {
     "data": {
      "image/png": "[encoded data removed]",
      "text/plain": [
       "<Figure size 432x288 with 1 Axes>"
      ]
     },
     "metadata": {
      "needs_background": "light"
     },
     "output_type": "display_data"
    }
   ],
   "source": [
    "plt.scatter(job_change[\"training_hours\"], np.zeros(job_change[\"training_hours\"].shape), c=job_change[\"target\"], cmap=mpl.colors.ListedColormap([\"red\", \"blue\"]))"
   ]
  },
  {
   "cell_type": "code",
   "execution_count": null,
   "metadata": {},
   "outputs": [],
   "source": []
  }
 ],
 "metadata": {
  "kernelspec": {
   "display_name": "Python 3",
   "language": "python",
   "name": "python3"
  },
  "language_info": {
   "codemirror_mode": {
    "name": "ipython",
    "version": 3
   },
   "file_extension": ".py",
   "mimetype": "text/x-python",
   "name": "python",
   "nbconvert_exporter": "python",
   "pygments_lexer": "ipython3",
   "version": "3.8.5"
  },
  "metadata": {
   "interpreter": {
    "hash": "3516c099f2e50fbe6b83d8aca3e7ba54c35d25f18189c7f24f96f469bdbc3fe7"
   }
  }
 },
 "nbformat": 4,
 "nbformat_minor": 2
}
