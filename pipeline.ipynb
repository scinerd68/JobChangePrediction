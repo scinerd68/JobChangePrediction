{
 "cells": [
  {
   "cell_type": "code",
   "execution_count": 1,
   "metadata": {},
   "outputs": [],
   "source": [
    "from sklearn.pipeline import Pipeline\n",
    "from sklearn.preprocessing import StandardScaler\n",
    "from sklearn.compose import ColumnTransformer\n",
    "from sklearn.preprocessing import OneHotEncoder\n",
    "from sklearn.impute import SimpleImputer\n",
    "from sklearn.base import TransformerMixin"
   ]
  },
  {
   "cell_type": "code",
   "execution_count": 2,
   "metadata": {},
   "outputs": [],
   "source": [
    "import numpy as np\n",
    "import pandas as pd"
   ]
  },
  {
   "cell_type": "code",
   "execution_count": 3,
   "metadata": {},
   "outputs": [],
   "source": [
    "# train_set = pd.read_csv(\"Data/train.csv\")\n",
    "# cv_set = pd.read_csv(\"Data/cv.csv\")\n",
    "# test_set = pd.read_csv(\"Data/test.csv\")"
   ]
  },
  {
   "cell_type": "code",
   "execution_count": 4,
   "metadata": {},
   "outputs": [],
   "source": [
    "train_set = pd.read_csv(\"Data/strat_train.csv\")\n",
    "cv_set = pd.read_csv(\"Data/strat_cv.csv\")\n",
    "test_set = pd.read_csv(\"Data/strat_test.csv\")"
   ]
  },
  {
   "cell_type": "code",
   "execution_count": 5,
   "metadata": {
    "scrolled": true
   },
   "outputs": [
    {
     "data": {
      "text/html": [
       "<div>\n",
       "<style scoped>\n",
       "    .dataframe tbody tr th:only-of-type {\n",
       "        vertical-align: middle;\n",
       "    }\n",
       "\n",
       "    .dataframe tbody tr th {\n",
       "        vertical-align: top;\n",
       "    }\n",
       "\n",
       "    .dataframe thead th {\n",
       "        text-align: right;\n",
       "    }\n",
       "</style>\n",
       "<table border=\"1\" class=\"dataframe\">\n",
       "  <thead>\n",
       "    <tr style=\"text-align: right;\">\n",
       "      <th></th>\n",
       "      <th>enrollee_id</th>\n",
       "      <th>city</th>\n",
       "      <th>city_development_index</th>\n",
       "      <th>gender</th>\n",
       "      <th>relevent_experience</th>\n",
       "      <th>enrolled_university</th>\n",
       "      <th>education_level</th>\n",
       "      <th>major_discipline</th>\n",
       "      <th>experience</th>\n",
       "      <th>company_size</th>\n",
       "      <th>company_type</th>\n",
       "      <th>last_new_job</th>\n",
       "      <th>training_hours</th>\n",
       "      <th>target</th>\n",
       "    </tr>\n",
       "  </thead>\n",
       "  <tbody>\n",
       "    <tr>\n",
       "      <th>0</th>\n",
       "      <td>27633</td>\n",
       "      <td>city_104</td>\n",
       "      <td>0.924</td>\n",
       "      <td>Male</td>\n",
       "      <td>Has relevent experience</td>\n",
       "      <td>no_enrollment</td>\n",
       "      <td>Graduate</td>\n",
       "      <td>STEM</td>\n",
       "      <td>3</td>\n",
       "      <td>1000-4999</td>\n",
       "      <td>Pvt Ltd</td>\n",
       "      <td>3</td>\n",
       "      <td>81</td>\n",
       "      <td>0.0</td>\n",
       "    </tr>\n",
       "    <tr>\n",
       "      <th>1</th>\n",
       "      <td>13681</td>\n",
       "      <td>city_114</td>\n",
       "      <td>0.926</td>\n",
       "      <td>Male</td>\n",
       "      <td>Has relevent experience</td>\n",
       "      <td>no_enrollment</td>\n",
       "      <td>Graduate</td>\n",
       "      <td>STEM</td>\n",
       "      <td>&gt;20</td>\n",
       "      <td>10/49</td>\n",
       "      <td>Pvt Ltd</td>\n",
       "      <td>&gt;4</td>\n",
       "      <td>21</td>\n",
       "      <td>0.0</td>\n",
       "    </tr>\n",
       "    <tr>\n",
       "      <th>2</th>\n",
       "      <td>5164</td>\n",
       "      <td>city_114</td>\n",
       "      <td>0.926</td>\n",
       "      <td>Male</td>\n",
       "      <td>Has relevent experience</td>\n",
       "      <td>Full time course</td>\n",
       "      <td>Graduate</td>\n",
       "      <td>STEM</td>\n",
       "      <td>&gt;20</td>\n",
       "      <td>1000-4999</td>\n",
       "      <td>NGO</td>\n",
       "      <td>&gt;4</td>\n",
       "      <td>28</td>\n",
       "      <td>0.0</td>\n",
       "    </tr>\n",
       "    <tr>\n",
       "      <th>3</th>\n",
       "      <td>19363</td>\n",
       "      <td>city_75</td>\n",
       "      <td>0.939</td>\n",
       "      <td>Male</td>\n",
       "      <td>Has relevent experience</td>\n",
       "      <td>no_enrollment</td>\n",
       "      <td>Graduate</td>\n",
       "      <td>STEM</td>\n",
       "      <td>17</td>\n",
       "      <td>NaN</td>\n",
       "      <td>NaN</td>\n",
       "      <td>&gt;4</td>\n",
       "      <td>46</td>\n",
       "      <td>0.0</td>\n",
       "    </tr>\n",
       "    <tr>\n",
       "      <th>4</th>\n",
       "      <td>30516</td>\n",
       "      <td>city_103</td>\n",
       "      <td>0.920</td>\n",
       "      <td>Male</td>\n",
       "      <td>Has relevent experience</td>\n",
       "      <td>no_enrollment</td>\n",
       "      <td>Graduate</td>\n",
       "      <td>STEM</td>\n",
       "      <td>5</td>\n",
       "      <td>10/49</td>\n",
       "      <td>Pvt Ltd</td>\n",
       "      <td>&gt;4</td>\n",
       "      <td>94</td>\n",
       "      <td>0.0</td>\n",
       "    </tr>\n",
       "    <tr>\n",
       "      <th>5</th>\n",
       "      <td>17774</td>\n",
       "      <td>city_21</td>\n",
       "      <td>0.624</td>\n",
       "      <td>Male</td>\n",
       "      <td>Has relevent experience</td>\n",
       "      <td>NaN</td>\n",
       "      <td>Graduate</td>\n",
       "      <td>STEM</td>\n",
       "      <td>4</td>\n",
       "      <td>NaN</td>\n",
       "      <td>NaN</td>\n",
       "      <td>1</td>\n",
       "      <td>16</td>\n",
       "      <td>0.0</td>\n",
       "    </tr>\n",
       "    <tr>\n",
       "      <th>6</th>\n",
       "      <td>1444</td>\n",
       "      <td>city_103</td>\n",
       "      <td>0.920</td>\n",
       "      <td>Male</td>\n",
       "      <td>No relevent experience</td>\n",
       "      <td>no_enrollment</td>\n",
       "      <td>High School</td>\n",
       "      <td>NaN</td>\n",
       "      <td>6</td>\n",
       "      <td>NaN</td>\n",
       "      <td>NaN</td>\n",
       "      <td>never</td>\n",
       "      <td>66</td>\n",
       "      <td>0.0</td>\n",
       "    </tr>\n",
       "    <tr>\n",
       "      <th>7</th>\n",
       "      <td>12113</td>\n",
       "      <td>city_11</td>\n",
       "      <td>0.550</td>\n",
       "      <td>Male</td>\n",
       "      <td>Has relevent experience</td>\n",
       "      <td>Part time course</td>\n",
       "      <td>Graduate</td>\n",
       "      <td>STEM</td>\n",
       "      <td>3</td>\n",
       "      <td>NaN</td>\n",
       "      <td>NaN</td>\n",
       "      <td>1</td>\n",
       "      <td>13</td>\n",
       "      <td>0.0</td>\n",
       "    </tr>\n",
       "    <tr>\n",
       "      <th>8</th>\n",
       "      <td>3708</td>\n",
       "      <td>city_103</td>\n",
       "      <td>0.920</td>\n",
       "      <td>Male</td>\n",
       "      <td>Has relevent experience</td>\n",
       "      <td>no_enrollment</td>\n",
       "      <td>Graduate</td>\n",
       "      <td>STEM</td>\n",
       "      <td>14</td>\n",
       "      <td>10000+</td>\n",
       "      <td>Pvt Ltd</td>\n",
       "      <td>&gt;4</td>\n",
       "      <td>290</td>\n",
       "      <td>0.0</td>\n",
       "    </tr>\n",
       "    <tr>\n",
       "      <th>9</th>\n",
       "      <td>5248</td>\n",
       "      <td>city_21</td>\n",
       "      <td>0.624</td>\n",
       "      <td>Male</td>\n",
       "      <td>No relevent experience</td>\n",
       "      <td>Full time course</td>\n",
       "      <td>High School</td>\n",
       "      <td>NaN</td>\n",
       "      <td>5</td>\n",
       "      <td>NaN</td>\n",
       "      <td>Pvt Ltd</td>\n",
       "      <td>never</td>\n",
       "      <td>53</td>\n",
       "      <td>0.0</td>\n",
       "    </tr>\n",
       "  </tbody>\n",
       "</table>\n",
       "</div>"
      ],
      "text/plain": [
       "   enrollee_id      city  city_development_index gender  \\\n",
       "0        27633  city_104                   0.924   Male   \n",
       "1        13681  city_114                   0.926   Male   \n",
       "2         5164  city_114                   0.926   Male   \n",
       "3        19363   city_75                   0.939   Male   \n",
       "4        30516  city_103                   0.920   Male   \n",
       "5        17774   city_21                   0.624   Male   \n",
       "6         1444  city_103                   0.920   Male   \n",
       "7        12113   city_11                   0.550   Male   \n",
       "8         3708  city_103                   0.920   Male   \n",
       "9         5248   city_21                   0.624   Male   \n",
       "\n",
       "       relevent_experience enrolled_university education_level  \\\n",
       "0  Has relevent experience       no_enrollment        Graduate   \n",
       "1  Has relevent experience       no_enrollment        Graduate   \n",
       "2  Has relevent experience    Full time course        Graduate   \n",
       "3  Has relevent experience       no_enrollment        Graduate   \n",
       "4  Has relevent experience       no_enrollment        Graduate   \n",
       "5  Has relevent experience                 NaN        Graduate   \n",
       "6   No relevent experience       no_enrollment     High School   \n",
       "7  Has relevent experience    Part time course        Graduate   \n",
       "8  Has relevent experience       no_enrollment        Graduate   \n",
       "9   No relevent experience    Full time course     High School   \n",
       "\n",
       "  major_discipline experience company_size company_type last_new_job  \\\n",
       "0             STEM          3    1000-4999      Pvt Ltd            3   \n",
       "1             STEM        >20        10/49      Pvt Ltd           >4   \n",
       "2             STEM        >20    1000-4999          NGO           >4   \n",
       "3             STEM         17          NaN          NaN           >4   \n",
       "4             STEM          5        10/49      Pvt Ltd           >4   \n",
       "5             STEM          4          NaN          NaN            1   \n",
       "6              NaN          6          NaN          NaN        never   \n",
       "7             STEM          3          NaN          NaN            1   \n",
       "8             STEM         14       10000+      Pvt Ltd           >4   \n",
       "9              NaN          5          NaN      Pvt Ltd        never   \n",
       "\n",
       "   training_hours  target  \n",
       "0              81     0.0  \n",
       "1              21     0.0  \n",
       "2              28     0.0  \n",
       "3              46     0.0  \n",
       "4              94     0.0  \n",
       "5              16     0.0  \n",
       "6              66     0.0  \n",
       "7              13     0.0  \n",
       "8             290     0.0  \n",
       "9              53     0.0  "
      ]
     },
     "execution_count": 5,
     "metadata": {},
     "output_type": "execute_result"
    }
   ],
   "source": [
    "train_set.head(10)"
   ]
  },
  {
   "cell_type": "code",
   "execution_count": 6,
   "metadata": {},
   "outputs": [],
   "source": [
    "job_change = train_set.drop([\"enrollee_id\", \"target\"], axis=1)\n",
    "job_change_labels = train_set[\"target\"].copy()"
   ]
  },
  {
   "cell_type": "code",
   "execution_count": 7,
   "metadata": {},
   "outputs": [
    {
     "data": {
      "text/html": [
       "<div>\n",
       "<style scoped>\n",
       "    .dataframe tbody tr th:only-of-type {\n",
       "        vertical-align: middle;\n",
       "    }\n",
       "\n",
       "    .dataframe tbody tr th {\n",
       "        vertical-align: top;\n",
       "    }\n",
       "\n",
       "    .dataframe thead th {\n",
       "        text-align: right;\n",
       "    }\n",
       "</style>\n",
       "<table border=\"1\" class=\"dataframe\">\n",
       "  <thead>\n",
       "    <tr style=\"text-align: right;\">\n",
       "      <th></th>\n",
       "      <th>city</th>\n",
       "      <th>city_development_index</th>\n",
       "      <th>gender</th>\n",
       "      <th>relevent_experience</th>\n",
       "      <th>enrolled_university</th>\n",
       "      <th>education_level</th>\n",
       "      <th>major_discipline</th>\n",
       "      <th>experience</th>\n",
       "      <th>company_size</th>\n",
       "      <th>company_type</th>\n",
       "      <th>last_new_job</th>\n",
       "      <th>training_hours</th>\n",
       "    </tr>\n",
       "  </thead>\n",
       "  <tbody>\n",
       "    <tr>\n",
       "      <th>0</th>\n",
       "      <td>city_104</td>\n",
       "      <td>0.924</td>\n",
       "      <td>Male</td>\n",
       "      <td>Has relevent experience</td>\n",
       "      <td>no_enrollment</td>\n",
       "      <td>Graduate</td>\n",
       "      <td>STEM</td>\n",
       "      <td>3</td>\n",
       "      <td>1000-4999</td>\n",
       "      <td>Pvt Ltd</td>\n",
       "      <td>3</td>\n",
       "      <td>81</td>\n",
       "    </tr>\n",
       "    <tr>\n",
       "      <th>1</th>\n",
       "      <td>city_114</td>\n",
       "      <td>0.926</td>\n",
       "      <td>Male</td>\n",
       "      <td>Has relevent experience</td>\n",
       "      <td>no_enrollment</td>\n",
       "      <td>Graduate</td>\n",
       "      <td>STEM</td>\n",
       "      <td>&gt;20</td>\n",
       "      <td>10/49</td>\n",
       "      <td>Pvt Ltd</td>\n",
       "      <td>&gt;4</td>\n",
       "      <td>21</td>\n",
       "    </tr>\n",
       "    <tr>\n",
       "      <th>2</th>\n",
       "      <td>city_114</td>\n",
       "      <td>0.926</td>\n",
       "      <td>Male</td>\n",
       "      <td>Has relevent experience</td>\n",
       "      <td>Full time course</td>\n",
       "      <td>Graduate</td>\n",
       "      <td>STEM</td>\n",
       "      <td>&gt;20</td>\n",
       "      <td>1000-4999</td>\n",
       "      <td>NGO</td>\n",
       "      <td>&gt;4</td>\n",
       "      <td>28</td>\n",
       "    </tr>\n",
       "    <tr>\n",
       "      <th>3</th>\n",
       "      <td>city_75</td>\n",
       "      <td>0.939</td>\n",
       "      <td>Male</td>\n",
       "      <td>Has relevent experience</td>\n",
       "      <td>no_enrollment</td>\n",
       "      <td>Graduate</td>\n",
       "      <td>STEM</td>\n",
       "      <td>17</td>\n",
       "      <td>NaN</td>\n",
       "      <td>NaN</td>\n",
       "      <td>&gt;4</td>\n",
       "      <td>46</td>\n",
       "    </tr>\n",
       "    <tr>\n",
       "      <th>4</th>\n",
       "      <td>city_103</td>\n",
       "      <td>0.920</td>\n",
       "      <td>Male</td>\n",
       "      <td>Has relevent experience</td>\n",
       "      <td>no_enrollment</td>\n",
       "      <td>Graduate</td>\n",
       "      <td>STEM</td>\n",
       "      <td>5</td>\n",
       "      <td>10/49</td>\n",
       "      <td>Pvt Ltd</td>\n",
       "      <td>&gt;4</td>\n",
       "      <td>94</td>\n",
       "    </tr>\n",
       "  </tbody>\n",
       "</table>\n",
       "</div>"
      ],
      "text/plain": [
       "       city  city_development_index gender      relevent_experience  \\\n",
       "0  city_104                   0.924   Male  Has relevent experience   \n",
       "1  city_114                   0.926   Male  Has relevent experience   \n",
       "2  city_114                   0.926   Male  Has relevent experience   \n",
       "3   city_75                   0.939   Male  Has relevent experience   \n",
       "4  city_103                   0.920   Male  Has relevent experience   \n",
       "\n",
       "  enrolled_university education_level major_discipline experience  \\\n",
       "0       no_enrollment        Graduate             STEM          3   \n",
       "1       no_enrollment        Graduate             STEM        >20   \n",
       "2    Full time course        Graduate             STEM        >20   \n",
       "3       no_enrollment        Graduate             STEM         17   \n",
       "4       no_enrollment        Graduate             STEM          5   \n",
       "\n",
       "  company_size company_type last_new_job  training_hours  \n",
       "0    1000-4999      Pvt Ltd            3              81  \n",
       "1        10/49      Pvt Ltd           >4              21  \n",
       "2    1000-4999          NGO           >4              28  \n",
       "3          NaN          NaN           >4              46  \n",
       "4        10/49      Pvt Ltd           >4              94  "
      ]
     },
     "execution_count": 7,
     "metadata": {},
     "output_type": "execute_result"
    }
   ],
   "source": [
    "job_change.head()"
   ]
  },
  {
   "cell_type": "code",
   "execution_count": 8,
   "metadata": {},
   "outputs": [],
   "source": [
    "num_attribs = ['city_development_index', 'training_hours']\n",
    "ord_cat_attribs = ['relevent_experience', 'enrolled_university', 'education_level', 'experience', 'company_size', 'last_new_job']\n",
    "nom_cat_attribs = ['city', 'gender', 'major_discipline', 'company_type']"
   ]
  },
  {
   "cell_type": "code",
   "execution_count": 9,
   "metadata": {},
   "outputs": [
    {
     "name": "stdout",
     "output_type": "stream",
     "text": [
      "['Has relevent experience' 'No relevent experience']\n",
      "['no_enrollment' 'Full time course' nan 'Part time course']\n",
      "['Graduate' 'High School' nan 'Masters' 'Primary School' 'Phd']\n",
      "['3' '>20' '17' '5' '4' '6' '14' '11' '9' '12' '10' '2' '18' '15' '13' '8'\n",
      " '19' '7' '<1' '1' '16' '20' nan]\n",
      "['1000-4999' '10/49' nan '10000+' '100-500' '50-99' '5000-9999' '<10'\n",
      " '500-999']\n",
      "['3' '>4' '1' 'never' '2' '4' nan]\n"
     ]
    }
   ],
   "source": [
    "for attribs in ord_cat_attribs:\n",
    "    print(job_change[attribs].unique())"
   ]
  },
  {
   "cell_type": "code",
   "execution_count": 10,
   "metadata": {},
   "outputs": [],
   "source": [
    "num_pipeline = Pipeline([\n",
    "    ('imputer', SimpleImputer(missing_values=np.nan, strategy= \"median\")),\n",
    "    ('std_scaler', StandardScaler())\n",
    "])"
   ]
  },
  {
   "cell_type": "code",
   "execution_count": 11,
   "metadata": {},
   "outputs": [],
   "source": [
    "class OrdToNumeric(TransformerMixin):\n",
    "    def fit(self,X,y=None):\n",
    "        return self\n",
    "\n",
    "    def transform(self,X,y=None):\n",
    "        X['relevent_experience'] = X['relevent_experience'].apply(self.relevent_experience_to_numeric)\n",
    "        X['enrolled_university'] = X['enrolled_university'].apply(self.enrolled_university_to_numeric)\n",
    "        X['education_level'] = X['education_level'].apply(self.education_level_to_numeric)\n",
    "        X['experience'] = X['experience'].apply(self.experience_to_numeric)\n",
    "        X['company_size'] = X['company_size'].apply(self.company_size_to_numeric)\n",
    "        X['last_new_job'] = X['last_new_job'].apply(self.last_new_job_to_numeric)\n",
    "        return X\n",
    "\n",
    "    def relevent_experience_to_numeric(self, experience):\n",
    "        if experience != experience:\n",
    "            return None\n",
    "        if experience == \"Has relevent experience\":\n",
    "            return 1\n",
    "        return 0\n",
    "\n",
    "    def enrolled_university_to_numeric(self, x):\n",
    "        if x != x:\n",
    "            return None\n",
    "        if x == 'no_enrollment':\n",
    "            return 0\n",
    "        if x == 'Part time course':\n",
    "            return 1\n",
    "        if x == 'Full time course':\n",
    "            return 2\n",
    "\n",
    "    def education_level_to_numeric(self, x):\n",
    "        if x != x:\n",
    "            return None\n",
    "        if x == \"Primary School\":\n",
    "            return 1\n",
    "        if x == \"High School\":\n",
    "            return 2\n",
    "        if x == \"Graduate\":\n",
    "            return 3\n",
    "        if x == \"Masters\":\n",
    "            return 4\n",
    "        if x == \"Phd\":\n",
    "            return 5\n",
    "\n",
    "    def experience_to_numeric(self, x):\n",
    "        if x != x:\n",
    "            return None\n",
    "        if x == '>20':\n",
    "            return 21\n",
    "        elif x == '<1':\n",
    "            return 0\n",
    "        else:\n",
    "            return int(x)\n",
    "\n",
    "    def company_size_to_numeric(self, x):\n",
    "        if x != x:\n",
    "            return None\n",
    "        if x == '<10' :\n",
    "            return 0\n",
    "        if x == '10/49' :\n",
    "            return 1\n",
    "        if x == '50-99' :\n",
    "            return 2\n",
    "        if x == '100-500' :\n",
    "            return 3\n",
    "        if x == '500-999' :\n",
    "            return 4\n",
    "        if x == '1000-4999' :\n",
    "            return 5\n",
    "        if x == '5000-9999':\n",
    "            return 6\n",
    "        if x == '10000+':\n",
    "            return 7\n",
    "\n",
    "    def last_new_job_to_numeric(self, x):\n",
    "        if x != x:\n",
    "            return None\n",
    "        if x == '>4' :\n",
    "            return 5\n",
    "        if x == 'never' :\n",
    "            return 0\n",
    "        else:\n",
    "            return int(x)"
   ]
  },
  {
   "cell_type": "code",
   "execution_count": 12,
   "metadata": {},
   "outputs": [],
   "source": [
    "ord_pipeline = Pipeline([\n",
    "    ('ord_to_numeric', OrdToNumeric()),\n",
    "    ('ord_imputer', SimpleImputer(missing_values=np.nan, strategy=\"most_frequent\")),\n",
    "    ('ord_std_scaler', StandardScaler())\n",
    "])"
   ]
  },
  {
   "cell_type": "code",
   "execution_count": 13,
   "metadata": {},
   "outputs": [],
   "source": [
    "class DenseTransformer(TransformerMixin):\n",
    "    def fit(self, X, y=None):\n",
    "        return self\n",
    "\n",
    "    def transform(self, X, y=None):\n",
    "        return X.toarray()"
   ]
  },
  {
   "cell_type": "code",
   "execution_count": 14,
   "metadata": {},
   "outputs": [],
   "source": [
    "nom_pipeline = Pipeline([\n",
    "    ('nom_imputer', SimpleImputer(strategy=\"constant\")),\n",
    "    ('one_hot_encoder', OneHotEncoder(handle_unknown='ignore')),\n",
    "    ('to_array', DenseTransformer()),\n",
    "    ('nom_std_scaler', StandardScaler())\n",
    "])"
   ]
  },
  {
   "cell_type": "code",
   "execution_count": 15,
   "metadata": {},
   "outputs": [],
   "source": [
    "full_pipeline = ColumnTransformer([\n",
    "    (\"num\", num_pipeline, num_attribs),\n",
    "    (\"ord\", ord_pipeline, ord_cat_attribs),\n",
    "    (\"nom\", nom_pipeline, nom_cat_attribs)\n",
    "])"
   ]
  },
  {
   "cell_type": "code",
   "execution_count": 16,
   "metadata": {},
   "outputs": [],
   "source": [
    "job_change_prepared = full_pipeline.fit_transform(job_change)"
   ]
  },
  {
   "cell_type": "code",
   "execution_count": 17,
   "metadata": {},
   "outputs": [
    {
     "data": {
      "text/plain": [
       "array([[ 7.73871691e-01,  2.67937771e-01,  6.20986207e-01, ...,\n",
       "        -2.27637444e-01,  9.86067681e-01, -6.93824169e-01],\n",
       "       [ 7.90027924e-01, -7.39113423e-01,  6.20986207e-01, ...,\n",
       "        -2.27637444e-01,  9.86067681e-01, -6.93824169e-01],\n",
       "       [ 7.90027924e-01, -6.21624117e-01,  6.20986207e-01, ...,\n",
       "        -2.27637444e-01, -1.01412917e+00, -6.93824169e-01],\n",
       "       ...,\n",
       "       [ 7.41559225e-01, -2.52372013e-01,  6.20986207e-01, ...,\n",
       "         4.39295040e+00, -1.01412917e+00, -6.93824169e-01],\n",
       "       [ 8.95043437e-01, -6.09213950e-04,  6.20986207e-01, ...,\n",
       "        -2.27637444e-01,  9.86067681e-01, -6.93824169e-01],\n",
       "       [ 2.16481659e-01, -8.73386916e-01,  6.20986207e-01, ...,\n",
       "        -2.27637444e-01,  9.86067681e-01, -6.93824169e-01]])"
      ]
     },
     "execution_count": 17,
     "metadata": {},
     "output_type": "execute_result"
    }
   ],
   "source": [
    "job_change_prepared"
   ]
  },
  {
   "cell_type": "code",
   "execution_count": 18,
   "metadata": {},
   "outputs": [
    {
     "data": {
      "text/plain": [
       "(12260, 147)"
      ]
     },
     "execution_count": 18,
     "metadata": {},
     "output_type": "execute_result"
    }
   ],
   "source": [
    "job_change_prepared.shape"
   ]
  },
  {
   "cell_type": "code",
   "execution_count": 19,
   "metadata": {},
   "outputs": [
    {
     "data": {
      "text/plain": [
       "array([ 0.77387169,  0.26793777,  0.62098621, -0.57110826, -0.19537633,\n",
       "       -1.043521  ,  1.11621768,  0.61924501, -0.03499985, -0.06136913,\n",
       "       -0.11998676, -0.05932694, -0.12646752, -0.54253223,  7.82518387,\n",
       "       -0.06834459, -0.02212772, -0.01564475, -0.01806573, -0.11499191,\n",
       "       -0.27637437, -0.05195137, -0.08205762, -0.02857143, -0.03614917,\n",
       "       -0.02857143, -0.01277336, -0.01277336, -0.06399222, -0.04142254,\n",
       "       -0.02390165, -0.06953898, -0.01564475, -0.04869317, -0.02555298,\n",
       "       -0.02212772, -0.04335373, -0.17541898, -0.07300721, -0.01564475,\n",
       "       -0.03381169, -0.00903176, -0.03939747, -0.05195137, -0.04239905,\n",
       "       -0.03726323, -0.05575973, -0.02019893, -0.07244047, -0.06069592,\n",
       "       -0.0527348 , -0.02857143, -0.03726323, -0.05115608, -0.06589212,\n",
       "       -0.29213001, -0.21193407, -0.08053267, -0.06136913, -0.00903176,\n",
       "       -0.02390165, -0.09068453, -0.02857143, -0.0404226 , -0.01806573,\n",
       "       -0.01277336, -0.01277336, -0.07468218, -0.02212772, -0.04239905,\n",
       "       -0.40750987, -0.09773455, -0.05649096, -0.00903176, -0.0404226 ,\n",
       "       -0.04610016, -0.09773455, -0.03834512, -0.00903176, -0.02710413,\n",
       "       -0.09114057, -0.02857143, -0.02996719, -0.06334647, -0.07300721,\n",
       "       -0.02996719, -0.02710413, -0.03381169, -0.0784545 , -0.08355549,\n",
       "       -0.02857143, -0.08742783, -0.03381169, -0.02996719, -0.02390165,\n",
       "       -0.07129376, -0.02390165, -0.10190213, -0.01564475, -0.0784545 ,\n",
       "       -0.09427315, -0.15175872, -0.02857143, -0.04335373, -0.05195137,\n",
       "       -0.11893313, -0.03258043, -0.12103173, -0.07300721, -0.12779252,\n",
       "       -0.0527348 , -0.03834512, -0.04239905, -0.02555298, -0.01564475,\n",
       "       -0.02857143, -0.01277336, -0.01564475, -0.08976572, -0.03499985,\n",
       "       -0.06001528, -0.02555298, -0.1047247 , -0.04869317, -0.03939747,\n",
       "       -0.03614917, -0.07412797, -0.06651356, -0.07071358, -0.26048269,\n",
       "        0.67007559, -0.10312087, -0.55549151, -0.11315753, -0.13201282,\n",
       "       -0.19111123, -0.11054088, -0.14160362,  0.56554458, -0.41280229,\n",
       "       -0.17566584, -0.24194857, -0.16863336, -0.07685994, -0.22763744,\n",
       "        0.98606768, -0.69382417])"
      ]
     },
     "execution_count": 19,
     "metadata": {},
     "output_type": "execute_result"
    }
   ],
   "source": [
    "job_change_prepared[0]"
   ]
  },
  {
   "cell_type": "code",
   "execution_count": 20,
   "metadata": {},
   "outputs": [],
   "source": [
    "np.savetxt(\"Data/X_train.csv\", job_change_prepared, delimiter=',')\n",
    "np.savetxt(\"Data/y_train.csv\", job_change_labels.to_numpy(), delimiter=',')"
   ]
  },
  {
   "cell_type": "markdown",
   "metadata": {},
   "source": [
    "### Undersampling"
   ]
  },
  {
   "cell_type": "code",
   "execution_count": 21,
   "metadata": {},
   "outputs": [],
   "source": [
    "from imblearn.under_sampling import RandomUnderSampler"
   ]
  },
  {
   "cell_type": "code",
   "execution_count": 22,
   "metadata": {},
   "outputs": [],
   "source": [
    "undersample = RandomUnderSampler(sampling_strategy=\"majority\", random_state=42)"
   ]
  },
  {
   "cell_type": "code",
   "execution_count": 23,
   "metadata": {},
   "outputs": [],
   "source": [
    "# fit and apply the transform\n",
    "X_under, y_under = undersample.fit_resample(job_change_prepared, job_change_labels.to_numpy())"
   ]
  },
  {
   "cell_type": "code",
   "execution_count": 24,
   "metadata": {},
   "outputs": [
    {
     "data": {
      "text/plain": [
       "(12260, 147)"
      ]
     },
     "execution_count": 24,
     "metadata": {},
     "output_type": "execute_result"
    }
   ],
   "source": [
    "job_change_prepared.shape"
   ]
  },
  {
   "cell_type": "code",
   "execution_count": 25,
   "metadata": {},
   "outputs": [
    {
     "data": {
      "text/plain": [
       "(6134, 147)"
      ]
     },
     "execution_count": 25,
     "metadata": {},
     "output_type": "execute_result"
    }
   ],
   "source": [
    "X_under.shape"
   ]
  },
  {
   "cell_type": "code",
   "execution_count": 26,
   "metadata": {},
   "outputs": [],
   "source": [
    "np.savetxt(\"Data/X_train_under.csv\", X_under, delimiter=',')\n",
    "np.savetxt(\"Data/y_train_under.csv\", y_under, delimiter=',')"
   ]
  },
  {
   "cell_type": "markdown",
   "metadata": {},
   "source": [
    "# Process test set"
   ]
  },
  {
   "cell_type": "code",
   "execution_count": 27,
   "metadata": {},
   "outputs": [
    {
     "data": {
      "text/html": [
       "<div>\n",
       "<style scoped>\n",
       "    .dataframe tbody tr th:only-of-type {\n",
       "        vertical-align: middle;\n",
       "    }\n",
       "\n",
       "    .dataframe tbody tr th {\n",
       "        vertical-align: top;\n",
       "    }\n",
       "\n",
       "    .dataframe thead th {\n",
       "        text-align: right;\n",
       "    }\n",
       "</style>\n",
       "<table border=\"1\" class=\"dataframe\">\n",
       "  <thead>\n",
       "    <tr style=\"text-align: right;\">\n",
       "      <th></th>\n",
       "      <th>enrollee_id</th>\n",
       "      <th>city</th>\n",
       "      <th>city_development_index</th>\n",
       "      <th>gender</th>\n",
       "      <th>relevent_experience</th>\n",
       "      <th>enrolled_university</th>\n",
       "      <th>education_level</th>\n",
       "      <th>major_discipline</th>\n",
       "      <th>experience</th>\n",
       "      <th>company_size</th>\n",
       "      <th>company_type</th>\n",
       "      <th>last_new_job</th>\n",
       "      <th>training_hours</th>\n",
       "      <th>target</th>\n",
       "    </tr>\n",
       "  </thead>\n",
       "  <tbody>\n",
       "    <tr>\n",
       "      <th>0</th>\n",
       "      <td>17840</td>\n",
       "      <td>city_65</td>\n",
       "      <td>0.802</td>\n",
       "      <td>Male</td>\n",
       "      <td>Has relevent experience</td>\n",
       "      <td>Full time course</td>\n",
       "      <td>High School</td>\n",
       "      <td>NaN</td>\n",
       "      <td>7</td>\n",
       "      <td>50-99</td>\n",
       "      <td>Pvt Ltd</td>\n",
       "      <td>1</td>\n",
       "      <td>17</td>\n",
       "      <td>0.0</td>\n",
       "    </tr>\n",
       "    <tr>\n",
       "      <th>1</th>\n",
       "      <td>16510</td>\n",
       "      <td>city_173</td>\n",
       "      <td>0.878</td>\n",
       "      <td>Male</td>\n",
       "      <td>Has relevent experience</td>\n",
       "      <td>no_enrollment</td>\n",
       "      <td>Graduate</td>\n",
       "      <td>STEM</td>\n",
       "      <td>10</td>\n",
       "      <td>&lt;10</td>\n",
       "      <td>Pvt Ltd</td>\n",
       "      <td>&gt;4</td>\n",
       "      <td>218</td>\n",
       "      <td>0.0</td>\n",
       "    </tr>\n",
       "    <tr>\n",
       "      <th>2</th>\n",
       "      <td>25453</td>\n",
       "      <td>city_160</td>\n",
       "      <td>0.920</td>\n",
       "      <td>Male</td>\n",
       "      <td>Has relevent experience</td>\n",
       "      <td>no_enrollment</td>\n",
       "      <td>Graduate</td>\n",
       "      <td>STEM</td>\n",
       "      <td>&gt;20</td>\n",
       "      <td>50-99</td>\n",
       "      <td>Pvt Ltd</td>\n",
       "      <td>&gt;4</td>\n",
       "      <td>72</td>\n",
       "      <td>0.0</td>\n",
       "    </tr>\n",
       "    <tr>\n",
       "      <th>3</th>\n",
       "      <td>29151</td>\n",
       "      <td>city_103</td>\n",
       "      <td>0.920</td>\n",
       "      <td>Male</td>\n",
       "      <td>Has relevent experience</td>\n",
       "      <td>no_enrollment</td>\n",
       "      <td>Graduate</td>\n",
       "      <td>STEM</td>\n",
       "      <td>9</td>\n",
       "      <td>100-500</td>\n",
       "      <td>Pvt Ltd</td>\n",
       "      <td>&gt;4</td>\n",
       "      <td>276</td>\n",
       "      <td>0.0</td>\n",
       "    </tr>\n",
       "    <tr>\n",
       "      <th>4</th>\n",
       "      <td>27705</td>\n",
       "      <td>city_114</td>\n",
       "      <td>0.926</td>\n",
       "      <td>NaN</td>\n",
       "      <td>Has relevent experience</td>\n",
       "      <td>no_enrollment</td>\n",
       "      <td>Masters</td>\n",
       "      <td>STEM</td>\n",
       "      <td>&gt;20</td>\n",
       "      <td>10000+</td>\n",
       "      <td>Pvt Ltd</td>\n",
       "      <td>never</td>\n",
       "      <td>57</td>\n",
       "      <td>0.0</td>\n",
       "    </tr>\n",
       "  </tbody>\n",
       "</table>\n",
       "</div>"
      ],
      "text/plain": [
       "   enrollee_id      city  city_development_index gender  \\\n",
       "0        17840   city_65                   0.802   Male   \n",
       "1        16510  city_173                   0.878   Male   \n",
       "2        25453  city_160                   0.920   Male   \n",
       "3        29151  city_103                   0.920   Male   \n",
       "4        27705  city_114                   0.926    NaN   \n",
       "\n",
       "       relevent_experience enrolled_university education_level  \\\n",
       "0  Has relevent experience    Full time course     High School   \n",
       "1  Has relevent experience       no_enrollment        Graduate   \n",
       "2  Has relevent experience       no_enrollment        Graduate   \n",
       "3  Has relevent experience       no_enrollment        Graduate   \n",
       "4  Has relevent experience       no_enrollment         Masters   \n",
       "\n",
       "  major_discipline experience company_size company_type last_new_job  \\\n",
       "0              NaN          7        50-99      Pvt Ltd            1   \n",
       "1             STEM         10          <10      Pvt Ltd           >4   \n",
       "2             STEM        >20        50-99      Pvt Ltd           >4   \n",
       "3             STEM          9      100-500      Pvt Ltd           >4   \n",
       "4             STEM        >20       10000+      Pvt Ltd        never   \n",
       "\n",
       "   training_hours  target  \n",
       "0              17     0.0  \n",
       "1             218     0.0  \n",
       "2              72     0.0  \n",
       "3             276     0.0  \n",
       "4              57     0.0  "
      ]
     },
     "execution_count": 27,
     "metadata": {},
     "output_type": "execute_result"
    }
   ],
   "source": [
    "test_set.head()"
   ]
  },
  {
   "cell_type": "code",
   "execution_count": 28,
   "metadata": {},
   "outputs": [],
   "source": [
    "job_change_test = test_set.drop([\"enrollee_id\", \"target\"], axis=1)\n",
    "job_change_test_labels = test_set[\"target\"].copy()"
   ]
  },
  {
   "cell_type": "code",
   "execution_count": 29,
   "metadata": {},
   "outputs": [],
   "source": [
    "job_change_test_prepared = full_pipeline.transform(job_change_test)"
   ]
  },
  {
   "cell_type": "code",
   "execution_count": 30,
   "metadata": {},
   "outputs": [
    {
     "data": {
      "text/plain": [
       "(3832, 147)"
      ]
     },
     "execution_count": 30,
     "metadata": {},
     "output_type": "execute_result"
    }
   ],
   "source": [
    "job_change_test_prepared.shape"
   ]
  },
  {
   "cell_type": "code",
   "execution_count": 31,
   "metadata": {},
   "outputs": [
    {
     "data": {
      "text/plain": [
       "array([[-2.11658510e-01, -8.06250170e-01,  6.20986207e-01, ...,\n",
       "        -2.27637444e-01,  9.86067681e-01, -6.93824169e-01],\n",
       "       [ 4.02278337e-01,  2.56737133e+00,  6.20986207e-01, ...,\n",
       "        -2.27637444e-01,  9.86067681e-01, -6.93824169e-01],\n",
       "       [ 7.41559225e-01,  1.16880092e-01,  6.20986207e-01, ...,\n",
       "        -2.27637444e-01,  9.86067681e-01, -6.93824169e-01],\n",
       "       ...,\n",
       "       [ 7.90027924e-01, -1.18098520e-01, -1.61034172e+00, ...,\n",
       "        -2.27637444e-01,  9.86067681e-01, -6.93824169e-01],\n",
       "       [ 6.60778061e-01, -4.53782251e-01,  6.20986207e-01, ...,\n",
       "        -2.27637444e-01,  9.86067681e-01, -6.93824169e-01],\n",
       "       [-1.95502277e-01, -6.09213950e-04,  6.20986207e-01, ...,\n",
       "        -2.27637444e-01, -1.01412917e+00,  1.44128735e+00]])"
      ]
     },
     "execution_count": 31,
     "metadata": {},
     "output_type": "execute_result"
    }
   ],
   "source": [
    "job_change_test_prepared"
   ]
  },
  {
   "cell_type": "code",
   "execution_count": 32,
   "metadata": {},
   "outputs": [],
   "source": [
    "np.savetxt(\"Data/X_test.csv\", job_change_test_prepared, delimiter=',')\n",
    "np.savetxt(\"Data/y_test.csv\", job_change_test_labels.to_numpy(), delimiter=',')"
   ]
  },
  {
   "cell_type": "code",
   "execution_count": 33,
   "metadata": {},
   "outputs": [],
   "source": [
    "job_change_cv = cv_set.drop([\"enrollee_id\", \"target\"], axis=1)\n",
    "job_change_cv_labels = cv_set[\"target\"].copy()"
   ]
  },
  {
   "cell_type": "code",
   "execution_count": 34,
   "metadata": {},
   "outputs": [],
   "source": [
    "job_change_cv_prepared = full_pipeline.transform(job_change_cv)"
   ]
  },
  {
   "cell_type": "code",
   "execution_count": 35,
   "metadata": {},
   "outputs": [],
   "source": [
    "np.savetxt(\"Data/X_cv.csv\", job_change_cv_prepared, delimiter=',')\n",
    "np.savetxt(\"Data/y_cv.csv\", job_change_cv_labels.to_numpy(), delimiter=',')"
   ]
  }
 ],
 "metadata": {
  "kernelspec": {
   "display_name": "Python 3",
   "language": "python",
   "name": "python3"
  },
  "language_info": {
   "codemirror_mode": {
    "name": "ipython",
    "version": 3
   },
   "file_extension": ".py",
   "mimetype": "text/x-python",
   "name": "python",
   "nbconvert_exporter": "python",
   "pygments_lexer": "ipython3",
   "version": "3.8.5"
  },
  "metadata": {
   "interpreter": {
    "hash": "3516c099f2e50fbe6b83d8aca3e7ba54c35d25f18189c7f24f96f469bdbc3fe7"
   }
  }
 },
 "nbformat": 4,
 "nbformat_minor": 2
}
