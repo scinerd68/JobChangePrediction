{
 "cells": [
  {
   "cell_type": "code",
   "execution_count": 26,
   "metadata": {},
   "outputs": [],
   "source": [
    "from sklearn.pipeline import Pipeline\r\n",
    "from sklearn.preprocessing import StandardScaler\r\n",
    "from sklearn.compose import ColumnTransformer\r\n",
    "from sklearn.preprocessing import OneHotEncoder\r\n",
    "from sklearn.impute import SimpleImputer"
   ]
  },
  {
   "cell_type": "code",
   "execution_count": 27,
   "metadata": {},
   "outputs": [],
   "source": [
    "import numpy as np"
   ]
  },
  {
   "cell_type": "code",
   "execution_count": 28,
   "metadata": {},
   "outputs": [],
   "source": [
    "from sklearn.base import TransformerMixin"
   ]
  },
  {
   "cell_type": "code",
   "execution_count": 29,
   "metadata": {},
   "outputs": [],
   "source": [
    "import pandas as pd"
   ]
  },
  {
   "cell_type": "code",
   "execution_count": 30,
   "metadata": {},
   "outputs": [],
   "source": [
    "strat_train_set = pd.read_csv(\"Data/train.csv\")"
   ]
  },
  {
   "cell_type": "code",
   "execution_count": 31,
   "metadata": {},
   "outputs": [
    {
     "data": {
      "text/html": "<div>\n<style scoped>\n    .dataframe tbody tr th:only-of-type {\n        vertical-align: middle;\n    }\n\n    .dataframe tbody tr th {\n        vertical-align: top;\n    }\n\n    .dataframe thead th {\n        text-align: right;\n    }\n</style>\n<table border=\"1\" class=\"dataframe\">\n  <thead>\n    <tr style=\"text-align: right;\">\n      <th></th>\n      <th>Unnamed: 0</th>\n      <th>enrollee_id</th>\n      <th>city</th>\n      <th>city_development_index</th>\n      <th>gender</th>\n      <th>relevent_experience</th>\n      <th>enrolled_university</th>\n      <th>education_level</th>\n      <th>major_discipline</th>\n      <th>experience</th>\n      <th>company_size</th>\n      <th>company_type</th>\n      <th>last_new_job</th>\n      <th>training_hours</th>\n      <th>target</th>\n    </tr>\n  </thead>\n  <tbody>\n    <tr>\n      <th>0</th>\n      <td>8253</td>\n      <td>20667</td>\n      <td>city_21</td>\n      <td>0.624</td>\n      <td>NaN</td>\n      <td>Has relevent experience</td>\n      <td>no_enrollment</td>\n      <td>Masters</td>\n      <td>STEM</td>\n      <td>7</td>\n      <td>&lt;10</td>\n      <td>Early Stage Startup</td>\n      <td>1</td>\n      <td>40</td>\n      <td>0.0</td>\n    </tr>\n    <tr>\n      <th>1</th>\n      <td>10067</td>\n      <td>4093</td>\n      <td>city_103</td>\n      <td>0.920</td>\n      <td>Male</td>\n      <td>Has relevent experience</td>\n      <td>no_enrollment</td>\n      <td>Graduate</td>\n      <td>STEM</td>\n      <td>19</td>\n      <td>100-500</td>\n      <td>Pvt Ltd</td>\n      <td>2</td>\n      <td>48</td>\n      <td>0.0</td>\n    </tr>\n    <tr>\n      <th>2</th>\n      <td>1851</td>\n      <td>24146</td>\n      <td>city_21</td>\n      <td>0.624</td>\n      <td>NaN</td>\n      <td>Has relevent experience</td>\n      <td>no_enrollment</td>\n      <td>Graduate</td>\n      <td>STEM</td>\n      <td>5</td>\n      <td>NaN</td>\n      <td>NaN</td>\n      <td>1</td>\n      <td>135</td>\n      <td>0.0</td>\n    </tr>\n    <tr>\n      <th>3</th>\n      <td>4139</td>\n      <td>28323</td>\n      <td>city_19</td>\n      <td>0.682</td>\n      <td>Male</td>\n      <td>No relevent experience</td>\n      <td>Full time course</td>\n      <td>Graduate</td>\n      <td>STEM</td>\n      <td>2</td>\n      <td>NaN</td>\n      <td>NaN</td>\n      <td>never</td>\n      <td>45</td>\n      <td>1.0</td>\n    </tr>\n    <tr>\n      <th>4</th>\n      <td>2473</td>\n      <td>16720</td>\n      <td>city_21</td>\n      <td>0.624</td>\n      <td>Male</td>\n      <td>No relevent experience</td>\n      <td>Full time course</td>\n      <td>High School</td>\n      <td>NaN</td>\n      <td>10</td>\n      <td>NaN</td>\n      <td>NaN</td>\n      <td>never</td>\n      <td>68</td>\n      <td>0.0</td>\n    </tr>\n    <tr>\n      <th>5</th>\n      <td>4592</td>\n      <td>12719</td>\n      <td>city_100</td>\n      <td>0.887</td>\n      <td>Male</td>\n      <td>Has relevent experience</td>\n      <td>no_enrollment</td>\n      <td>High School</td>\n      <td>NaN</td>\n      <td>4</td>\n      <td>&lt;10</td>\n      <td>Pvt Ltd</td>\n      <td>1</td>\n      <td>45</td>\n      <td>0.0</td>\n    </tr>\n    <tr>\n      <th>6</th>\n      <td>18339</td>\n      <td>3143</td>\n      <td>city_16</td>\n      <td>0.910</td>\n      <td>Male</td>\n      <td>Has relevent experience</td>\n      <td>no_enrollment</td>\n      <td>Masters</td>\n      <td>STEM</td>\n      <td>17</td>\n      <td>50-99</td>\n      <td>Pvt Ltd</td>\n      <td>3</td>\n      <td>33</td>\n      <td>1.0</td>\n    </tr>\n    <tr>\n      <th>7</th>\n      <td>1922</td>\n      <td>31830</td>\n      <td>city_61</td>\n      <td>0.913</td>\n      <td>Male</td>\n      <td>Has relevent experience</td>\n      <td>no_enrollment</td>\n      <td>Graduate</td>\n      <td>Other</td>\n      <td>10</td>\n      <td>5000-9999</td>\n      <td>Public Sector</td>\n      <td>1</td>\n      <td>7</td>\n      <td>0.0</td>\n    </tr>\n    <tr>\n      <th>8</th>\n      <td>19040</td>\n      <td>6023</td>\n      <td>city_100</td>\n      <td>0.887</td>\n      <td>Male</td>\n      <td>Has relevent experience</td>\n      <td>no_enrollment</td>\n      <td>Masters</td>\n      <td>STEM</td>\n      <td>15</td>\n      <td>NaN</td>\n      <td>Pvt Ltd</td>\n      <td>&gt;4</td>\n      <td>250</td>\n      <td>0.0</td>\n    </tr>\n    <tr>\n      <th>9</th>\n      <td>12428</td>\n      <td>12597</td>\n      <td>city_28</td>\n      <td>0.939</td>\n      <td>Male</td>\n      <td>No relevent experience</td>\n      <td>no_enrollment</td>\n      <td>Graduate</td>\n      <td>Humanities</td>\n      <td>12</td>\n      <td>50-99</td>\n      <td>Public Sector</td>\n      <td>&gt;4</td>\n      <td>22</td>\n      <td>0.0</td>\n    </tr>\n  </tbody>\n</table>\n</div>",
      "text/plain": "   Unnamed: 0  enrollee_id      city  city_development_index gender  \\\n0        8253        20667   city_21                   0.624    NaN   \n1       10067         4093  city_103                   0.920   Male   \n2        1851        24146   city_21                   0.624    NaN   \n3        4139        28323   city_19                   0.682   Male   \n4        2473        16720   city_21                   0.624   Male   \n5        4592        12719  city_100                   0.887   Male   \n6       18339         3143   city_16                   0.910   Male   \n7        1922        31830   city_61                   0.913   Male   \n8       19040         6023  city_100                   0.887   Male   \n9       12428        12597   city_28                   0.939   Male   \n\n       relevent_experience enrolled_university education_level  \\\n0  Has relevent experience       no_enrollment         Masters   \n1  Has relevent experience       no_enrollment        Graduate   \n2  Has relevent experience       no_enrollment        Graduate   \n3   No relevent experience    Full time course        Graduate   \n4   No relevent experience    Full time course     High School   \n5  Has relevent experience       no_enrollment     High School   \n6  Has relevent experience       no_enrollment         Masters   \n7  Has relevent experience       no_enrollment        Graduate   \n8  Has relevent experience       no_enrollment         Masters   \n9   No relevent experience       no_enrollment        Graduate   \n\n  major_discipline experience company_size         company_type last_new_job  \\\n0             STEM          7          <10  Early Stage Startup            1   \n1             STEM         19      100-500              Pvt Ltd            2   \n2             STEM          5          NaN                  NaN            1   \n3             STEM          2          NaN                  NaN        never   \n4              NaN         10          NaN                  NaN        never   \n5              NaN          4          <10              Pvt Ltd            1   \n6             STEM         17        50-99              Pvt Ltd            3   \n7            Other         10    5000-9999        Public Sector            1   \n8             STEM         15          NaN              Pvt Ltd           >4   \n9       Humanities         12        50-99        Public Sector           >4   \n\n   training_hours  target  \n0              40     0.0  \n1              48     0.0  \n2             135     0.0  \n3              45     1.0  \n4              68     0.0  \n5              45     0.0  \n6              33     1.0  \n7               7     0.0  \n8             250     0.0  \n9              22     0.0  "
     },
     "execution_count": 31,
     "metadata": {},
     "output_type": "execute_result"
    }
   ],
   "source": [
    "strat_train_set.head(10)"
   ]
  },
  {
   "cell_type": "code",
   "execution_count": 32,
   "metadata": {},
   "outputs": [],
   "source": [
    "job_change = strat_train_set.drop(\"target\", axis=1)\r\n",
    "job_change_labels = strat_train_set[\"target\"].copy()"
   ]
  },
  {
   "cell_type": "code",
   "execution_count": 33,
   "metadata": {},
   "outputs": [
    {
     "data": {
      "text/html": "<div>\n<style scoped>\n    .dataframe tbody tr th:only-of-type {\n        vertical-align: middle;\n    }\n\n    .dataframe tbody tr th {\n        vertical-align: top;\n    }\n\n    .dataframe thead th {\n        text-align: right;\n    }\n</style>\n<table border=\"1\" class=\"dataframe\">\n  <thead>\n    <tr style=\"text-align: right;\">\n      <th></th>\n      <th>Unnamed: 0</th>\n      <th>enrollee_id</th>\n      <th>city</th>\n      <th>city_development_index</th>\n      <th>gender</th>\n      <th>relevent_experience</th>\n      <th>enrolled_university</th>\n      <th>education_level</th>\n      <th>major_discipline</th>\n      <th>experience</th>\n      <th>company_size</th>\n      <th>company_type</th>\n      <th>last_new_job</th>\n      <th>training_hours</th>\n    </tr>\n  </thead>\n  <tbody>\n    <tr>\n      <th>0</th>\n      <td>8253</td>\n      <td>20667</td>\n      <td>city_21</td>\n      <td>0.624</td>\n      <td>NaN</td>\n      <td>Has relevent experience</td>\n      <td>no_enrollment</td>\n      <td>Masters</td>\n      <td>STEM</td>\n      <td>7</td>\n      <td>&lt;10</td>\n      <td>Early Stage Startup</td>\n      <td>1</td>\n      <td>40</td>\n    </tr>\n    <tr>\n      <th>1</th>\n      <td>10067</td>\n      <td>4093</td>\n      <td>city_103</td>\n      <td>0.920</td>\n      <td>Male</td>\n      <td>Has relevent experience</td>\n      <td>no_enrollment</td>\n      <td>Graduate</td>\n      <td>STEM</td>\n      <td>19</td>\n      <td>100-500</td>\n      <td>Pvt Ltd</td>\n      <td>2</td>\n      <td>48</td>\n    </tr>\n    <tr>\n      <th>2</th>\n      <td>1851</td>\n      <td>24146</td>\n      <td>city_21</td>\n      <td>0.624</td>\n      <td>NaN</td>\n      <td>Has relevent experience</td>\n      <td>no_enrollment</td>\n      <td>Graduate</td>\n      <td>STEM</td>\n      <td>5</td>\n      <td>NaN</td>\n      <td>NaN</td>\n      <td>1</td>\n      <td>135</td>\n    </tr>\n    <tr>\n      <th>3</th>\n      <td>4139</td>\n      <td>28323</td>\n      <td>city_19</td>\n      <td>0.682</td>\n      <td>Male</td>\n      <td>No relevent experience</td>\n      <td>Full time course</td>\n      <td>Graduate</td>\n      <td>STEM</td>\n      <td>2</td>\n      <td>NaN</td>\n      <td>NaN</td>\n      <td>never</td>\n      <td>45</td>\n    </tr>\n    <tr>\n      <th>4</th>\n      <td>2473</td>\n      <td>16720</td>\n      <td>city_21</td>\n      <td>0.624</td>\n      <td>Male</td>\n      <td>No relevent experience</td>\n      <td>Full time course</td>\n      <td>High School</td>\n      <td>NaN</td>\n      <td>10</td>\n      <td>NaN</td>\n      <td>NaN</td>\n      <td>never</td>\n      <td>68</td>\n    </tr>\n  </tbody>\n</table>\n</div>",
      "text/plain": "   Unnamed: 0  enrollee_id      city  city_development_index gender  \\\n0        8253        20667   city_21                   0.624    NaN   \n1       10067         4093  city_103                   0.920   Male   \n2        1851        24146   city_21                   0.624    NaN   \n3        4139        28323   city_19                   0.682   Male   \n4        2473        16720   city_21                   0.624   Male   \n\n       relevent_experience enrolled_university education_level  \\\n0  Has relevent experience       no_enrollment         Masters   \n1  Has relevent experience       no_enrollment        Graduate   \n2  Has relevent experience       no_enrollment        Graduate   \n3   No relevent experience    Full time course        Graduate   \n4   No relevent experience    Full time course     High School   \n\n  major_discipline experience company_size         company_type last_new_job  \\\n0             STEM          7          <10  Early Stage Startup            1   \n1             STEM         19      100-500              Pvt Ltd            2   \n2             STEM          5          NaN                  NaN            1   \n3             STEM          2          NaN                  NaN        never   \n4              NaN         10          NaN                  NaN        never   \n\n   training_hours  \n0              40  \n1              48  \n2             135  \n3              45  \n4              68  "
     },
     "execution_count": 33,
     "metadata": {},
     "output_type": "execute_result"
    }
   ],
   "source": [
    "job_change.head()"
   ]
  },
  {
   "cell_type": "code",
   "execution_count": 34,
   "metadata": {},
   "outputs": [],
   "source": [
    "num_attribs = ['city_development_index', 'training_hours']\r\n",
    "ord_cat_attribs = ['relevent_experience', 'enrolled_university', 'education_level', 'experience', 'company_size', 'last_new_job']\r\n",
    "nom_cat_attribs = ['city', 'gender', 'major_discipline', 'company_type']"
   ]
  },
  {
   "cell_type": "code",
   "execution_count": 35,
   "metadata": {},
   "outputs": [
    {
     "name": "stdout",
     "output_type": "stream",
     "text": [
      "['Has relevent experience' 'No relevent experience']\n",
      "['no_enrollment' 'Full time course' nan 'Part time course']\n",
      "['Masters' 'Graduate' 'High School' nan 'Phd' 'Primary School']\n",
      "['7' '19' '5' '2' '10' '4' '17' '15' '12' '8' '>20' '6' '13' '11' '16'\n",
      " '14' '20' '3' '1' '9' '18' '<1' nan]\n",
      "['<10' '100-500' nan '50-99' '5000-9999' '10/49' '10000+' '1000-4999'\n",
      " '500-999']\n",
      "['1' '2' 'never' '3' '>4' '4' nan]\n"
     ]
    }
   ],
   "source": [
    "for attribs in ord_cat_attribs:\r\n",
    "    print(job_change[attribs].unique())"
   ]
  },
  {
   "cell_type": "code",
   "execution_count": 36,
   "metadata": {},
   "outputs": [],
   "source": [
    "num_pipeline = Pipeline([\r\n",
    "    ('imputer', SimpleImputer(missing_values=np.nan, strategy= \"median\")),\r\n",
    "    ('std_scaler', StandardScaler())\r\n",
    "])"
   ]
  },
  {
   "cell_type": "code",
   "execution_count": 37,
   "metadata": {},
   "outputs": [],
   "source": [
    "class OrdToNumeric(TransformerMixin):\r\n",
    "    def fit(self,X,y=None):\r\n",
    "        return self\r\n",
    "\r\n",
    "    def transform(self,X,y=None):\r\n",
    "        X['relevent_experience'] = X['relevent_experience'].apply(self.relevent_experience_to_numeric)\r\n",
    "        X['enrolled_university'] = X['enrolled_university'].apply(self.enrolled_university_to_numeric)\r\n",
    "        X['education_level'] = X['education_level'].apply(self.education_level_to_numeric)\r\n",
    "        X['experience'] = X['experience'].apply(self.experience_to_numeric)\r\n",
    "        X['company_size'] = X['company_size'].apply(self.company_size_to_numeric)\r\n",
    "        X['last_new_job'] = X['last_new_job'].apply(self.last_new_job_to_numeric)\r\n",
    "        return X\r\n",
    "\r\n",
    "    def relevent_experience_to_numeric(self, experience):\r\n",
    "        if experience != experience:\r\n",
    "            return None\r\n",
    "        if experience == \"Has relevent experience\":\r\n",
    "            return 1\r\n",
    "        return 0\r\n",
    "\r\n",
    "    def enrolled_university_to_numeric(self, x):\r\n",
    "        if x != x:\r\n",
    "            return None\r\n",
    "        if x == 'no_enrollment':\r\n",
    "            return 0\r\n",
    "        if x == 'Part time course':\r\n",
    "            return 1\r\n",
    "        if x == 'Full time course':\r\n",
    "            return 2\r\n",
    "\r\n",
    "    def education_level_to_numeric(self, x):\r\n",
    "        if x != x:\r\n",
    "            return None\r\n",
    "        if x == \"Primary School\":\r\n",
    "            return 1\r\n",
    "        if x == \"High School\":\r\n",
    "            return 2\r\n",
    "        if x == \"Graduate\":\r\n",
    "            return 3\r\n",
    "        if x == \"Masters\":\r\n",
    "            return 4\r\n",
    "        if x == \"Phd\":\r\n",
    "            return 5\r\n",
    "\r\n",
    "    def experience_to_numeric(self, x):\r\n",
    "        if x != x:\r\n",
    "            return None\r\n",
    "        if x == '>20':\r\n",
    "            return 21\r\n",
    "        elif x == '<1':\r\n",
    "            return 0\r\n",
    "        else:\r\n",
    "            return int(x)\r\n",
    "\r\n",
    "    def company_size_to_numeric(self, x):\r\n",
    "        if x != x:\r\n",
    "            return None\r\n",
    "        if x == '<10' :\r\n",
    "            return 0\r\n",
    "        if x == '10/49' :\r\n",
    "            return 1\r\n",
    "        if x == '50-99' :\r\n",
    "            return 2\r\n",
    "        if x == '100-500' :\r\n",
    "            return 3\r\n",
    "        if x == '500-999' :\r\n",
    "            return 4\r\n",
    "        if x == '1000-4999' :\r\n",
    "            return 5\r\n",
    "        if x == '5000-9999':\r\n",
    "            return 6\r\n",
    "        if x == '10000+':\r\n",
    "            return 7\r\n",
    "\r\n",
    "    def last_new_job_to_numeric(self, x):\r\n",
    "        if x != x:\r\n",
    "            return None\r\n",
    "        if x == '>4' :\r\n",
    "            return 5\r\n",
    "        if x == 'never' :\r\n",
    "            return 0\r\n",
    "        else:\r\n",
    "            return int(x)"
   ]
  },
  {
   "cell_type": "code",
   "execution_count": 38,
   "metadata": {},
   "outputs": [],
   "source": [
    "ord_pipeline = Pipeline([\r\n",
    "    ('ord_to_numeric', OrdToNumeric()),\r\n",
    "    ('ord_imputer', SimpleImputer(missing_values=np.nan, strategy=\"most_frequent\")),\r\n",
    "    ('ord_std_scaler', StandardScaler())\r\n",
    "])"
   ]
  },
  {
   "cell_type": "code",
   "execution_count": 39,
   "metadata": {},
   "outputs": [],
   "source": [
    "class DenseTransformer(TransformerMixin):\r\n",
    "    def fit(self, X, y=None):\r\n",
    "        return self\r\n",
    "\r\n",
    "    def transform(self, X, y=None):\r\n",
    "        return X.toarray()"
   ]
  },
  {
   "cell_type": "code",
   "execution_count": 40,
   "metadata": {},
   "outputs": [],
   "source": [
    "nom_pipeline = Pipeline([\r\n",
    "    ('nom_imputer', SimpleImputer(strategy=\"constant\")),\r\n",
    "    ('one_hot_encoder', OneHotEncoder()),\r\n",
    "    ('to_array', DenseTransformer()),\r\n",
    "    ('nom_std_scaler', StandardScaler())\r\n",
    "])"
   ]
  },
  {
   "cell_type": "code",
   "execution_count": 41,
   "metadata": {},
   "outputs": [],
   "source": [
    "full_pipeline = ColumnTransformer([\r\n",
    "    (\"num\", num_pipeline, num_attribs),\r\n",
    "    (\"ord\", ord_pipeline, ord_cat_attribs),\r\n",
    "    (\"nom\", nom_pipeline, nom_cat_attribs)\r\n",
    "])"
   ]
  },
  {
   "cell_type": "code",
   "execution_count": 42,
   "metadata": {},
   "outputs": [],
   "source": [
    "job_change_prepared = full_pipeline.fit_transform(job_change)"
   ]
  },
  {
   "cell_type": "code",
   "execution_count": 43,
   "metadata": {},
   "outputs": [
    {
     "data": {
      "text/plain": "array([[-1.66129974, -0.42229418,  0.62190287, ..., -0.22697421,\n        -1.02890375, -0.68855816],\n       [ 0.74080339, -0.28876006,  0.62190287, ..., -0.22697421,\n         0.97190821, -0.68855816],\n       [-1.66129974,  1.16342347,  0.62190287, ..., -0.22697421,\n        -1.02890375,  1.45231014],\n       ...,\n       [ 0.52169263, -0.13853418,  0.62190287, ..., -0.22697421,\n        -1.02890375, -0.68855816],\n       [-1.66129974, -0.82289653, -1.60796813, ..., -0.22697421,\n        -1.02890375,  1.45231014],\n       [ 0.30258187, -0.25537653,  0.62190287, ..., -0.22697421,\n         0.97190821, -0.68855816]])"
     },
     "execution_count": 43,
     "metadata": {},
     "output_type": "execute_result"
    }
   ],
   "source": [
    "job_change_prepared"
   ]
  },
  {
   "cell_type": "code",
   "execution_count": 44,
   "metadata": {},
   "outputs": [
    {
     "data": {
      "text/plain": "array([-1.66129974, -0.42229418,  0.62190287, -0.56997915,  1.26429189,\n       -0.46703132, -1.50308819, -0.58755418, -0.03666178, -0.06704015,\n       -0.11988396, -0.06055898, -0.12855025, -0.53521429, -0.12366795,\n       -0.06590841, -0.02115721, -0.0172735 , -0.02115721, -0.11565315,\n       -0.27908355, -0.05188246, -0.08219949, -0.02865234, -0.03562751,\n       -0.02992751, -0.01931308, -0.0122133 , -0.0546971 , -0.03960368,\n       -0.02591509, -0.07243878, -0.01495873, -0.04890794, -0.02443207,\n       -0.02115721, -0.04491642, -0.18069462, -0.07891741, -0.01495873,\n       -0.03346372, -0.03562751, -0.04966811, -0.04574235, -0.0376678 ,\n       -0.05260008, -0.0172735 , -0.07698076, -0.05930577, -0.05115489,\n       -0.02731792, -0.03346372, -0.0546971 , -0.07449087, -0.29580913,\n       -0.21452702, -0.08401891, -0.06815343, -0.01495873, -0.02115721,\n       -0.00863578, -0.08968444, -0.02285325, -0.03562751, -0.01495873,\n       -0.00863578, -0.01931308, -0.08080879, -0.02115721, -0.03960368,\n        2.4880411 , -0.1008439 , -0.05605204, -0.01495873, -0.0376678 ,\n       -0.05041692, -0.09816875, -0.03456248, -0.01495873, -0.03115071,\n       -0.08968444, -0.02992751, -0.02443207, -0.06055898, -0.06979067,\n       -0.02865234, -0.02591509, -0.03115071, -0.07795496, -0.08034002,\n       -0.02731792, -0.087114  , -0.03666178, -0.02992751, -0.03115071,\n       -0.07243878, -0.02443207, -0.10308381, -0.0172735 , -0.07549646,\n       -0.09259594, -0.15306779, -0.02731792, -0.04144979, -0.05260008,\n       -0.12052239, -0.03232782, -0.12304489, -0.07139109, -0.1249053 ,\n       -0.05041692, -0.04144979, -0.03960368, -0.01931308, -0.0172735 ,\n       -0.02591509, -0.02115721, -0.01495873, -0.08311404, -0.03666178,\n       -0.05737538, -0.02865234, -0.10778395, -0.05188246, -0.04144979,\n       -0.0376678 , -0.07648912, -0.06417404, -0.07139109, -0.25949035,\n       -1.49064035, -0.09621418,  1.78880186, -0.11532163, -0.13384347,\n       -0.18740751, -0.10778395, -0.14061246,  0.56558102, -0.41484978,\n        5.41025696, -0.23022496, -0.16153105, -0.07986856, -0.22697421,\n       -1.02890375, -0.68855816])"
     },
     "execution_count": 44,
     "metadata": {},
     "output_type": "execute_result"
    }
   ],
   "source": [
    "job_change_prepared[0]"
   ]
  },
  {
   "cell_type": "markdown",
   "metadata": {},
   "source": [
    "# Process test set"
   ]
  },
  {
   "cell_type": "code",
   "execution_count": 46,
   "metadata": {},
   "outputs": [],
   "source": [
    "test_set = pd.read_csv(\"Data/test.csv\")"
   ]
  },
  {
   "cell_type": "code",
   "execution_count": 47,
   "metadata": {},
   "outputs": [
    {
     "data": {
      "text/html": "<div>\n<style scoped>\n    .dataframe tbody tr th:only-of-type {\n        vertical-align: middle;\n    }\n\n    .dataframe tbody tr th {\n        vertical-align: top;\n    }\n\n    .dataframe thead th {\n        text-align: right;\n    }\n</style>\n<table border=\"1\" class=\"dataframe\">\n  <thead>\n    <tr style=\"text-align: right;\">\n      <th></th>\n      <th>Unnamed: 0</th>\n      <th>enrollee_id</th>\n      <th>city</th>\n      <th>city_development_index</th>\n      <th>gender</th>\n      <th>relevent_experience</th>\n      <th>enrolled_university</th>\n      <th>education_level</th>\n      <th>major_discipline</th>\n      <th>experience</th>\n      <th>company_size</th>\n      <th>company_type</th>\n      <th>last_new_job</th>\n      <th>training_hours</th>\n      <th>target</th>\n    </tr>\n  </thead>\n  <tbody>\n    <tr>\n      <th>0</th>\n      <td>16144</td>\n      <td>6992</td>\n      <td>city_16</td>\n      <td>0.910</td>\n      <td>NaN</td>\n      <td>Has relevent experience</td>\n      <td>no_enrollment</td>\n      <td>Graduate</td>\n      <td>STEM</td>\n      <td>6</td>\n      <td>500-999</td>\n      <td>Pvt Ltd</td>\n      <td>1</td>\n      <td>21</td>\n      <td>0.0</td>\n    </tr>\n    <tr>\n      <th>1</th>\n      <td>13661</td>\n      <td>8637</td>\n      <td>city_103</td>\n      <td>0.920</td>\n      <td>Female</td>\n      <td>Has relevent experience</td>\n      <td>no_enrollment</td>\n      <td>Masters</td>\n      <td>Humanities</td>\n      <td>&gt;20</td>\n      <td>100-500</td>\n      <td>Funded Startup</td>\n      <td>2</td>\n      <td>74</td>\n      <td>0.0</td>\n    </tr>\n    <tr>\n      <th>2</th>\n      <td>344</td>\n      <td>24729</td>\n      <td>city_104</td>\n      <td>0.924</td>\n      <td>NaN</td>\n      <td>Has relevent experience</td>\n      <td>no_enrollment</td>\n      <td>Graduate</td>\n      <td>STEM</td>\n      <td>9</td>\n      <td>10/49</td>\n      <td>Pvt Ltd</td>\n      <td>1</td>\n      <td>94</td>\n      <td>0.0</td>\n    </tr>\n    <tr>\n      <th>3</th>\n      <td>1034</td>\n      <td>10933</td>\n      <td>city_21</td>\n      <td>0.624</td>\n      <td>Male</td>\n      <td>Has relevent experience</td>\n      <td>no_enrollment</td>\n      <td>Masters</td>\n      <td>STEM</td>\n      <td>15</td>\n      <td>10000+</td>\n      <td>Pvt Ltd</td>\n      <td>1</td>\n      <td>75</td>\n      <td>0.0</td>\n    </tr>\n    <tr>\n      <th>4</th>\n      <td>8109</td>\n      <td>28023</td>\n      <td>city_134</td>\n      <td>0.698</td>\n      <td>Male</td>\n      <td>No relevent experience</td>\n      <td>no_enrollment</td>\n      <td>Masters</td>\n      <td>STEM</td>\n      <td>12</td>\n      <td>500-999</td>\n      <td>NGO</td>\n      <td>1</td>\n      <td>157</td>\n      <td>0.0</td>\n    </tr>\n  </tbody>\n</table>\n</div>",
      "text/plain": "   Unnamed: 0  enrollee_id      city  city_development_index  gender  \\\n0       16144         6992   city_16                   0.910     NaN   \n1       13661         8637  city_103                   0.920  Female   \n2         344        24729  city_104                   0.924     NaN   \n3        1034        10933   city_21                   0.624    Male   \n4        8109        28023  city_134                   0.698    Male   \n\n       relevent_experience enrolled_university education_level  \\\n0  Has relevent experience       no_enrollment        Graduate   \n1  Has relevent experience       no_enrollment         Masters   \n2  Has relevent experience       no_enrollment        Graduate   \n3  Has relevent experience       no_enrollment         Masters   \n4   No relevent experience       no_enrollment         Masters   \n\n  major_discipline experience company_size    company_type last_new_job  \\\n0             STEM          6      500-999         Pvt Ltd            1   \n1       Humanities        >20      100-500  Funded Startup            2   \n2             STEM          9        10/49         Pvt Ltd            1   \n3             STEM         15       10000+         Pvt Ltd            1   \n4             STEM         12      500-999             NGO            1   \n\n   training_hours  target  \n0              21     0.0  \n1              74     0.0  \n2              94     0.0  \n3              75     0.0  \n4             157     0.0  "
     },
     "execution_count": 47,
     "metadata": {},
     "output_type": "execute_result"
    }
   ],
   "source": [
    "test_set.head()"
   ]
  },
  {
   "cell_type": "code",
   "execution_count": 51,
   "metadata": {},
   "outputs": [],
   "source": [
    "job_change_test = test_set.drop(\"target\", axis=1)\r\n",
    "job_change_test_labels = test_set[\"target\"].copy()"
   ]
  },
  {
   "cell_type": "code",
   "execution_count": 52,
   "metadata": {},
   "outputs": [],
   "source": [
    "job_change_test_prepared = full_pipeline.fit_transform(job_change_test)"
   ]
  },
  {
   "cell_type": "code",
   "execution_count": 53,
   "metadata": {},
   "outputs": [
    {
     "data": {
      "text/plain": "array([[ 0.65368449, -0.73717176,  0.62806744, ..., -0.2338352 ,\n         0.98377804, -0.68260718],\n       [ 0.73454606,  0.14033466,  0.62806744, ..., -0.2338352 ,\n        -1.01648945, -0.68260718],\n       [ 0.76689069,  0.47146916,  0.62806744, ..., -0.2338352 ,\n         0.98377804, -0.68260718],\n       ...,\n       [ 0.65368449, -0.05834604,  0.62806744, ..., -0.2338352 ,\n        -1.01648945,  1.4649714 ],\n       [-0.04172502, -0.62127468,  0.62806744, ..., -0.2338352 ,\n         0.98377804, -0.68260718],\n       [-1.06058081, -0.53849106,  0.62806744, ..., -0.2338352 ,\n         0.98377804, -0.68260718]])"
     },
     "execution_count": 53,
     "metadata": {},
     "output_type": "execute_result"
    }
   ],
   "source": [
    "job_change_test_prepared"
   ]
  },
  {
   "cell_type": "code",
   "execution_count": 54,
   "metadata": {},
   "outputs": [],
   "source": [
    "np.savetxt(\"Data/X_test.csv\", job_change_test_prepared, delimiter=',')"
   ]
  },
  {
   "cell_type": "code",
   "execution_count": 55,
   "metadata": {},
   "outputs": [],
   "source": [
    "np.savetxt(\"Data/y_test.csv\", job_change_test_labels.to_numpy(), delimiter=',')"
   ]
  }
 ],
 "metadata": {
  "kernelspec": {
   "display_name": "Python 3.8.5 64-bit ('machine_learning_practice': conda)",
   "metadata": {
    "interpreter": {
     "hash": "d596e8190ea2ed3b02b94032cafa13d5084e3170632c7044176d79f94eecc7ab"
    }
   },
   "name": "python3"
  },
  "language_info": {
   "codemirror_mode": {
    "name": "ipython",
    "version": 3
   },
   "file_extension": ".py",
   "mimetype": "text/x-python",
   "name": "python",
   "nbconvert_exporter": "python",
   "pygments_lexer": "ipython3",
   "version": "3.8.5"
  },
  "orig_nbformat": 2
 },
 "nbformat": 4,
 "nbformat_minor": 2
}