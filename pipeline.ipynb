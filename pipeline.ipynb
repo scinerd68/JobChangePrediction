{
 "cells": [
  {
   "cell_type": "code",
   "execution_count": 1,
   "metadata": {},
   "outputs": [],
   "source": [
    "from sklearn.pipeline import Pipeline\r\n",
    "from sklearn.preprocessing import StandardScaler\r\n",
    "from sklearn.compose import ColumnTransformer\r\n",
    "from sklearn.preprocessing import OneHotEncoder\r\n",
    "from sklearn.impute import SimpleImputer"
   ]
  },
  {
   "cell_type": "code",
   "execution_count": 2,
   "metadata": {},
   "outputs": [],
   "source": [
    "from sklearn.base import TransformerMixin"
   ]
  },
  {
   "cell_type": "code",
   "execution_count": 3,
   "metadata": {},
   "outputs": [],
   "source": [
    "import numpy as np"
   ]
  },
  {
   "cell_type": "code",
   "execution_count": 4,
   "metadata": {},
   "outputs": [],
   "source": [
    "import pandas as pd"
   ]
  },
  {
   "cell_type": "code",
   "execution_count": 5,
   "metadata": {},
   "outputs": [],
   "source": [
    "strat_train_set = pd.read_csv(\"Data/train.csv\")"
   ]
  },
  {
   "cell_type": "code",
   "execution_count": 6,
   "metadata": {},
   "outputs": [
    {
     "data": {
      "text/html": "<div>\n<style scoped>\n    .dataframe tbody tr th:only-of-type {\n        vertical-align: middle;\n    }\n\n    .dataframe tbody tr th {\n        vertical-align: top;\n    }\n\n    .dataframe thead th {\n        text-align: right;\n    }\n</style>\n<table border=\"1\" class=\"dataframe\">\n  <thead>\n    <tr style=\"text-align: right;\">\n      <th></th>\n      <th>enrollee_id</th>\n      <th>city</th>\n      <th>city_development_index</th>\n      <th>gender</th>\n      <th>relevent_experience</th>\n      <th>enrolled_university</th>\n      <th>education_level</th>\n      <th>major_discipline</th>\n      <th>experience</th>\n      <th>company_size</th>\n      <th>company_type</th>\n      <th>last_new_job</th>\n      <th>training_hours</th>\n      <th>target</th>\n    </tr>\n  </thead>\n  <tbody>\n    <tr>\n      <th>0</th>\n      <td>22601</td>\n      <td>city_61</td>\n      <td>0.913</td>\n      <td>NaN</td>\n      <td>Has relevent experience</td>\n      <td>no_enrollment</td>\n      <td>Graduate</td>\n      <td>STEM</td>\n      <td>6</td>\n      <td>50-99</td>\n      <td>Funded Startup</td>\n      <td>2</td>\n      <td>304</td>\n      <td>0.0</td>\n    </tr>\n    <tr>\n      <th>1</th>\n      <td>32926</td>\n      <td>city_104</td>\n      <td>0.924</td>\n      <td>Female</td>\n      <td>No relevent experience</td>\n      <td>Part time course</td>\n      <td>Graduate</td>\n      <td>STEM</td>\n      <td>19</td>\n      <td>10000+</td>\n      <td>Pvt Ltd</td>\n      <td>4</td>\n      <td>81</td>\n      <td>0.0</td>\n    </tr>\n    <tr>\n      <th>2</th>\n      <td>11499</td>\n      <td>city_114</td>\n      <td>0.926</td>\n      <td>Male</td>\n      <td>Has relevent experience</td>\n      <td>no_enrollment</td>\n      <td>Graduate</td>\n      <td>STEM</td>\n      <td>10</td>\n      <td>&lt;10</td>\n      <td>Pvt Ltd</td>\n      <td>2</td>\n      <td>76</td>\n      <td>0.0</td>\n    </tr>\n    <tr>\n      <th>3</th>\n      <td>23859</td>\n      <td>city_100</td>\n      <td>0.887</td>\n      <td>Male</td>\n      <td>Has relevent experience</td>\n      <td>Part time course</td>\n      <td>Graduate</td>\n      <td>STEM</td>\n      <td>&gt;20</td>\n      <td>NaN</td>\n      <td>Pvt Ltd</td>\n      <td>2</td>\n      <td>53</td>\n      <td>0.0</td>\n    </tr>\n    <tr>\n      <th>4</th>\n      <td>4916</td>\n      <td>city_128</td>\n      <td>0.527</td>\n      <td>Male</td>\n      <td>No relevent experience</td>\n      <td>no_enrollment</td>\n      <td>Graduate</td>\n      <td>STEM</td>\n      <td>5</td>\n      <td>NaN</td>\n      <td>NaN</td>\n      <td>1</td>\n      <td>92</td>\n      <td>0.0</td>\n    </tr>\n    <tr>\n      <th>5</th>\n      <td>20823</td>\n      <td>city_114</td>\n      <td>0.926</td>\n      <td>Male</td>\n      <td>Has relevent experience</td>\n      <td>no_enrollment</td>\n      <td>Masters</td>\n      <td>STEM</td>\n      <td>16</td>\n      <td>100-500</td>\n      <td>Pvt Ltd</td>\n      <td>&gt;4</td>\n      <td>37</td>\n      <td>0.0</td>\n    </tr>\n    <tr>\n      <th>6</th>\n      <td>2363</td>\n      <td>city_75</td>\n      <td>0.939</td>\n      <td>Male</td>\n      <td>Has relevent experience</td>\n      <td>no_enrollment</td>\n      <td>Graduate</td>\n      <td>STEM</td>\n      <td>&gt;20</td>\n      <td>1000-4999</td>\n      <td>Pvt Ltd</td>\n      <td>1</td>\n      <td>302</td>\n      <td>1.0</td>\n    </tr>\n    <tr>\n      <th>7</th>\n      <td>6066</td>\n      <td>city_160</td>\n      <td>0.920</td>\n      <td>Male</td>\n      <td>Has relevent experience</td>\n      <td>no_enrollment</td>\n      <td>Masters</td>\n      <td>STEM</td>\n      <td>&gt;20</td>\n      <td>50-99</td>\n      <td>Pvt Ltd</td>\n      <td>&gt;4</td>\n      <td>96</td>\n      <td>0.0</td>\n    </tr>\n    <tr>\n      <th>8</th>\n      <td>18130</td>\n      <td>city_67</td>\n      <td>0.855</td>\n      <td>Female</td>\n      <td>No relevent experience</td>\n      <td>no_enrollment</td>\n      <td>Masters</td>\n      <td>Humanities</td>\n      <td>3</td>\n      <td>50-99</td>\n      <td>Pvt Ltd</td>\n      <td>2</td>\n      <td>9</td>\n      <td>0.0</td>\n    </tr>\n    <tr>\n      <th>9</th>\n      <td>14848</td>\n      <td>city_101</td>\n      <td>0.558</td>\n      <td>Male</td>\n      <td>No relevent experience</td>\n      <td>Part time course</td>\n      <td>Graduate</td>\n      <td>STEM</td>\n      <td>2</td>\n      <td>10/49</td>\n      <td>Pvt Ltd</td>\n      <td>never</td>\n      <td>71</td>\n      <td>1.0</td>\n    </tr>\n  </tbody>\n</table>\n</div>",
      "text/plain": "   enrollee_id      city  city_development_index  gender  \\\n0        22601   city_61                   0.913     NaN   \n1        32926  city_104                   0.924  Female   \n2        11499  city_114                   0.926    Male   \n3        23859  city_100                   0.887    Male   \n4         4916  city_128                   0.527    Male   \n5        20823  city_114                   0.926    Male   \n6         2363   city_75                   0.939    Male   \n7         6066  city_160                   0.920    Male   \n8        18130   city_67                   0.855  Female   \n9        14848  city_101                   0.558    Male   \n\n       relevent_experience enrolled_university education_level  \\\n0  Has relevent experience       no_enrollment        Graduate   \n1   No relevent experience    Part time course        Graduate   \n2  Has relevent experience       no_enrollment        Graduate   \n3  Has relevent experience    Part time course        Graduate   \n4   No relevent experience       no_enrollment        Graduate   \n5  Has relevent experience       no_enrollment         Masters   \n6  Has relevent experience       no_enrollment        Graduate   \n7  Has relevent experience       no_enrollment         Masters   \n8   No relevent experience       no_enrollment         Masters   \n9   No relevent experience    Part time course        Graduate   \n\n  major_discipline experience company_size    company_type last_new_job  \\\n0             STEM          6        50-99  Funded Startup            2   \n1             STEM         19       10000+         Pvt Ltd            4   \n2             STEM         10          <10         Pvt Ltd            2   \n3             STEM        >20          NaN         Pvt Ltd            2   \n4             STEM          5          NaN             NaN            1   \n5             STEM         16      100-500         Pvt Ltd           >4   \n6             STEM        >20    1000-4999         Pvt Ltd            1   \n7             STEM        >20        50-99         Pvt Ltd           >4   \n8       Humanities          3        50-99         Pvt Ltd            2   \n9             STEM          2        10/49         Pvt Ltd        never   \n\n   training_hours  target  \n0             304     0.0  \n1              81     0.0  \n2              76     0.0  \n3              53     0.0  \n4              92     0.0  \n5              37     0.0  \n6             302     1.0  \n7              96     0.0  \n8               9     0.0  \n9              71     1.0  "
     },
     "execution_count": 6,
     "metadata": {},
     "output_type": "execute_result"
    }
   ],
   "source": [
    "strat_train_set.head(10)"
   ]
  },
  {
   "cell_type": "code",
   "execution_count": 7,
   "metadata": {},
   "outputs": [],
   "source": [
    "job_change = strat_train_set.drop(\"target\", axis=1)\r\n",
    "job_change_labels = strat_train_set[\"target\"].copy()"
   ]
  },
  {
   "cell_type": "code",
   "execution_count": 8,
   "metadata": {},
   "outputs": [
    {
     "data": {
      "text/html": "<div>\n<style scoped>\n    .dataframe tbody tr th:only-of-type {\n        vertical-align: middle;\n    }\n\n    .dataframe tbody tr th {\n        vertical-align: top;\n    }\n\n    .dataframe thead th {\n        text-align: right;\n    }\n</style>\n<table border=\"1\" class=\"dataframe\">\n  <thead>\n    <tr style=\"text-align: right;\">\n      <th></th>\n      <th>enrollee_id</th>\n      <th>city</th>\n      <th>city_development_index</th>\n      <th>gender</th>\n      <th>relevent_experience</th>\n      <th>enrolled_university</th>\n      <th>education_level</th>\n      <th>major_discipline</th>\n      <th>experience</th>\n      <th>company_size</th>\n      <th>company_type</th>\n      <th>last_new_job</th>\n      <th>training_hours</th>\n    </tr>\n  </thead>\n  <tbody>\n    <tr>\n      <th>0</th>\n      <td>22601</td>\n      <td>city_61</td>\n      <td>0.913</td>\n      <td>NaN</td>\n      <td>Has relevent experience</td>\n      <td>no_enrollment</td>\n      <td>Graduate</td>\n      <td>STEM</td>\n      <td>6</td>\n      <td>50-99</td>\n      <td>Funded Startup</td>\n      <td>2</td>\n      <td>304</td>\n    </tr>\n    <tr>\n      <th>1</th>\n      <td>32926</td>\n      <td>city_104</td>\n      <td>0.924</td>\n      <td>Female</td>\n      <td>No relevent experience</td>\n      <td>Part time course</td>\n      <td>Graduate</td>\n      <td>STEM</td>\n      <td>19</td>\n      <td>10000+</td>\n      <td>Pvt Ltd</td>\n      <td>4</td>\n      <td>81</td>\n    </tr>\n    <tr>\n      <th>2</th>\n      <td>11499</td>\n      <td>city_114</td>\n      <td>0.926</td>\n      <td>Male</td>\n      <td>Has relevent experience</td>\n      <td>no_enrollment</td>\n      <td>Graduate</td>\n      <td>STEM</td>\n      <td>10</td>\n      <td>&lt;10</td>\n      <td>Pvt Ltd</td>\n      <td>2</td>\n      <td>76</td>\n    </tr>\n    <tr>\n      <th>3</th>\n      <td>23859</td>\n      <td>city_100</td>\n      <td>0.887</td>\n      <td>Male</td>\n      <td>Has relevent experience</td>\n      <td>Part time course</td>\n      <td>Graduate</td>\n      <td>STEM</td>\n      <td>&gt;20</td>\n      <td>NaN</td>\n      <td>Pvt Ltd</td>\n      <td>2</td>\n      <td>53</td>\n    </tr>\n    <tr>\n      <th>4</th>\n      <td>4916</td>\n      <td>city_128</td>\n      <td>0.527</td>\n      <td>Male</td>\n      <td>No relevent experience</td>\n      <td>no_enrollment</td>\n      <td>Graduate</td>\n      <td>STEM</td>\n      <td>5</td>\n      <td>NaN</td>\n      <td>NaN</td>\n      <td>1</td>\n      <td>92</td>\n    </tr>\n  </tbody>\n</table>\n</div>",
      "text/plain": "   enrollee_id      city  city_development_index  gender  \\\n0        22601   city_61                   0.913     NaN   \n1        32926  city_104                   0.924  Female   \n2        11499  city_114                   0.926    Male   \n3        23859  city_100                   0.887    Male   \n4         4916  city_128                   0.527    Male   \n\n       relevent_experience enrolled_university education_level  \\\n0  Has relevent experience       no_enrollment        Graduate   \n1   No relevent experience    Part time course        Graduate   \n2  Has relevent experience       no_enrollment        Graduate   \n3  Has relevent experience    Part time course        Graduate   \n4   No relevent experience       no_enrollment        Graduate   \n\n  major_discipline experience company_size    company_type last_new_job  \\\n0             STEM          6        50-99  Funded Startup            2   \n1             STEM         19       10000+         Pvt Ltd            4   \n2             STEM         10          <10         Pvt Ltd            2   \n3             STEM        >20          NaN         Pvt Ltd            2   \n4             STEM          5          NaN             NaN            1   \n\n   training_hours  \n0             304  \n1              81  \n2              76  \n3              53  \n4              92  "
     },
     "execution_count": 8,
     "metadata": {},
     "output_type": "execute_result"
    }
   ],
   "source": [
    "job_change.head()"
   ]
  },
  {
   "cell_type": "code",
   "execution_count": 9,
   "metadata": {},
   "outputs": [],
   "source": [
    "num_attribs = ['city_development_index', 'training_hours']\r\n",
    "ord_cat_attribs = ['relevent_experience', 'enrolled_university', 'education_level', 'experience', 'company_size', 'last_new_job']\r\n",
    "nom_cat_attribs = ['city', 'gender', 'major_discipline', 'company_type']"
   ]
  },
  {
   "cell_type": "code",
   "execution_count": 10,
   "metadata": {},
   "outputs": [
    {
     "name": "stdout",
     "output_type": "stream",
     "text": [
      "['Has relevent experience' 'No relevent experience']\n",
      "['no_enrollment' 'Part time course' 'Full time course' nan]\n",
      "['Graduate' 'Masters' 'High School' nan 'Phd' 'Primary School']\n",
      "['6' '19' '10' '>20' '5' '16' '3' '2' '11' '9' '12' '8' '4' '7' '14' '<1'\n",
      " '15' '1' '18' '13' '17' '20' nan]\n",
      "['50-99' '10000+' '<10' nan '100-500' '1000-4999' '10/49' '500-999'\n",
      " '5000-9999']\n",
      "['2' '4' '1' '>4' 'never' '3' nan]\n"
     ]
    }
   ],
   "source": [
    "for attribs in ord_cat_attribs:\r\n",
    "    print(job_change[attribs].unique())"
   ]
  },
  {
   "cell_type": "code",
   "execution_count": 11,
   "metadata": {},
   "outputs": [],
   "source": [
    "num_pipeline = Pipeline([\r\n",
    "    ('imputer', SimpleImputer(missing_values=np.nan, strategy= \"median\")),\r\n",
    "    ('std_scaler', StandardScaler())\r\n",
    "])"
   ]
  },
  {
   "cell_type": "code",
   "execution_count": 12,
   "metadata": {},
   "outputs": [],
   "source": [
    "class OrdToNumeric(TransformerMixin):\r\n",
    "    def fit(self,X,y=None):\r\n",
    "        return self\r\n",
    "\r\n",
    "    def transform(self,X,y=None):\r\n",
    "        X['relevent_experience'] = X['relevent_experience'].apply(self.relevent_experience_to_numeric)\r\n",
    "        X['enrolled_university'] = X['enrolled_university'].apply(self.enrolled_university_to_numeric)\r\n",
    "        X['education_level'] = X['education_level'].apply(self.education_level_to_numeric)\r\n",
    "        X['experience'] = X['experience'].apply(self.experience_to_numeric)\r\n",
    "        X['company_size'] = X['company_size'].apply(self.company_size_to_numeric)\r\n",
    "        X['last_new_job'] = X['last_new_job'].apply(self.last_new_job_to_numeric)\r\n",
    "        return X\r\n",
    "\r\n",
    "    def relevent_experience_to_numeric(self, experience):\r\n",
    "        if experience != experience:\r\n",
    "            return None\r\n",
    "        if experience == \"Has relevent experience\":\r\n",
    "            return 1\r\n",
    "        return 0\r\n",
    "\r\n",
    "    def enrolled_university_to_numeric(self, x):\r\n",
    "        if x != x:\r\n",
    "            return None\r\n",
    "        if x == 'no_enrollment':\r\n",
    "            return 0\r\n",
    "        if x == 'Part time course':\r\n",
    "            return 1\r\n",
    "        if x == 'Full time course':\r\n",
    "            return 2\r\n",
    "\r\n",
    "    def education_level_to_numeric(self, x):\r\n",
    "        if x != x:\r\n",
    "            return None\r\n",
    "        if x == \"Primary School\":\r\n",
    "            return 1\r\n",
    "        if x == \"High School\":\r\n",
    "            return 2\r\n",
    "        if x == \"Graduate\":\r\n",
    "            return 3\r\n",
    "        if x == \"Masters\":\r\n",
    "            return 4\r\n",
    "        if x == \"Phd\":\r\n",
    "            return 5\r\n",
    "\r\n",
    "    def experience_to_numeric(self, x):\r\n",
    "        if x != x:\r\n",
    "            return None\r\n",
    "        if x == '>20':\r\n",
    "            return 21\r\n",
    "        elif x == '<1':\r\n",
    "            return 0\r\n",
    "        else:\r\n",
    "            return int(x)\r\n",
    "\r\n",
    "    def company_size_to_numeric(self, x):\r\n",
    "        if x != x:\r\n",
    "            return None\r\n",
    "        if x == '<10' :\r\n",
    "            return 0\r\n",
    "        if x == '10/49' :\r\n",
    "            return 1\r\n",
    "        if x == '50-99' :\r\n",
    "            return 2\r\n",
    "        if x == '100-500' :\r\n",
    "            return 3\r\n",
    "        if x == '500-999' :\r\n",
    "            return 4\r\n",
    "        if x == '1000-4999' :\r\n",
    "            return 5\r\n",
    "        if x == '5000-9999':\r\n",
    "            return 6\r\n",
    "        if x == '10000+':\r\n",
    "            return 7\r\n",
    "\r\n",
    "    def last_new_job_to_numeric(self, x):\r\n",
    "        if x != x:\r\n",
    "            return None\r\n",
    "        if x == '>4' :\r\n",
    "            return 5\r\n",
    "        if x == 'never' :\r\n",
    "            return 0\r\n",
    "        else:\r\n",
    "            return int(x)"
   ]
  },
  {
   "cell_type": "code",
   "execution_count": 13,
   "metadata": {},
   "outputs": [],
   "source": [
    "ord_pipeline = Pipeline([\r\n",
    "    ('ord_to_numeric', OrdToNumeric()),\r\n",
    "    ('ord_imputer', SimpleImputer(missing_values=np.nan, strategy=\"most_frequent\")),\r\n",
    "    ('ord_std_scaler', StandardScaler())\r\n",
    "])"
   ]
  },
  {
   "cell_type": "code",
   "execution_count": 14,
   "metadata": {},
   "outputs": [],
   "source": [
    "class DenseTransformer(TransformerMixin):\r\n",
    "    def fit(self, X, y=None):\r\n",
    "        return self\r\n",
    "\r\n",
    "    def transform(self, X, y=None):\r\n",
    "        return X.toarray()"
   ]
  },
  {
   "cell_type": "code",
   "execution_count": 15,
   "metadata": {},
   "outputs": [],
   "source": [
    "nom_pipeline = Pipeline([\r\n",
    "    ('nom_imputer', SimpleImputer(strategy=\"constant\")),\r\n",
    "    ('one_hot_encoder', OneHotEncoder(handle_unknown='ignore')),\r\n",
    "    ('to_array', DenseTransformer()),\r\n",
    "    ('nom_std_scaler', StandardScaler())\r\n",
    "])"
   ]
  },
  {
   "cell_type": "code",
   "execution_count": 16,
   "metadata": {},
   "outputs": [],
   "source": [
    "full_pipeline = ColumnTransformer([\r\n",
    "    (\"num\", num_pipeline, num_attribs),\r\n",
    "    (\"ord\", ord_pipeline, ord_cat_attribs),\r\n",
    "    (\"nom\", nom_pipeline, nom_cat_attribs)\r\n",
    "])"
   ]
  },
  {
   "cell_type": "code",
   "execution_count": 17,
   "metadata": {},
   "outputs": [],
   "source": [
    "job_change_prepared = full_pipeline.fit_transform(job_change)"
   ]
  },
  {
   "cell_type": "code",
   "execution_count": 18,
   "metadata": {},
   "outputs": [
    {
     "data": {
      "text/plain": "array([[ 0.68455576,  3.96026626,  0.62706628, ..., -0.22545945,\n        -1.02519997, -0.69725532],\n       [ 0.77366348,  0.25806456, -1.59472775, ..., -0.22545945,\n         0.97541946, -0.69725532],\n       [ 0.78986488,  0.17505555,  0.62706628, ..., -0.22545945,\n         0.97541946, -0.69725532],\n       ...,\n       [-2.19119315,  0.35767537, -1.59472775, ..., -0.22545945,\n        -1.02519997, -0.69725532],\n       [ 0.74126067, -0.05736967,  0.62706628, ..., -0.22545945,\n         0.97541946, -0.69725532],\n       [ 0.47393753,  0.65650779,  0.62706628, ..., -0.22545945,\n        -1.02519997, -0.69725532]])"
     },
     "execution_count": 18,
     "metadata": {},
     "output_type": "execute_result"
    }
   ],
   "source": [
    "job_change_prepared"
   ]
  },
  {
   "cell_type": "code",
   "execution_count": 19,
   "metadata": {},
   "outputs": [
    {
     "data": {
      "text/plain": "(11494, 146)"
     },
     "execution_count": 19,
     "metadata": {},
     "output_type": "execute_result"
    }
   ],
   "source": [
    "job_change_prepared.shape"
   ]
  },
  {
   "cell_type": "code",
   "execution_count": 20,
   "metadata": {},
   "outputs": [
    {
     "data": {
      "text/plain": "array([ 6.84555765e-01,  3.96026626e+00,  6.27066281e-01, -5.69227755e-01,\n       -1.90202618e-01, -6.08606696e-01, -4.58221359e-01,  2.54777696e-02,\n       -3.23282244e-02, -6.67598172e-02, -1.22158656e-01, -6.54319919e-02,\n       -1.25776422e-01, -5.35434218e-01, -1.24701446e-01, -6.93405552e-02,\n       -2.08614210e-02, -1.86582102e-02, -2.46857149e-02, -1.19938795e-01,\n       -1.31921989e-02, -2.76804005e-01, -5.20033954e-02, -7.93953688e-02,\n       -2.79934068e-02, -3.73359220e-02, -2.63912881e-02, -1.86582102e-02,\n       -6.12791201e-02, -3.84866641e-02, -2.63912881e-02, -6.74140937e-02,\n       -1.31921989e-02, -4.76148951e-02, -2.63912881e-02, -1.86582102e-02,\n       -4.66882105e-02, -1.75384073e-01, -7.82780364e-02, -1.61577809e-02,\n       -3.96041761e-02, -3.61487764e-02, -4.47778542e-02, -4.17501053e-02,\n       -3.49215148e-02, -5.52663347e-02, -1.86582102e-02, -7.82780364e-02,\n       -6.26934947e-02, -5.11555241e-02, -2.63912881e-02, -3.36497481e-02,\n       -5.20033954e-02, -7.05962069e-02, -2.97746795e-01, -2.18774215e-01,\n       -8.42447025e-02, -6.60991809e-02, -1.61577809e-02, -1.86582102e-02,\n       -8.83379585e-02, -3.09505706e-02, -3.36497481e-02, -1.61577809e-02,\n       -9.32788744e-03, -1.86582102e-02, -7.99483241e-02, -1.31921989e-02,\n       -3.73359220e-02, -4.05197670e-01, -9.82989546e-02, -5.28378074e-02,\n       -1.61577809e-02, -3.84866641e-02, -4.94166211e-02, -9.82989546e-02,\n       -3.61487764e-02, -1.31921989e-02, -3.09505706e-02, -8.93328386e-02,\n       -2.63912881e-02, -2.46857149e-02, -5.98318316e-02, -7.30440451e-02,\n       -2.08614210e-02, -1.86582102e-02, -3.23282244e-02, -8.04975770e-02,\n       -8.68249355e-02, -2.08614210e-02, -8.47668500e-02, -4.06911959e-02,\n       -3.23282244e-02, -3.23282244e-02, -7.48284711e-02, -2.63912881e-02,\n        9.86099976e+00, -1.61577809e-02, -7.65722287e-02, -9.60178226e-02,\n       -1.48500119e-01, -2.95089263e-02, -3.73359220e-02, -5.36593878e-02,\n       -1.17298936e-01, -3.49215148e-02, -1.21791327e-01, -7.12158928e-02,\n       -1.31712578e-01, -4.57429229e-02, -3.96041761e-02, -3.73359220e-02,\n       -1.61577809e-02, -1.61577809e-02, -2.95089263e-02, -1.86582102e-02,\n       -1.31921989e-02, -8.52858915e-02, -3.23282244e-02, -5.90950911e-02,\n       -2.46857149e-02, -1.10236864e-01, -4.37916966e-02, -3.23282244e-02,\n       -3.73359220e-02, -7.36435536e-02, -6.54319919e-02, -6.99711429e-02,\n       -2.57359216e-01, -1.48832285e+00, -9.69364762e-02,  1.78145045e+00,\n       -1.18058871e-01, -1.36420020e-01, -1.92814431e-01, -1.09017655e-01,\n       -1.40660192e-01,  5.70317726e-01, -4.14176468e-01, -1.80072542e-01,\n        4.34578107e+00, -1.58015154e-01, -7.77134950e-02, -2.25459446e-01,\n       -1.02519997e+00, -6.97255323e-01])"
     },
     "execution_count": 20,
     "metadata": {},
     "output_type": "execute_result"
    }
   ],
   "source": [
    "job_change_prepared[0]"
   ]
  },
  {
   "cell_type": "code",
   "execution_count": 21,
   "metadata": {},
   "outputs": [],
   "source": [
    "np.savetxt(\"Data/X_train.csv\", job_change_prepared, delimiter=',')\r\n",
    "np.savetxt(\"Data/y_train.csv\", job_change_labels.to_numpy(), delimiter=',')"
   ]
  },
  {
   "cell_type": "code",
   "execution_count": 22,
   "metadata": {},
   "outputs": [],
   "source": [
    "from imblearn.under_sampling import RandomUnderSampler"
   ]
  },
  {
   "cell_type": "code",
   "execution_count": 23,
   "metadata": {},
   "outputs": [],
   "source": [
    "undersample = RandomUnderSampler(sampling_strategy=\"majority\", random_state=42)"
   ]
  },
  {
   "cell_type": "code",
   "execution_count": 24,
   "metadata": {},
   "outputs": [],
   "source": [
    "# fit and apply the transform\r\n",
    "X_under, y_under = undersample.fit_resample(job_change_prepared, job_change_labels.to_numpy())"
   ]
  },
  {
   "cell_type": "code",
   "execution_count": 25,
   "metadata": {},
   "outputs": [
    {
     "data": {
      "text/plain": "(11494, 146)"
     },
     "execution_count": 25,
     "metadata": {},
     "output_type": "execute_result"
    }
   ],
   "source": [
    "job_change_prepared.shape"
   ]
  },
  {
   "cell_type": "code",
   "execution_count": 26,
   "metadata": {},
   "outputs": [
    {
     "data": {
      "text/plain": "(5790, 146)"
     },
     "execution_count": 26,
     "metadata": {},
     "output_type": "execute_result"
    }
   ],
   "source": [
    "X_under.shape"
   ]
  },
  {
   "cell_type": "code",
   "execution_count": 27,
   "metadata": {},
   "outputs": [],
   "source": [
    "np.savetxt(\"Data/X_train_under.csv\", X_under, delimiter=',')\r\n",
    "np.savetxt(\"Data/y_train_under.csv\", y_under, delimiter=',')"
   ]
  },
  {
   "cell_type": "markdown",
   "metadata": {},
   "source": [
    "# Process test set"
   ]
  },
  {
   "cell_type": "code",
   "execution_count": 28,
   "metadata": {},
   "outputs": [],
   "source": [
    "test_set = pd.read_csv(\"Data/test.csv\")"
   ]
  },
  {
   "cell_type": "code",
   "execution_count": 29,
   "metadata": {},
   "outputs": [
    {
     "data": {
      "text/html": "<div>\n<style scoped>\n    .dataframe tbody tr th:only-of-type {\n        vertical-align: middle;\n    }\n\n    .dataframe tbody tr th {\n        vertical-align: top;\n    }\n\n    .dataframe thead th {\n        text-align: right;\n    }\n</style>\n<table border=\"1\" class=\"dataframe\">\n  <thead>\n    <tr style=\"text-align: right;\">\n      <th></th>\n      <th>enrollee_id</th>\n      <th>city</th>\n      <th>city_development_index</th>\n      <th>gender</th>\n      <th>relevent_experience</th>\n      <th>enrolled_university</th>\n      <th>education_level</th>\n      <th>major_discipline</th>\n      <th>experience</th>\n      <th>company_size</th>\n      <th>company_type</th>\n      <th>last_new_job</th>\n      <th>training_hours</th>\n      <th>target</th>\n    </tr>\n  </thead>\n  <tbody>\n    <tr>\n      <th>0</th>\n      <td>6992</td>\n      <td>city_16</td>\n      <td>0.910</td>\n      <td>NaN</td>\n      <td>Has relevent experience</td>\n      <td>no_enrollment</td>\n      <td>Graduate</td>\n      <td>STEM</td>\n      <td>6</td>\n      <td>500-999</td>\n      <td>Pvt Ltd</td>\n      <td>1</td>\n      <td>21</td>\n      <td>0.0</td>\n    </tr>\n    <tr>\n      <th>1</th>\n      <td>8637</td>\n      <td>city_103</td>\n      <td>0.920</td>\n      <td>Female</td>\n      <td>Has relevent experience</td>\n      <td>no_enrollment</td>\n      <td>Masters</td>\n      <td>Humanities</td>\n      <td>&gt;20</td>\n      <td>100-500</td>\n      <td>Funded Startup</td>\n      <td>2</td>\n      <td>74</td>\n      <td>0.0</td>\n    </tr>\n    <tr>\n      <th>2</th>\n      <td>24729</td>\n      <td>city_104</td>\n      <td>0.924</td>\n      <td>NaN</td>\n      <td>Has relevent experience</td>\n      <td>no_enrollment</td>\n      <td>Graduate</td>\n      <td>STEM</td>\n      <td>9</td>\n      <td>10/49</td>\n      <td>Pvt Ltd</td>\n      <td>1</td>\n      <td>94</td>\n      <td>0.0</td>\n    </tr>\n    <tr>\n      <th>3</th>\n      <td>10933</td>\n      <td>city_21</td>\n      <td>0.624</td>\n      <td>Male</td>\n      <td>Has relevent experience</td>\n      <td>no_enrollment</td>\n      <td>Masters</td>\n      <td>STEM</td>\n      <td>15</td>\n      <td>10000+</td>\n      <td>Pvt Ltd</td>\n      <td>1</td>\n      <td>75</td>\n      <td>0.0</td>\n    </tr>\n    <tr>\n      <th>4</th>\n      <td>28023</td>\n      <td>city_134</td>\n      <td>0.698</td>\n      <td>Male</td>\n      <td>No relevent experience</td>\n      <td>no_enrollment</td>\n      <td>Masters</td>\n      <td>STEM</td>\n      <td>12</td>\n      <td>500-999</td>\n      <td>NGO</td>\n      <td>1</td>\n      <td>157</td>\n      <td>0.0</td>\n    </tr>\n  </tbody>\n</table>\n</div>",
      "text/plain": "   enrollee_id      city  city_development_index  gender  \\\n0         6992   city_16                   0.910     NaN   \n1         8637  city_103                   0.920  Female   \n2        24729  city_104                   0.924     NaN   \n3        10933   city_21                   0.624    Male   \n4        28023  city_134                   0.698    Male   \n\n       relevent_experience enrolled_university education_level  \\\n0  Has relevent experience       no_enrollment        Graduate   \n1  Has relevent experience       no_enrollment         Masters   \n2  Has relevent experience       no_enrollment        Graduate   \n3  Has relevent experience       no_enrollment         Masters   \n4   No relevent experience       no_enrollment         Masters   \n\n  major_discipline experience company_size    company_type last_new_job  \\\n0             STEM          6      500-999         Pvt Ltd            1   \n1       Humanities        >20      100-500  Funded Startup            2   \n2             STEM          9        10/49         Pvt Ltd            1   \n3             STEM         15       10000+         Pvt Ltd            1   \n4             STEM         12      500-999             NGO            1   \n\n   training_hours  target  \n0              21     0.0  \n1              74     0.0  \n2              94     0.0  \n3              75     0.0  \n4             157     0.0  "
     },
     "execution_count": 29,
     "metadata": {},
     "output_type": "execute_result"
    }
   ],
   "source": [
    "test_set.head()"
   ]
  },
  {
   "cell_type": "code",
   "execution_count": 30,
   "metadata": {},
   "outputs": [],
   "source": [
    "job_change_test = test_set.drop(\"target\", axis=1)\r\n",
    "job_change_test_labels = test_set[\"target\"].copy()"
   ]
  },
  {
   "cell_type": "code",
   "execution_count": 31,
   "metadata": {},
   "outputs": [],
   "source": [
    "job_change_test_prepared = full_pipeline.transform(job_change_test)"
   ]
  },
  {
   "cell_type": "code",
   "execution_count": 32,
   "metadata": {},
   "outputs": [
    {
     "data": {
      "text/plain": "(3832, 146)"
     },
     "execution_count": 32,
     "metadata": {},
     "output_type": "execute_result"
    }
   ],
   "source": [
    "job_change_test_prepared.shape"
   ]
  },
  {
   "cell_type": "code",
   "execution_count": 33,
   "metadata": {},
   "outputs": [
    {
     "data": {
      "text/plain": "array([[ 0.66025366, -0.73804352,  0.62706628, ..., -0.22545945,\n         0.97541946, -0.69725532],\n       [ 0.74126067,  0.14185195,  0.62706628, ..., -0.22545945,\n        -1.02519997, -0.69725532],\n       [ 0.77366348,  0.47388798,  0.62706628, ..., -0.22545945,\n         0.97541946, -0.69725532],\n       ...,\n       [-1.65654688, -1.02027414,  0.62706628, ..., -0.22545945,\n        -1.02519997, -0.69725532],\n       [-2.25599876, -1.05347775,  0.62706628, ..., -0.22545945,\n         0.97541946, -0.69725532],\n       [ 0.55494455, -1.00367234,  0.62706628, ..., -0.22545945,\n         0.97541946, -0.69725532]])"
     },
     "execution_count": 33,
     "metadata": {},
     "output_type": "execute_result"
    }
   ],
   "source": [
    "job_change_test_prepared"
   ]
  },
  {
   "cell_type": "code",
   "execution_count": 34,
   "metadata": {},
   "outputs": [],
   "source": [
    "np.savetxt(\"Data/X_test.csv\", job_change_test_prepared, delimiter=',')"
   ]
  },
  {
   "cell_type": "code",
   "execution_count": 35,
   "metadata": {},
   "outputs": [],
   "source": [
    "np.savetxt(\"Data/y_test.csv\", job_change_test_labels.to_numpy(), delimiter=',')"
   ]
  },
  {
   "cell_type": "code",
   "execution_count": 36,
   "metadata": {},
   "outputs": [],
   "source": [
    "cv_set = pd.read_csv(\"Data/cv.csv\")"
   ]
  },
  {
   "cell_type": "code",
   "execution_count": 37,
   "metadata": {},
   "outputs": [],
   "source": [
    "job_change_cv = cv_set.drop(\"target\", axis=1)\r\n",
    "job_change_cv_labels = cv_set[\"target\"].copy()"
   ]
  },
  {
   "cell_type": "code",
   "execution_count": 38,
   "metadata": {},
   "outputs": [],
   "source": [
    "job_change_cv_prepared = full_pipeline.transform(job_change_cv)"
   ]
  },
  {
   "cell_type": "code",
   "execution_count": 39,
   "metadata": {},
   "outputs": [],
   "source": [
    "np.savetxt(\"Data/X_cv.csv\", job_change_cv_prepared, delimiter=',')\r\n",
    "np.savetxt(\"Data/y_cv.csv\", job_change_cv_labels.to_numpy(), delimiter=',')"
   ]
  }
 ],
 "metadata": {
  "kernelspec": {
   "display_name": "Python 3.7.4 32-bit",
   "name": "python374jvsc74a57bd03516c099f2e50fbe6b83d8aca3e7ba54c35d25f18189c7f24f96f469bdbc3fe7"
  },
  "language_info": {
   "codemirror_mode": {
    "name": "ipython",
    "version": 3
   },
   "file_extension": ".py",
   "mimetype": "text/x-python",
   "name": "python",
   "nbconvert_exporter": "python",
   "pygments_lexer": "ipython3",
   "version": "3.7.4"
  },
  "metadata": {
   "interpreter": {
    "hash": "3516c099f2e50fbe6b83d8aca3e7ba54c35d25f18189c7f24f96f469bdbc3fe7"
   }
  },
  "orig_nbformat": 2
 },
 "nbformat": 4,
 "nbformat_minor": 2
}