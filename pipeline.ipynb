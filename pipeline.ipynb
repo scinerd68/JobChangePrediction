{
 "cells": [
  {
   "cell_type": "code",
   "execution_count": 53,
   "metadata": {},
   "outputs": [],
   "source": [
    "from sklearn.pipeline import Pipeline\r\n",
    "from sklearn.preprocessing import StandardScaler\r\n",
    "from sklearn.compose import ColumnTransformer\r\n",
    "from sklearn.preprocessing import OneHotEncoder\r\n",
    "from sklearn.impute import SimpleImputer"
   ]
  },
  {
   "cell_type": "code",
   "execution_count": 54,
   "metadata": {},
   "outputs": [],
   "source": [
    "import numpy as np"
   ]
  },
  {
   "cell_type": "code",
   "execution_count": 55,
   "metadata": {},
   "outputs": [],
   "source": [
    "from sklearn.base import TransformerMixin"
   ]
  },
  {
   "cell_type": "code",
   "execution_count": 56,
   "metadata": {},
   "outputs": [],
   "source": [
    "import pandas as pd"
   ]
  },
  {
   "cell_type": "code",
   "execution_count": 57,
   "metadata": {},
   "outputs": [],
   "source": [
    "strat_train_set = pd.read_csv(\"Data/train.csv\")"
   ]
  },
  {
   "cell_type": "code",
   "execution_count": 58,
   "metadata": {},
   "outputs": [
    {
     "data": {
      "text/html": "<div>\n<style scoped>\n    .dataframe tbody tr th:only-of-type {\n        vertical-align: middle;\n    }\n\n    .dataframe tbody tr th {\n        vertical-align: top;\n    }\n\n    .dataframe thead th {\n        text-align: right;\n    }\n</style>\n<table border=\"1\" class=\"dataframe\">\n  <thead>\n    <tr style=\"text-align: right;\">\n      <th></th>\n      <th>Unnamed: 0</th>\n      <th>enrollee_id</th>\n      <th>city</th>\n      <th>city_development_index</th>\n      <th>gender</th>\n      <th>relevent_experience</th>\n      <th>enrolled_university</th>\n      <th>education_level</th>\n      <th>major_discipline</th>\n      <th>experience</th>\n      <th>company_size</th>\n      <th>company_type</th>\n      <th>last_new_job</th>\n      <th>training_hours</th>\n      <th>target</th>\n    </tr>\n  </thead>\n  <tbody>\n    <tr>\n      <th>0</th>\n      <td>6578</td>\n      <td>22505</td>\n      <td>city_21</td>\n      <td>0.624</td>\n      <td>Male</td>\n      <td>Has relevent experience</td>\n      <td>no_enrollment</td>\n      <td>Graduate</td>\n      <td>STEM</td>\n      <td>8</td>\n      <td>100-500</td>\n      <td>Pvt Ltd</td>\n      <td>2</td>\n      <td>47</td>\n      <td>1.0</td>\n    </tr>\n    <tr>\n      <th>1</th>\n      <td>2189</td>\n      <td>14580</td>\n      <td>city_28</td>\n      <td>0.939</td>\n      <td>Other</td>\n      <td>No relevent experience</td>\n      <td>Full time course</td>\n      <td>High School</td>\n      <td>NaN</td>\n      <td>3</td>\n      <td>100-500</td>\n      <td>Pvt Ltd</td>\n      <td>3</td>\n      <td>17</td>\n      <td>0.0</td>\n    </tr>\n    <tr>\n      <th>2</th>\n      <td>575</td>\n      <td>24981</td>\n      <td>city_45</td>\n      <td>0.890</td>\n      <td>NaN</td>\n      <td>Has relevent experience</td>\n      <td>no_enrollment</td>\n      <td>Graduate</td>\n      <td>STEM</td>\n      <td>9</td>\n      <td>50-99</td>\n      <td>Pvt Ltd</td>\n      <td>NaN</td>\n      <td>62</td>\n      <td>0.0</td>\n    </tr>\n    <tr>\n      <th>3</th>\n      <td>16167</td>\n      <td>495</td>\n      <td>city_103</td>\n      <td>0.920</td>\n      <td>Male</td>\n      <td>No relevent experience</td>\n      <td>no_enrollment</td>\n      <td>Phd</td>\n      <td>STEM</td>\n      <td>15</td>\n      <td>5000-9999</td>\n      <td>Pvt Ltd</td>\n      <td>1</td>\n      <td>31</td>\n      <td>0.0</td>\n    </tr>\n    <tr>\n      <th>4</th>\n      <td>11764</td>\n      <td>4883</td>\n      <td>city_103</td>\n      <td>0.920</td>\n      <td>Male</td>\n      <td>No relevent experience</td>\n      <td>no_enrollment</td>\n      <td>Primary School</td>\n      <td>NaN</td>\n      <td>3</td>\n      <td>NaN</td>\n      <td>Pvt Ltd</td>\n      <td>never</td>\n      <td>16</td>\n      <td>0.0</td>\n    </tr>\n    <tr>\n      <th>5</th>\n      <td>16604</td>\n      <td>2833</td>\n      <td>city_103</td>\n      <td>0.920</td>\n      <td>Male</td>\n      <td>Has relevent experience</td>\n      <td>Full time course</td>\n      <td>Masters</td>\n      <td>STEM</td>\n      <td>11</td>\n      <td>10000+</td>\n      <td>Pvt Ltd</td>\n      <td>2</td>\n      <td>34</td>\n      <td>0.0</td>\n    </tr>\n    <tr>\n      <th>6</th>\n      <td>18490</td>\n      <td>30204</td>\n      <td>city_103</td>\n      <td>0.920</td>\n      <td>Female</td>\n      <td>No relevent experience</td>\n      <td>Full time course</td>\n      <td>Graduate</td>\n      <td>STEM</td>\n      <td>4</td>\n      <td>NaN</td>\n      <td>NaN</td>\n      <td>1</td>\n      <td>52</td>\n      <td>1.0</td>\n    </tr>\n    <tr>\n      <th>7</th>\n      <td>12349</td>\n      <td>21007</td>\n      <td>city_103</td>\n      <td>0.920</td>\n      <td>NaN</td>\n      <td>Has relevent experience</td>\n      <td>no_enrollment</td>\n      <td>Graduate</td>\n      <td>STEM</td>\n      <td>9</td>\n      <td>100-500</td>\n      <td>Pvt Ltd</td>\n      <td>1</td>\n      <td>135</td>\n      <td>0.0</td>\n    </tr>\n    <tr>\n      <th>8</th>\n      <td>16504</td>\n      <td>4760</td>\n      <td>city_103</td>\n      <td>0.920</td>\n      <td>Male</td>\n      <td>No relevent experience</td>\n      <td>Full time course</td>\n      <td>High School</td>\n      <td>NaN</td>\n      <td>8</td>\n      <td>NaN</td>\n      <td>NaN</td>\n      <td>1</td>\n      <td>118</td>\n      <td>1.0</td>\n    </tr>\n    <tr>\n      <th>9</th>\n      <td>4968</td>\n      <td>27737</td>\n      <td>city_103</td>\n      <td>0.920</td>\n      <td>Male</td>\n      <td>Has relevent experience</td>\n      <td>no_enrollment</td>\n      <td>Graduate</td>\n      <td>No Major</td>\n      <td>&gt;20</td>\n      <td>NaN</td>\n      <td>NaN</td>\n      <td>&gt;4</td>\n      <td>110</td>\n      <td>1.0</td>\n    </tr>\n  </tbody>\n</table>\n</div>",
      "text/plain": "   Unnamed: 0  enrollee_id      city  city_development_index  gender  \\\n0        6578        22505   city_21                   0.624    Male   \n1        2189        14580   city_28                   0.939   Other   \n2         575        24981   city_45                   0.890     NaN   \n3       16167          495  city_103                   0.920    Male   \n4       11764         4883  city_103                   0.920    Male   \n5       16604         2833  city_103                   0.920    Male   \n6       18490        30204  city_103                   0.920  Female   \n7       12349        21007  city_103                   0.920     NaN   \n8       16504         4760  city_103                   0.920    Male   \n9        4968        27737  city_103                   0.920    Male   \n\n       relevent_experience enrolled_university education_level  \\\n0  Has relevent experience       no_enrollment        Graduate   \n1   No relevent experience    Full time course     High School   \n2  Has relevent experience       no_enrollment        Graduate   \n3   No relevent experience       no_enrollment             Phd   \n4   No relevent experience       no_enrollment  Primary School   \n5  Has relevent experience    Full time course         Masters   \n6   No relevent experience    Full time course        Graduate   \n7  Has relevent experience       no_enrollment        Graduate   \n8   No relevent experience    Full time course     High School   \n9  Has relevent experience       no_enrollment        Graduate   \n\n  major_discipline experience company_size company_type last_new_job  \\\n0             STEM          8      100-500      Pvt Ltd            2   \n1              NaN          3      100-500      Pvt Ltd            3   \n2             STEM          9        50-99      Pvt Ltd          NaN   \n3             STEM         15    5000-9999      Pvt Ltd            1   \n4              NaN          3          NaN      Pvt Ltd        never   \n5             STEM         11       10000+      Pvt Ltd            2   \n6             STEM          4          NaN          NaN            1   \n7             STEM          9      100-500      Pvt Ltd            1   \n8              NaN          8          NaN          NaN            1   \n9         No Major        >20          NaN          NaN           >4   \n\n   training_hours  target  \n0              47     1.0  \n1              17     0.0  \n2              62     0.0  \n3              31     0.0  \n4              16     0.0  \n5              34     0.0  \n6              52     1.0  \n7             135     0.0  \n8             118     1.0  \n9             110     1.0  "
     },
     "execution_count": 58,
     "metadata": {},
     "output_type": "execute_result"
    }
   ],
   "source": [
    "strat_train_set.head(10)"
   ]
  },
  {
   "cell_type": "code",
   "execution_count": 59,
   "metadata": {},
   "outputs": [],
   "source": [
    "job_change = strat_train_set.drop(\"target\", axis=1)\r\n",
    "job_change_labels = strat_train_set[\"target\"].copy()"
   ]
  },
  {
   "cell_type": "code",
   "execution_count": 60,
   "metadata": {},
   "outputs": [
    {
     "data": {
      "text/html": "<div>\n<style scoped>\n    .dataframe tbody tr th:only-of-type {\n        vertical-align: middle;\n    }\n\n    .dataframe tbody tr th {\n        vertical-align: top;\n    }\n\n    .dataframe thead th {\n        text-align: right;\n    }\n</style>\n<table border=\"1\" class=\"dataframe\">\n  <thead>\n    <tr style=\"text-align: right;\">\n      <th></th>\n      <th>Unnamed: 0</th>\n      <th>enrollee_id</th>\n      <th>city</th>\n      <th>city_development_index</th>\n      <th>gender</th>\n      <th>relevent_experience</th>\n      <th>enrolled_university</th>\n      <th>education_level</th>\n      <th>major_discipline</th>\n      <th>experience</th>\n      <th>company_size</th>\n      <th>company_type</th>\n      <th>last_new_job</th>\n      <th>training_hours</th>\n    </tr>\n  </thead>\n  <tbody>\n    <tr>\n      <th>0</th>\n      <td>6578</td>\n      <td>22505</td>\n      <td>city_21</td>\n      <td>0.624</td>\n      <td>Male</td>\n      <td>Has relevent experience</td>\n      <td>no_enrollment</td>\n      <td>Graduate</td>\n      <td>STEM</td>\n      <td>8</td>\n      <td>100-500</td>\n      <td>Pvt Ltd</td>\n      <td>2</td>\n      <td>47</td>\n    </tr>\n    <tr>\n      <th>1</th>\n      <td>2189</td>\n      <td>14580</td>\n      <td>city_28</td>\n      <td>0.939</td>\n      <td>Other</td>\n      <td>No relevent experience</td>\n      <td>Full time course</td>\n      <td>High School</td>\n      <td>NaN</td>\n      <td>3</td>\n      <td>100-500</td>\n      <td>Pvt Ltd</td>\n      <td>3</td>\n      <td>17</td>\n    </tr>\n    <tr>\n      <th>2</th>\n      <td>575</td>\n      <td>24981</td>\n      <td>city_45</td>\n      <td>0.890</td>\n      <td>NaN</td>\n      <td>Has relevent experience</td>\n      <td>no_enrollment</td>\n      <td>Graduate</td>\n      <td>STEM</td>\n      <td>9</td>\n      <td>50-99</td>\n      <td>Pvt Ltd</td>\n      <td>NaN</td>\n      <td>62</td>\n    </tr>\n    <tr>\n      <th>3</th>\n      <td>16167</td>\n      <td>495</td>\n      <td>city_103</td>\n      <td>0.920</td>\n      <td>Male</td>\n      <td>No relevent experience</td>\n      <td>no_enrollment</td>\n      <td>Phd</td>\n      <td>STEM</td>\n      <td>15</td>\n      <td>5000-9999</td>\n      <td>Pvt Ltd</td>\n      <td>1</td>\n      <td>31</td>\n    </tr>\n    <tr>\n      <th>4</th>\n      <td>11764</td>\n      <td>4883</td>\n      <td>city_103</td>\n      <td>0.920</td>\n      <td>Male</td>\n      <td>No relevent experience</td>\n      <td>no_enrollment</td>\n      <td>Primary School</td>\n      <td>NaN</td>\n      <td>3</td>\n      <td>NaN</td>\n      <td>Pvt Ltd</td>\n      <td>never</td>\n      <td>16</td>\n    </tr>\n  </tbody>\n</table>\n</div>",
      "text/plain": "   Unnamed: 0  enrollee_id      city  city_development_index gender  \\\n0        6578        22505   city_21                   0.624   Male   \n1        2189        14580   city_28                   0.939  Other   \n2         575        24981   city_45                   0.890    NaN   \n3       16167          495  city_103                   0.920   Male   \n4       11764         4883  city_103                   0.920   Male   \n\n       relevent_experience enrolled_university education_level  \\\n0  Has relevent experience       no_enrollment        Graduate   \n1   No relevent experience    Full time course     High School   \n2  Has relevent experience       no_enrollment        Graduate   \n3   No relevent experience       no_enrollment             Phd   \n4   No relevent experience       no_enrollment  Primary School   \n\n  major_discipline experience company_size company_type last_new_job  \\\n0             STEM          8      100-500      Pvt Ltd            2   \n1              NaN          3      100-500      Pvt Ltd            3   \n2             STEM          9        50-99      Pvt Ltd          NaN   \n3             STEM         15    5000-9999      Pvt Ltd            1   \n4              NaN          3          NaN      Pvt Ltd        never   \n\n   training_hours  \n0              47  \n1              17  \n2              62  \n3              31  \n4              16  "
     },
     "execution_count": 60,
     "metadata": {},
     "output_type": "execute_result"
    }
   ],
   "source": [
    "job_change.head()"
   ]
  },
  {
   "cell_type": "code",
   "execution_count": 61,
   "metadata": {},
   "outputs": [],
   "source": [
    "num_attribs = ['city_development_index', 'training_hours']\r\n",
    "ord_cat_attribs = ['relevent_experience', 'enrolled_university', 'education_level', 'experience', 'company_size', 'last_new_job']\r\n",
    "nom_cat_attribs = ['city', 'gender', 'major_discipline', 'company_type']"
   ]
  },
  {
   "cell_type": "code",
   "execution_count": 62,
   "metadata": {},
   "outputs": [
    {
     "name": "stdout",
     "output_type": "stream",
     "text": [
      "['Has relevent experience' 'No relevent experience']\n",
      "['no_enrollment' 'Full time course' 'Part time course' nan]\n",
      "['Graduate' 'High School' 'Phd' 'Primary School' 'Masters' nan]\n",
      "['8' '3' '9' '15' '11' '4' '>20' '19' '2' '6' '17' '1' '10' '7' '16' '13'\n",
      " '14' '5' '12' nan '<1' '18' '20']\n",
      "['100-500' '50-99' '5000-9999' nan '10000+' '<10' '10/49' '1000-4999'\n",
      " '500-999']\n",
      "['2' '3' nan '1' 'never' '>4' '4']\n"
     ]
    }
   ],
   "source": [
    "for attribs in ord_cat_attribs:\r\n",
    "    print(job_change[attribs].unique())"
   ]
  },
  {
   "cell_type": "code",
   "execution_count": 63,
   "metadata": {},
   "outputs": [],
   "source": [
    "num_pipeline = Pipeline([\r\n",
    "    ('imputer', SimpleImputer(missing_values=np.nan, strategy= \"median\")),\r\n",
    "    ('std_scaler', StandardScaler())\r\n",
    "])"
   ]
  },
  {
   "cell_type": "code",
   "execution_count": 64,
   "metadata": {},
   "outputs": [],
   "source": [
    "class OrdToNumeric(TransformerMixin):\r\n",
    "    def fit(self,X,y=None):\r\n",
    "        return self\r\n",
    "\r\n",
    "    def transform(self,X,y=None):\r\n",
    "        X['relevent_experience'] = X['relevent_experience'].apply(self.relevent_experience_to_numeric)\r\n",
    "        X['enrolled_university'] = X['enrolled_university'].apply(self.enrolled_university_to_numeric)\r\n",
    "        X['education_level'] = X['education_level'].apply(self.education_level_to_numeric)\r\n",
    "        X['experience'] = X['experience'].apply(self.experience_to_numeric)\r\n",
    "        X['company_size'] = X['company_size'].apply(self.company_size_to_numeric)\r\n",
    "        X['last_new_job'] = X['last_new_job'].apply(self.last_new_job_to_numeric)\r\n",
    "        return X\r\n",
    "\r\n",
    "    def relevent_experience_to_numeric(self, experience):\r\n",
    "        if experience != experience:\r\n",
    "            return None\r\n",
    "        if experience == \"Has relevent experience\":\r\n",
    "            return 1\r\n",
    "        return 0\r\n",
    "\r\n",
    "    def enrolled_university_to_numeric(self, x):\r\n",
    "        if x != x:\r\n",
    "            return None\r\n",
    "        if x == 'no_enrollment':\r\n",
    "            return 0\r\n",
    "        if x == 'Part time course':\r\n",
    "            return 1\r\n",
    "        if x == 'Full time course':\r\n",
    "            return 2\r\n",
    "\r\n",
    "    def education_level_to_numeric(self, x):\r\n",
    "        if x != x:\r\n",
    "            return None\r\n",
    "        if x == \"Primary School\":\r\n",
    "            return 1\r\n",
    "        if x == \"High School\":\r\n",
    "            return 2\r\n",
    "        if x == \"Graduate\":\r\n",
    "            return 3\r\n",
    "        if x == \"Masters\":\r\n",
    "            return 4\r\n",
    "        if x == \"Phd\":\r\n",
    "            return 5\r\n",
    "\r\n",
    "    def experience_to_numeric(self, x):\r\n",
    "        if x != x:\r\n",
    "            return None\r\n",
    "        if x == '>20':\r\n",
    "            return 21\r\n",
    "        elif x == '<1':\r\n",
    "            return 0\r\n",
    "        else:\r\n",
    "            return int(x)\r\n",
    "\r\n",
    "    def company_size_to_numeric(self, x):\r\n",
    "        if x != x:\r\n",
    "            return None\r\n",
    "        if x == '<10' :\r\n",
    "            return 0\r\n",
    "        if x == '10/49' :\r\n",
    "            return 1\r\n",
    "        if x == '50-99' :\r\n",
    "            return 2\r\n",
    "        if x == '100-500' :\r\n",
    "            return 3\r\n",
    "        if x == '500-999' :\r\n",
    "            return 4\r\n",
    "        if x == '1000-4999' :\r\n",
    "            return 5\r\n",
    "        if x == '5000-9999':\r\n",
    "            return 6\r\n",
    "        if x == '10000+':\r\n",
    "            return 7\r\n",
    "\r\n",
    "    def last_new_job_to_numeric(self, x):\r\n",
    "        if x != x:\r\n",
    "            return None\r\n",
    "        if x == '>4' :\r\n",
    "            return 5\r\n",
    "        if x == 'never' :\r\n",
    "            return 0\r\n",
    "        else:\r\n",
    "            return int(x)"
   ]
  },
  {
   "cell_type": "code",
   "execution_count": 65,
   "metadata": {},
   "outputs": [],
   "source": [
    "ord_pipeline = Pipeline([\r\n",
    "    ('ord_to_numeric', OrdToNumeric()),\r\n",
    "    ('ord_imputer', SimpleImputer(missing_values=np.nan, strategy=\"most_frequent\")),\r\n",
    "    ('ord_std_scaler', StandardScaler())\r\n",
    "])"
   ]
  },
  {
   "cell_type": "code",
   "execution_count": 66,
   "metadata": {},
   "outputs": [],
   "source": [
    "class DenseTransformer(TransformerMixin):\r\n",
    "    def fit(self, X, y=None):\r\n",
    "        return self\r\n",
    "\r\n",
    "    def transform(self, X, y=None):\r\n",
    "        return X.toarray()"
   ]
  },
  {
   "cell_type": "code",
   "execution_count": 67,
   "metadata": {},
   "outputs": [],
   "source": [
    "nom_pipeline = Pipeline([\r\n",
    "    ('nom_imputer', SimpleImputer(strategy=\"constant\")),\r\n",
    "    ('one_hot_encoder', OneHotEncoder()),\r\n",
    "    ('to_array', DenseTransformer()),\r\n",
    "    ('nom_std_scaler', StandardScaler())\r\n",
    "])"
   ]
  },
  {
   "cell_type": "code",
   "execution_count": 68,
   "metadata": {},
   "outputs": [],
   "source": [
    "full_pipeline = ColumnTransformer([\r\n",
    "    (\"num\", num_pipeline, num_attribs),\r\n",
    "    (\"ord\", ord_pipeline, ord_cat_attribs),\r\n",
    "    (\"nom\", nom_pipeline, nom_cat_attribs)\r\n",
    "])"
   ]
  },
  {
   "cell_type": "code",
   "execution_count": 69,
   "metadata": {},
   "outputs": [],
   "source": [
    "job_change_prepared = full_pipeline.fit_transform(job_change)"
   ]
  },
  {
   "cell_type": "code",
   "execution_count": 70,
   "metadata": {},
   "outputs": [
    {
     "data": {
      "text/plain": "array([[-1.65340347, -0.30513529,  0.62370107, ..., -0.23115431,\n         0.96125128, -0.68064073],\n       [ 0.89589291, -0.804638  , -1.60333219, ..., -0.23115431,\n         0.96125128, -0.68064073],\n       [ 0.4993357 , -0.05538393,  0.62370107, ..., -0.23115431,\n         0.96125128, -0.68064073],\n       ...,\n       [ 0.74212583,  2.54203017,  0.62370107, ..., -0.23115431,\n         0.96125128, -0.68064073],\n       [ 0.74212583, -0.93783872,  0.62370107, ..., -0.23115431,\n         0.96125128, -0.68064073],\n       [ 0.74212583, -0.95448881,  0.62370107, ..., -0.23115431,\n         0.96125128, -0.68064073]])"
     },
     "execution_count": 70,
     "metadata": {},
     "output_type": "execute_result"
    }
   ],
   "source": [
    "job_change_prepared"
   ]
  },
  {
   "cell_type": "code",
   "execution_count": 71,
   "metadata": {},
   "outputs": [
    {
     "data": {
      "text/plain": "(11494, 149)"
     },
     "execution_count": 71,
     "metadata": {},
     "output_type": "execute_result"
    }
   ],
   "source": [
    "job_change_prepared.shape"
   ]
  },
  {
   "cell_type": "code",
   "execution_count": 72,
   "metadata": {},
   "outputs": [
    {
     "data": {
      "text/plain": "array([-1.65340347, -0.30513529,  0.62370107, -0.56939694, -0.19797429,\n       -0.32181227,  0.06228766,  0.01453306, -0.03614878, -0.07059621,\n       -0.12506073, -0.06543199, -0.12252495, -0.53987098, -0.12541906,\n       -0.06338903, -0.02799341, -0.00932789, -0.02468571, -0.11342708,\n       -0.0131922 , -0.27479502, -0.05526633, -0.07883863, -0.02799341,\n       -0.03733592, -0.02639129, -0.01865821, -0.01615778, -0.06199028,\n       -0.03848666, -0.02086142, -0.06675982, -0.0131922 , -0.05283781,\n       -0.02285354, -0.02285354, -0.05029351, -0.17903997, -0.07714492,\n       -0.01615778, -0.03364975, -0.00932789, -0.03960418, -0.04941662,\n       -0.0520034 , -0.03614878, -0.05446872, -0.01865821, -0.07423832,\n       -0.05526633, -0.05115552, -0.02950893, -0.03364975, -0.05365939,\n       -0.07364355, -0.29181948, -0.20944027, -0.08476685, -0.06199028,\n       -0.01615778, -0.02468571, -0.00932789, -0.09177434, -0.02950893,\n       -0.03848666, -0.01615778, -0.01615778, -0.01615778, -0.07994832,\n       -0.02086142, -0.04175011,  2.42371655, -0.09555531, -0.05446872,\n       -0.01615778, -0.03364975, -0.03960418, -0.09601782, -0.03364975,\n       -0.0131922 , -0.02950893, -0.0903171 , -0.02950893, -0.02799341,\n       -0.06199028, -0.07121589, -0.02468571, -0.02639129, -0.03364975,\n       -0.07939537, -0.08158527, -0.02639129, -0.08631488, -0.03492151,\n       -0.02639129, -0.02639129, -0.07714492, -0.01615778, -0.09509062,\n       -0.0131922 , -0.07482847, -0.09273354, -0.15002298, -0.02799341,\n       -0.03232822, -0.04941662, -0.1199388 , -0.02950893, -0.11691722,\n       -0.06934056, -0.13273438, -0.05115552, -0.04477785, -0.03848666,\n       -0.02285354, -0.01615778, -0.02639129, -0.02086142, -0.01615778,\n       -0.09320955, -0.03848666, -0.06609918, -0.03095057, -0.10357656,\n       -0.04941662, -0.03848666, -0.02950893, -0.07714492, -0.06338903,\n       -0.06997114, -0.25523887,  0.67121534, -0.10443128, -0.55986596,\n       -0.11767948, -0.12541906, -0.1901287 , -0.10778531, -0.14819383,\n        0.56978187, -0.41691169, -0.17564743, -0.23240465, -0.16286486,\n       -0.07714492, -0.23115431,  0.96125128, -0.68064073])"
     },
     "execution_count": 72,
     "metadata": {},
     "output_type": "execute_result"
    }
   ],
   "source": [
    "job_change_prepared[0]"
   ]
  },
  {
   "cell_type": "code",
   "execution_count": 73,
   "metadata": {},
   "outputs": [],
   "source": [
    "np.savetxt(\"Data/X_train.csv\", job_change_prepared, delimiter=',')\r\n",
    "np.savetxt(\"Data/y_train.csv\", job_change_labels.to_numpy(), delimiter=',')"
   ]
  },
  {
   "cell_type": "markdown",
   "metadata": {},
   "source": [
    "# Process test set"
   ]
  },
  {
   "cell_type": "code",
   "execution_count": 74,
   "metadata": {},
   "outputs": [],
   "source": [
    "test_set = pd.read_csv(\"Data/test.csv\")"
   ]
  },
  {
   "cell_type": "code",
   "execution_count": 75,
   "metadata": {},
   "outputs": [
    {
     "data": {
      "text/html": "<div>\n<style scoped>\n    .dataframe tbody tr th:only-of-type {\n        vertical-align: middle;\n    }\n\n    .dataframe tbody tr th {\n        vertical-align: top;\n    }\n\n    .dataframe thead th {\n        text-align: right;\n    }\n</style>\n<table border=\"1\" class=\"dataframe\">\n  <thead>\n    <tr style=\"text-align: right;\">\n      <th></th>\n      <th>Unnamed: 0</th>\n      <th>enrollee_id</th>\n      <th>city</th>\n      <th>city_development_index</th>\n      <th>gender</th>\n      <th>relevent_experience</th>\n      <th>enrolled_university</th>\n      <th>education_level</th>\n      <th>major_discipline</th>\n      <th>experience</th>\n      <th>company_size</th>\n      <th>company_type</th>\n      <th>last_new_job</th>\n      <th>training_hours</th>\n      <th>target</th>\n    </tr>\n  </thead>\n  <tbody>\n    <tr>\n      <th>0</th>\n      <td>14215</td>\n      <td>6188</td>\n      <td>city_103</td>\n      <td>0.920</td>\n      <td>Male</td>\n      <td>Has relevent experience</td>\n      <td>no_enrollment</td>\n      <td>Graduate</td>\n      <td>STEM</td>\n      <td>12</td>\n      <td>500-999</td>\n      <td>Pvt Ltd</td>\n      <td>1</td>\n      <td>72</td>\n      <td>0.0</td>\n    </tr>\n    <tr>\n      <th>1</th>\n      <td>5963</td>\n      <td>2387</td>\n      <td>city_67</td>\n      <td>0.855</td>\n      <td>Male</td>\n      <td>Has relevent experience</td>\n      <td>NaN</td>\n      <td>Graduate</td>\n      <td>STEM</td>\n      <td>14</td>\n      <td>50-99</td>\n      <td>Pvt Ltd</td>\n      <td>2</td>\n      <td>27</td>\n      <td>0.0</td>\n    </tr>\n    <tr>\n      <th>2</th>\n      <td>15724</td>\n      <td>12279</td>\n      <td>city_160</td>\n      <td>0.920</td>\n      <td>Male</td>\n      <td>Has relevent experience</td>\n      <td>no_enrollment</td>\n      <td>Masters</td>\n      <td>STEM</td>\n      <td>3</td>\n      <td>50-99</td>\n      <td>NaN</td>\n      <td>2</td>\n      <td>28</td>\n      <td>0.0</td>\n    </tr>\n    <tr>\n      <th>3</th>\n      <td>4423</td>\n      <td>29267</td>\n      <td>city_100</td>\n      <td>0.887</td>\n      <td>Male</td>\n      <td>Has relevent experience</td>\n      <td>no_enrollment</td>\n      <td>Graduate</td>\n      <td>STEM</td>\n      <td>&gt;20</td>\n      <td>NaN</td>\n      <td>NaN</td>\n      <td>1</td>\n      <td>90</td>\n      <td>0.0</td>\n    </tr>\n    <tr>\n      <th>4</th>\n      <td>13675</td>\n      <td>7332</td>\n      <td>city_103</td>\n      <td>0.920</td>\n      <td>Male</td>\n      <td>Has relevent experience</td>\n      <td>no_enrollment</td>\n      <td>Graduate</td>\n      <td>STEM</td>\n      <td>4</td>\n      <td>NaN</td>\n      <td>NaN</td>\n      <td>1</td>\n      <td>14</td>\n      <td>0.0</td>\n    </tr>\n  </tbody>\n</table>\n</div>",
      "text/plain": "   Unnamed: 0  enrollee_id      city  city_development_index gender  \\\n0       14215         6188  city_103                   0.920   Male   \n1        5963         2387   city_67                   0.855   Male   \n2       15724        12279  city_160                   0.920   Male   \n3        4423        29267  city_100                   0.887   Male   \n4       13675         7332  city_103                   0.920   Male   \n\n       relevent_experience enrolled_university education_level  \\\n0  Has relevent experience       no_enrollment        Graduate   \n1  Has relevent experience                 NaN        Graduate   \n2  Has relevent experience       no_enrollment         Masters   \n3  Has relevent experience       no_enrollment        Graduate   \n4  Has relevent experience       no_enrollment        Graduate   \n\n  major_discipline experience company_size company_type last_new_job  \\\n0             STEM         12      500-999      Pvt Ltd            1   \n1             STEM         14        50-99      Pvt Ltd            2   \n2             STEM          3        50-99          NaN            2   \n3             STEM        >20          NaN          NaN            1   \n4             STEM          4          NaN          NaN            1   \n\n   training_hours  target  \n0              72     0.0  \n1              27     0.0  \n2              28     0.0  \n3              90     0.0  \n4              14     0.0  "
     },
     "execution_count": 75,
     "metadata": {},
     "output_type": "execute_result"
    }
   ],
   "source": [
    "test_set.head()"
   ]
  },
  {
   "cell_type": "code",
   "execution_count": 76,
   "metadata": {},
   "outputs": [],
   "source": [
    "job_change_test = test_set.drop(\"target\", axis=1)\r\n",
    "job_change_test_labels = test_set[\"target\"].copy()"
   ]
  },
  {
   "cell_type": "code",
   "execution_count": 77,
   "metadata": {},
   "outputs": [],
   "source": [
    "job_change_test_prepared = full_pipeline.transform(job_change_test)"
   ]
  },
  {
   "cell_type": "code",
   "execution_count": 78,
   "metadata": {},
   "outputs": [
    {
     "data": {
      "text/plain": "(7664, 149)"
     },
     "execution_count": 78,
     "metadata": {},
     "output_type": "execute_result"
    }
   ],
   "source": [
    "job_change_test_prepared.shape"
   ]
  },
  {
   "cell_type": "code",
   "execution_count": 79,
   "metadata": {},
   "outputs": [
    {
     "data": {
      "text/plain": "array([[ 0.74212583,  0.11111697,  0.62370107, ..., -0.23115431,\n         0.96125128, -0.68064073],\n       [ 0.21608054, -0.6381371 ,  0.62370107, ..., -0.23115431,\n         0.96125128, -0.68064073],\n       [ 0.74212583, -0.621487  ,  0.62370107, ..., -0.23115431,\n        -1.04031071,  1.46920388],\n       ...,\n       [-1.65340347, -0.30513529,  0.62370107, ..., -0.23115431,\n        -1.04031071, -0.68064073],\n       [ 0.74212583,  1.80942619, -1.60333219, ..., -0.23115431,\n        -1.04031071,  1.46920388],\n       [ 0.74212583, -0.65478719, -1.60333219, ..., -0.23115431,\n        -1.04031071, -0.68064073]])"
     },
     "execution_count": 79,
     "metadata": {},
     "output_type": "execute_result"
    }
   ],
   "source": [
    "job_change_test_prepared"
   ]
  },
  {
   "cell_type": "code",
   "execution_count": 80,
   "metadata": {},
   "outputs": [],
   "source": [
    "np.savetxt(\"Data/X_test.csv\", job_change_test_prepared, delimiter=',')"
   ]
  },
  {
   "cell_type": "code",
   "execution_count": 81,
   "metadata": {},
   "outputs": [],
   "source": [
    "np.savetxt(\"Data/y_test.csv\", job_change_test_labels.to_numpy(), delimiter=',')"
   ]
  }
 ],
 "metadata": {
  "kernelspec": {
   "display_name": "Python 3.8.5 64-bit ('machine_learning_practice': conda)",
   "metadata": {
    "interpreter": {
     "hash": "d596e8190ea2ed3b02b94032cafa13d5084e3170632c7044176d79f94eecc7ab"
    }
   },
   "name": "python3"
  },
  "language_info": {
   "codemirror_mode": {
    "name": "ipython",
    "version": 3
   },
   "file_extension": ".py",
   "mimetype": "text/x-python",
   "name": "python",
   "nbconvert_exporter": "python",
   "pygments_lexer": "ipython3",
   "version": "3.8.5"
  },
  "orig_nbformat": 2
 },
 "nbformat": 4,
 "nbformat_minor": 2
}